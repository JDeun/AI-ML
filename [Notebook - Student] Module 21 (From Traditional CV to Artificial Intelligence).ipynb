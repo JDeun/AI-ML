{
 "cells": [
  {
   "cell_type": "markdown",
   "metadata": {},
   "source": [
    "# 전통적인 컴퓨터 비전에서 인공지능으로\n",
    "\n",
    "\n",
    "문서의 위아래로 탐색하려면 키보드의 방향키를 사용할 수 있습니다.<br />\n",
    "이 노트북의 코드를 실행하려면 코드 블록을 선택하고 **Shift+Enter**를 누르십시오. <br />\n",
    "코드 블록을 편집하려면 Enter 키를 누릅니다.\n",
    "\n",
    "#### 노트북의 코드는 누적되어 사용됩니다(정의된 변수는 노트북이 닫힐 때까지 계속 사용 가능). <br />\n",
    "따라서 실행 순서를 위에서부터 아래로 진행하세요. 과정을 뛰어넘어 진행한다면 에러가 발생할 수 있습니다!\n",
    "\n",
    "\n",
    "쥬피터 노트북 사용에 대한 추가 도움말을 보려면 위의 메뉴에서 도움말(Help) > 사용자 인터페이스 둘러보기(User Interface Tour)를 클릭하세요. <br />\n",
    "또는 다음 사이트를 방문하여 살펴보세요. https://jupyter-notebook.readthedocs.io/en/stable/ui_components.html\n",
    "\n",
    "여러분의 아이디어를 실험하고 테스트해보세요. 그것이 학습에 있어서 가장 빠른 방법 중 하나이기 때문입니다!"
   ]
  },
  {
   "cell_type": "markdown",
   "metadata": {},
   "source": [
    "## 1. 분류 문제를 해결하기 위하여 수동으로 규칙을 정의할 필요가 없다면 어떨까요?\n",
    "\n",
    "지난 노트북 세션에서 다양한 기본 이미지 처리 기술을 실험하고 컴퓨터가 \"볼 수 있는\" 방법을 살펴보았습니다. 그런 다음 카메라 앞에 들고 있는 물체를 사용하여 시스템이 사용자를 인식하도록 시도했습니다. 다양한 방법을 학습했으며, 많은 창의적인 방법들이 규칙을 정하거나 \"if-else\" 논리를 정의하였습니다. 예를 들어 \"승인된\" 색상, 위치 또는 조건 조합과 같은 규칙입니다.\n",
    "\n",
    "그러나 이러한 규칙을 수동으로 정의 할 필요가 없다면 어떨까요?\n",
    "\n",
    "**기계 학습**은 인공지능의 하위 집합으로, 기계가 교육 데이터를 기반으로 학습하는 능력에 초점을 맞추고 있습니다. 컴퓨터 비전 분야에 적용하여 정확한 색상 코드에 대한 규칙을 정의하지 않고 기계가 \"승인 된\"또는 \"승인되지 않은\" 이미지가 무엇인지 배울 수 있다면 어떨까요?\n",
    "\n",
    "오늘 세션에서는 기본적인 컴퓨터 비전 기술이 기계 학습과 결합되어 다양한 과제를 해결할 수 있는 방법을 살펴보겠습니다.\n",
    "1. 먼저 기계 학습을 설명하기 위한 간단한 모델을 만드는 작업을 시작하겠습니다.\n",
    "2. 그런 다음 분류 모델을 구축하는 단계를 살펴보겠습니다.\n",
    "3. 다음으로 분류 모델을 사용하여 추론하고 정확성을 살펴봅니다.\n",
    "4. 이 과정에서 사용하는 다양항 방법과 기술들에 대한 한계에 주의하십시오.\n",
    "\n",
    "## 카드를 3개의 가능한 범주 중 1개로 분류\n",
    "\n",
    "'출입카드' 챌린지를 다시 한 번 살펴보겠습니다.  <br />\n",
    "아래에는 3장의 카드(빨간색, 녹색, 검은색)와 카메라 앞에 카드가 놓여 있지 않은 배경 화면이 있습니다. <br />\n",
    "위 행은 더 멀리 있는 카드를 표시하고, 아래 행은 카메라에 매우 근접한 카드를 표시합니다.\n",
    "\n",
    "<img src=\"[Dataset] Module 21 images/cards.png\" style=\"float:left;\"/>\n",
    "<div style=\"clear:both;\"></div>\n"
   ]
  },
  {
   "cell_type": "markdown",
   "metadata": {},
   "source": [
    "카드의 유효성 검사를 위해 웹 카메라에 가까이 있어야한다고 가정 할 때, 각 카드 (이미지) 의 색상을 비교하여 세 개의 카드 중 어느 것인지 판별하는 문제가 될 수 있습니다."
   ]
  },
  {
   "cell_type": "markdown",
   "metadata": {},
   "source": [
    "## 1.1 특성 추출 - 추론을 돕기 위해 사용할 특성 선택\n",
    "\n",
    "이 실험을 위해 출입 카드 구별을 위해 색상을 사용하기로 결정했습니다. 그러나 색상을 구분하기 위하여 어떠한 특징을 사용해야 할까요? 특정 지점(예: 이미지의 중심) 또는 이미지의 평균 색상을 선택하면 될까요? BGR 이미지의 특정 채널을 사용해야 할까요? 아니면 그레이스케일 또는 다른 컬러 공간으로 변환해야 할까요?\n",
    "\n",
    "선택된 특성은 솔루션의 견고성에 영향을 줄 수 있으며 관련이 없는 경우 전혀 도움이 되지 않습니다.\n",
    "\n",
    "예를 들어, 카메라 이미지 크기를 사용하여 인증된 카드인지 여부를 확인하려고하면, 카메라 앞에 어떤 카드가 있는지에 관계없이 카메라 이미지 크기가 변경되지 않으므로 이미지 크기는 관련성이 없는 특성입니다. \n",
    "\n",
    "다양한 특성을 실험해 볼 수 있습니다. <br />\n",
    "그러나 우선 평균 색상 특성을 사용하여 간단한 실험을 해보겠습니다:"
   ]
  },
  {
   "cell_type": "code",
   "execution_count": 1,
   "metadata": {},
   "outputs": [],
   "source": [
    "import cv2\n",
    "import numpy as np\n",
    "import warnings\n",
    "warnings.filterwarnings('ignore')\n",
    "\n",
    "\n",
    "# 이미지를 메모리로 읽어 보겠습니다.\n",
    "red_card = cv2.imread(\"[Dataset] Module 21 images/cardred_close.png\")\n",
    "green_card = cv2.imread(\"[Dataset] Module 21 images/cardgreen_close.png\")\n",
    "black_card = cv2.imread(\"[Dataset] Module 21 images/cardblack_close.png\")\n",
    "background = cv2.imread(\"[Dataset] Module 21 images/cardnone.png\")"
   ]
  },
  {
   "cell_type": "markdown",
   "metadata": {},
   "source": [
    "**전처리 및 특성 추출**\n",
    "\n",
    "때로는 입력 데이터가 모델에서 허용하는 일관된 형식인지 확인하기 위해 전처리를 수행해야 할 수도 있습니다.\n",
    "\n",
    "데이터를 전처리할 수 있는 방법에는 어떤 것들이 있습니까?\n",
    "1. 표준 크기의 크기 조정.\n",
    "2. 이미지 방향 변경.\n",
    "3. 특정 색 공간으로 변환.\n",
    "\n",
    "예제에서 사용하는 입력은 (640x480) 포맷의 풍경 이미지로 기본 BGR 색 공간입니다. 그러나 예측 모델은 이미지의 모든 픽셀을 사용하지는 않습니다. 대신 평균 색상을 모델의 특성으로 사용하여 모델이 속한 클래스를 추론합니다. 따라서 각 이미지에서 평균 색상을 추출하는 방법을 정의합니다. "
   ]
  },
  {
   "cell_type": "code",
   "execution_count": 2,
   "metadata": {},
   "outputs": [],
   "source": [
    "# 특성을 추출하는 함수 정의(평균 색상)\n",
    "def averagecolor(image):\n",
    "    return np.mean(image, axis=(0, 1))"
   ]
  },
  {
   "cell_type": "code",
   "execution_count": 3,
   "metadata": {},
   "outputs": [],
   "source": [
    "# 특성을 추출하는 함수 정의(평균 색상) - 테스트용\n",
    "def averagecolor2(image):\n",
    "    return np.mean(image, axis=(1, 0))"
   ]
  },
  {
   "cell_type": "markdown",
   "metadata": {},
   "source": [
    "색상은 3개의 채널(단일 숫자 값이 아님)을 가지고 있기 때문에 np.mean을 사용했습니다. np.mean 함수가 어떻게 작동하는지 이해하려면 다음 문서를 참조하십시오. https://docs.scipy.org/doc/numpy/reference/generated/numpy.mean.html#numpy.mean"
   ]
  },
  {
   "cell_type": "markdown",
   "metadata": {},
   "source": [
    "**탐구: 빨강 및 녹색 카드의 추출 된 특성(평균 색상)은 무엇입니까? **"
   ]
  },
  {
   "cell_type": "code",
   "execution_count": 4,
   "metadata": {},
   "outputs": [
    {
     "name": "stdout",
     "output_type": "stream",
     "text": [
      "[ 27.35627604   4.48305664 154.21746094]\n",
      "[ 27.35627604   4.48305664 154.21746094]\n"
     ]
    }
   ],
   "source": [
    "print (averagecolor(red_card))\n",
    "print (averagecolor2(red_card))"
   ]
  },
  {
   "cell_type": "code",
   "execution_count": 5,
   "metadata": {},
   "outputs": [
    {
     "name": "stdout",
     "output_type": "stream",
     "text": [
      "[119.53976563 133.40338216  61.1089388 ]\n",
      "[119.53976563 133.40338216  61.1089388 ]\n"
     ]
    }
   ],
   "source": [
    "print (averagecolor(green_card))\n",
    "print (averagecolor2(green_card))"
   ]
  },
  {
   "cell_type": "markdown",
   "metadata": {},
   "source": [
    "생성된 값이 다르다는 것을 알 수 있습니까? 두 색상의 평균 값은 서로 매우 다릅니다. 이것은 좋은 것입니다! 이것은 평균 색상이 이 간단한 문제에 좋은 특성이라는 것을 의미합니다.\n",
    "\n",
    "**이미지 크기를 특성으로 사용하기로 선택했다면 어떨까요?**"
   ]
  },
  {
   "cell_type": "code",
   "execution_count": 6,
   "metadata": {},
   "outputs": [
    {
     "name": "stdout",
     "output_type": "stream",
     "text": [
      "(480, 640, 3)\n"
     ]
    }
   ],
   "source": [
    "print (red_card.shape)"
   ]
  },
  {
   "cell_type": "code",
   "execution_count": 7,
   "metadata": {},
   "outputs": [
    {
     "name": "stdout",
     "output_type": "stream",
     "text": [
      "(480, 640, 3)\n"
     ]
    }
   ],
   "source": [
    "print (green_card.shape)"
   ]
  },
  {
   "cell_type": "markdown",
   "metadata": {},
   "source": [
    "모양만 알고 있으면 빨간색 카드와 녹색 카드를 구별할 수 있을까요? \n",
    "아니요! 두 카드의 모양이 똑같기 때문입니다. \n",
    "\n",
    "평균 색상을 알고 있다면 어떨까요?\n",
    "\n",
    "위에서 볼 수 있듯이 빨간색 카드와 녹색 카드의 평균 색상은 매우 다릅니다. 그러나 두 카드의 이미지 크기는 정확히 동일합니다! 카드를 구별하기 위해 특성을 사용하기 때문에 카드의 유형을 추론하는 데 도움이 되도록 평균 색상을 사용하겠습니다."
   ]
  },
  {
   "cell_type": "markdown",
   "metadata": {},
   "source": [
    "이제 각 이미지 파일의 평균 색상 값과 레이블을 입력하는 변수를 만듭니다. 나중에 모델 훈련에 사용할 것입니다. 이 훈련이 어떻게 이루어지는지 기억하시나요?"
   ]
  },
  {
   "cell_type": "code",
   "execution_count": 8,
   "metadata": {},
   "outputs": [
    {
     "name": "stdout",
     "output_type": "stream",
     "text": [
      "('red', array([ 27.35627604,   4.48305664, 154.21746094]))\n",
      "('green', array([119.53976563, 133.40338216,  61.1089388 ]))\n",
      "('black', array([70.36474609, 61.85563477, 67.1775651 ]))\n",
      "('none', array([247.9326888 , 241.13666016, 241.89832357]))\n"
     ]
    }
   ],
   "source": [
    "# 분류를 위해 특성(평균 색상) 및 해당 레이블(빨간색/녹색/검정색/없음) 저장\n",
    "trainX = []\n",
    "trainY = []\n",
    "\n",
    "# 카드들에 대해 반복하고 평균 색상 출력\n",
    "for (card,label) in zip((red_card,green_card,black_card,background),(\"red\",\"green\",\"black\",\"none\")):\n",
    "    print((label, averagecolor(card)))\n",
    "    trainX.append(averagecolor(card))\n",
    "    trainY.append(label)"
   ]
  },
  {
   "cell_type": "markdown",
   "metadata": {},
   "source": [
    "색상 채널의 배열이 [Blue, Green, Red] 순서임을 기억하세요.\n",
    "\n",
    "빨간색 카드는 다른 카드보다 Red 채널 값이 높습니다. 녹색 카드의 경우 Blue와 Green 채널의 값이 높습니다.\n",
    "trainX는 특성 벡터(특성)을 저장하고 trainY 는 해당 레이블을 저장합니다.\n",
    "\n",
    "trainX와 trainY에 저장된 항목이 궁금하다면 배열을 출력하여 확인해 보십시오(위의 출력과 비교). \n",
    "이 시점에서 데이터가 저장되는 방식을 이해하는 것이 도움이됩니다."
   ]
  },
  {
   "cell_type": "code",
   "execution_count": 9,
   "metadata": {},
   "outputs": [
    {
     "name": "stdout",
     "output_type": "stream",
     "text": [
      "[array([ 27.35627604,   4.48305664, 154.21746094]), array([119.53976563, 133.40338216,  61.1089388 ]), array([70.36474609, 61.85563477, 67.1775651 ]), array([247.9326888 , 241.13666016, 241.89832357])]\n",
      "(4, 3)\n"
     ]
    }
   ],
   "source": [
    "print(trainX)\n",
    "print(np.array(trainX).shape)      #3개의 채널이 배열에 저장되는 방식을 참고하십시오."
   ]
  },
  {
   "cell_type": "code",
   "execution_count": 10,
   "metadata": {},
   "outputs": [
    {
     "name": "stdout",
     "output_type": "stream",
     "text": [
      "['red', 'green', 'black', 'none']\n",
      "(4,)\n"
     ]
    }
   ],
   "source": [
    "print(trainY)\n",
    "print(np.array(trainY).shape)"
   ]
  },
  {
   "cell_type": "markdown",
   "metadata": {},
   "source": [
    "더 많은 이미지를 사용하는 경우 평균 색상이 항상 정확한 값과 동일하지는 않으며, 조명 조건 및 카메라 설정으로 인해 변동될 수 있습니다. 따라서, 모델을 훈련시키기 위해서는 보통 몇 개 이상의 이미지를 사용해야 합니다."
   ]
  },
  {
   "cell_type": "markdown",
   "metadata": {},
   "source": [
    "# 1.2 K-최근접 이웃(K-Nearest Neighbour, kNN) 알고리즘"
   ]
  },
  {
   "cell_type": "markdown",
   "metadata": {},
   "source": [
    "우리가 카메라 앞에서 새로운 카드를 들고 있을 때, 이 카드 중 어느 카드와 가장 유사한지 확인하고 싶습니다. 정확한 색상 코드를 정의하는 대신 \n",
    "\"**새카드가 알려진 기존 카드 중 어느 카드와 가장 유사한가요?**\"라는 관점으로 접근할 수 있습니다.\n",
    "\n",
    "K-최근접 이웃 알고리즘의 개념은 레이블이 지정된 이미지 세트에서 새 이미지와 가장 유사한 k개의 이미지를 검색하는 것입니다. 그리고 비슷한 이미지의 레이블을 기반으로 새 이미지의 레이블을 예측합니다.  \n",
    "\n",
    "아래 k=1에 대한 실험을 진행하겠습니다. 즉, 새로운 이미지와 평균 색이 가장 유사한 이미지 1개를 찾는 것입니다. 그리고 그 이미지의 레이블을 사용하여 새 이미지의 레이블을 예측합니다.\n",
    "\n",
    "어떻게 진행되었는지를 알아봅시다!"
   ]
  },
  {
   "cell_type": "markdown",
   "metadata": {},
   "source": [
    "### 먼저 새 이미지를 메모리로 읽습니다."
   ]
  },
  {
   "cell_type": "code",
   "execution_count": 11,
   "metadata": {},
   "outputs": [],
   "source": [
    "new_card = cv2.imread(\"[Dataset] Module 21 images/test/16.png\")\n",
    "new_card_features = averagecolor(new_card)"
   ]
  },
  {
   "cell_type": "markdown",
   "metadata": {},
   "source": [
    "### 알고 있는 이미지의 특성과 비교하여 새로운 이미지의 특성(평균 색상) 사이의 거리 계산\n",
    "linealg.norm에 대해 [여기](https://docs.scipy.org/doc/numpy-1.13.0/reference/generated/numpy.linalg.norm.html) 에서 참조하세요."
   ]
  },
  {
   "cell_type": "code",
   "execution_count": 12,
   "metadata": {},
   "outputs": [
    {
     "name": "stdout",
     "output_type": "stream",
     "text": [
      "[117.79791641023513, 113.43645699355922, 33.497714831624535, 340.3000785919897]\n"
     ]
    }
   ],
   "source": [
    "calculated_distances = []\n",
    "for card in (trainX):\n",
    "    calculated_distances.append(np.linalg.norm(new_card_features-card))\n",
    "    \n",
    "print (calculated_distances)"
   ]
  },
  {
   "cell_type": "markdown",
   "metadata": {},
   "source": [
    "### 다음은 가장 유사한 카드의 결과입니다:\n",
    "위의 계산된 거리를 보는 것만으로도 추측이 가능할까요?"
   ]
  },
  {
   "cell_type": "code",
   "execution_count": 13,
   "metadata": {},
   "outputs": [
    {
     "name": "stdout",
     "output_type": "stream",
     "text": [
      "black\n"
     ]
    }
   ],
   "source": [
    "print(trainY[np.argmin(calculated_distances)])"
   ]
  },
  {
   "cell_type": "markdown",
   "metadata": {},
   "source": [
    "이미지/테스트 하위 폴더를 열고 해당 이미지의 실제 색상을 확인하십시오.\n",
    "\n",
    "우리가 사용한 거리 측정은 \"np.linalg.norm ()\"이었습니다. 자세한 사항은 https://docs.scipy.org/doc/numpy-1.13.0/reference/generated/numpy.linalg.norm.html 를 참조하거나  인터넷에서 \"유클리드 거리(Euclidean Distance)\"를 검색해 보세요. 간단히 말해서, (new_card_features)와 (card)의 배열 값이 얼마나 비슷한지를 측정하는 척도로 사용할 수 있습니다.\n",
    "\n",
    "위에 마지막 코드 블록을 살펴봅시다. 섹션 1.1의 trainY에 저장된 내용을 기억해 보세요.\n",
    "\n",
    "calculated_distances에 저장된 값을 확인합니다. \n",
    "np.argmin의 역할은 무엇입니까? \n",
    "\n",
    "힌트: 필요한 경우 numpy.argmin 에 대한 문서를 참조하세요."
   ]
  },
  {
   "cell_type": "code",
   "execution_count": 14,
   "metadata": {},
   "outputs": [
    {
     "name": "stdout",
     "output_type": "stream",
     "text": [
      "[117.79791641023513, 113.43645699355922, 33.497714831624535, 340.3000785919897]\n"
     ]
    }
   ],
   "source": [
    "print(calculated_distances)"
   ]
  },
  {
   "cell_type": "code",
   "execution_count": 15,
   "metadata": {},
   "outputs": [
    {
     "name": "stdout",
     "output_type": "stream",
     "text": [
      "2\n"
     ]
    }
   ],
   "source": [
    "print(np.argmin(calculated_distances))"
   ]
  },
  {
   "cell_type": "code",
   "execution_count": 16,
   "metadata": {},
   "outputs": [
    {
     "name": "stdout",
     "output_type": "stream",
     "text": [
      "['red', 'green', 'black', 'none']\n"
     ]
    }
   ],
   "source": [
    "print(trainY)"
   ]
  },
  {
   "cell_type": "code",
   "execution_count": 17,
   "metadata": {},
   "outputs": [
    {
     "name": "stdout",
     "output_type": "stream",
     "text": [
      "black\n"
     ]
    }
   ],
   "source": [
    "print(trainY[np.argmin(calculated_distances)])"
   ]
  },
  {
   "cell_type": "markdown",
   "metadata": {},
   "source": [
    "### 다른 카드를 테스트해 봅시다.\n",
    "모델이 실제로 우리가 원하는 것을 예측할 수 있는지 확인하기 위해 이미지가 저장된 폴더를 확인하세요!"
   ]
  },
  {
   "cell_type": "code",
   "execution_count": 18,
   "metadata": {
    "scrolled": true
   },
   "outputs": [
    {
     "name": "stdout",
     "output_type": "stream",
     "text": [
      "red\n"
     ]
    }
   ],
   "source": [
    "# 먼저 새로운 이미지를 메모리로 읽습니다.\n",
    "new_card = cv2.imread(\"[Dataset] Module 21 images/test/36.png\")\n",
    "new_card_features = averagecolor(new_card)\n",
    "\n",
    "# 새 이미지의 특성(평균 색상)과 알려진 이미지 특성 사이의 거리를 계산합니다.\n",
    "calculated_distances = []\n",
    "for card in (trainX):\n",
    "    calculated_distances.append(np.linalg.norm(new_card_features-card))\n",
    "\n",
    "# 다음은 가장 유사한 카드의 결과입니다:\n",
    "print(trainY[np.argmin(calculated_distances)])"
   ]
  },
  {
   "cell_type": "markdown",
   "metadata": {},
   "source": [
    "### 다른 카드는 어떻습니까?\n",
    "모델이 실제로 우리가 원하는 것을 예측할 수 있는지 확인하기 위해 이미지가 저장된 폴더를 확인하세요!"
   ]
  },
  {
   "cell_type": "code",
   "execution_count": 19,
   "metadata": {},
   "outputs": [
    {
     "name": "stdout",
     "output_type": "stream",
     "text": [
      "green\n"
     ]
    }
   ],
   "source": [
    "# 먼저 새로운 이미지를 메모리로 읽습니다.\n",
    "new_card = cv2.imread(\"[Dataset] Module 21 images/test/56.png\")\n",
    "new_card_features = averagecolor(new_card)\n",
    "\n",
    "# 새 이미지의 특성(평균 색상)과 알려진 이미지 특성 사이의 거리를 계산합니다.\n",
    "calculated_distances = []\n",
    "for card in (trainX):\n",
    "    calculated_distances.append(np.linalg.norm(new_card_features-card))\n",
    "\n",
    "# 다음은 가장 유사한 카드의 결과입니다:\n",
    "print(trainY[np.argmin(calculated_distances)])"
   ]
  },
  {
   "cell_type": "markdown",
   "metadata": {},
   "source": [
    "### 모든 테스트 카드를 분류해 봅시다.\n",
    "\n",
    "우리의 단순한 모델이 지금까지 카드를 올바르게 분류한 것 같습니다. \n",
    "\n",
    "테스트 하위 폴더에 있는 모든 카드를 반복적으로 분류해 보겠습니다."
   ]
  },
  {
   "cell_type": "code",
   "execution_count": 20,
   "metadata": {},
   "outputs": [],
   "source": [
    "from sklearn.metrics import classification_report\n",
    "# 테스트 이미지에 대한 진리표입니다. 이미지를 보려면 컴퓨터의 폴더를 여십시오.\n",
    "realtestY = np.array([\"black\",\"black\",\"black\",\"black\",\"black\",\n",
    "                     \"red\",\"red\",\"red\",\"red\",\"red\",\n",
    "                     \"green\",\"green\",\"green\",\"green\",\"green\",\n",
    "                     \"none\",\"none\",\"none\",\"none\",\"none\"])\n",
    "def evaluateaccuracy(filenames,predictedY):\n",
    "    predictedY = np.array(predictedY)\n",
    "    if (np.sum(realtestY!=predictedY)>0):\n",
    "        print (\"Wrong Predictions: (filename, labelled, predicted) \")\n",
    "        print (np.dstack([filenames,realtestY,predictedY]).squeeze()[(realtestY!=predictedY)])\n",
    "    # 전체 예측의 백분율로 일치하는 (정확한) 예측을 계산합니다.\n",
    "    return \"Correct :\"+ str(np.sum(realtestY==predictedY)) + \". Wrong: \"+str(np.sum(realtestY!=predictedY)) + \". Correctly Classified: \" + str(np.sum(realtestY==predictedY)*100/len(predictedY))+\"%\""
   ]
  },
  {
   "cell_type": "code",
   "execution_count": 21,
   "metadata": {},
   "outputs": [],
   "source": [
    "def evaluateaccuracy2(filenames,predictedY):\n",
    "    predictedY = np.array(predictedY)\n",
    "    wrong_predictions = np.column_stack([filenames, realtestY, predictedY])\n",
    "    wrong_predictions = wrong_predictions[realtestY != predictedY]\n",
    "\n",
    "    if (np.sum(realtestY!=predictedY)>0):\n",
    "        print (\"Wrong Predictions: (filename, labelled, predicted) \")\n",
    "        print (wrong_predictions)\n",
    "    # 전체 예측의 백분율로 일치하는 (정확한) 예측을 계산합니다.\n",
    "    return \"Correct :\"+ str(np.sum(realtestY==predictedY)) + \". Wrong: \"+str(np.sum(realtestY!=predictedY)) + \". Correctly Classified: \" + str(np.sum(realtestY==predictedY)*100/len(predictedY))+\"%\""
   ]
  },
  {
   "cell_type": "markdown",
   "metadata": {},
   "source": [
    "위의 코드 블록에 대한 출력이 없어서 놀라셨나요? 정확도 평가를 하기 위한 기능만 정의했기 때문입니다. 파이썬 기능에 대해 자세히 알아보려면[이 링크](https://www.datacamp.com/community/tutorials/functions-python-tutorial) 를 참조하십시오.\n",
    "\n",
    "아래 코드 블록을 실행하여 출력을 확인할 수 있습니다."
   ]
  },
  {
   "cell_type": "code",
   "execution_count": 22,
   "metadata": {},
   "outputs": [
    {
     "name": "stdout",
     "output_type": "stream",
     "text": [
      "16.png: black\n",
      "17.png: black\n",
      "18.png: black\n",
      "19.png: black\n",
      "20.png: black\n",
      "36.png: red\n",
      "37.png: red\n",
      "38.png: red\n",
      "39.png: red\n",
      "40.png: red\n",
      "56.png: green\n",
      "57.png: green\n",
      "58.png: none\n",
      "59.png: green\n",
      "60.png: green\n",
      "76.png: none\n",
      "77.png: none\n",
      "78.png: none\n",
      "79.png: none\n",
      "80.png: none\n",
      "\n",
      "              precision    recall  f1-score   support\n",
      "\n",
      "       black       1.00      1.00      1.00         5\n",
      "       green       1.00      0.80      0.89         5\n",
      "        none       0.83      1.00      0.91         5\n",
      "         red       1.00      1.00      1.00         5\n",
      "\n",
      "    accuracy                           0.95        20\n",
      "   macro avg       0.96      0.95      0.95        20\n",
      "weighted avg       0.96      0.95      0.95        20\n",
      "\n",
      "\n",
      "Wrong Predictions: (filename, labelled, predicted) \n",
      "[['58.png' 'green' 'none']]\n",
      "Correct :19. Wrong: 1. Correctly Classified: 95.0%\n"
     ]
    }
   ],
   "source": [
    "import os\n",
    "path = \"[Dataset] Module 21 images/test/\"\n",
    "predictedY = []\n",
    "filenames = []\n",
    "for filename in os.listdir(path):\n",
    "    img = cv2.imread(path+filename)\n",
    "    img_features = averagecolor(img)\n",
    "    calculated_distances = []\n",
    "    for card in (trainX):\n",
    "        calculated_distances.append(np.linalg.norm(img_features-card))\n",
    "    prediction = trainY[np.argmin(calculated_distances)]\n",
    "    \n",
    "    print (filename + \": \" + prediction) # 추론을 출력합니다.\n",
    "    filenames.append(filename)\n",
    "    predictedY.append(prediction)\n",
    "\n",
    "# 정확도 평가(sklearn 패키지는 유용한 보고서를 제공합니다)\n",
    "print ()\n",
    "print(classification_report(realtestY, predictedY))\n",
    "\n",
    "# 정확도 평가(잘못 분류된 항목의 파일 이름을 출력하기 위한 자체 사용자 정의 메소드)\n",
    "print ()\n",
    "print (evaluateaccuracy(filenames,predictedY))\n"
   ]
  },
  {
   "cell_type": "markdown",
   "metadata": {},
   "source": [
    "**정밀도(precision) 및 재현율(recall)은 무엇을 의미합니까?**\n",
    "기초 단계에서 학습했던 내용을 기억하십니까?\n",
    "\n",
    "참 긍정, 거짓 긍정, 참 부정 및 거짓 부정의 개념을 기억하십시오.\n",
    "\n",
    "예를 들어, 우리가 빨간색 클래스를 평가하는 경우 \n",
    "- 빨간색 이미지를 빨간색으로 올바르게 분류하면 참 긍정입니다.\n",
    "- 빨간색 이미지를 검은색으로 잘못 분류하면 참 부정입니다.\n",
    "- 빨간색이 아닌 다른 이미지를 빨간색으로 분류하면 거짓 긍정입니다.\n",
    "- 빨간색이 아닌 이미지를 빨간색이 아닌 이미지로 올바르게 분류하면 참 부정입니다.\n",
    "\n",
    "정밀도는 참 긍정 값을 (참 긍정 + 거짓 긍정)으로 나눈 값이며, 빨간색으로 분류된 것 중 얼마나 많은 것이 실제로 빨간색인지를 의미합니다.\n",
    "\n",
    "재현율은 참 긍정 값을 (참 긍정 + 거짓 부정)으로 나눈 값이며, 모든 빨간색 이미지 중에서 올바르게 빨간색으로 분류된 이미지를 의미합니다.\n",
    "\n",
    "정밀도와 재현율에 대한 자세한 내용은 인터넷 검색이나, 다음 링크에서 확인해 보세요.\n",
    "https://developers.google.com/machine-learning/crash-course/classification/precision-and-recall"
   ]
  },
  {
   "cell_type": "markdown",
   "metadata": {},
   "source": [
    "**잘못 분류 된 이미지를 조사합시다**\n",
    "\n",
    "해당 폴더를 열고 이미지를 확인하십시오.\n",
    "\n",
    "58.png가 잘못 분류 된 것 같습니다. 왜일까요?\n",
    "\n",
    "58.png\n",
    "\n",
    "<img src=\"[Dataset] Module 21 images/test/58.png\" style=\"width:400px; float:left;\" />\n",
    "<div style=\"clear:both;\"></div>\n",
    "\n",
    "초기 훈련 이미지 세트를 살려봅시다. <br />\n",
    "58.png 는 '녹색' 카드 훈련 이미지보다 훨씬 밝게 보입니다. 이는 훈련 이미지가 \"없음\"으로 잘못 인식된 이유일 수 있습니다(이것은 4장의 훈련 이미지 중 '가장 밝은' 이미지입니다).\n",
    "\n",
    "<img src=\"[Dataset] Module 21 images/cards.png\" style=\"float:left;\"/>\n",
    "<div style=\"clear:both;\"></div>\n",
    "\n"
   ]
  },
  {
   "cell_type": "markdown",
   "metadata": {},
   "source": [
    "사람은 58.png 가 녹색으로 분류되어야 한다는 것을 쉽게 알 수 있습니다.\n",
    "\n",
    "그러나 시스템을 \"훈련\"하는 데 사용 된 기능은 \"평균 색상\"이었고 하나의 교육 이미지 만 제공했음을 기억하십시오.\n",
    "\n",
    "58.png의 평균 색상은 훈련 이미지(cardgreen_close.png) 보다 배경의 평균 색상(background.png)에 더 가까운 것 같습니다.\n",
    "\n",
    "이미지의 평균 색상을 각각 계산하고 잘못 분류된 이유를 밝히는 것이 연습 문제로 남아있습니다. 이 노트북 뒷부분의 챌린지 1번 문제 입니다.\n",
    "\n",
    "모델을 향상시킬 수 있는 방법을 생각해 볼 수 있습니까?\n",
    "\n",
    "### 테스트 이미지 폴더를 엽니다!\n",
    "테스트 이미지 폴더를 열어서 확인해 보세요. 각 이미지의 조명 조건이 다른 것 처럼 보이시나요? 지금까지 우리는 각 색깔 카드에 대해 하나의 예시를 사용하여 시스템을 훈련하였습니다. 더 많은 훈련 이미지가 도움이 될 수 있다고 생각하십니까?"
   ]
  },
  {
   "cell_type": "markdown",
   "metadata": {},
   "source": [
    " ## 1.3 더 많은 샘플을 사용한 훈련\n",
    " \n",
    "더 많은 샘플로 훈련하는 것은 어떻습니까?  <br />\n",
    "trainX와 trainY를 얻기 위해 섹션 1.1에서 한 일을 상기하십시오. 잊어버린 경우에는 코드를 더 잘 이해할 수 있도록 섹션 1.1을 다시 읽으십시오."
   ]
  },
  {
   "cell_type": "code",
   "execution_count": 23,
   "metadata": {
    "scrolled": true
   },
   "outputs": [
    {
     "name": "stdout",
     "output_type": "stream",
     "text": [
      "Loading training images for the label: red\n",
      "Loading training images for the label: green\n",
      "Loading training images for the label: black\n",
      "Loading training images for the label: none\n"
     ]
    }
   ],
   "source": [
    "trainX2 = []\n",
    "trainY2 = []\n",
    "import os\n",
    "\n",
    "# 이미지 하위 디렉토리 4개 폴더에 있는 훈련 이미지를 반복합니다.\n",
    "path = \"[Dataset] Module 21 images/\"\n",
    "for label in ('red','green','black','none'):\n",
    "    print (\"Loading training images for the label: \"+label)\n",
    "    \n",
    "    # 하위 폴더의 모든 이미지를 읽어옵니다.\n",
    "    for filename in os.listdir(path+label+\"/\"): \n",
    "        img = cv2.imread(path+label+\"/\"+filename)\n",
    "        img_features = averagecolor(img)\n",
    "        trainX2.append(img_features)\n",
    "        trainY2.append(label)"
   ]
  },
  {
   "cell_type": "markdown",
   "metadata": {},
   "source": [
    "### 실습: 모델을 훈련시키기 위해 얼마나 많은 이미지를 사용하고 있습니까?"
   ]
  },
  {
   "cell_type": "code",
   "execution_count": 24,
   "metadata": {},
   "outputs": [
    {
     "name": "stdout",
     "output_type": "stream",
     "text": [
      "60\n",
      "60\n"
     ]
    }
   ],
   "source": [
    "print (len(trainX2))\n",
    "print (len(trainY2))"
   ]
  },
  {
   "cell_type": "markdown",
   "metadata": {},
   "source": [
    "### 실습: 하위 폴더로 확인하십시오!\n",
    "컴퓨터의 이미지 디렉토리에서 빨간색, 녹색, 검은색 및 없음 하위 폴더를 엽니다. 각 폴더에서 몇 개의 이미지를 로드하고 있습니까?"
   ]
  },
  {
   "cell_type": "markdown",
   "metadata": {},
   "source": [
    "### 더 많은 훈련 이미지를 로드한 후 테스트를 다시 실행해 보겠습니다."
   ]
  },
  {
   "cell_type": "code",
   "execution_count": 25,
   "metadata": {},
   "outputs": [
    {
     "name": "stdout",
     "output_type": "stream",
     "text": [
      "16.png: black\n",
      "17.png: black\n",
      "18.png: black\n",
      "19.png: black\n",
      "20.png: black\n",
      "36.png: red\n",
      "37.png: red\n",
      "38.png: red\n",
      "39.png: red\n",
      "40.png: red\n",
      "56.png: green\n",
      "57.png: green\n",
      "58.png: green\n",
      "59.png: green\n",
      "60.png: green\n",
      "76.png: none\n",
      "77.png: none\n",
      "78.png: none\n",
      "79.png: none\n",
      "80.png: none\n",
      "\n",
      "              precision    recall  f1-score   support\n",
      "\n",
      "       black       1.00      1.00      1.00         5\n",
      "       green       1.00      1.00      1.00         5\n",
      "        none       1.00      1.00      1.00         5\n",
      "         red       1.00      1.00      1.00         5\n",
      "\n",
      "    accuracy                           1.00        20\n",
      "   macro avg       1.00      1.00      1.00        20\n",
      "weighted avg       1.00      1.00      1.00        20\n",
      "\n",
      "Correct :20. Wrong: 0. Correctly Classified: 100.0%\n"
     ]
    }
   ],
   "source": [
    "import os\n",
    "path = \"[Dataset] Module 21 images/test/\"\n",
    "filenames = []\n",
    "predictedY = []\n",
    "for filename in os.listdir(path):\n",
    "    img = cv2.imread(path+filename)\n",
    "    img_features = averagecolor(img)\n",
    "    calculated_distances = []\n",
    "    for card in (trainX2):\n",
    "        calculated_distances.append(np.linalg.norm(img_features-card))\n",
    "    prediction =  trainY2[np.argmin(calculated_distances)]\n",
    "    \n",
    "    print (filename + \": \" + prediction)\n",
    "    filenames.append(filename)\n",
    "    predictedY.append(prediction)\n",
    "\n",
    "# 정확도 평가(sklearn 패키지는 유용한 보고서를 제공합니다)\n",
    "print ()\n",
    "print(classification_report(realtestY, predictedY))\n",
    "\n",
    "# 정확도 평가\n",
    "print (evaluateaccuracy(filenames,predictedY))"
   ]
  },
  {
   "cell_type": "markdown",
   "metadata": {},
   "source": [
    "**방금 한 일은 무엇입니까?**\n",
    "\n",
    "섹션 1.1에서 kNN에 대한 모델을 \"훈련\"한 다음 모델을 사용하여 섹션 1.2에서 새 카드가 속한 클래스를 예측하는 방법을 보았습니다. 섹션 1.3에서는 훈련 데이터를 늘리면 정확도를 향상시키는 데 도움이 될 수 있는 방법을 모색하여, \"58.png\"를 실제로 녹색이 아닌 것으로 잘못 분류하는 초기 오류를 제거하였습니다.\n",
    "\n",
    "우리는 가장 가까운 이웃을 기반으로 새로운 이미지의 클래스를 예측하기 위해 K-최근접이웃(KNN) 알고리즘의 매우 단순화 된 예를 사용했습니다. . 위의 예제에서 k의 값은 1이었습니다. 따라서, 우리는 가장 가까운 이웃(가장 작은 계산 된 거리를 가진 이웃)을 검색하고, 가장 가까운 이웃의 클래스를 기반으로 테스트 이미지의 값을 예측했습니다.\n"
   ]
  },
  {
   "cell_type": "markdown",
   "metadata": {},
   "source": [
    "### 다시 한 번 생각해 보세요.\n",
    "\n",
    "이 방법은 이전 세션에서 사용 된 방법과 어떻게 다릅니까?\n",
    "\n",
    "코드의 길이가 더 길어졌나요? 규칙을 정해주는 방식과 기계가 스스로 학습하도록 하는 것 중에 어떤 것을 더 선호하십니까? 대부분의 사용자는 규칙을 수동으로 정의하는 것보다 교육 이미지 세트를 제공하는 것이 더 쉬울 것입니다.\n",
    "\n",
    "어떻게 하면 시스템을 더 개선할 수 있을까요? 다양한 방법을 혼용하는 것이 훨씬 더 좋을까요? 모든 종류의 이미지에서 사용할 수 있습니까? 그 이유는 무엇인가요?\n",
    "\n",
    "<br />\n",
    "<video controls src=\"[Dataset] Module 21 images/black_red_green.mp4\" style=\"width:400px;\" />"
   ]
  },
  {
   "cell_type": "markdown",
   "metadata": {},
   "source": [
    "## 2. 분류 모델 구축을 위한 기본 단계\n",
    "\n",
    "섹션 1에서는 kNN 알고리즘을 기반으로 매우 단순한 분류 모델을 구현하는 작업을 빠르게 진행하였습니다.\n",
    "실제로 컴퓨터 비전 모델의 훈련은 일반적으로 Keras, Tensorflow, Caffe 및 MXNet과 같은 프레임워크 또는 파이썬 용 Scikit-Learn과 같은 라이브러리를 사용하여 수행됩니다.\n",
    "\n",
    "훈련은 수시간, 수일, 심지어 수주가 걸릴 수 있으며, 종종 GPU와 더 강력한 컴퓨팅 기능을 갖춘 기계가 필요한 경우도 많습니다. 우리가 kNN용으로 만든 모델은 개념을 설명하기 위해 numpy 배열을 사용한 단순한 모델이었습니다.\n",
    "\n",
    "이제 분류 모델을 구축하는 데 일반적으로 필요한 단계를 살펴보겠습니다(이 중 일부는 이 연습에서 이미 수행되었습니다):\n",
    "1. 데이터 수집\n",
    "2. 데이터 준비(클리닝, 라벨링 등)\n",
    "3. 데이터를 훈련 세트와 시험 세트로 분할\n",
    "4. 알고리즘 선택 및 모델 훈련\n",
    "5. 성능 평가\n",
    "\n",
    "사용할 알고리즘을 선택하는 것은 5 단계 중 하나에 불과합니다. 기계 학습 알고리즘의 경우 데이터 준비가 매우 중요합니다. 잘못된 정보를 입력하면 모델이 자연스럽게 잘못됩니다.\n",
    "\n",
    "마찬가지로, 데이터 전처리와 모형에 사용하는 특성도 중요합니다. 다양한 색상의 꽃을 인식하는 모델을 훈련시키는 회색조 이미지(중요한 색상의 특징은 제외하고)만 사용한다고 상상해 보십시오. 반대로 광학 문자 인식(OCR)의 경우 색상 정보가 그다지 유용하지 않을 수 있으며 모델에 대해 선택된 특성에 포함되지 않을 수 있습니다."
   ]
  },
  {
   "cell_type": "markdown",
   "metadata": {},
   "source": [
    "## 3. 지금까지 kNN이었습니다. SVM(Support Vector Machines)은 어떻습니까?\n",
    "\n",
    "생각해 보면 kNN 알고리즘은 실제로 많은 것을 알지 못했고 기본적으로 훈련 데이터를 저장하고, 새로운 이미지에 대한 추론이 필요할 때마다 조회를 수행하였습니다.\n",
    "\n",
    "수학 시간에 배운 선형 방정식의 유도 공식 **y = mx + c** 를 기억하시나요?\n",
    "\n",
    "만약 우리가 다른 클래스들을 예측하는데 사용될 수 있는 방정식이나 공식을 도출할 수 있다면 어떨까요?"
   ]
  },
  {
   "cell_type": "markdown",
   "metadata": {},
   "source": [
    "## 지원 벡터(Support Vector)란 무엇입니까??\n",
    "\n",
    "X에서 O를 분류해야 한다고 상상해 보십시오. 모든 X와 O를 가장 잘 구분하는 선을 하나 그려 보세요.\n",
    "\n",
    "<img src=\"[Dataset] Module 21 images/svm1.jpg\" style=\"width: 300px; float:left;\" />\n",
    "<div style=\"clear:both;\"></div>\n",
    "\n",
    "우리는 X와 O를 분류하기 위해 선을 하나 그릴 수 있습니다(아래 파란색 선). 이것은 지원 벡터의 간단한 예입니다. 선의 왼쪽/상단에 있는 모든 항목은 X로 분류될 수 있으며, 선의 오른쪽/하단에 있는 모든 것은 O로 분류될 수 있습니다.\n",
    "\n",
    "<img src=\"[Dataset] Module 21 images/svm2.jpg\" style=\"width: 300px; float:left;\" />\n",
    "<div style=\"clear:both;\"></div>\n"
   ]
  },
  {
   "cell_type": "markdown",
   "metadata": {},
   "source": [
    "참고:  SVM에 대한 수학적 배경은 이 세션의 범위를 벗어나지만 자세히 읽어 보는 것이 좋습니다.  https://www.svm-tutorial.com/2014/11/svm-understanding-math-part-1/ (링크에서 단일 선형 벡터가 2개의 서로 다른 클래스를 분리하는 방법을 다이어그램으로 보여 줍니다.)"
   ]
  },
  {
   "cell_type": "markdown",
   "metadata": {},
   "source": [
    "계속해서 파이썬 Scikit-learn 라이브러리를 사용하여 SVM(Support Vector Machines)이 실제로 작동하는 방법에 대해 살펴보겠습니다. 먼저, 지원 벡터의 '방정식을 도출'하며, 그런 다음 \" 방정식을 사용하여\" 예측을 실행합니다."
   ]
  },
  {
   "cell_type": "markdown",
   "metadata": {},
   "source": [
    "### 첫 번째 모델 훈련"
   ]
  },
  {
   "cell_type": "code",
   "execution_count": 26,
   "metadata": {},
   "outputs": [
    {
     "data": {
      "text/html": [
       "<style>#sk-container-id-1 {color: black;background-color: white;}#sk-container-id-1 pre{padding: 0;}#sk-container-id-1 div.sk-toggleable {background-color: white;}#sk-container-id-1 label.sk-toggleable__label {cursor: pointer;display: block;width: 100%;margin-bottom: 0;padding: 0.3em;box-sizing: border-box;text-align: center;}#sk-container-id-1 label.sk-toggleable__label-arrow:before {content: \"▸\";float: left;margin-right: 0.25em;color: #696969;}#sk-container-id-1 label.sk-toggleable__label-arrow:hover:before {color: black;}#sk-container-id-1 div.sk-estimator:hover label.sk-toggleable__label-arrow:before {color: black;}#sk-container-id-1 div.sk-toggleable__content {max-height: 0;max-width: 0;overflow: hidden;text-align: left;background-color: #f0f8ff;}#sk-container-id-1 div.sk-toggleable__content pre {margin: 0.2em;color: black;border-radius: 0.25em;background-color: #f0f8ff;}#sk-container-id-1 input.sk-toggleable__control:checked~div.sk-toggleable__content {max-height: 200px;max-width: 100%;overflow: auto;}#sk-container-id-1 input.sk-toggleable__control:checked~label.sk-toggleable__label-arrow:before {content: \"▾\";}#sk-container-id-1 div.sk-estimator input.sk-toggleable__control:checked~label.sk-toggleable__label {background-color: #d4ebff;}#sk-container-id-1 div.sk-label input.sk-toggleable__control:checked~label.sk-toggleable__label {background-color: #d4ebff;}#sk-container-id-1 input.sk-hidden--visually {border: 0;clip: rect(1px 1px 1px 1px);clip: rect(1px, 1px, 1px, 1px);height: 1px;margin: -1px;overflow: hidden;padding: 0;position: absolute;width: 1px;}#sk-container-id-1 div.sk-estimator {font-family: monospace;background-color: #f0f8ff;border: 1px dotted black;border-radius: 0.25em;box-sizing: border-box;margin-bottom: 0.5em;}#sk-container-id-1 div.sk-estimator:hover {background-color: #d4ebff;}#sk-container-id-1 div.sk-parallel-item::after {content: \"\";width: 100%;border-bottom: 1px solid gray;flex-grow: 1;}#sk-container-id-1 div.sk-label:hover label.sk-toggleable__label {background-color: #d4ebff;}#sk-container-id-1 div.sk-serial::before {content: \"\";position: absolute;border-left: 1px solid gray;box-sizing: border-box;top: 0;bottom: 0;left: 50%;z-index: 0;}#sk-container-id-1 div.sk-serial {display: flex;flex-direction: column;align-items: center;background-color: white;padding-right: 0.2em;padding-left: 0.2em;position: relative;}#sk-container-id-1 div.sk-item {position: relative;z-index: 1;}#sk-container-id-1 div.sk-parallel {display: flex;align-items: stretch;justify-content: center;background-color: white;position: relative;}#sk-container-id-1 div.sk-item::before, #sk-container-id-1 div.sk-parallel-item::before {content: \"\";position: absolute;border-left: 1px solid gray;box-sizing: border-box;top: 0;bottom: 0;left: 50%;z-index: -1;}#sk-container-id-1 div.sk-parallel-item {display: flex;flex-direction: column;z-index: 1;position: relative;background-color: white;}#sk-container-id-1 div.sk-parallel-item:first-child::after {align-self: flex-end;width: 50%;}#sk-container-id-1 div.sk-parallel-item:last-child::after {align-self: flex-start;width: 50%;}#sk-container-id-1 div.sk-parallel-item:only-child::after {width: 0;}#sk-container-id-1 div.sk-dashed-wrapped {border: 1px dashed gray;margin: 0 0.4em 0.5em 0.4em;box-sizing: border-box;padding-bottom: 0.4em;background-color: white;}#sk-container-id-1 div.sk-label label {font-family: monospace;font-weight: bold;display: inline-block;line-height: 1.2em;}#sk-container-id-1 div.sk-label-container {text-align: center;}#sk-container-id-1 div.sk-container {/* jupyter's `normalize.less` sets `[hidden] { display: none; }` but bootstrap.min.css set `[hidden] { display: none !important; }` so we also need the `!important` here to be able to override the default hidden behavior on the sphinx rendered scikit-learn.org. See: https://github.com/scikit-learn/scikit-learn/issues/21755 */display: inline-block !important;position: relative;}#sk-container-id-1 div.sk-text-repr-fallback {display: none;}</style><div id=\"sk-container-id-1\" class=\"sk-top-container\"><div class=\"sk-text-repr-fallback\"><pre>SVC()</pre><b>In a Jupyter environment, please rerun this cell to show the HTML representation or trust the notebook. <br />On GitHub, the HTML representation is unable to render, please try loading this page with nbviewer.org.</b></div><div class=\"sk-container\" hidden><div class=\"sk-item\"><div class=\"sk-estimator sk-toggleable\"><input class=\"sk-toggleable__control sk-hidden--visually\" id=\"sk-estimator-id-1\" type=\"checkbox\" checked><label for=\"sk-estimator-id-1\" class=\"sk-toggleable__label sk-toggleable__label-arrow\">SVC</label><div class=\"sk-toggleable__content\"><pre>SVC()</pre></div></div></div></div></div>"
      ],
      "text/plain": [
       "SVC()"
      ]
     },
     "execution_count": 26,
     "metadata": {},
     "output_type": "execute_result"
    }
   ],
   "source": [
    "# SVM은 숫자 값을 사용하기 때문에 먼저 레이블을 숫자로 인코딩합니다.\n",
    "from sklearn.preprocessing import LabelEncoder  # 레이블을 숫자로 인코딩\n",
    "encoder = LabelEncoder()                         # 레이블을 숫자로 인코딩\n",
    "encodedtrainY2 = encoder.fit_transform(trainY2)  # 레이블을 숫자로 인코딩\n",
    "\n",
    "from sklearn import svm\n",
    "model = svm.SVC(gamma=\"scale\", decision_function_shape='ovr')\n",
    "model.fit(trainX2, encodedtrainY2)"
   ]
  },
  {
   "cell_type": "markdown",
   "metadata": {},
   "source": [
    "LabelEncoder의 역할은 무엇입니까? 함수 결과를 살펴 보겠습니다.\n",
    "LabelEncoder에 대한 자세한 내용은 [여기](https://medium.com/@contactsunny/label-encoder-vs-one-hot-encoder-in-machine-learning-3fc273365621) 에서 더 자세히 알아볼 수 있습니다."
   ]
  },
  {
   "cell_type": "code",
   "execution_count": 27,
   "metadata": {},
   "outputs": [
    {
     "name": "stdout",
     "output_type": "stream",
     "text": [
      "[3 3 3 3 3 3 3 3 3 3 3 3 3 3 3 1 1 1 1 1 1 1 1 1 1 1 1 1 1 1 0 0 0 0 0 0 0\n",
      " 0 0 0 0 0 0 0 0 2 2 2 2 2 2 2 2 2 2 2 2 2 2 2]\n"
     ]
    }
   ],
   "source": [
    "print (encodedtrainY2)"
   ]
  },
  {
   "cell_type": "markdown",
   "metadata": {},
   "source": [
    "SVM을 깊이 이해하는 것은 이 단원의 범위를 넘어서지만, [여기](https://medium.com/all-things-ai/in-depth-parameter-tuning-for-svc-758215394769) 에서 자세한 내용은 언제든지 확인할 수 있습니다."
   ]
  },
  {
   "cell_type": "markdown",
   "metadata": {},
   "source": [
    "이제 SVM 모델을 확보했습니다.\n",
    "\n",
    "### 예측을 실행해 봅시다!"
   ]
  },
  {
   "cell_type": "code",
   "execution_count": 28,
   "metadata": {},
   "outputs": [
    {
     "name": "stdout",
     "output_type": "stream",
     "text": [
      "16.png: black\n",
      "17.png: black\n",
      "18.png: black\n",
      "19.png: black\n",
      "20.png: black\n",
      "36.png: red\n",
      "37.png: red\n",
      "38.png: red\n",
      "39.png: red\n",
      "40.png: red\n",
      "56.png: green\n",
      "57.png: green\n",
      "58.png: green\n",
      "59.png: green\n",
      "60.png: green\n",
      "76.png: none\n",
      "77.png: none\n",
      "78.png: none\n",
      "79.png: none\n",
      "80.png: none\n",
      "\n",
      "              precision    recall  f1-score   support\n",
      "\n",
      "       black       1.00      1.00      1.00         5\n",
      "       green       1.00      1.00      1.00         5\n",
      "        none       1.00      1.00      1.00         5\n",
      "         red       1.00      1.00      1.00         5\n",
      "\n",
      "    accuracy                           1.00        20\n",
      "   macro avg       1.00      1.00      1.00        20\n",
      "weighted avg       1.00      1.00      1.00        20\n",
      "\n",
      "Correct :20. Wrong: 0. Correctly Classified: 100.0%\n"
     ]
    }
   ],
   "source": [
    "import os\n",
    "path = \"[Dataset] Module 21 images/test/\"\n",
    "filenames = []\n",
    "predictedY = []\n",
    "for filename in os.listdir(path):\n",
    "    img = cv2.imread(path+filename)\n",
    "    img_features = averagecolor(img)\n",
    "    prediction = model.predict([img_features])[0]\n",
    "    \n",
    "    # 예측을 코드화합니다.\n",
    "    prediction = encoder.inverse_transform([prediction])[0]\n",
    "    \n",
    "    print (filename + \": \" + prediction)\n",
    "    filenames.append(filename)\n",
    "    predictedY.append(prediction)\n",
    "\n",
    "# 정확도 평가(sklearn 패키지는 유용한 보고서를 제공합니다)\n",
    "print ()\n",
    "print(classification_report(realtestY, predictedY))\n",
    "\n",
    "# 정확도 평가\n",
    "print (evaluateaccuracy(filenames,predictedY))"
   ]
  },
  {
   "cell_type": "markdown",
   "metadata": {},
   "source": [
    "### 어느 것이 더 정확합니까?\n",
    "\n",
    "SVM이 kNN보다 더 효과적으로 정확한 분류를 얻을 수 있다고 생각하십니까?\n",
    "\n",
    "결과는 문제에 따라 달라집니다. SVM의 경우에는 이 세션의 범위를 벗어나 조정해야 하는 다른 매개 변수도 있습니다. 이 매개 변수는 모델 생성 프로세스를 결정합니다. 예를 들어, 모델은 어떤 종류의 지원 벡터를 생성해야 하는지 알아야합니다. 일부 데이터 세트에는 \"직선\"이 적용되지만 다른 데이터 세트에는 곡선 또는 더 복잡한 지원 벡터가 필요할 수 있습니다.\n",
    "\n",
    "예를 들어, 아래의 O와 X를 분류하기 위해 직선을 적용하는 것을 생각해 보십시오. 이 문제의 경우 직선 대신 원에 대한 방정식이 필요할 수도 있습니다.\n",
    "\n",
    "<img src=\"[Dataset] Module 21 images/svm3.jpg\" style=\"width:400px; float:left;\" />\n",
    "<div style=\"clear:both;\"></div>\n",
    "\n",
    "자세한 내용은 이 섹션의 끝에 있는 링크를 참조하십시오.\n",
    "\n",
    "여기까지 trainX2와 trainY2를 사용하여 모델을 학습한 후 별도의 이미지 세트에 대해 우리 모델을 테스트하였으며, 이는 잘 수행되는 것처럼 보였습니다. 그러나 작은 테스트 세트에서 잘 작동하는 것이 항상 잘 작동한다는 것을 의미하지는 않습니다. \n",
    "\n",
    "이전에 테스트하지 않았던 다른 이미지로 다시 테스트해 봅시다. 사람의 눈은 그것이 어떤 색인지 쉽게 구별할 수 있습니다. 그러나 지금까지 완벽하게 작동하는 것으로 보였던 모델이 새로운 테스트 이미지를 정확하게 분류하고 있습니까?\n",
    "\n",
    "<img src=\"[Dataset] Module 21 images/cardtestagain.png\" style=\"width:400px; float:left;\" />\n",
    "<div style=\"clear:both;\"></div>\n"
   ]
  },
  {
   "cell_type": "code",
   "execution_count": 29,
   "metadata": {},
   "outputs": [
    {
     "name": "stdout",
     "output_type": "stream",
     "text": [
      "none\n"
     ]
    }
   ],
   "source": [
    "imagenew = cv2.imread(\"[Dataset] Module 21 images/cardtestagain.png\")\n",
    "imagenew_features = averagecolor(imagenew)\n",
    "prediction = (model.predict([imagenew_features])[0])\n",
    "\n",
    "# 숫자에서 레이블로 예측 값을 디코딩\n",
    "print(encoder.inverse_transform([prediction])[0])"
   ]
  },
  {
   "cell_type": "markdown",
   "metadata": {},
   "source": [
    "### 무엇이 잘못되었습니까?\n",
    "\n",
    "안타깝게도 이미지가 빨간색이 아닌 없음으로 잘못 분류된 것 같습니다. <br />\n",
    "이 세션의 범위를 벗어난 수학에 대해 깊이 파고들지 않고는 SVM 모델이 왜 이 경우에 잘못 분류되었는지 파헤치기 어려울 것입니다. 간단한 비유는 직선에 대한 방정식에 곡선을 맞추는 것이 어려울 수 있다는 것입니다. y=mx+c가 곡선에 사용하기에 잘못된 방정식이 되는 것처럼 말이다.\n",
    "\n",
    "**사이드 팁:** 기계 학습을 사용하여 솔루션을 설계 할 때 가장 정확한 모델을 훈련시키는 것을 목표로하지만 모델이 올바른 결과를 제공하지 못할 경우를 대비한 계획 수립에도 시간을 들여야 합니다. 또한 잘못된 결과가 애플리케이션에 미칠 수 있는 영향을 고려하여 위험을 완화하기 위한 조치를 취해야합니다. 예를 들어, 컴퓨터 비전에 의해 안내되는 기계의 일부인 경우, 그것이 무언가에 부딪히기 전에 비상 정지를 시킬 수 있는 다른 센서가 있어야 합니다."
   ]
  },
  {
   "cell_type": "markdown",
   "metadata": {},
   "source": [
    "한편, kNN 알고리즘은 동일한 이미지에 대해 어떻게 작업을 진행합니까?"
   ]
  },
  {
   "cell_type": "code",
   "execution_count": 30,
   "metadata": {},
   "outputs": [
    {
     "name": "stdout",
     "output_type": "stream",
     "text": [
      "red\n"
     ]
    }
   ],
   "source": [
    "calculated_distances = []\n",
    "for card in (trainX):\n",
    "    calculated_distances.append(np.linalg.norm(imagenew_features-card))\n",
    "print(trainY2[np.argmin(calculated_distances)])"
   ]
  },
  {
   "cell_type": "markdown",
   "metadata": {},
   "source": [
    "### kNN이 항상 더 신뢰할 수 있다는 것을 의미합니까?\n",
    "\n",
    "이미지를 하나 더 사용해 보겠습니다:\n",
    "\n",
    "<img src=\"[Dataset] Module 21 images/cardtestagain2.png\" style=\"width:400px; float:left;\" />\n",
    "<div style=\"clear:both;\"></div>"
   ]
  },
  {
   "cell_type": "code",
   "execution_count": 31,
   "metadata": {},
   "outputs": [
    {
     "name": "stdout",
     "output_type": "stream",
     "text": [
      "SVM: none\n",
      "kNN: none\n"
     ]
    }
   ],
   "source": [
    "imagenew = cv2.imread(\"[Dataset] Module 21 images/cardtestagain2.png\")\n",
    "imagenew_features = averagecolor(imagenew)\n",
    "calculated_distances = []\n",
    "for card in (trainX2):\n",
    "    calculated_distances.append(np.linalg.norm(imagenew_features-card))\n",
    "    \n",
    "print(\"SVM: \"+str(encoder.inverse_transform([ model.predict([imagenew_features])[0] ])[0]))\n",
    "print(\"kNN: \"+str(trainY2[np.argmin(calculated_distances)]))\n"
   ]
  },
  {
   "cell_type": "markdown",
   "metadata": {},
   "source": [
    "위 이미지에서 kNN 알고리즘이 이미지를 녹색이 아닌 없음으로 잘못 분류한 이유를 추측할 수 있습니까?\n",
    "\n",
    "이미지의 평균 색상을 계산하여 그 이유를 알아낼 수 있습니다.\n",
    "\n",
    "또한 이러한 문제를 완화하기 위해 더 많은 이미지를 사용하여 모델을 교육할 수 있습니다.\n"
   ]
  },
  {
   "cell_type": "markdown",
   "metadata": {},
   "source": [
    "참고: SVM에 대한 수학은 이 세션의 범위에 포함되지 않지만, 자세히 읽어보는 것이 좋습니다.  https://www.svm-tutorial.com/2014/11/svm-understanding-math-part-1/ (링크에서 단일 선형 벡터가 2개의 서로 다른 클래스를 분리하는 방법을 다이어그램으로 보여 줍니다.)\n",
    "\n",
    "그러나 우리의 실험에서는 2개 이상의 클래스를 분리하기 위해 사용했습니다. https://scikit-learn.org/stable/modules/svm.html#multi-class-classification 에서 SVM을 사용한 다중 클래스 분류에 대해 자세히 알 수 있으며, 코드 샘플을 볼 수 있습니다. 도움이 더 필요한 경우 인터넷 검색을 활용할 수 있습니다."
   ]
  },
  {
   "cell_type": "markdown",
   "metadata": {},
   "source": [
    "## 축하합니다! \n",
    "\n",
    "## 이제 여러분의 시간입니다! \n",
    "\n",
    "기계 학습에 대하여 빠르게 소개를 완료하였습니다. 규칙 기반 접근 방식에서 기계 학습 방법으로의 진행 과정을 살펴보았습니다. 또한 분류를 위해 kNN 및 SVM 모델을 교육하기 위해 훈련 데이터를 사용했으며 결과와 몇 가지 제한 사항을 살펴 보았습니다.\n",
    "\n",
    "학습할 수 있는 것이 훨씬 더 많지만 여러분은 이미 기계 학습을 위한 건축을 시작할 수 있습니다!\n",
    "\n",
    "언제든지 도움이 필요하면 항상 친숙한 인터넷을 활용할 수 있습니다: <br />\n",
    "- https://docs.opencv.org/4.0.0/d2/d96/tutorial_py_table_of_contents_imgproc.html\n",
    "- https://scikit-learn.org/stable/documentation.html\n",
    "\n",
    "**팁:** 이전 세션에서 배운 기본적인 컴퓨터 비전 기술을 여러분의 모델에 어떤 특성들이 유용할지 생각하여 활용할 수 있습니다. 색상 공간, 임계값, 윤곽 감지, 기하학적 변환, 이미지 numpy 배열의 직접 조작 등이 있습니다.  때로는 기본적인 방법이 직면한 과제에 가장 효과적 일 수 있습니다.\n",
    "\n",
    "여러분이 무엇을 만들든지 목적과 목표를 염두에 두고 다양한 접근 방식을 생각해 보십시오. 또한 기계 학습 알고리즘이 오분류를 할 때 발생할 수 있는 영향을 염두에 두고 위험을 완화하는 방법을 계획해야 합니다. 예를 들어, 모델이 빨간색 카드를 매우 잘 식별하지만 때로는 녹색과 파란색 카드를 혼합한다는 것을 알고 있다면 녹색과 파란색 대신 빨간색 카드를 사용하여 솔루션을 설계하는 것이 좋습니다. 녹색, 검은색 카드가 발견되는 경우에는 보안 담당자가 두 번째 계층 검사를 수행해야 하는 경우와 같이 기타 확인 계층에 추가할 수 있습니다.\n",
    "\n",
    "오류 가능성이 있는 여러 시나리오에 대하여 다른 기술이나 하드웨어 센서를 사용하여 솔루션의 설계를 보완해 보세요."
   ]
  },
  {
   "cell_type": "markdown",
   "metadata": {},
   "source": [
    "### 챌린지 1: \"images/test/58.png\"의 평균 색상은?\n",
    "\n",
    "처음에 잘못 분류되었다는 것을 기억하십니까? 그 이유를 살펴보겠습니다.\n",
    "결과를 변수 \"cha1\"에 저장합니다."
   ]
  },
  {
   "cell_type": "code",
   "execution_count": 32,
   "metadata": {},
   "outputs": [
    {
     "name": "stdout",
     "output_type": "stream",
     "text": [
      "평균 색상 값 (R, G, B): (120, 223, 208)\n",
      "[208.77603841 223.6275293  120.75616536]\n"
     ]
    }
   ],
   "source": [
    "# 이미지 파일 경로\n",
    "image_path = 'C:\\\\Users\\\\gadi2\\\\OneDrive\\\\바탕 화면\\\\study file\\\\[Dataset] Module 21 images\\\\test\\\\58.png'\n",
    "\n",
    "# OpenCV를 사용하여 이미지 열기\n",
    "image = cv2.imread(image_path)\n",
    "\n",
    "# BGR 색상 공간을 RGB로 변환\n",
    "image_rgb = cv2.cvtColor(image, cv2.COLOR_BGR2RGB)\n",
    "\n",
    "# 이미지의 평균 색상 값 계산\n",
    "avg_color_per_row = np.mean(image_rgb, axis=0)\n",
    "avg_color = np.mean(avg_color_per_row, axis=0)\n",
    "\n",
    "# 평균 색상값을 정수형으로 변환하여 cha1에 저장\n",
    "cha1 = tuple(avg_color.astype(int))\n",
    "\n",
    "# 결과 출력\n",
    "print(\"평균 색상 값 (R, G, B):\", cha1)\n",
    "\n",
    "img = cv2.imread(\"[Dataset] Module 21 images/test/58.png\")\n",
    "cha1 = np.mean(img,axis=(0,1))\n",
    "print(cha1)"
   ]
  },
  {
   "cell_type": "markdown",
   "metadata": {},
   "source": [
    "### 챌린지 2: \"images/background.png\"의 평균 색상은?\n",
    "\n",
    "결과를 변수 \"cha2\"에 저장합니다."
   ]
  },
  {
   "cell_type": "code",
   "execution_count": 33,
   "metadata": {},
   "outputs": [
    {
     "name": "stdout",
     "output_type": "stream",
     "text": [
      "평균 색상 값 (R, G, B): (241, 241, 247)\n",
      "[247.9326888  241.13666016 241.89832357]\n"
     ]
    }
   ],
   "source": [
    "# 이미지 파일 경로\n",
    "image_path = 'C:\\\\Users\\\\gadi2\\\\OneDrive\\\\바탕 화면\\\\study file\\\\[Dataset] Module 21 images\\\\background.png'\n",
    "\n",
    "# OpenCV를 사용하여 이미지 열기\n",
    "image = cv2.imread(image_path)\n",
    "\n",
    "# BGR 색상 공간을 RGB로 변환\n",
    "image_rgb = cv2.cvtColor(image, cv2.COLOR_BGR2RGB)\n",
    "\n",
    "# 이미지의 평균 색상 값 계산\n",
    "avg_color_per_row = np.mean(image_rgb, axis=0)\n",
    "avg_color = np.mean(avg_color_per_row, axis=0)\n",
    "\n",
    "# 평균 색상값을 정수형으로 변환하여 cha1에 저장\n",
    "cha2 = tuple(avg_color.astype(int))\n",
    "\n",
    "# 결과 출력\n",
    "print(\"평균 색상 값 (R, G, B):\", cha2)\n",
    "\n",
    "bg = cv2.imread(\"[Dataset] Module 21 images/background.png\")\n",
    "cha2 = np.mean(bg,axis=(0,1))\n",
    "print(cha2)"
   ]
  },
  {
   "cell_type": "markdown",
   "metadata": {},
   "source": [
    "### 챌린지 3: \"images/cardgreen_close.png\"의 평균 색상은?\n",
    "\n",
    "결과를 변수 \"cha3\"에 저장합니다."
   ]
  },
  {
   "cell_type": "code",
   "execution_count": 34,
   "metadata": {},
   "outputs": [
    {
     "name": "stdout",
     "output_type": "stream",
     "text": [
      "평균 색상 값 (R, G, B): (61, 133, 119)\n",
      "[119.53976563 133.40338216  61.1089388 ]\n"
     ]
    }
   ],
   "source": [
    "# 이미지 파일 경로\n",
    "image_path = 'C:\\\\Users\\\\gadi2\\\\OneDrive\\\\바탕 화면\\\\study file\\\\[Dataset] Module 21 images\\\\cardgreen_close.png'\n",
    "\n",
    "# OpenCV를 사용하여 이미지 열기\n",
    "image = cv2.imread(image_path)\n",
    "\n",
    "# BGR 색상 공간을 RGB로 변환\n",
    "image_rgb = cv2.cvtColor(image, cv2.COLOR_BGR2RGB)\n",
    "\n",
    "# 이미지의 평균 색상 값 계산\n",
    "avg_color_per_row = np.mean(image_rgb, axis=0)\n",
    "avg_color = np.mean(avg_color_per_row, axis=0)\n",
    "\n",
    "# 평균 색상값을 정수형으로 변환하여 cha1에 저장\n",
    "cha3 = tuple(avg_color.astype(int))\n",
    "\n",
    "# 결과 출력\n",
    "print(\"평균 색상 값 (R, G, B):\", cha3)\n",
    "\n",
    "cc = cv2.imread(\"[Dataset] Module 21 images/cardgreen_close.png\")\n",
    "cha3 = np.mean(cc,axis=(0,1))\n",
    "print(cha3)"
   ]
  },
  {
   "cell_type": "code",
   "execution_count": 35,
   "metadata": {},
   "outputs": [],
   "source": [
    "# new_card = cv2.imread('경로')\n",
    "# 변수 = averagecolor(new_card)\n",
    "# print(변수)"
   ]
  },
  {
   "cell_type": "markdown",
   "metadata": {},
   "source": [
    "### 챌린지 4: 58.png vs Background. cha1과 cha2 사이의 거리를 계산하십시오.\n",
    "\n",
    "섹션 1.2에서 유클리드 거리를 계산하는 방법을 생각해 보세요."
   ]
  },
  {
   "cell_type": "code",
   "execution_count": 36,
   "metadata": {},
   "outputs": [
    {
     "name": "stdout",
     "output_type": "stream",
     "text": [
      "두 점 사이의 유클리드 거리: 128.51161592391296\n",
      "128.51161592391296\n"
     ]
    }
   ],
   "source": [
    "# 각 차원의 좌표값 차이의 제곱 계산\n",
    "diff_squared = [(c1 - c2) ** 2 for c1, c2 in zip(cha1, cha2)]\n",
    "\n",
    "# 각 차원의 제곱값의 합 구하기\n",
    "sum_of_squares = np.sum(diff_squared)\n",
    "\n",
    "# 제곱값의 합의 제곱근 계산 (유클리드 거리)\n",
    "euclidean_distance = np.sqrt(sum_of_squares)\n",
    "\n",
    "# 결과 출력\n",
    "print(\"두 점 사이의 유클리드 거리:\", euclidean_distance)\n",
    "\n",
    "distance1_2 = np.linalg.norm(cha1 - cha2)\n",
    "print(distance1_2)"
   ]
  },
  {
   "cell_type": "markdown",
   "metadata": {},
   "source": [
    "### 챌린지 5: 58.png vs Green.  cha1과 cha3 사이의 거리를 계산하십시오.\n",
    "\n",
    "섹션 1.2에서 유클리드 거리를 계산하는 방법을 생각해 보세요."
   ]
  },
  {
   "cell_type": "code",
   "execution_count": 37,
   "metadata": {
    "scrolled": true
   },
   "outputs": [
    {
     "name": "stdout",
     "output_type": "stream",
     "text": [
      "두 점 사이의 유클리드 거리: 140.2187603130577\n",
      "140.2187603130577\n"
     ]
    }
   ],
   "source": [
    "# 각 차원의 좌표값 차이의 제곱 계산\n",
    "diff_squared = [(c1 - c2) ** 2 for c1, c2 in zip(cha1, cha3)]\n",
    "\n",
    "# 각 차원의 제곱값의 합 구하기\n",
    "sum_of_squares = np.sum(diff_squared)\n",
    "\n",
    "# 제곱값의 합의 제곱근 계산 (유클리드 거리)\n",
    "euclidean_distance = np.sqrt(sum_of_squares)\n",
    "\n",
    "# 결과 출력\n",
    "print(\"두 점 사이의 유클리드 거리:\", euclidean_distance)\n",
    "\n",
    "distance1_3 = np.linalg.norm(cha1 - cha3)\n",
    "print(distance1_3)"
   ]
  },
  {
   "cell_type": "markdown",
   "metadata": {},
   "source": [
    "챌린지 4(58.png vs. background)의 거리가 더 작습니까? 챌린지 5(58.png vs. green)의 거리가 더 작습니까?"
   ]
  },
  {
   "cell_type": "markdown",
   "metadata": {},
   "source": [
    "거리가 작을수록 더 큰 유사성을 의미합니다. 58.png는 4개의 \"훈련 이미지\"를 바탕으로 녹색 카드보다는 배경과 더 유사한 것으로 분류되었습니다."
   ]
  },
  {
   "cell_type": "markdown",
   "metadata": {},
   "source": [
    "### 챌린지 6: Modify the function averagecolor to convert the image to greyscale before extracting the features\n",
    "\n",
    "Recall how you converted an image to greyscale in the previous session. Calculate the accuracy of the kNN model when we use average greyscale instead of averagecolor. (i.e. Run section 1.3 using your updated averagecolor function. Rerun both the training and inference steps) What is the new accuracy? Does it perform better? Why do you think so?\n",
    "\n",
    "### 챌린지 6: 피쳐를 추출하기 전에 함수 평균 색상을 수정하여 이미지를 그레이 스케일로 변환합니다\n",
    "\n",
    "이전 세션에서 이미지를 그레이스케일로 변환한 방법을 기억하세요. 평균 색상 대신 평균 그레이스케일을 사용할 때 kNN 모델의 정확도를 계산하십시오. (즉, 업데이트된 평균 색상 함수를 사용하여 섹션 1.3을 실행하십시오. 훈련 및 추론 단계 모두 다시 실행) 새로운 정확도는 무엇입니까? 성능이 더 우수합니까? 왜 그렇게 생각합니까?"
   ]
  },
  {
   "cell_type": "code",
   "execution_count": 38,
   "metadata": {},
   "outputs": [],
   "source": [
    "# 다음 함수를 수정할 수 있습니다.\n",
    "def averagecolor_grey(image):\n",
    "    grey = cv2.cvtColor(image, cv2.COLOR_BGR2GRAY)\n",
    "    return np.mean(grey, axis=(0, 1))\n",
    "       \n"
   ]
  },
  {
   "cell_type": "code",
   "execution_count": 39,
   "metadata": {},
   "outputs": [
    {
     "name": "stdout",
     "output_type": "stream",
     "text": [
      "Loading training images for the label: red\n",
      "Loading training images for the label: green\n",
      "Loading training images for the label: black\n",
      "Loading training images for the label: none\n"
     ]
    }
   ],
   "source": [
    "path = \"[Dataset] Module 21 images/\"\n",
    "trainX3=[]\n",
    "trainY3=[]\n",
    "for label in ('red','green','black','none'):\n",
    "    print (\"Loading training images for the label: \"+label)\n",
    "    \n",
    "    for filename in os.listdir(path+label+\"/\"): \n",
    "        img = cv2.imread(path+label+\"/\"+filename)\n",
    "        img_features = averagecolor_grey(img)\n",
    "        trainX3.append(img_features)\n",
    "        trainY3.append(label)"
   ]
  },
  {
   "cell_type": "code",
   "execution_count": 40,
   "metadata": {},
   "outputs": [
    {
     "name": "stdout",
     "output_type": "stream",
     "text": [
      "16.png: red\n",
      "17.png: red\n",
      "18.png: green\n",
      "19.png: red\n",
      "20.png: red\n",
      "36.png: red\n",
      "37.png: black\n",
      "38.png: black\n",
      "39.png: black\n",
      "40.png: red\n",
      "56.png: green\n",
      "57.png: green\n",
      "58.png: none\n",
      "59.png: green\n",
      "60.png: green\n",
      "76.png: none\n",
      "77.png: none\n",
      "78.png: none\n",
      "79.png: none\n",
      "80.png: none\n",
      "\n",
      "              precision    recall  f1-score   support\n",
      "\n",
      "       black       0.00      0.00      0.00         5\n",
      "       green       0.80      0.80      0.80         5\n",
      "        none       0.83      1.00      0.91         5\n",
      "         red       0.33      0.40      0.36         5\n",
      "\n",
      "    accuracy                           0.55        20\n",
      "   macro avg       0.49      0.55      0.52        20\n",
      "weighted avg       0.49      0.55      0.52        20\n",
      "\n",
      "Wrong Predictions: (filename, labelled, predicted) \n",
      "[['16.png' 'black' 'red']\n",
      " ['17.png' 'black' 'red']\n",
      " ['18.png' 'black' 'green']\n",
      " ['19.png' 'black' 'red']\n",
      " ['20.png' 'black' 'red']\n",
      " ['37.png' 'red' 'black']\n",
      " ['38.png' 'red' 'black']\n",
      " ['39.png' 'red' 'black']\n",
      " ['58.png' 'green' 'none']]\n",
      "Correct :11. Wrong: 9. Correctly Classified: 55.0%\n"
     ]
    }
   ],
   "source": [
    "path = \"[Dataset] Module 21 images/test/\"\n",
    "filenames = []\n",
    "predictedY = []\n",
    "for filename in os.listdir(path):\n",
    "    img = cv2.imread(path+filename)\n",
    "    img_features = averagecolor_grey(img)\n",
    "    calculated_distances = []\n",
    "    for card in (trainX3):\n",
    "        calculated_distances.append(np.linalg.norm(img_features-card))\n",
    "    prediction =  trainY3[np.argmin(calculated_distances)]\n",
    "    \n",
    "    print (filename + \": \" + prediction)\n",
    "    filenames.append(filename)\n",
    "    predictedY.append(prediction)\n",
    "\n",
    "# 정확도 평가(sklearn 패키지는 유용한 보고서를 제공합니다)\n",
    "print()\n",
    "print(classification_report(realtestY, predictedY))\n",
    "\n",
    "# 정확도 평가\n",
    "print (evaluateaccuracy(filenames,predictedY))"
   ]
  },
  {
   "cell_type": "markdown",
   "metadata": {},
   "source": [
    "### 보너스 주제: 분류를 넘어, 우리가 배운 것을 사용하여 이미지 내의 컬러 카드가 어디에 있는지 위치를 파악할 수 있습니까?\n",
    "\n",
    "우리는 모델의 특성으로 평균 색상을 사용 했으므로 전체 이미지를 분류하는 대신 이미지 내의 각 개별 픽셀을 분류하는 데 사용할 수 있습니까?\n",
    "\n",
    "\"색상 클래스\"에 속하는 픽셀을 알면 이미지에서 카드가 어디에 있는지 이해하는 데 도움이 될 수 있습니다. 다음은 _localization_의 예입니다. \n",
    "\n",
    "이 실험을 위해 3 개의 샘플 이미지를 사용해 보겠습니다. images/cardblack.png, images/cardred.png, images/cardgreen.png\n",
    "\n",
    "우선 이미지 내의 빨간색 카드가 어디에 있는지 확인할 수 있습니까?"
   ]
  },
  {
   "cell_type": "code",
   "execution_count": 41,
   "metadata": {},
   "outputs": [
    {
     "data": {
      "text/html": [
       "<style>#sk-container-id-2 {color: black;background-color: white;}#sk-container-id-2 pre{padding: 0;}#sk-container-id-2 div.sk-toggleable {background-color: white;}#sk-container-id-2 label.sk-toggleable__label {cursor: pointer;display: block;width: 100%;margin-bottom: 0;padding: 0.3em;box-sizing: border-box;text-align: center;}#sk-container-id-2 label.sk-toggleable__label-arrow:before {content: \"▸\";float: left;margin-right: 0.25em;color: #696969;}#sk-container-id-2 label.sk-toggleable__label-arrow:hover:before {color: black;}#sk-container-id-2 div.sk-estimator:hover label.sk-toggleable__label-arrow:before {color: black;}#sk-container-id-2 div.sk-toggleable__content {max-height: 0;max-width: 0;overflow: hidden;text-align: left;background-color: #f0f8ff;}#sk-container-id-2 div.sk-toggleable__content pre {margin: 0.2em;color: black;border-radius: 0.25em;background-color: #f0f8ff;}#sk-container-id-2 input.sk-toggleable__control:checked~div.sk-toggleable__content {max-height: 200px;max-width: 100%;overflow: auto;}#sk-container-id-2 input.sk-toggleable__control:checked~label.sk-toggleable__label-arrow:before {content: \"▾\";}#sk-container-id-2 div.sk-estimator input.sk-toggleable__control:checked~label.sk-toggleable__label {background-color: #d4ebff;}#sk-container-id-2 div.sk-label input.sk-toggleable__control:checked~label.sk-toggleable__label {background-color: #d4ebff;}#sk-container-id-2 input.sk-hidden--visually {border: 0;clip: rect(1px 1px 1px 1px);clip: rect(1px, 1px, 1px, 1px);height: 1px;margin: -1px;overflow: hidden;padding: 0;position: absolute;width: 1px;}#sk-container-id-2 div.sk-estimator {font-family: monospace;background-color: #f0f8ff;border: 1px dotted black;border-radius: 0.25em;box-sizing: border-box;margin-bottom: 0.5em;}#sk-container-id-2 div.sk-estimator:hover {background-color: #d4ebff;}#sk-container-id-2 div.sk-parallel-item::after {content: \"\";width: 100%;border-bottom: 1px solid gray;flex-grow: 1;}#sk-container-id-2 div.sk-label:hover label.sk-toggleable__label {background-color: #d4ebff;}#sk-container-id-2 div.sk-serial::before {content: \"\";position: absolute;border-left: 1px solid gray;box-sizing: border-box;top: 0;bottom: 0;left: 50%;z-index: 0;}#sk-container-id-2 div.sk-serial {display: flex;flex-direction: column;align-items: center;background-color: white;padding-right: 0.2em;padding-left: 0.2em;position: relative;}#sk-container-id-2 div.sk-item {position: relative;z-index: 1;}#sk-container-id-2 div.sk-parallel {display: flex;align-items: stretch;justify-content: center;background-color: white;position: relative;}#sk-container-id-2 div.sk-item::before, #sk-container-id-2 div.sk-parallel-item::before {content: \"\";position: absolute;border-left: 1px solid gray;box-sizing: border-box;top: 0;bottom: 0;left: 50%;z-index: -1;}#sk-container-id-2 div.sk-parallel-item {display: flex;flex-direction: column;z-index: 1;position: relative;background-color: white;}#sk-container-id-2 div.sk-parallel-item:first-child::after {align-self: flex-end;width: 50%;}#sk-container-id-2 div.sk-parallel-item:last-child::after {align-self: flex-start;width: 50%;}#sk-container-id-2 div.sk-parallel-item:only-child::after {width: 0;}#sk-container-id-2 div.sk-dashed-wrapped {border: 1px dashed gray;margin: 0 0.4em 0.5em 0.4em;box-sizing: border-box;padding-bottom: 0.4em;background-color: white;}#sk-container-id-2 div.sk-label label {font-family: monospace;font-weight: bold;display: inline-block;line-height: 1.2em;}#sk-container-id-2 div.sk-label-container {text-align: center;}#sk-container-id-2 div.sk-container {/* jupyter's `normalize.less` sets `[hidden] { display: none; }` but bootstrap.min.css set `[hidden] { display: none !important; }` so we also need the `!important` here to be able to override the default hidden behavior on the sphinx rendered scikit-learn.org. See: https://github.com/scikit-learn/scikit-learn/issues/21755 */display: inline-block !important;position: relative;}#sk-container-id-2 div.sk-text-repr-fallback {display: none;}</style><div id=\"sk-container-id-2\" class=\"sk-top-container\"><div class=\"sk-text-repr-fallback\"><pre>KNeighborsClassifier(n_neighbors=1)</pre><b>In a Jupyter environment, please rerun this cell to show the HTML representation or trust the notebook. <br />On GitHub, the HTML representation is unable to render, please try loading this page with nbviewer.org.</b></div><div class=\"sk-container\" hidden><div class=\"sk-item\"><div class=\"sk-estimator sk-toggleable\"><input class=\"sk-toggleable__control sk-hidden--visually\" id=\"sk-estimator-id-2\" type=\"checkbox\" checked><label for=\"sk-estimator-id-2\" class=\"sk-toggleable__label sk-toggleable__label-arrow\">KNeighborsClassifier</label><div class=\"sk-toggleable__content\"><pre>KNeighborsClassifier(n_neighbors=1)</pre></div></div></div></div></div>"
      ],
      "text/plain": [
       "KNeighborsClassifier(n_neighbors=1)"
      ]
     },
     "execution_count": 41,
     "metadata": {},
     "output_type": "execute_result"
    }
   ],
   "source": [
    "# sklearn 패키지에서 kNN 분류기를 사용하는 간단한 방법은 다음과 같습니다. \n",
    "# 어떻게 작동하는지 알기 때문에 처음부터 작성할 필요는 없습니다.\n",
    "from sklearn.neighbors import KNeighborsClassifier\n",
    "knnmodel = KNeighborsClassifier(n_neighbors=1)\n",
    "knnmodel.fit(trainX2, trainY2) "
   ]
  },
  {
   "cell_type": "code",
   "execution_count": 42,
   "metadata": {},
   "outputs": [],
   "source": [
    "card_localization = cv2.imread(\"[Dataset] Module 21 images/cardred.png\")\n",
    "\n",
    "# 먼저 픽셀을 모델이 허용하는 형식으로 정렬해야합니다 (2D 배열)\n",
    "# numpy 배열 방법을 사용하면 쉽게 할 수 있습니다.\n",
    "temp = card_localization.reshape((307200,3)) \n",
    "\n",
    "# 각 픽셀의 색상을 예측\n",
    "prediction = knnmodel.predict(temp)             \n",
    "\n",
    "# 우리가 익숙한 이미지 모양으로 예측을 다시 정렬 할 수 있습니다.\n",
    "masklabels = (prediction.reshape((480,640)))\n",
    "\n",
    "# 관심 있는 클래스에 대한 마스크를 만듭니다! (이전 세션에서 마스크가 무엇인지 생각해보십시오)\n",
    "canvas = np.zeros(card_localization.shape[:2],dtype=\"uint8\")\n",
    "canvas[masklabels==\"red\"]=255\n",
    "\n",
    "# 가장 큰 영역의 위치를 찾습니다.\n",
    "(cnts,_) = cv2.findContours(canvas, cv2.RETR_EXTERNAL, cv2.CHAIN_APPROX_SIMPLE)\n",
    "cnts = sorted(cnts, key=lambda cnts: cv2.boundingRect(cnts)[1])[:1]  # 위에서 아래로 윤곽을 정렬합니다.\n",
    "for (i, c) in enumerate(cnts):    \n",
    "    (x, y, w, h) = cv2.boundingRect(c)                  \n",
    "    cv2.rectangle(card_localization, (x,y), (x+w,y+h), (0,255,0),2)     # 경계 상자를 빨간색으로 그립니다.\n",
    "\n",
    "# 결과 표시\n",
    "cv2.imshow(\"Localization\",canvas)\n",
    "cv2.imshow(\"Marked Card\",card_localization) #여기에 그려진 경계 상자를 보십시오.\n",
    "cv2.waitKey(0)\n",
    "cv2.destroyAllWindows()"
   ]
  },
  {
   "cell_type": "code",
   "execution_count": 43,
   "metadata": {},
   "outputs": [
    {
     "name": "stdout",
     "output_type": "stream",
     "text": [
      "[['none' 'none' 'none' ... 'none' 'none' 'none']\n",
      " ['none' 'none' 'none' ... 'none' 'none' 'none']\n",
      " ['none' 'none' 'none' ... 'none' 'none' 'none']\n",
      " ...\n",
      " ['none' 'none' 'none' ... 'none' 'none' 'none']\n",
      " ['none' 'none' 'none' ... 'none' 'none' 'none']\n",
      " ['none' 'none' 'none' ... 'none' 'none' 'none']]\n"
     ]
    }
   ],
   "source": [
    "print(masklabels)"
   ]
  },
  {
   "cell_type": "markdown",
   "metadata": {},
   "source": [
    "동일한 개념을 사용하여 기본적으로 각 픽셀에 클래스 레이블을 할당하는 _Image Segmentation_을 수행 할 수 있습니다. 아래 예에서는 4개의 레이블 \"빨간색\", \"녹색\", \"검은색\" 및 \"없음\"을 시각화할 수 있습니다(흰색으로 표시)."
   ]
  },
  {
   "cell_type": "code",
   "execution_count": 44,
   "metadata": {},
   "outputs": [],
   "source": [
    "card_localization = cv2.imread(\"[Dataset] Module 21 images/cardred.png\")\n",
    "\n",
    "# 먼저 픽셀을 모델이 허용하는 형식으로 정렬해야합니다 (2D 배열)\n",
    "# numpy 배열 방법을 사용하면 쉽게 할 수 있습니다.\n",
    "temp = card_localization.reshape((307200,3)) \n",
    "\n",
    "# 각 픽셀의 색상을 예측\n",
    "prediction = knnmodel.predict(temp)             \n",
    "\n",
    "# 우리가 익숙한 이미지 모양으로 예측을 다시 정렬 할 수 있습니다.\n",
    "masklabels = (prediction.reshape((480,640)))\n",
    "\n",
    "# 관심 있는 클래스에 대한 마스크를 만듭니다! (이전 세션에서 마스크가 무엇인지 생각해보십시오)\n",
    "canvas = np.zeros(card_localization.shape,dtype=\"uint8\")\n",
    "canvas[masklabels==\"green\"]=(0,255,0)\n",
    "canvas[masklabels==\"red\"]=(0,0,255)\n",
    "canvas[masklabels==\"black\"]=(0,0,0)\n",
    "canvas[masklabels==\"none\"]=(255,255,255)\n",
    "\n",
    "# 결과 표시\n",
    "cv2.imshow(\"Image Segmentation\",canvas)\n",
    "cv2.imshow(\"Original Card\",card_localization)\n",
    "#cv2.imshow(\"Masked Image\",cv2.bitwise_and(card_localization,card_localization,mask=canvas))\n",
    "cv2.waitKey(0)\n",
    "cv2.destroyAllWindows()"
   ]
  },
  {
   "cell_type": "markdown",
   "metadata": {},
   "source": [
    "이미지 세분화는 의료 영상 및 비디오 감시와 같은 응용 프로그램에 사용됩니다. 이미지에 무엇이 있는지 알 뿐만 아니라 다른 이미지보다 더 중요할 수 있는 이미지의 일부를 식별할 필요가 있기 때문입니다. 예를 들어, 의료 스캔에서 종양 가능성을 표시하거나 CCTV에 의심스러운 사람을 표시하는 것입니다.\n",
    "\n",
    "우리 모델에는 약간의 결함이 있으며 손가락의 일부가 검은 색 또는 빨간색으로 잘못 추론되었습니다. 그럼에도 불구하고 이 예제는 이미지 세분화의 개념을 잘 설명해 줍니다."
   ]
  },
  {
   "cell_type": "markdown",
   "metadata": {},
   "source": [
    "### 챌린지 7: sklearn kNN 모델은 기본적으로 어떤 거리 계산 지표를 사용합니까? 그것은 또한 우리가 사용한 유클리드 거리입니까?\n",
    "\n",
    "여기에서 정보를 찾을 수 있습니다. https://scikit-learn.org/stable/modules/generated/sklearn.neighbors.KNeighborsClassifier.html"
   ]
  },
  {
   "cell_type": "code",
   "execution_count": 45,
   "metadata": {},
   "outputs": [],
   "source": [
    "# 지표 : 문자열 또는 호출 가능, 기본 ‘minkowski’\n",
    "# 트리에 사용할 거리 측정 항목. 기본 메트릭은 minkowski이며, p = 2는 표준 유클리드 메트릭과 동일합니다.\n",
    "# 사용 가능한 메트릭 목록은 Distancemetric 클래스의 설명서를 참조하십시오."
   ]
  },
  {
   "cell_type": "markdown",
   "metadata": {},
   "source": [
    "### 챌린지 8: kNN 알고리즘을 사용하여 \"images/cardmixed.png\"에서 빨간색 카드만 마스킹하고 빨간색 픽셀 대 해당 이미지의 총 픽셀 수를 계산하십시오."
   ]
  },
  {
   "cell_type": "code",
   "execution_count": 46,
   "metadata": {},
   "outputs": [],
   "source": [
    "card_localization = cv2.imread(\"[Dataset] Module 21 images/cardmixed.png\")\n",
    "\n",
    "# 먼저 픽셀을 모델이 허용하는 형식으로 정렬해야합니다 (2D 배열)\n",
    "# numpy 배열 방법을 사용하면 쉽게 할 수 있습니다.\n",
    "temp = card_localization.reshape((307200,3)) \n",
    "\n",
    "# 각 픽셀의 색상을 예측\n",
    "prediction = knnmodel.predict(temp)             \n",
    "\n",
    "# 우리가 익숙한 이미지 모양으로 예측을 다시 정렬 할 수 있습니다.\n",
    "masklabels = (prediction.reshape((480,640)))\n",
    "\n",
    "# 관심 있는 클래스에 대한 마스크를 만듭니다! (이전 세션에서 마스크가 무엇인지 생각해보십시오)\n",
    "canvas = np.zeros(card_localization.shape[:2],dtype=\"uint8\")\n",
    "\n",
    "canvas[masklabels==\"red\"]=255\n",
    "\n",
    "(cnts, _) = cv2.findContours(canvas, cv2.RETR_EXTERNAL, cv2.CHAIN_APPROX_SIMPLE)\n",
    "cnts = sorted(cnts, key=lambda cnts: cv2.boundingRect(cnts)[1])[:1]\n",
    "for (i, c) in enumerate(cnts) :\n",
    "    (x, y, w, h) = cv2.boundingRect(c)\n",
    "    cv2.rectangle(card_localization, (x,y), (x+w, y+h), (0,255,0), 2)\n",
    "\n",
    "# 결과 표시\n",
    "cv2.imshow(\"Image Segmentation\",canvas)\n",
    "cv2.imshow(\"Original Card\",card_localization)\n",
    "#cv2.imshow(\"Masked Image\",cv2.bitwise_and(card_localization,card_localization,mask=canvas))\n",
    "cv2.waitKey(0)\n",
    "cv2.destroyAllWindows()"
   ]
  },
  {
   "cell_type": "code",
   "execution_count": 47,
   "metadata": {},
   "outputs": [
    {
     "name": "stdout",
     "output_type": "stream",
     "text": [
      "0.15045247395833333\n"
     ]
    }
   ],
   "source": [
    "red_total = np.count_nonzero(canvas)/(640*480)\n",
    "print(red_total)"
   ]
  },
  {
   "cell_type": "code",
   "execution_count": 48,
   "metadata": {},
   "outputs": [],
   "source": [
    "red = np.array([0,0,255])\n",
    "green = np.array([0,255,0])\n",
    "black = np.array([0,0,0])\n",
    "white = np.array([255,255,255])\n",
    "colors = [green, black, white]\n",
    "\n",
    "img = cv2.imread('[Dataset] Module 21 images/cardmixed.png')\n",
    "canvas = np.zeros(img.shape,dtype=\"uint8\")\n",
    "\n",
    "\n",
    "norms_per_color=np.linalg.norm(img-red, axis=2)\n",
    "\n",
    "for color in colors:\n",
    "    norms_per_pixel = np.linalg.norm(img-color,axis=2)\n",
    "    norms_per_color = np.concatenate((norms_per_color, norms_per_pixel), axis=1)\n",
    "    \n",
    "norms_per_color = norms_per_color.reshape(480,4,640)\n",
    "norms_per_color = np.transpose(norms_per_color, (0,2,1))"
   ]
  },
  {
   "cell_type": "code",
   "execution_count": 49,
   "metadata": {},
   "outputs": [
    {
     "data": {
      "text/plain": [
       "44397"
      ]
     },
     "execution_count": 49,
     "metadata": {},
     "output_type": "execute_result"
    }
   ],
   "source": [
    "np.argwhere(np.argmin(norms_per_color,axis=2)==0).shape[0]"
   ]
  },
  {
   "cell_type": "code",
   "execution_count": 50,
   "metadata": {},
   "outputs": [],
   "source": [
    "canvas[np.where(np.argmin(norms_per_color,axis=2)==0)] = 255"
   ]
  },
  {
   "cell_type": "code",
   "execution_count": 51,
   "metadata": {},
   "outputs": [],
   "source": [
    "cv2.imshow(\"red mask\",canvas)\n",
    "cv2.waitKey(0)\n",
    "cv2.destroyAllWindows()"
   ]
  },
  {
   "cell_type": "code",
   "execution_count": 52,
   "metadata": {},
   "outputs": [],
   "source": [
    "masked_img = cv2.bitwise_and(img, canvas)"
   ]
  },
  {
   "cell_type": "code",
   "execution_count": 53,
   "metadata": {},
   "outputs": [],
   "source": [
    "cv2.imshow(\"red mask\",masked_img)\n",
    "cv2.waitKey(0)\n",
    "cv2.destroyAllWindows()"
   ]
  },
  {
   "cell_type": "markdown",
   "metadata": {},
   "source": [
    "# 추가과제\n",
    "fruit 내부의 red2와 orange 폴더내의 사진들의 평균 컬러 데이터를 trainX, trainY로 설정하고 그 데이터를 이용해서 fruit 폴더 내에 있는 오렌지와 토마토 사진을 구분하세요. KNN알고리즘과 유클리디언 거리 방법, 2가지를 이용해서 사진을 구분하세요.\n",
    "\n",
    "오렌지와 토마토 사진의 구분은 먼저 과일의 외곽선을 구하고, 그 외곽선 사각형의 평균 픽셀값을 계산해서 KNN의 예측값과 유클리디안 예측값을 모든 사진에 대해서 출력하세요.\n",
    "\n",
    "외곽선을 둘러싼 4각형의 평균 픽셀값은 아래 rec_avgcolor() 함수를 이용하세요."
   ]
  },
  {
   "cell_type": "code",
   "execution_count": 54,
   "metadata": {},
   "outputs": [],
   "source": [
    "def rect_avgcolor(img, x, y, w, h):\n",
    "    # 이미지에서 사각형 부분을 추출\n",
    "    roi = img[y:y+h, x:x+w]\n",
    "    \n",
    "    # 추출된 ROI에서 각 채널의 평균을 계산\n",
    "    # cv2.mean() 함수는 ROI 영역의 평균\n",
    "    mean_values = cv2.mean(roi)[:3]\n",
    "    \n",
    "    # B, G, R 순서로 리스트를 반환\n",
    "    return list(mean_values)"
   ]
  },
  {
   "cell_type": "code",
   "execution_count": 55,
   "metadata": {},
   "outputs": [],
   "source": [
    "path = '[Dataset] Module 21 images/'\n",
    "label = 'red2'\n",
    "red2_means = []\n",
    "for filename in os.listdir(path+label):\n",
    "    img = cv2.imread(path+label+'/'+filename)\n",
    "    red2_means.append(np.mean(img, axis=(0, 1)))\n",
    "red2_mean=np.mean(red2_means, axis=(0))"
   ]
  },
  {
   "cell_type": "code",
   "execution_count": 56,
   "metadata": {},
   "outputs": [],
   "source": [
    "path = '[Dataset] Module 21 images/'\n",
    "label = 'orange'\n",
    "org_means=[]\n",
    "for filename in os.listdir(path+label):\n",
    "    img = cv2.imread(path+label+'/'+filename)\n",
    "    org_means.append(np.mean(img, axis=(0, 1)))\n",
    "org_mean=np.mean(org_means, axis=(0))"
   ]
  },
  {
   "cell_type": "code",
   "execution_count": 60,
   "metadata": {},
   "outputs": [
    {
     "ename": "FileNotFoundError",
     "evalue": "[WinError 3] 지정된 경로를 찾을 수 없습니다: 'path/to/orange/folder'",
     "output_type": "error",
     "traceback": [
      "\u001b[1;31m---------------------------------------------------------------------------\u001b[0m",
      "\u001b[1;31mFileNotFoundError\u001b[0m                         Traceback (most recent call last)",
      "Cell \u001b[1;32mIn[60], line 36\u001b[0m\n\u001b[0;32m     33\u001b[0m red2_folder \u001b[38;5;241m=\u001b[39m \u001b[38;5;124mr\u001b[39m\u001b[38;5;124m'\u001b[39m\u001b[38;5;124mpath/to/red2/folder\u001b[39m\u001b[38;5;124m'\u001b[39m\n\u001b[0;32m     35\u001b[0m \u001b[38;5;66;03m# orange 폴더와 red2 폴더에서 데이터셋 로드 및 전처리\u001b[39;00m\n\u001b[1;32m---> 36\u001b[0m orange_features, orange_labels \u001b[38;5;241m=\u001b[39m load_and_process_dataset(orange_folder, \u001b[38;5;241m1\u001b[39m)  \u001b[38;5;66;03m# orange 클래스: 1\u001b[39;00m\n\u001b[0;32m     37\u001b[0m red2_features, red2_labels \u001b[38;5;241m=\u001b[39m load_and_process_dataset(red2_folder, \u001b[38;5;241m0\u001b[39m)  \u001b[38;5;66;03m# red2 클래스: 0\u001b[39;00m\n\u001b[0;32m     39\u001b[0m \u001b[38;5;66;03m# 데이터셋 합치기\u001b[39;00m\n",
      "Cell \u001b[1;32mIn[60], line 22\u001b[0m, in \u001b[0;36mload_and_process_dataset\u001b[1;34m(folder_path, label)\u001b[0m\n\u001b[0;32m     20\u001b[0m features \u001b[38;5;241m=\u001b[39m []\n\u001b[0;32m     21\u001b[0m labels \u001b[38;5;241m=\u001b[39m []\n\u001b[1;32m---> 22\u001b[0m \u001b[38;5;28;01mfor\u001b[39;00m filename \u001b[38;5;129;01min\u001b[39;00m os\u001b[38;5;241m.\u001b[39mlistdir(folder_path):\n\u001b[0;32m     23\u001b[0m     \u001b[38;5;28;01mif\u001b[39;00m filename\u001b[38;5;241m.\u001b[39mendswith(\u001b[38;5;124m'\u001b[39m\u001b[38;5;124m.jpg\u001b[39m\u001b[38;5;124m'\u001b[39m) \u001b[38;5;129;01mor\u001b[39;00m filename\u001b[38;5;241m.\u001b[39mendswith(\u001b[38;5;124m'\u001b[39m\u001b[38;5;124m.png\u001b[39m\u001b[38;5;124m'\u001b[39m):\n\u001b[0;32m     24\u001b[0m         img_path \u001b[38;5;241m=\u001b[39m os\u001b[38;5;241m.\u001b[39mpath\u001b[38;5;241m.\u001b[39mjoin(folder_path, filename)\n",
      "\u001b[1;31mFileNotFoundError\u001b[0m: [WinError 3] 지정된 경로를 찾을 수 없습니다: 'path/to/orange/folder'"
     ]
    }
   ],
   "source": [
    "import cv2\n",
    "import numpy as np\n",
    "import os\n",
    "\n",
    "# 함수: 사각형 내부 픽셀 평균값 계산\n",
    "def rect_avgcolor(img, x, y, w, h):\n",
    "    roi = img[y:y+h, x:x+w]\n",
    "    mean_values = np.mean(roi, axis=(0, 1))\n",
    "    return mean_values\n",
    "\n",
    "# 함수: 과일 부분의 사각형 외곽선 검출 및 분류\n",
    "def classify_fruit(image_path, knn_model):\n",
    "    # 이미지 로드\n",
    "    img = cv2.imread(image_path)\n",
    "    if img is None:\n",
    "        return None\n",
    "\n",
    "    # 이미지 크기 조정 (너무 큰 이미지는 화면에 맞게 축소)\n",
    "    max_dim = 600\n",
    "    scale = min(max_dim / img.shape[0], max_dim / img.shape[1])\n",
    "    img_resized = cv2.resize(img, None, fx=scale, fy=scale)\n",
    "\n",
    "    # 이미지를 그레이스케일로 변환\n",
    "    gray = cv2.cvtColor(img_resized, cv2.COLOR_BGR2GRAY)\n",
    "\n",
    "    # 이진화 (Binary Thresholding)\n",
    "    _, thresh = cv2.threshold(gray, 0, 255, cv2.THRESH_BINARY_INV + cv2.THRESH_OTSU)\n",
    "\n",
    "    # 컨투어(외곽선) 검출\n",
    "    contours, _ = cv2.findContours(thresh, cv2.RETR_EXTERNAL, cv2.CHAIN_APPROX_SIMPLE)\n",
    "\n",
    "    # 컨투어가 존재할 경우\n",
    "    if len(contours) > 0:\n",
    "        # 컨투어 중 가장 큰 외곽선 선택\n",
    "        largest_contour = max(contours, key=cv2.contourArea)\n",
    "        x, y, w, h = cv2.boundingRect(largest_contour)\n",
    "\n",
    "        # 외곽선이 너무 작은 경우 무시\n",
    "        if w < 50 or h < 50:\n",
    "            return None\n",
    "\n",
    "        # 사각형 내부의 평균 컬러 계산\n",
    "        mean_color = rect_avgcolor(img_resized, x, y, w, h)\n",
    "\n",
    "        # KNN 모델을 통한 분류\n",
    "        _, result, _, _ = knn_model.findNearest(np.array([mean_color], dtype=np.float32), 3)\n",
    "        prediction = 'orange' if result == 1 else 'tomato'\n",
    "\n",
    "        # 사각형 그리기\n",
    "        cv2.rectangle(img_resized, (x, y), (x + w, y + h), (0, 255, 0), 2)\n",
    "\n",
    "        # 이미지에 분류 결과 텍스트 추가\n",
    "        cv2.putText(img_resized, f\"Prediction: {prediction}\", (x, y - 10), cv2.FONT_HERSHEY_SIMPLEX, 0.5, (0, 255, 0), 2)\n",
    "\n",
    "        # 결과 이미지를 새 창으로 표시\n",
    "        cv2.imshow('Result', img_resized)\n",
    "        cv2.waitKey(0)\n",
    "        cv2.destroyAllWindows()\n",
    "\n",
    "# orange 폴더와 red2 폴더에서 학습 데이터셋 및 레이블 추출\n",
    "orange_folder = r'C:\\Users\\gadi2\\OneDrive\\바탕 화면\\study file\\[Dataset] Module 21 images\\orange'\n",
    "red2_folder = r'C:\\Users\\gadi2\\OneDrive\\바탕 화면\\study file\\[Dataset] Module 21 images\\red2'\n",
    "\n",
    "def extract_features_and_labels(folder_path, label):\n",
    "    features = []\n",
    "    labels = []\n",
    "    for filename in os.listdir(folder_path):\n",
    "        if filename.endswith('.jpg') or filename.endswith('.png'):\n",
    "            img_path = os.path.join(folder_path, filename)\n",
    "            img = cv2.imread(img_path)\n",
    "            if img is not None:\n",
    "                # 사각형 내부의 평균 컬러 데이터 추출\n",
    "                mean_color = rect_avgcolor(img, 0, 0, img.shape[1], img.shape[0])\n",
    "                features.append(mean_color)\n",
    "                labels.append(label)\n",
    "    return features, labels\n",
    "\n",
    "# orange 폴더와 red2 폴더에서 학습 데이터셋 및 레이블 추출\n",
    "orange_features, orange_labels = extract_features_and_labels(orange_folder, 1)  # 1은 orange를 나타냄\n",
    "red2_features, red2_labels = extract_features_and_labels(red2_folder, 0)  # 0은 red2를 나타냄\n",
    "\n",
    "# 학습 데이터셋 구성\n",
    "train_features = orange_features + red2_features\n",
    "train_labels = orange_labels + red2_labels\n",
    "\n",
    "# KNN 분류기 학습\n",
    "knn_model = cv2.ml.KNearest_create()\n",
    "train_features = np.array(train_features, dtype=np.float32)\n",
    "train_labels = np.array(train_labels, dtype=np.float32)\n",
    "knn_model.train(train_features, cv2.ml.ROW_SAMPLE, train_labels)\n",
    "\n",
    "# fruit 폴더 내 각 이미지에 대해 분류 및 결과 출력\n",
    "fruit_folder = r'C:\\Users\\gadi2\\OneDrive\\바탕 화면\\study file\\[Dataset] Module 21 images\\fruit'\n",
    "\n",
    "for filename in os.listdir(fruit_folder):\n",
    "    if filename.endswith('.jpg') or filename.endswith('.png'):\n",
    "        img_path = os.path.join(fruit_folder, filename)\n",
    "        classify_fruit(img_path, knn_model)\n",
    "        print(f\"Processed: {filename}\")"
   ]
  }
 ],
 "metadata": {
  "kernelspec": {
   "display_name": "Python 3 (ipykernel)",
   "language": "python",
   "name": "python3"
  },
  "language_info": {
   "codemirror_mode": {
    "name": "ipython",
    "version": 3
   },
   "file_extension": ".py",
   "mimetype": "text/x-python",
   "name": "python",
   "nbconvert_exporter": "python",
   "pygments_lexer": "ipython3",
   "version": "3.11.7"
  }
 },
 "nbformat": 4,
 "nbformat_minor": 2
}
