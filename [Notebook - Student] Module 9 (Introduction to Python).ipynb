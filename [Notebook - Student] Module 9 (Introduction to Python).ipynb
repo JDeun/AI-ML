{
 "cells": [
  {
   "cell_type": "markdown",
   "metadata": {
    "colab_type": "text",
    "id": "n8k892W_QmZU"
   },
   "source": [
    "# **Python 시작하기!**"
   ]
  },
  {
   "cell_type": "markdown",
   "metadata": {
    "colab_type": "text",
    "id": "yeT2aJTMQmZa"
   },
   "source": [
    "## Python이란 ?"
   ]
  },
  {
   "cell_type": "markdown",
   "metadata": {
    "colab_type": "text",
    "id": "4-texIqgQmZb"
   },
   "source": [
    "Python은 안정적이고, 유연하며, 배우기 쉽고 모든 운영 체제에서 무료로 사용할 수 있으며, 강력한 개발자 커뮤니티와 많은 무료 라이브러리가 지원되는 인기 있는 프로그래밍 언어입니다(라이브러리는 개발자가 일반적인 프로그래밍 작업을 해결하기 위해 사용하는 미리 작성된 코드 입니다).\n",
    "\n",
    "Python은 웹 애플리케이션, 웹 서비스, PC 프로그램, 스크립트, 데이터 과학, 계산과학 및 주피터 노트북을 포함한 모든 개발 방식을 지원합니다. 많은 대학, 과학자, 일반 개발자 및 전문 개발자가 Python 언어를 사용하고 있습니다.\n",
    "\n",
    "Python은 **고급 프로그래밍 언어**입니다. 이것은 간단히 Python에서 사용되는 명령을 인간이 이해할 수 있음을 의미합니다. 이러한 명령은 인터프리터를 사용하여 기계어로 변환됩니다.\n",
    "\n",
    "[python.org](https://www.python.org/) 및 [Python for Beginners](https://www.python.org/about/gettingstarted/)에서 언어에 대해 자세히 알아볼 수 있습니다."
   ]
  },
  {
   "cell_type": "markdown",
   "metadata": {
    "colab_type": "text",
    "id": "wRAKwUmeQmZd"
   },
   "source": [
    "##  AI 학습에 Python을 사용하는 이유는?"
   ]
  },
  {
   "cell_type": "markdown",
   "metadata": {
    "colab_type": "text",
    "id": "GFwO5zg6QmZe"
   },
   "source": [
    "# Python은 머신러닝 응용프로그램에서 가장 많이 사용됩니다. 주된 이유는 AI 워크플로우에 사용 가능한 **단순하고, 일과되며 안정된** Python 코드가 많기 때문입니다.\n",
    "\n",
    "가장 간단한 AI 워크플로우에는 백그라운드에서 실행되는 광범위한 수학적 함수가 필요합니다. Scikit-Learn(클러스터링, 선형 및 로지스틱 회귀 등과 같은 기본 머신러닝 알고리즘을 처리하는 데 사용), Matplotlib(막대 차트, 히스토그램 및 기타 데이터 시각화에 사용) 등과 같이 안정적이고 사용자에게 친숙한 **라이브러리**는 확장이 쉽고, 효율적인 코드 구축에 큰 도움을 줍니다. 우리는 다음 세션에서 이에 대하여 더 다룰 예정입니다.\n",
    "\n",
    "Python이 사용하기 쉬운 또 다른 이유는 다른 프로그래밍 언어들과 달리 **변수 타입을 선언할 필요가 없기 때문**입니다. 변수는 저장하여 나중에 사용하려는 값에 지정하는 이름입니다.\n",
    "\n",
    "예를 들어, 돈이라는 변수를 만들어 돈의 수치적 가치를 저장하려고 하면 Python에서는 돈을 사용하기 위해 '돈'이라는 단어에 값을 할당하기만 하면 되지만, 다른 프로그래밍 언어에서는 사용하기 전에 변수 유형 선언이 필요합니다.\n",
    "\n",
    "이제 프로그래밍 언어로 Python을 선택한 이유를 이해했으므로, AI 여정에서 자주 접하게 될 기본 명령부터 알아보겠습니다!"
   ]
  },
  {
   "cell_type": "markdown",
   "metadata": {},
   "source": [
    "**시작하기 전 몇가지 팁:**"
   ]
  },
  {
   "cell_type": "code",
   "execution_count": null,
   "metadata": {},
   "outputs": [],
   "source": [
    "# 1) 이 상자를 노트북 환경의 셀이라고 합니다.\n",
    "# 2) Run 버튼(메뉴 중간)을 눌러 진행자를 따라서 실행해 보세요."
   ]
  },
  {
   "cell_type": "markdown",
   "metadata": {
    "colab_type": "text",
    "id": "EEKwmQIdQmZf"
   },
   "source": [
    "## 코멘트\n",
    "\n",
    "이 노트북의 많은 예에는 주석이 포함되어 있습니다. Python의 주석은 해시 문자 `#`로 시작하여 그 줄의 끝까지 영향을 줍니다. 주석은 줄의 시작 부분이나 공백이나 코드 뒤에 나타날 수 있지만 문자열 자체의 따옴표 `\"\"` 또는 `''` 안에는 나타나지 않습니다. 따옴표 사이의 해시 문자는 해시 문자일 뿐입니다. 주석은 코드를 명확하게 하기 위한 것이며 Python에서 해석되지 않으므로 예제를 입력할 때 주석을 생략할 수 있습니다.\n",
    "\n",
    "몇 가지 예:"
   ]
  },
  {
   "cell_type": "code",
   "execution_count": 1,
   "metadata": {
    "colab": {},
    "colab_type": "code",
    "id": "JmE6SFGxQmZh"
   },
   "outputs": [
    {
     "name": "stdout",
     "output_type": "stream",
     "text": [
      "Hi welcome to your first Python Program!\n"
     ]
    }
   ],
   "source": [
    "# 이것은 첫번째 코멘트 입니다.\n",
    "number = 1  # 그리고 이것은 두번째 코멘트 입니다.\n",
    "          # ... 그리고 지금은 세번째!\n",
    "'#그러나, 이것은 코멘트가 아닙니다.'\n",
    "\n",
    "Welcome = \"Hi welcome to your first Python Program!\" \n",
    "print(Welcome) #이것은 'print' 명령(command)입니다.   "
   ]
  },
  {
   "cell_type": "markdown",
   "metadata": {
    "colab_type": "text",
    "id": "OOX51tZTQmZx"
   },
   "source": [
    "# Python의 데이터 타입 탐색 !"
   ]
  },
  {
   "cell_type": "markdown",
   "metadata": {
    "colab_type": "text",
    "id": "VI45L6AYQmZy"
   },
   "source": [
    "Python 변수의 타입을 선언할 필요는 없지만 값에는 타입이 있습니다. 이 노트북에서 다룰 데이터 타입은 다음과 같습니다.:\n",
    "1. Numbers(숫자)\n",
    "2. Strings(문자열)\n",
    "3. Lists(목록)\n",
    "4. Tuples(튜플)\n",
    "5. Dictionary(사전)"
   ]
  },
  {
   "cell_type": "code",
   "execution_count": 2,
   "metadata": {
    "colab": {},
    "colab_type": "code",
    "id": "9R9IWt5n-LL7"
   },
   "outputs": [],
   "source": [
    "x = 'hello'\n",
    "x = [\"I\", \"Love\", \"AI\"]\n",
    "x = 2.5\n",
    "x = True #Boolean 타입, 참 또는 거짓만 있습니다. 온-오프 스위치를 생각하면됩니다."
   ]
  },
  {
   "cell_type": "markdown",
   "metadata": {
    "colab_type": "text",
    "id": "HjfUiFCKQmZz"
   },
   "source": [
    "## Numbers\n",
    "\n",
    "Python 인터프리터는 간단한 계산기 역할을 할 수 있습니다. 표현식을 입력하면 값이 출력됩니다.\n",
    "\n",
    "표현식 구문은 간단합니다. `+`, `-`, `*` 및 `/` 연산자는 대부분의 다른 프로그래밍 언어(예: Pascal 또는 C)에서와 같이 작동합니다. 괄호(`()`)는 그룹화 및 순서 또는 우선 순위에 사용할 수 있습니다. 예를 들어:"
   ]
  },
  {
   "cell_type": "code",
   "execution_count": 3,
   "metadata": {
    "colab": {},
    "colab_type": "code",
    "id": "QOeZjO4BQmZ1"
   },
   "outputs": [
    {
     "data": {
      "text/plain": [
       "4.0"
      ]
     },
     "execution_count": 3,
     "metadata": {},
     "output_type": "execute_result"
    }
   ],
   "source": [
    "56 + 28\n",
    "69 - 2\n",
    "2 * 5\n",
    "((2+1) * 4) / 3"
   ]
  },
  {
   "cell_type": "markdown",
   "metadata": {
    "colab_type": "text",
    "id": "fSsmmhJeQmaH"
   },
   "source": [
    "정수(e.g. `2`, `4`, `20`) 타입은 [`int`](https://docs.python.org/3.5/library/functions.html#int)이고, 소수 부분이 있는 숫자(e.g. `5.0`, `1.6`) 타입은 [`float`](https://docs.python.org/3.5/library/functions.html#float) 입니다.\n",
    "\n",
    "주요 차이점은 부동 소수점이 정수와 소수 모두에 사용될 수 있다는 것입니다.\n",
    "\n",
    "type() 함수를 사용하여 변수가 속한 데이터 타입을 찾을 수 있습니다."
   ]
  },
  {
   "cell_type": "code",
   "execution_count": 4,
   "metadata": {
    "colab": {},
    "colab_type": "code",
    "id": "ncEg_5eRQmaO"
   },
   "outputs": [
    {
     "name": "stdout",
     "output_type": "stream",
     "text": [
      "Datatype for roll_number is <class 'int'>\n",
      "Datatype for marks is <class 'float'>\n"
     ]
    }
   ],
   "source": [
    "roll_number = 1234\n",
    "marks = 52.5\n",
    "print (\"Datatype for roll_number is\",type(roll_number))\n",
    "print (\"Datatype for marks is\",type(marks)) #특정 데이터 타입을 가진 변수를 선언하지 않았음을 주목하십시오."
   ]
  },
  {
   "cell_type": "markdown",
   "metadata": {
    "colab_type": "text",
    "id": "bA0je0GNQmaw"
   },
   "source": [
    "나눗셈(/)은 항상 부동 소수점을 반환합니다. [바닥 나누기](https://docs.python.org/3.5/glossary.html#term-floor-division)를 수행하고 정수 결과를 얻으려면(소수 결과는 버리고) `//` 연산자를 사용할 수 있습니다. 나머지를 계산하려면 `%` 연산자를 사용할 수 있습니다:"
   ]
  },
  {
   "cell_type": "code",
   "execution_count": null,
   "metadata": {
    "colab": {},
    "colab_type": "code",
    "id": "VlqlUoPLQmbC"
   },
   "outputs": [],
   "source": [
    "13 / 5  # '/' 연산자를 사용하는 나누기는 부동 소수점을 반환합니다."
   ]
  },
  {
   "cell_type": "code",
   "execution_count": null,
   "metadata": {
    "colab": {},
    "colab_type": "code",
    "id": "u1I05HgTQmbV"
   },
   "outputs": [],
   "source": [
    "13 // 5  # 바닥 나누기('//' 연산자를 사용하는 나누기)는 소수 부분을 버립니다."
   ]
  },
  {
   "cell_type": "code",
   "execution_count": null,
   "metadata": {
    "colab": {},
    "colab_type": "code",
    "id": "pqUPZcDjQmbe"
   },
   "outputs": [],
   "source": [
    "13 % 5  # '%' 연산자는 나눗셈의 나머지를 반환합니다."
   ]
  },
  {
   "cell_type": "markdown",
   "metadata": {
    "colab_type": "text",
    "id": "KL7_nuNGQmbl"
   },
   "source": [
    "`**` 연산자를 사용하여 거듭제곱을 계산할 수 있습니다:"
   ]
  },
  {
   "cell_type": "code",
   "execution_count": 5,
   "metadata": {
    "colab": {},
    "colab_type": "code",
    "id": "FeO9nbRVQmbm"
   },
   "outputs": [
    {
     "data": {
      "text/plain": [
       "144"
      ]
     },
     "execution_count": 5,
     "metadata": {},
     "output_type": "execute_result"
    }
   ],
   "source": [
    "12**2 # 이것은 '12'의 제곱을 print할 것입니다."
   ]
  },
  {
   "cell_type": "code",
   "execution_count": 6,
   "metadata": {
    "colab": {},
    "colab_type": "code",
    "id": "ox8YE63kQmbs"
   },
   "outputs": [
    {
     "data": {
      "text/plain": [
       "64"
      ]
     },
     "execution_count": 6,
     "metadata": {},
     "output_type": "execute_result"
    }
   ],
   "source": [
    "2**6 # 이것은 2의 6승을 print 할 것입니다."
   ]
  },
  {
   "cell_type": "markdown",
   "metadata": {
    "colab_type": "text",
    "id": "78zPTit4QmcD"
   },
   "source": [
    "`**`는 `-`보다 우선순위가 높습니다; 음수를 원하면 괄호를 사용하십시오:"
   ]
  },
  {
   "cell_type": "code",
   "execution_count": 7,
   "metadata": {
    "colab": {},
    "colab_type": "code",
    "id": "JmtzPfPmQmcE"
   },
   "outputs": [
    {
     "data": {
      "text/plain": [
       "-16"
      ]
     },
     "execution_count": 7,
     "metadata": {},
     "output_type": "execute_result"
    }
   ],
   "source": [
    "-4**2 #결과는 -(4**2)와 동일합니다."
   ]
  },
  {
   "cell_type": "code",
   "execution_count": 8,
   "metadata": {
    "colab": {},
    "colab_type": "code",
    "id": "iJdjBRebQmcd"
   },
   "outputs": [
    {
     "data": {
      "text/plain": [
       "16"
      ]
     },
     "execution_count": 8,
     "metadata": {},
     "output_type": "execute_result"
    }
   ],
   "source": [
    "(-4)**2 "
   ]
  },
  {
   "cell_type": "markdown",
   "metadata": {
    "colab_type": "text",
    "id": "mjp5w2QuQmcn"
   },
   "source": [
    "등호(`=`)는 변수에 값을 할당하는 데 사용됩니다."
   ]
  },
  {
   "cell_type": "code",
   "execution_count": 9,
   "metadata": {
    "colab": {},
    "colab_type": "code",
    "id": "pzW6Z9NqQmco"
   },
   "outputs": [
    {
     "data": {
      "text/plain": [
       "600"
      ]
     },
     "execution_count": 9,
     "metadata": {},
     "output_type": "execute_result"
    }
   ],
   "source": [
    "weight = 50\n",
    "total_people = 12\n",
    "weight * total_people"
   ]
  },
  {
   "cell_type": "markdown",
   "metadata": {
    "colab_type": "text",
    "id": "gFRTTYQRQmct"
   },
   "source": [
    "변수가 정의되지 않은 경우(즉, 값이 할당된 경우) 이를 사용하면 오류가 발생합니다."
   ]
  },
  {
   "cell_type": "code",
   "execution_count": 11,
   "metadata": {
    "colab": {},
    "colab_type": "code",
    "id": "de3Wfw54Qmcu"
   },
   "outputs": [
    {
     "ename": "NameError",
     "evalue": "name 'n' is not defined",
     "output_type": "error",
     "traceback": [
      "\u001b[1;31m---------------------------------------------------------------------------\u001b[0m",
      "\u001b[1;31mNameError\u001b[0m                                 Traceback (most recent call last)",
      "Cell \u001b[1;32mIn[11], line 1\u001b[0m\n\u001b[1;32m----> 1\u001b[0m n\n",
      "\u001b[1;31mNameError\u001b[0m: name 'n' is not defined"
     ]
    }
   ],
   "source": [
    "n # 정의되지 않은 변수에 접근합니다."
   ]
  },
  {
   "cell_type": "markdown",
   "metadata": {
    "colab_type": "text",
    "id": "RHvbvqqYQmc3"
   },
   "source": [
    "Python은 `int` 와 `float` 외에도 [`Decimal`](https://docs.python.org/3.5/library/decimal.html#decimal.Decimal), [`Fraction`](https://docs.python.org/3.5/library/fractions.html#fractions.Fraction)과 같은 숫자 타입을 지원합니다. Python은 또한 [complex numbers(복소수)](https://docs.python.org/3.5/library/stdtypes.html#typesnumeric)를 지원하며, `j` 또는 `J` 접미사를 사용하여 허수부를 표현합니다.(예. `3+5j`)."
   ]
  },
  {
   "cell_type": "markdown",
   "metadata": {
    "colab_type": "text",
    "id": "K46jXA1pQmc5"
   },
   "source": [
    "## Strings"
   ]
  },
  {
   "cell_type": "markdown",
   "metadata": {
    "colab_type": "text",
    "id": "VH8yiVFWQmc6"
   },
   "source": [
    "String은 일련의 문자입니다. 숫자 외에도 Python은 문자열을 조작할 수도 있습니다. 문자열은 작은따옴표 `'...'` 또는 큰따옴표 `\"...\"`로 묶을 수 있으며 동일한 결과를 얻을 수 있습니다. \\를 사용하여 따옴표를 예외 처리할 수 있습니다. 즉, 문자열 내에서 `'`를 사용할 수 있습니다."
   ]
  },
  {
   "cell_type": "code",
   "execution_count": 12,
   "metadata": {
    "colab": {},
    "colab_type": "code",
    "id": "p21soIQ6Qmc7"
   },
   "outputs": [
    {
     "data": {
      "text/plain": [
       "str"
      ]
     },
     "execution_count": 12,
     "metadata": {},
     "output_type": "execute_result"
    }
   ],
   "source": [
    "string=\"What skills have you learnt today ?\"\n",
    "type(string)"
   ]
  },
  {
   "cell_type": "code",
   "execution_count": 13,
   "metadata": {
    "colab": {},
    "colab_type": "code",
    "id": "wIFSo6hrQmdF"
   },
   "outputs": [
    {
     "data": {
      "text/plain": [
       "'Learn Python for AI'"
      ]
     },
     "execution_count": 13,
     "metadata": {},
     "output_type": "execute_result"
    }
   ],
   "source": [
    "'Learn Python for AI' # 작은 따옴표 사용"
   ]
  },
  {
   "cell_type": "code",
   "execution_count": 14,
   "metadata": {
    "colab": {},
    "colab_type": "code",
    "id": "-DhlIYYiQmdT"
   },
   "outputs": [
    {
     "data": {
      "text/plain": [
       "\"Isn't this fun?\""
      ]
     },
     "execution_count": 14,
     "metadata": {},
     "output_type": "execute_result"
    }
   ],
   "source": [
    "'Isn\\'t this fun?' # 여기서 백슬래시 \\는 문자열을 끝내지 않고 ' 기호를 사용하고 싶다는 것을 나타냅니다."
   ]
  },
  {
   "cell_type": "code",
   "execution_count": 15,
   "metadata": {},
   "outputs": [
    {
     "ename": "SyntaxError",
     "evalue": "unterminated string literal (detected at line 2) (1482870370.py, line 2)",
     "output_type": "error",
     "traceback": [
      "\u001b[1;36m  Cell \u001b[1;32mIn[15], line 2\u001b[1;36m\u001b[0m\n\u001b[1;33m    'Isn't this fun?'\u001b[0m\n\u001b[1;37m                    ^\u001b[0m\n\u001b[1;31mSyntaxError\u001b[0m\u001b[1;31m:\u001b[0m unterminated string literal (detected at line 2)\n"
     ]
    }
   ],
   "source": [
    "# 그렇지 않으면 다음과 같은 일이 발생합니다. 따옴표 뒤에 오는 문자는 Python에서 코드로 인식되므로 오류가 발생합니다.\n",
    "'Isn't this fun?' "
   ]
  },
  {
   "cell_type": "code",
   "execution_count": 16,
   "metadata": {
    "colab": {},
    "colab_type": "code",
    "id": "gTwWHZl5Qmda"
   },
   "outputs": [
    {
     "data": {
      "text/plain": [
       "\"Isn't this fun? \""
      ]
     },
     "execution_count": 16,
     "metadata": {},
     "output_type": "execute_result"
    }
   ],
   "source": [
    "\"Isn't this fun? \"# ...또는 큰따옴표를 대신 사용하십시오."
   ]
  },
  {
   "cell_type": "markdown",
   "metadata": {
    "colab_type": "text",
    "id": "c9ryQH7pQmdh"
   },
   "source": [
    "대화형 인터프리터 및 쥬피터 노트북에서 출력 문자열은 따옴표로 묶이고 특수 문자는 백슬래시로 예외처리됩니다. 이 출력은 때때로 입력과 다르게 보이지만(둘러싸는 따옴표가 변경될 수 있음) 두 문자열은 동일합니다. 문자열에 작은따옴표가 있고 큰따옴표가 없는 경우 문자열은 큰따옴표로 묶이고, 그렇지 않으면 작은따옴표로 묶입니다.[`print()`](https://docs.python.org/3.6/library/functions.html#print) 함수는 둘러싸는 따옴표를 생략하고 이스케이프 및 특수 문자를 인쇄하여 더 읽기 쉬운 출력을 생성합니다."
   ]
  },
  {
   "cell_type": "code",
   "execution_count": 17,
   "metadata": {
    "colab": {},
    "colab_type": "code",
    "id": "Z-V4ZOJdQmdl"
   },
   "outputs": [
    {
     "data": {
      "text/plain": [
       "'\"Isn\\'t this fun?,\" she said.'"
      ]
     },
     "execution_count": 17,
     "metadata": {},
     "output_type": "execute_result"
    }
   ],
   "source": [
    "'\"Isn\\'t this fun?,\" she said.'"
   ]
  },
  {
   "cell_type": "code",
   "execution_count": 18,
   "metadata": {
    "colab": {},
    "colab_type": "code",
    "id": "YNduUyGyQmdr"
   },
   "outputs": [
    {
     "name": "stdout",
     "output_type": "stream",
     "text": [
      "\"Isn't this fun?,\" she said.\n"
     ]
    }
   ],
   "source": [
    "print('\"Isn\\'t this fun?,\" she said.')"
   ]
  },
  {
   "cell_type": "code",
   "execution_count": 19,
   "metadata": {
    "colab": {},
    "colab_type": "code",
    "id": "nQgT5TC8Qmdy"
   },
   "outputs": [
    {
     "data": {
      "text/plain": [
       "'First line.\\nSecond line.'"
      ]
     },
     "execution_count": 19,
     "metadata": {},
     "output_type": "execute_result"
    }
   ],
   "source": [
    "# String을 저장할 변수 s를 만들어 봅시다.\n",
    "\n",
    "s = 'First line.\\nSecond line.'  #\\n은 새로운 줄을 의미합니다.\n",
    "s  # print()가 없으면, \\n이 출력에 포함됩니다."
   ]
  },
  {
   "cell_type": "code",
   "execution_count": 20,
   "metadata": {
    "colab": {},
    "colab_type": "code",
    "id": "zrNLwj5jQmeR"
   },
   "outputs": [
    {
     "name": "stdout",
     "output_type": "stream",
     "text": [
      "First line.\n",
      "Second line.\n"
     ]
    }
   ],
   "source": [
    "# 변수 s의 값을 출력하기 위한 print()함수를 호출합니다.\n",
    "print(s)  # print()를 사용하면, \\n 이 새로운 줄을 생성합니다."
   ]
  },
  {
   "cell_type": "markdown",
   "metadata": {
    "colab_type": "text",
    "id": "6G6SLgLxQmeb"
   },
   "source": [
    "만약 예외 문자(\\로 시작되는)를 특수 문자로 해석하지 않으려면, 첫 번째 따옴표 앞에 r을 추가하여 원본 문자열을 그대로 사용할 수 있습니다:"
   ]
  },
  {
   "cell_type": "code",
   "execution_count": 21,
   "metadata": {
    "colab": {},
    "colab_type": "code",
    "id": "qBzfcKtyQmed"
   },
   "outputs": [
    {
     "name": "stdout",
     "output_type": "stream",
     "text": [
      "C:\\some\n",
      "ame\n"
     ]
    }
   ],
   "source": [
    "print('C:\\some\\name')  # 위의 예와 마찬가지로 인쇄 함수는 \\n을 새 줄로 해석합니다."
   ]
  },
  {
   "cell_type": "code",
   "execution_count": null,
   "metadata": {
    "colab": {},
    "colab_type": "code",
    "id": "SGj790mnQmej"
   },
   "outputs": [],
   "source": [
    "print(r'C:\\some\\name')  # 여기서는 r을 사용하여 원하는 출력을 제공합니다."
   ]
  },
  {
   "cell_type": "markdown",
   "metadata": {
    "colab_type": "text",
    "id": "p5Z8QaTgQmes"
   },
   "source": [
    "Python은 여러 줄을 한번에 주석 처리하는 기능을 제공하지 않기 때문에 개발자는 종종 삼중 따옴표를 사용하여 이 기능을 사용합니다. 그러나 주피터 노트북은 삼중 따옴표를 익명 문자열(`\"\"`로 둘러싸인 모든 것)로 정의하여 코드 셀의 출력으로 나타납니다:"
   ]
  },
  {
   "cell_type": "code",
   "execution_count": null,
   "metadata": {},
   "outputs": [],
   "source": [
    "#아래는 코멘트로 많이 사용되는 형식입니다."
   ]
  },
  {
   "cell_type": "code",
   "execution_count": 23,
   "metadata": {
    "colab": {},
    "colab_type": "code",
    "id": "sqe5LryBQmet"
   },
   "outputs": [
    {
     "data": {
      "text/plain": [
       "\"\\nEverything between the first three quotes, including new lines,\\nis part of the multi-line comment. Technically, the Python interpreter\\nsimply sees the comment as a string, and because it's not otherwise\\nused in code, the string is ignored. Convenient, eh?\\n\""
      ]
     },
     "execution_count": 23,
     "metadata": {},
     "output_type": "execute_result"
    }
   ],
   "source": [
    "\"\"\"\n",
    "Everything between the first three quotes, including new lines,\n",
    "is part of the multi-line comment. Technically, the Python interpreter\n",
    "simply sees the comment as a string, and because it's not otherwise\n",
    "used in code, the string is ignored. Convenient, eh?\n",
    "\"\"\""
   ]
  },
  {
   "cell_type": "markdown",
   "metadata": {
    "colab_type": "text",
    "id": "HXALjwFTQmez"
   },
   "source": [
    "이러한 이유로 노트북에서는 각 줄의 시작 부분에 # 주석 문자를 사용하는 것이 가장 좋으며, 더 좋은 방법은 Markdown 셀을 사용하는 것입니다!"
   ]
  },
  {
   "cell_type": "markdown",
   "metadata": {},
   "source": [
    "## Data manipulation"
   ]
  },
  {
   "cell_type": "markdown",
   "metadata": {},
   "source": [
    "데이터 조작은 원본에서 데이터를 변경하는 것입니다. 이것은 알파벳순으로 문장이나 단어를 정렬하는 것처럼 사소한 것일 수도 있고 이후 세션에서 살펴볼 NumPy와 같은 라이브러리를 사용하여 더 진보화될 수도 있습니다.\n",
    "이를 위해 문자열에서 수행되는 데이터 조작의 몇 가지 기술과 방법을 살펴봅니다.\n"
   ]
  },
  {
   "cell_type": "markdown",
   "metadata": {
    "colab_type": "text",
    "id": "eup4gJ1jQme0"
   },
   "source": [
    "String은 + 연산자로 연결(함께 결합)되고 *로 반복될 수 있습니다.:"
   ]
  },
  {
   "cell_type": "code",
   "execution_count": 22,
   "metadata": {
    "colab": {},
    "colab_type": "code",
    "id": "sUTuSJzCQme5"
   },
   "outputs": [
    {
     "data": {
      "text/plain": [
       "'jojorabbit'"
      ]
     },
     "execution_count": 22,
     "metadata": {},
     "output_type": "execute_result"
    }
   ],
   "source": [
    "# 'jo' 2번 반복하고 'rabbit' 뒤에 연결하기\n",
    "2 * 'jo' + 'rabbit'"
   ]
  },
  {
   "cell_type": "markdown",
   "metadata": {
    "colab_type": "text",
    "id": "LbZ5XN4eQmfD"
   },
   "source": [
    "둘 또는 그 이상의 *익명 문자열* (즉, 따옴표 `\"\"` 또는 `''`로 묶인 값)을 서로 옆에 배치하면 자동으로 연결됩니다(함께 결합됨):"
   ]
  },
  {
   "cell_type": "code",
   "execution_count": 24,
   "metadata": {
    "colab": {},
    "colab_type": "code",
    "id": "8EJSUOYZQmfF"
   },
   "outputs": [
    {
     "data": {
      "text/plain": [
       "'DataScience'"
      ]
     },
     "execution_count": 24,
     "metadata": {},
     "output_type": "execute_result"
    }
   ],
   "source": [
    "'Data' 'Science'"
   ]
  },
  {
   "cell_type": "markdown",
   "metadata": {
    "colab_type": "text",
    "id": "GqU_BqTqQmfO"
   },
   "source": [
    "자동 연결은 두 개의 문자열에서만 작동합니다. 변수나 표현식에서는 작동하지 않으므로 다음 셀에서 오류가 발생합니다:"
   ]
  },
  {
   "cell_type": "code",
   "execution_count": 25,
   "metadata": {
    "colab": {},
    "colab_type": "code",
    "id": "aa1PwEOEQmfR"
   },
   "outputs": [
    {
     "ename": "SyntaxError",
     "evalue": "invalid syntax (3673752744.py, line 2)",
     "output_type": "error",
     "traceback": [
      "\u001b[1;36m  Cell \u001b[1;32mIn[25], line 2\u001b[1;36m\u001b[0m\n\u001b[1;33m    prefix 'Science'  # 변수와 문자열을 연결할 수 없습니다.\u001b[0m\n\u001b[1;37m           ^\u001b[0m\n\u001b[1;31mSyntaxError\u001b[0m\u001b[1;31m:\u001b[0m invalid syntax\n"
     ]
    }
   ],
   "source": [
    "prefix = 'Data'\n",
    "prefix 'Science'  # 변수와 문자열을 연결할 수 없습니다."
   ]
  },
  {
   "cell_type": "markdown",
   "metadata": {
    "colab_type": "text",
    "id": "v3LzmfQKQmfg"
   },
   "source": [
    "변수 또는 변수와 문자열을 연결하려면 `+`를 사용하세요:"
   ]
  },
  {
   "cell_type": "code",
   "execution_count": 26,
   "metadata": {
    "colab": {},
    "colab_type": "code",
    "id": "_uTJcvaoQmfh"
   },
   "outputs": [
    {
     "data": {
      "text/plain": [
       "'DataScience'"
      ]
     },
     "execution_count": 26,
     "metadata": {},
     "output_type": "execute_result"
    }
   ],
   "source": [
    "prefix = 'Data'\n",
    "prefix + 'Science'"
   ]
  },
  {
   "cell_type": "markdown",
   "metadata": {
    "colab_type": "text",
    "id": "XfOmYJJzQmfp"
   },
   "source": [
    "자동 연결은 긴 문자열을 분리하려는 경우에 특히 유용합니다:"
   ]
  },
  {
   "cell_type": "code",
   "execution_count": 27,
   "metadata": {
    "colab": {},
    "colab_type": "code",
    "id": "p3vWqWmMQmfq"
   },
   "outputs": [
    {
     "data": {
      "text/plain": [
       "'Put several strings within parentheses to have them joined together.'"
      ]
     },
     "execution_count": 27,
     "metadata": {},
     "output_type": "execute_result"
    }
   ],
   "source": [
    "word = ('Put several strings within parentheses '\n",
    "            'to have them joined together.')\n",
    "word"
   ]
  },
  {
   "cell_type": "markdown",
   "metadata": {
    "colab_type": "text",
    "id": "0dyGmFHsQmf7"
   },
   "source": [
    "**참고: 프로그래밍에서 첫 번째 숫자는 실제로 0입니다! 자세한 내용은 `Zero-based numbering` 를 참조하세요.**\n",
    "\n",
    "문자열은 *인덱싱*(첨자)될 수 있으며, 첫 번째 문자의 인덱스는 0입니다. 별도의 `character` 데이터 타입은 없습니다; 문자는 단순히 요소가 1개인 `string`입니다."
   ]
  },
  {
   "cell_type": "code",
   "execution_count": 29,
   "metadata": {
    "colab": {},
    "colab_type": "code",
    "id": "R5pRQeAxQmf8"
   },
   "outputs": [
    {
     "name": "stdout",
     "output_type": "stream",
     "text": [
      "Length of the word Python is: 6\n"
     ]
    },
    {
     "data": {
      "text/plain": [
       "'P'"
      ]
     },
     "execution_count": 29,
     "metadata": {},
     "output_type": "execute_result"
    }
   ],
   "source": [
    "word = 'Python'\n",
    "print (\"Length of the word Python is:\",len(word))# 이것은 6을 출력합니다.\n",
    "\n",
    "word[0]  # 'Python' 문자열의 첫 번째 문자 'P'를 출력합니다."
   ]
  },
  {
   "cell_type": "code",
   "execution_count": 30,
   "metadata": {
    "colab": {},
    "colab_type": "code",
    "id": "oBY5JpVZQmgB"
   },
   "outputs": [
    {
     "data": {
      "text/plain": [
       "'n'"
      ]
     },
     "execution_count": 30,
     "metadata": {},
     "output_type": "execute_result"
    }
   ],
   "source": [
    "word[5]  # 'Python' 문자열의 마지막 문자 'n'을 출력합니다."
   ]
  },
  {
   "cell_type": "markdown",
   "metadata": {
    "colab_type": "text",
    "id": "u0iG8Mv1QmgO"
   },
   "source": [
    "인덱스는 음수일 수도 있습니다. 즉, 문자열의 마지막에서 카운트를 시작한다는 뜻입니다. -0은 0과 같기 때문에 음수 인덱스는 -1부터 시작합니다:"
   ]
  },
  {
   "cell_type": "code",
   "execution_count": 31,
   "metadata": {
    "colab": {},
    "colab_type": "code",
    "id": "aEvFYp9CQmgR"
   },
   "outputs": [
    {
     "data": {
      "text/plain": [
       "'n'"
      ]
     },
     "execution_count": 31,
     "metadata": {},
     "output_type": "execute_result"
    }
   ],
   "source": [
    "word[-1]  # 마지막 문자."
   ]
  },
  {
   "cell_type": "code",
   "execution_count": 32,
   "metadata": {
    "colab": {},
    "colab_type": "code",
    "id": "OiWEhZF2Qmgh"
   },
   "outputs": [
    {
     "data": {
      "text/plain": [
       "'o'"
      ]
     },
     "execution_count": 32,
     "metadata": {},
     "output_type": "execute_result"
    }
   ],
   "source": [
    "word[-2]  # 마지막에서 두번째 문자."
   ]
  },
  {
   "cell_type": "markdown",
   "metadata": {
    "colab_type": "text",
    "id": "lj2Ie4OeQmg1"
   },
   "source": [
    "개별 문자를 추출하는 인덱싱 외에도 Python은 부분 문자열을 추출하는 슬라이싱도 지원합니다. 슬라이스하려면 start:end 형식으로 *범위*(수학에서 범위는 가장 높은 값과 가장 낮은 값의 차이로 정의됩니다. 예를 들어 3:9의 범위는 9 - 3 = 6임)를 지정합니다. 여기서 start 위치는 범위에 포함되지만 end 위치는 제외됩니다.:"
   ]
  },
  {
   "cell_type": "code",
   "execution_count": 33,
   "metadata": {
    "colab": {},
    "colab_type": "code",
    "id": "pPHrYlSjQmg2"
   },
   "outputs": [
    {
     "data": {
      "text/plain": [
       "'Py'"
      ]
     },
     "execution_count": 33,
     "metadata": {},
     "output_type": "execute_result"
    }
   ],
   "source": [
    "word[0:2]  # 위치 0에서 2 사이의 문자."
   ]
  },
  {
   "cell_type": "code",
   "execution_count": 34,
   "metadata": {
    "colab": {},
    "colab_type": "code",
    "id": "Mqr4JdOhQmhI"
   },
   "outputs": [
    {
     "data": {
      "text/plain": [
       "'tho'"
      ]
     },
     "execution_count": 34,
     "metadata": {},
     "output_type": "execute_result"
    }
   ],
   "source": [
    "word[2:5]  # 위치 2에서 5 사이의 문자."
   ]
  },
  {
   "cell_type": "markdown",
   "metadata": {
    "colab_type": "text",
    "id": "j-Btdoi0QmhO"
   },
   "source": [
    "두 위치 중 하나를 생략하면 기본 start 위치는 0이고, 기본 end 위치는 문자열의 길이입니다."
   ]
  },
  {
   "cell_type": "code",
   "execution_count": null,
   "metadata": {
    "colab": {},
    "colab_type": "code",
    "id": "zDAh6H1vQmhQ"
   },
   "outputs": [],
   "source": [
    "word[:2]   # :2 은 0:2"
   ]
  },
  {
   "cell_type": "code",
   "execution_count": null,
   "metadata": {
    "colab": {},
    "colab_type": "code",
    "id": "t6hWlz4fQmhg"
   },
   "outputs": [],
   "source": [
    "word[4:]  # 4: 은 4:6"
   ]
  },
  {
   "cell_type": "code",
   "execution_count": null,
   "metadata": {
    "colab": {},
    "colab_type": "code",
    "id": "5sdb_spFQmhm"
   },
   "outputs": [],
   "source": [
    "# 이것은 까다롭습니다! -2는 두 번째 마지막 문자이므로 위와 결과가 동일합니다.\n",
    "word[-2:] "
   ]
  },
  {
   "cell_type": "markdown",
   "metadata": {
    "colab_type": "text",
    "id": "48MTfYuVQmh1"
   },
   "source": [
    "슬라이스가 작동하는 방식을 기억하는 한 가지 방법은 인덱스를 문자 사이를 가리키는 것으로 생각하는 것입니다. 첫 번째 문자의 왼쪽 가장자리는 0으로 번호가 매겨집니다. 그런 다음 *n* 문자열의 마지막 문자의 오른쪽 가장자리에는 인덱스 *n*이 있습니다.  예를 들어::"
   ]
  },
  {
   "cell_type": "markdown",
   "metadata": {
    "colab_type": "raw",
    "id": "--UwXTMOQmh2"
   },
   "source": [
    "```\n",
    "+---+---+---+---+---+---+\n",
    "| P | y | t | h | o | n |\n",
    "+---+---+---+---+---+---+\n",
    "0   1   2   3   4   5   6\n",
    "-6  -5  -4  -3  -2  -1\n",
    "```"
   ]
  },
  {
   "cell_type": "markdown",
   "metadata": {
    "colab_type": "text",
    "id": "D-wwcTQnQmh7"
   },
   "source": [
    "숫자의 첫 번째 행은 문자열에서 인덱스 0...6의 위치입니다. 두 번째 행은 해당 음수 인덱스입니다. *i*에서 *j*까지의 슬라이스는 각각 *i* 와 *j* 인텍스 사이의 모든 문자로 구성됩니다.\n",
    "\n",
    "음수가 아닌 인덱스의 경우 슬라이스의 길이는 두 인덱스의 차이입니다. 예를 들어 `word[1:3]`의 길이는 2입니다.\n",
    "너무 큰 인덱스를 사용하려고 하면 오류가 발생합니다."
   ]
  },
  {
   "cell_type": "code",
   "execution_count": 35,
   "metadata": {
    "colab": {},
    "colab_type": "code",
    "id": "8j-XdV25Qmh-"
   },
   "outputs": [
    {
     "ename": "IndexError",
     "evalue": "string index out of range",
     "output_type": "error",
     "traceback": [
      "\u001b[1;31m---------------------------------------------------------------------------\u001b[0m",
      "\u001b[1;31mIndexError\u001b[0m                                Traceback (most recent call last)",
      "Cell \u001b[1;32mIn[35], line 1\u001b[0m\n\u001b[1;32m----> 1\u001b[0m word[\u001b[38;5;241m36\u001b[39m]\n",
      "\u001b[1;31mIndexError\u001b[0m: string index out of range"
     ]
    }
   ],
   "source": [
    "word[36]  # 단어는 6 글자 뿐입니다."
   ]
  },
  {
   "cell_type": "markdown",
   "metadata": {
    "colab_type": "text",
    "id": "yOVskCFIQmiS"
   },
   "source": [
    "그러나 범위로 사용할 경우 너무 큰 인덱스는 기본적으로 문자열의 크기로 지정되어 오류가 발생하지 않습니다. 이 특성은 문자열 길이에 관계없이 항상 특정 인덱스에서 슬라이스하려는 경우에 유용합니다."
   ]
  },
  {
   "cell_type": "code",
   "execution_count": 36,
   "metadata": {
    "colab": {},
    "colab_type": "code",
    "id": "c6d0XUWoQmiV"
   },
   "outputs": [
    {
     "data": {
      "text/plain": [
       "'on'"
      ]
     },
     "execution_count": 36,
     "metadata": {},
     "output_type": "execute_result"
    }
   ],
   "source": [
    "word[4:36]"
   ]
  },
  {
   "cell_type": "markdown",
   "metadata": {
    "colab_type": "text",
    "id": "8MjXu2B4Qmid"
   },
   "source": [
    "문자열은 변경할 수 없습니다. 즉, 인덱스 위치에 새 값 할당을 지원하지 않습니다. 불변의 의미에 대해 자세히 알아보려면 이 [링크](https://docs.python.org/3.5/glossary.html#term-immutable)를 확인하세요. 실제로 이해하기 위해 아래의 예를 확인해봅시다."
   ]
  },
  {
   "cell_type": "code",
   "execution_count": 37,
   "metadata": {
    "colab": {},
    "colab_type": "code",
    "id": "iOE9BhZkQmie"
   },
   "outputs": [
    {
     "ename": "TypeError",
     "evalue": "'str' object does not support item assignment",
     "output_type": "error",
     "traceback": [
      "\u001b[1;31m---------------------------------------------------------------------------\u001b[0m",
      "\u001b[1;31mTypeError\u001b[0m                                 Traceback (most recent call last)",
      "Cell \u001b[1;32mIn[37], line 1\u001b[0m\n\u001b[1;32m----> 1\u001b[0m word[\u001b[38;5;241m2\u001b[39m]\u001b[38;5;241m=\u001b[39m\u001b[38;5;124m'\u001b[39m\u001b[38;5;124ma\u001b[39m\u001b[38;5;124m'\u001b[39m\n",
      "\u001b[1;31mTypeError\u001b[0m: 'str' object does not support item assignment"
     ]
    }
   ],
   "source": [
    "word[2]='a'"
   ]
  },
  {
   "cell_type": "markdown",
   "metadata": {
    "colab_type": "text",
    "id": "u2Q6nhiQQmik"
   },
   "source": [
    "다음 셀에서도 오류가 발생합니다.:"
   ]
  },
  {
   "cell_type": "code",
   "execution_count": null,
   "metadata": {
    "colab": {},
    "colab_type": "code",
    "id": "7sbRpYz0Qmim"
   },
   "outputs": [],
   "source": [
    "word[2:] = 'py'"
   ]
  },
  {
   "cell_type": "markdown",
   "metadata": {
    "colab_type": "text",
    "id": "VXMu0dVlQmio"
   },
   "source": [
    "`+`를 사용하여 다른 값과 연결할 수 있는 값을 슬라이스합니다:"
   ]
  },
  {
   "cell_type": "code",
   "execution_count": 38,
   "metadata": {
    "colab": {},
    "colab_type": "code",
    "id": "4YWQR403Qmip"
   },
   "outputs": [
    {
     "data": {
      "text/plain": [
       "'Jython'"
      ]
     },
     "execution_count": 38,
     "metadata": {},
     "output_type": "execute_result"
    }
   ],
   "source": [
    "'J' + word[1:]"
   ]
  },
  {
   "cell_type": "code",
   "execution_count": 39,
   "metadata": {
    "colab": {},
    "colab_type": "code",
    "id": "sEtHIAqMQmiw"
   },
   "outputs": [
    {
     "data": {
      "text/plain": [
       "'PyPy'"
      ]
     },
     "execution_count": 39,
     "metadata": {},
     "output_type": "execute_result"
    }
   ],
   "source": [
    "word[:2] + 'Py'"
   ]
  },
  {
   "cell_type": "markdown",
   "metadata": {
    "colab_type": "text",
    "id": "9XmlQMh1Qmiz"
   },
   "source": [
    "그러나 슬라이스는 문자열 리터럴이 아니며 자동 연결과 함께 사용할 수 없습니다. 다음 코드는 오류를 생성합니다:"
   ]
  },
  {
   "cell_type": "code",
   "execution_count": null,
   "metadata": {
    "colab": {},
    "colab_type": "code",
    "id": "rfHvpWLzQmi0"
   },
   "outputs": [],
   "source": [
    "word[:2] 'Py'    # 슬라이스는 리터럴이 아닙니다; 에러 생성"
   ]
  },
  {
   "cell_type": "markdown",
   "metadata": {
    "colab_type": "text",
    "id": "7Vrgw036QmjC"
   },
   "source": [
    "내장함수 [`len()`](https://docs.python.org/3.5/library/functions.html#len)는 문자열의 길이를 반환합니다:"
   ]
  },
  {
   "cell_type": "code",
   "execution_count": 55,
   "metadata": {
    "colab": {},
    "colab_type": "code",
    "id": "9ggcwHTEQmjD"
   },
   "outputs": [
    {
     "data": {
      "text/plain": [
       "36"
      ]
     },
     "execution_count": 55,
     "metadata": {},
     "output_type": "execute_result"
    }
   ],
   "source": [
    "text = 'Using Python for data science is fun'\n",
    "len(text) #공백도 길이로 계산됩니다."
   ]
  },
  {
   "cell_type": "markdown",
   "metadata": {
    "colab_type": "text",
    "id": "bzBdwrZEQmjK"
   },
   "source": [
    "# Lists"
   ]
  },
  {
   "cell_type": "markdown",
   "metadata": {
    "colab_type": "text",
    "id": "yT6OJlclQmjL"
   },
   "source": [
    "List는 **순서화된** 항목의 순서입니다. 즉, List의 항목은 입력된 '순서'에 따라 저장됩니다.\n",
    "List에는 다양한 유형의 항목이 포함될 수 있습니다.\n",
    "List를 정의하려면 대괄호 안에 쉼표로 구분된 값을 넣어야 합니다."
   ]
  },
  {
   "cell_type": "code",
   "execution_count": 104,
   "metadata": {
    "colab": {},
    "colab_type": "code",
    "id": "8SBi7hzbQmjM"
   },
   "outputs": [
    {
     "data": {
      "text/plain": [
       "list"
      ]
     },
     "execution_count": 104,
     "metadata": {},
     "output_type": "execute_result"
    }
   ],
   "source": [
    "Students=['Vicky',25,'Jun Kai',12] # 학생의 이름과 번호를 저장한 List \n",
    "type(Students)"
   ]
  },
  {
   "cell_type": "markdown",
   "metadata": {
    "colab_type": "text",
    "id": "1AbKito1QmjT"
   },
   "source": [
    "List는 String과 다르게 변경 가능(변경 또는 업데이트 가능)합니다. String(그리고 기타 모든 기본 제공 [sequence](https://docs.python.org/3.5/glossary.html#term-sequence) 타입)과 마찬가지로, List를 인텍싱하고 슬라이싱할 수 있습니다."
   ]
  },
  {
   "cell_type": "code",
   "execution_count": 105,
   "metadata": {
    "colab": {},
    "colab_type": "code",
    "id": "rsaF8QBZQmjU"
   },
   "outputs": [
    {
     "data": {
      "text/plain": [
       "'Vicky'"
      ]
     },
     "execution_count": 105,
     "metadata": {},
     "output_type": "execute_result"
    }
   ],
   "source": [
    "Students[0]  # 인덱싱은 항목을 반환합니다."
   ]
  },
  {
   "cell_type": "code",
   "execution_count": 106,
   "metadata": {
    "colab": {},
    "colab_type": "code",
    "id": "Tyus-1dWQmjc"
   },
   "outputs": [
    {
     "data": {
      "text/plain": [
       "12"
      ]
     },
     "execution_count": 106,
     "metadata": {},
     "output_type": "execute_result"
    }
   ],
   "source": [
    "Students[-1]"
   ]
  },
  {
   "cell_type": "code",
   "execution_count": 107,
   "metadata": {
    "colab": {},
    "colab_type": "code",
    "id": "nt7XfmgPQmjz"
   },
   "outputs": [
    {
     "data": {
      "text/plain": [
       "[25, 'Jun Kai', 12]"
      ]
     },
     "execution_count": 107,
     "metadata": {},
     "output_type": "execute_result"
    }
   ],
   "source": [
    "Students[-3:]  # 슬라이싱은 새 List를 반환합니다."
   ]
  },
  {
   "cell_type": "code",
   "execution_count": 108,
   "metadata": {
    "colab": {},
    "colab_type": "code",
    "id": "Vecj91UrQmkH"
   },
   "outputs": [
    {
     "data": {
      "text/plain": [
       "['Vicky', 25, 'Jun Kai', 12]"
      ]
     },
     "execution_count": 108,
     "metadata": {},
     "output_type": "execute_result"
    }
   ],
   "source": [
    "Students[:]"
   ]
  },
  {
   "cell_type": "markdown",
   "metadata": {
    "colab_type": "text",
    "id": "ljUfZHHkQmkQ"
   },
   "source": [
    "List는 '+' 연산자를 사용한 연결도 지원합니다.:"
   ]
  },
  {
   "cell_type": "code",
   "execution_count": 109,
   "metadata": {
    "colab": {},
    "colab_type": "code",
    "id": "aXKpnbZkQmkQ"
   },
   "outputs": [
    {
     "data": {
      "text/plain": [
       "['Vicky', 25, 'Jun Kai', 12, 'Gabrielle', 13, 'Cao', 47]"
      ]
     },
     "execution_count": 109,
     "metadata": {},
     "output_type": "execute_result"
    }
   ],
   "source": [
    "Students + ['Gabrielle',13, 'Cao', 47]"
   ]
  },
  {
   "cell_type": "markdown",
   "metadata": {
    "colab_type": "text",
    "id": "LINx1gxIQmkb"
   },
   "source": [
    "앞서 언급했듯이 변경 불가능한 String과 달리 List는 변경 가능한 유형입니다. 즉, 목록의 모든 값을 변경할 수 있습니다.:"
   ]
  },
  {
   "cell_type": "code",
   "execution_count": 110,
   "metadata": {
    "colab": {},
    "colab_type": "code",
    "id": "uVF_y-ZiQmki"
   },
   "outputs": [],
   "source": [
    "Students=['Vicky',25,'Jun Kai',12] # Vicky의 번호는 10번입니다."
   ]
  },
  {
   "cell_type": "code",
   "execution_count": 111,
   "metadata": {
    "colab": {},
    "colab_type": "code",
    "id": "lFCru_AMQmkm"
   },
   "outputs": [
    {
     "data": {
      "text/plain": [
       "['Vicky', 10, 'Jun Kai', 12]"
      ]
     },
     "execution_count": 111,
     "metadata": {},
     "output_type": "execute_result"
    }
   ],
   "source": [
    "Students[1]=10 # Vicky의 잘못된 번호 수정\n",
    "Students"
   ]
  },
  {
   "cell_type": "markdown",
   "metadata": {
    "colab_type": "text",
    "id": "9G9-ltu8Qmks"
   },
   "source": [
    "List에 `append()` 메서드를 사용하여 List 끝에 새 항목을 추가합니다:"
   ]
  },
  {
   "cell_type": "code",
   "execution_count": 112,
   "metadata": {
    "colab": {},
    "colab_type": "code",
    "id": "AEh8DPBWQmkt"
   },
   "outputs": [
    {
     "data": {
      "text/plain": [
       "['Vicky', 10, 'Jun Kai', 12, 'Isaac']"
      ]
     },
     "execution_count": 112,
     "metadata": {},
     "output_type": "execute_result"
    }
   ],
   "source": [
    "Students.append('Isaac') # 한 번에 하나의 인수만 추가할 수 있습니다.\n",
    "Students\n"
   ]
  },
  {
   "cell_type": "code",
   "execution_count": 113,
   "metadata": {
    "colab": {},
    "colab_type": "code",
    "id": "pk3in1B9Qmky"
   },
   "outputs": [
    {
     "data": {
      "text/plain": [
       "['Vicky', 10, 'Jun Kai', 12, 'Isaac', 15]"
      ]
     },
     "execution_count": 113,
     "metadata": {},
     "output_type": "execute_result"
    }
   ],
   "source": [
    "Students.append(15) # 두 번째 인수 추가\n",
    "Students"
   ]
  },
  {
   "cell_type": "markdown",
   "metadata": {
    "colab_type": "text",
    "id": "oqCY4CtCQmk4"
   },
   "source": [
    "List의 크기를 변경하거나 완전히 지울 수 있는 슬라이스에 새로운 값을 할당할 수도 있습니다:"
   ]
  },
  {
   "cell_type": "code",
   "execution_count": 114,
   "metadata": {
    "colab": {},
    "colab_type": "code",
    "id": "z4FEGFWyQmk6"
   },
   "outputs": [
    {
     "data": {
      "text/plain": [
       "['Vicky', 10, 'Ming Ian', 21, 15]"
      ]
     },
     "execution_count": 114,
     "metadata": {},
     "output_type": "execute_result"
    }
   ],
   "source": [
    "# 일부 값 변경\n",
    "Students[2:5]=['Ming Ian', 21]\n",
    "Students"
   ]
  },
  {
   "cell_type": "code",
   "execution_count": 115,
   "metadata": {
    "colab": {},
    "colab_type": "code",
    "id": "cLaFnrqhQmlA"
   },
   "outputs": [
    {
     "data": {
      "text/plain": [
       "['Vicky', 10]"
      ]
     },
     "execution_count": 115,
     "metadata": {},
     "output_type": "execute_result"
    }
   ],
   "source": [
    "# 변경 값 제거\n",
    "Students[2:5] = []\n",
    "Students"
   ]
  },
  {
   "cell_type": "markdown",
   "metadata": {
    "colab_type": "text",
    "id": "BBULIWX7QmlE"
   },
   "source": [
    "len() 내장 함수는 List에도 사용 가능합니다:"
   ]
  },
  {
   "cell_type": "code",
   "execution_count": 60,
   "metadata": {
    "colab": {},
    "colab_type": "code",
    "id": "IduWyDgDQmlG"
   },
   "outputs": [
    {
     "data": {
      "text/plain": [
       "2"
      ]
     },
     "execution_count": 60,
     "metadata": {},
     "output_type": "execute_result"
    }
   ],
   "source": [
    "len(Students)"
   ]
  },
  {
   "cell_type": "markdown",
   "metadata": {
    "colab_type": "text",
    "id": "RX4sCbu8QmlK"
   },
   "source": [
    "List를 중첩하여 사용할 수 있습니다. 이는 다른 List를 포함함 List를 생성하는 것을 의미합니다. 예를 들어:"
   ]
  },
  {
   "cell_type": "code",
   "execution_count": 116,
   "metadata": {
    "colab": {},
    "colab_type": "code",
    "id": "c9O1U64eQmlL"
   },
   "outputs": [
    {
     "data": {
      "text/plain": [
       "[['a', 'b', 'c'], [1, 2, 3]]"
      ]
     },
     "execution_count": 116,
     "metadata": {},
     "output_type": "execute_result"
    }
   ],
   "source": [
    "a = ['a', 'b', 'c'] # List 1\n",
    "n = [1, 2, 3]       # List 2\n",
    "x = [a, n]          # List x는 List 1과 List 2가 포함됩니다.\n",
    "x "
   ]
  },
  {
   "cell_type": "code",
   "execution_count": 50,
   "metadata": {
    "colab": {},
    "colab_type": "code",
    "id": "YmCP-8eQQmlO"
   },
   "outputs": [
    {
     "name": "stdout",
     "output_type": "stream",
     "text": [
      "List 1: ['a', 'b', 'c']\n",
      "List 2: [1, 2, 3]\n"
     ]
    }
   ],
   "source": [
    "x[0] # 중첩 List의 첫 번째 요소는 List 1입니다.\n",
    "x[1] # 중첩 List의 두 번째 요소는 List 2입니다.\n",
    "print (\"List 1:\",x[0])\n",
    "print (\"List 2:\",x[1])"
   ]
  },
  {
   "cell_type": "code",
   "execution_count": 51,
   "metadata": {
    "colab": {},
    "colab_type": "code",
    "id": "DGgaMGogQmlT"
   },
   "outputs": [
    {
     "data": {
      "text/plain": [
       "'b'"
      ]
     },
     "execution_count": 51,
     "metadata": {},
     "output_type": "execute_result"
    }
   ],
   "source": [
    "# 다음은 List 1의 2번째 요소인 'b'를 반환합니다.\n",
    "x[0][1] "
   ]
  },
  {
   "cell_type": "markdown",
   "metadata": {
    "colab_type": "text",
    "id": "yR8oZIPOQmlX"
   },
   "source": [
    "# Tuples"
   ]
  },
  {
   "cell_type": "markdown",
   "metadata": {
    "colab_type": "text",
    "id": "-4fhSP4kQmlY"
   },
   "source": [
    "Tuple은 항목의 순서가 지정된 시퀀스입니다. List와 어떻게 다른지 궁금할 것입니다.\n",
    "\n",
    "Tuple과 List의 주요 차이점은 다음과 같습니다.\n",
    "1. Tuple은 List처럼 요소별로 수정할 수 없습니다(이러한 방식으로 수정할 수 없는 개체는 **불변** 개체로 설명됩니다.)\n",
    "2. Tuple은 괄호를 사용하는 반면 List는 대괄호를 사용합니다."
   ]
  },
  {
   "cell_type": "code",
   "execution_count": 52,
   "metadata": {
    "colab": {},
    "colab_type": "code",
    "id": "-JaURertQmlY"
   },
   "outputs": [
    {
     "name": "stdout",
     "output_type": "stream",
     "text": [
      "('Susan', 25, 'John', 12)\n"
     ]
    }
   ],
   "source": [
    "Students_new = ('Susan',25,'John',12) # Tuple 지정\n",
    "print(Students_new)"
   ]
  },
  {
   "cell_type": "code",
   "execution_count": 53,
   "metadata": {
    "colab": {
     "base_uri": "https://localhost:8080/",
     "height": 183
    },
    "colab_type": "code",
    "id": "LN0-jf8vQmlh",
    "outputId": "651c5abd-b1c4-4af6-c246-e04970c89c6c"
   },
   "outputs": [
    {
     "ename": "TypeError",
     "evalue": "'tuple' object does not support item assignment",
     "output_type": "error",
     "traceback": [
      "\u001b[1;31m---------------------------------------------------------------------------\u001b[0m",
      "\u001b[1;31mTypeError\u001b[0m                                 Traceback (most recent call last)",
      "Cell \u001b[1;32mIn[53], line 1\u001b[0m\n\u001b[1;32m----> 1\u001b[0m Students_new[\u001b[38;5;241m1\u001b[39m]\u001b[38;5;241m=\u001b[39m \u001b[38;5;124m'\u001b[39m\u001b[38;5;124m26\u001b[39m\u001b[38;5;124m'\u001b[39m\n\u001b[0;32m      2\u001b[0m \u001b[38;5;28mprint\u001b[39m(Students_new)\n",
      "\u001b[1;31mTypeError\u001b[0m: 'tuple' object does not support item assignment"
     ]
    }
   ],
   "source": [
    "Students_new[1]= '26'\n",
    "print(Students_new) # 출력되는 오류를 확인하십시오."
   ]
  },
  {
   "cell_type": "markdown",
   "metadata": {
    "colab_type": "text",
    "id": "-KWdBt3hQmlx"
   },
   "source": [
    "# Dictionary"
   ]
  },
  {
   "cell_type": "markdown",
   "metadata": {
    "colab_type": "text",
    "id": "SJYdqkn6Qmlx"
   },
   "source": [
    "Dictionary는 key-value 쌍의 정렬되지 않은 모음입니다.\n",
    "\n",
    "Python에서 Dictionary는 중괄호 {} 안에 정의되며 각 항목은 **key:value** 형식의 쌍입니다. key와 value는 모든 타입이 될 수 있습니다.\n",
    "Python의 Dictionary는 실제 세계의 사전과 유사하게 작동합니다. Dictionary의 key는 고유해야 하며 String, Number 및 Tuple과 같은 불변 데이터 타입이지만 key-value은 반복될 수 있고 모든 타입이 될 수 있습니다.\n",
    "데이터 원본이 상당히 큰 경우 Tuple에서 데이터를 찾는 데 반복 작업이 필요하므로 Tuple를 통해 Dictionary를 사용하는 것이 좋습니다. 이것은 나중에 다시 살펴보도록 하겠습니다."
   ]
  },
  {
   "cell_type": "code",
   "execution_count": 117,
   "metadata": {
    "colab": {},
    "colab_type": "code",
    "id": "vU4akZPmQmly"
   },
   "outputs": [
    {
     "name": "stdout",
     "output_type": "stream",
     "text": [
      "<class 'dict'>\n"
     ]
    },
    {
     "data": {
      "text/plain": [
       "[1, 2, 3]"
      ]
     },
     "execution_count": 117,
     "metadata": {},
     "output_type": "execute_result"
    }
   ],
   "source": [
    "Time={'Day':'Monday','Date':[1,2,3]}\n",
    "print(type(Time))\n",
    "Time['Day'] #키를 사용하여 각 값 표시\n",
    "Time['Date']"
   ]
  },
  {
   "cell_type": "code",
   "execution_count": 118,
   "metadata": {
    "colab": {
     "base_uri": "https://localhost:8080/",
     "height": 166
    },
    "colab_type": "code",
    "id": "aea1nt3dQml7",
    "outputId": "fce73704-402f-4ac2-9e80-970cfb7ac7f9"
   },
   "outputs": [
    {
     "ename": "KeyError",
     "evalue": "'Monday'",
     "output_type": "error",
     "traceback": [
      "\u001b[1;31m---------------------------------------------------------------------------\u001b[0m",
      "\u001b[1;31mKeyError\u001b[0m                                  Traceback (most recent call last)",
      "Cell \u001b[1;32mIn[118], line 1\u001b[0m\n\u001b[1;32m----> 1\u001b[0m Time[\u001b[38;5;124m'\u001b[39m\u001b[38;5;124mMonday\u001b[39m\u001b[38;5;124m'\u001b[39m]\n",
      "\u001b[1;31mKeyError\u001b[0m: 'Monday'"
     ]
    }
   ],
   "source": [
    "Time['Monday'] #반대로 값을 사용하여 키를 표시할 수 없습니다."
   ]
  },
  {
   "cell_type": "markdown",
   "metadata": {
    "colab_type": "text",
    "id": "JMyL5VsTQml-"
   },
   "source": [
    "# Python의 타입 변환"
   ]
  },
  {
   "cell_type": "markdown",
   "metadata": {
    "colab_type": "text",
    "id": "YvyMdbr6Qml_"
   },
   "source": [
    "이름에서 알 수 있듯이 Python의 타입 변환은 한 데이터 타입을 다른 데이터 타입으로 변환하는 프로세스입니다. 이것은 두 가지 방법으로 수행할 수 있습니다.\n",
    "\n",
    "**1. 암시적 타입 변환** - 이 타입 변환에서 Python은 자동으로 한 데이터 타입을 다른 데이터 타입으로 변환합니다. 사용자는 이 변환을 수행하기 위해 특정 지침을 제공할 필요가 없습니다.\n",
    "\n",
    "**2. 명시적 타입 변환** - 명시적 타입 변환에서 사용자는 한 데이터 타입을 원하는 다른 데이터 타입으로 변환하는 것 중에서 선호도를 설정할 수 있습니다."
   ]
  },
  {
   "cell_type": "code",
   "execution_count": 64,
   "metadata": {
    "colab": {},
    "colab_type": "code",
    "id": "Yvsni_SFQml_"
   },
   "outputs": [
    {
     "name": "stdout",
     "output_type": "stream",
     "text": [
      "datatype of integer: <class 'int'>\n",
      "datatype of float_n: <class 'float'>\n",
      "Value of add: 151.55\n",
      "datatype of add: <class 'float'>\n"
     ]
    }
   ],
   "source": [
    "integer = 150\n",
    "float_n = 1.55\n",
    "\n",
    "add = integer + float_n\n",
    "\n",
    "print(\"datatype of integer:\",type(integer))\n",
    "print(\"datatype of float_n:\",type(float_n))\n",
    "\n",
    "print(\"Value of add:\",add)\n",
    "print(\"datatype of add:\",type(add))"
   ]
  },
  {
   "cell_type": "markdown",
   "metadata": {
    "colab_type": "text",
    "id": "eO-lZtpMQmmC"
   },
   "source": [
    "위의 예에서 우리는 python이 'add' 변수의 데이터 타입을 암시적으로 설정하는 방법을 명확하게 볼 수 있습니다. 어떤 일이 일어나는지 보기 위해 문자열과 정수를 추가해 봅시다!"
   ]
  },
  {
   "cell_type": "code",
   "execution_count": 119,
   "metadata": {
    "colab": {},
    "colab_type": "code",
    "id": "cBq1jSD1QmmD"
   },
   "outputs": [
    {
     "ename": "TypeError",
     "evalue": "unsupported operand type(s) for +: 'int' and 'str'",
     "output_type": "error",
     "traceback": [
      "\u001b[1;31m---------------------------------------------------------------------------\u001b[0m",
      "\u001b[1;31mTypeError\u001b[0m                                 Traceback (most recent call last)",
      "Cell \u001b[1;32mIn[119], line 2\u001b[0m\n\u001b[0;32m      1\u001b[0m string \u001b[38;5;241m=\u001b[39m \u001b[38;5;124m'\u001b[39m\u001b[38;5;124m300\u001b[39m\u001b[38;5;124m'\u001b[39m\n\u001b[1;32m----> 2\u001b[0m new \u001b[38;5;241m=\u001b[39m integer \u001b[38;5;241m+\u001b[39m string\n",
      "\u001b[1;31mTypeError\u001b[0m: unsupported operand type(s) for +: 'int' and 'str'"
     ]
    }
   ],
   "source": [
    "string = '300'\n",
    "new = integer + string"
   ]
  },
  {
   "cell_type": "code",
   "execution_count": 120,
   "metadata": {
    "colab": {},
    "colab_type": "code",
    "id": "Wsn7moyQQmmF"
   },
   "outputs": [
    {
     "name": "stdout",
     "output_type": "stream",
     "text": [
      "Data type of integer: <class 'int'>\n",
      "Data type of string before explicit conversion: <class 'str'>\n",
      "Data type of string after explicit conversion: <class 'int'>\n",
      "Sum of integer and string: 450\n",
      "Data type of the sum: <class 'int'>\n"
     ]
    }
   ],
   "source": [
    "integer = 150\n",
    "string = \"300\"\n",
    "\n",
    "print(\"Data type of integer:\",type(integer))\n",
    "print(\"Data type of string before explicit conversion:\",type(string))\n",
    "\n",
    "string = int(string)\n",
    "print(\"Data type of string after explicit conversion:\",type(string))\n",
    "\n",
    "new = integer + string\n",
    "\n",
    "print(\"Sum of integer and string:\",new)\n",
    "print(\"Data type of the sum:\",type(new))"
   ]
  },
  {
   "cell_type": "markdown",
   "metadata": {
    "colab_type": "text",
    "id": "h_qAJ56LQmmH"
   },
   "source": [
    "명시적 타입 변환은 **\"Typecasting\"** 이라고도 합니다. 이들 사이의 주요 차이점은 **사용자의 참여**와 암시적 변환에서 Python이 **데이터 손실을 방지하는 데이터 유형을 선호**한다는 사실입니다. 예를 들어 int 타입에 float 타입을 더하면 결과는 항상 float 타입이 되며,  결과를 int로 변환하면 소수점 이하 값이 잘려서 데이터가 손실됩니다."
   ]
  },
  {
   "cell_type": "markdown",
   "metadata": {
    "colab_type": "text",
    "id": "nkzEuoQFQmnH"
   },
   "source": [
    "# Python의 흐름 제어"
   ]
  },
  {
   "cell_type": "markdown",
   "metadata": {
    "colab_type": "text",
    "id": "9vgEmdKmQmnI"
   },
   "source": [
    "일반적으로 명령문은 순차적으로 실행됩니다: 함수의 첫 번째 명령문이 먼저 실행되고 두 번째 명령문이 실행되는 식입니다. \n",
    "코드 블록을 여러 번 실행해야 하는 상황이 있을 수 있습니다.\n",
    "\n",
    "프로그래밍 언어는 더 복잡한 실행 경로를 허용하는 다양한 제어 구조를 제공합니다.\n",
    "\n",
    "루프 문을 사용하면 명령문 또는 명령문 그룹을 여러 번 실행할 수 있습니다.\n",
    "\n",
    "더 많은 정보를 원하시면 [여기](https://www.tutorialspoint.com/python/python_loops.htm)를 클릭하세요."
   ]
  },
  {
   "cell_type": "markdown",
   "metadata": {
    "colab_type": "text",
    "id": "aQ_lwaTLQmnI"
   },
   "source": [
    "**If-Else 문**\n",
    "\n",
    "사용자 입력에서 암호 검사와 같은 특정 코드를 실행할 수 있는 조건(사용자 정의)을 확인할 수 있습니다."
   ]
  },
  {
   "cell_type": "code",
   "execution_count": 66,
   "metadata": {
    "colab": {},
    "colab_type": "code",
    "id": "daALlmRhQmnJ"
   },
   "outputs": [
    {
     "name": "stdout",
     "output_type": "stream",
     "text": [
      "b\n"
     ]
    }
   ],
   "source": [
    "a,b = 2, 3     # 이것은 같은 줄에 있는 여러 변수에 값을 할당하는 방법입니다.\n",
    "\n",
    "if a > b:      # 만약 a가 b보다 크면 a를 출력합니다.\n",
    "    print(\"a\") # 'Tab` 키를 이용한 들여쓰기는 이 print(\"a\")가 첫번째 if 문에 대한 것임을 나타내기 위해 중요한 사항입니다.\n",
    "else:\n",
    "    print(\"b\") # 그렇지 않으면 b를 출력"
   ]
  },
  {
   "cell_type": "code",
   "execution_count": 67,
   "metadata": {
    "colab": {},
    "colab_type": "code",
    "id": "tTChTiUOQmnN"
   },
   "outputs": [
    {
     "name": "stdout",
     "output_type": "stream",
     "text": [
      "7 is good\n"
     ]
    }
   ],
   "source": [
    "a = 7\n",
    "# a 값이 6보다 크면 그 아래의 명령문을 실행합니다.\n",
    "if a > 6:\n",
    "     print(f\"{a} is good\")"
   ]
  },
  {
   "cell_type": "markdown",
   "metadata": {
    "colab_type": "text",
    "id": "s4Xi17_1QmnQ"
   },
   "source": [
    "**While Loop**"
   ]
  },
  {
   "cell_type": "markdown",
   "metadata": {
    "colab_type": "text",
    "id": "KNjNdpZKQmnR"
   },
   "source": [
    "Python의 while 루프는 조건이 False가 될 때까지 반복됩니다. 즉, 조건이 True인 동안 자체적으로 명령문을 실행합니다. \n",
    "프로그램 제어가 while 루프에 도달하면 조건을 확인합니다. 조건이 참이면 그 아래에 있는 코드 블록이 실행됩니다. while 루프 아래의 모든 명령문을 들여쓰기 해야 합니다. 그 후 조건을 다시 확인합니다. 이러한 루프는 조건이 거짓이 될 때까지 계속됩니다. 그 후 루프 다음의 명령문이 있다면(있는 경우) 실행됩니다."
   ]
  },
  {
   "cell_type": "code",
   "execution_count": 68,
   "metadata": {
    "colab": {},
    "colab_type": "code",
    "id": "4xYqCDhzQmnR"
   },
   "outputs": [
    {
     "name": "stdout",
     "output_type": "stream",
     "text": [
      "0\n",
      "1\n",
      "2\n",
      "3\n",
      "4\n",
      "5\n",
      "6\n",
      "7\n",
      "8\n",
      "Loop has ended at 8, can you tell why?\n"
     ]
    }
   ],
   "source": [
    "a = 0   # 변수 a에 값 0을 할당합니다.\n",
    "\n",
    "# 이 루프의 조건은 a의 값이 9보다 작을 때까지는(while) 실행되는 것 입니다.\n",
    "while(a < 9):\n",
    "    print(a)    # 이 출력은 숫자의 증가를 사용하여 루프에서 조건이 어떻게 작동하는지 보여주기 위한 것입니다.\n",
    "    a += 1\n",
    "   \n",
    "print(\"Loop has ended at 8, can you tell why?\")"
   ]
  },
  {
   "cell_type": "markdown",
   "metadata": {
    "colab_type": "text",
    "id": "4dmfDaPaQmnU"
   },
   "source": [
    "**For Loop**"
   ]
  },
  {
   "cell_type": "markdown",
   "metadata": {
    "colab_type": "text",
    "id": "uxse4FUPQmnV"
   },
   "source": [
    "For 루프는 while 루프의 예제와 동일한 작업을 수행하지만 작성하고 이해하기가 더 쉽습니다. 자세한 내용은 [여기](https://data-flair.training/blogs/python-loop/)를 클릭하세요."
   ]
  },
  {
   "cell_type": "code",
   "execution_count": 69,
   "metadata": {
    "colab": {},
    "colab_type": "code",
    "id": "7aXCgeP4QmnW"
   },
   "outputs": [
    {
     "name": "stdout",
     "output_type": "stream",
     "text": [
      "0\n",
      "1\n",
      "2\n",
      "3\n",
      "4\n",
      "5\n",
      "6\n",
      "7\n",
      "8\n",
      "9\n"
     ]
    }
   ],
   "source": [
    "for i in range(10): # 이 코드블락은 10번 실행되고 중지되는 for 루프를 생성합니다.\n",
    "    print(i)"
   ]
  },
  {
   "cell_type": "code",
   "execution_count": 70,
   "metadata": {
    "colab": {},
    "colab_type": "code",
    "id": "GdHwjGagQmne"
   },
   "outputs": [
    {
     "name": "stdout",
     "output_type": "stream",
     "text": [
      "[0, 1]\n",
      "[0, 1, 1]\n",
      "[0, 1, 1, 2]\n",
      "[0, 1, 1, 2, 3]\n",
      "[0, 1, 1, 2, 3, 5]\n",
      "[0, 1, 1, 2, 3, 5, 8]\n",
      "[0, 1, 1, 2, 3, 5, 8, 13]\n",
      "[0, 1, 1, 2, 3, 5, 8, 13, 21]\n",
      "[0, 1, 1, 2, 3, 5, 8, 13, 21, 34]\n",
      "[0, 1, 1, 2, 3, 5, 8, 13, 21, 34, 55]\n"
     ]
    }
   ],
   "source": [
    "lst=[0,1]\n",
    "\n",
    "for i in range(10):\n",
    "    print(lst)\n",
    "    lst.append(lst[-1]+lst[-2])"
   ]
  },
  {
   "cell_type": "markdown",
   "metadata": {},
   "source": [
    "이 예는 흐름 제어가 간단한 로그인 시스템에서 어떻게 사용될 수 있는지 보여줍니다. 아래 코드를 시도해 보세요!"
   ]
  },
  {
   "cell_type": "code",
   "execution_count": 122,
   "metadata": {
    "colab": {},
    "colab_type": "code",
    "id": "CdZTvA04Qmno"
   },
   "outputs": [
    {
     "name": "stdout",
     "output_type": "stream",
     "text": [
      "\n",
      "5 Login attemps remaining!\n",
      "\n",
      "4 Login attemps remaining!\n",
      "\n",
      "3 Login attemps remaining!\n",
      "\n",
      "2 Login attemps remaining!\n",
      "\n",
      "1 Login attemps remaining!\n",
      "Login failed!\n"
     ]
    }
   ],
   "source": [
    "countdown = 5 # 올바른 암호를 입력하기 위해 남은 시도 횟수를 추적하는 변수 만들기\n",
    "\n",
    "# 중첩되는 흐름 제어의 예(서로 내부에 배치), 이 예제 루프는 중지하기 전에 6번의 실행을 허용합니다.\n",
    "for i in range(6): \n",
    "    password=str(input(\"enter your password:\")) # 다양한 입력을 시도하고 어떤 일이 발생하는지 확인하십시오!\n",
    "    if(password == \"python\"):                  # 실제 비밀번호\n",
    "        print(\"Success!\")\n",
    "        break                                  # break는 루프를 빠져나갈 때 사용합니다.\n",
    "    if(countdown <= 0): # 카운트다운이 0 또는 음수 값에 도달하면 아래 명령문을 실행합니다.\n",
    "        print(\"Login failed!\")\n",
    "    else:\n",
    "        print(f\"\\n{countdown} Login attemps remaining!\") # 남은 로그인 시도 횟수 표시\n",
    "    countdown -= 1 # 실행할 때마다 카운트다운 수를 1씩 감소합니다."
   ]
  },
  {
   "cell_type": "markdown",
   "metadata": {
    "colab_type": "text",
    "id": "GpAfb9IPQmmJ"
   },
   "source": [
    "# **Python 함수**"
   ]
  },
  {
   "cell_type": "markdown",
   "metadata": {
    "colab_type": "text",
    "id": "HI36jwFKQmmK"
   },
   "source": [
    "프로그래밍에서 우리는 특정 코드 블록을 반복하거나 재사용해야 하는 상황을 종종 접합니다. 따라서 함수의 개념이 필요합니다. 함수는 기본적으로 특정 작업을 수행하는 코드 블록입니다.\n",
    "\n",
    "함수는 전체 코드를 보다 체계적이고 관리하기 쉽게 만듭니다. 함수들은 코드의 재사용성을 허용하고 프로그램을 작은 모듈 청크로 구성합니다."
   ]
  },
  {
   "cell_type": "markdown",
   "metadata": {
    "colab_type": "text",
    "id": "hJVZzISKQmmK"
   },
   "source": [
    "**Syntax of a Function**"
   ]
  },
  {
   "cell_type": "code",
   "execution_count": 78,
   "metadata": {
    "colab": {},
    "colab_type": "code",
    "id": "je-XIAaoQmmK"
   },
   "outputs": [],
   "source": [
    "def name_of_function(parameter):\n",
    "    statements"
   ]
  },
  {
   "cell_type": "markdown",
   "metadata": {
    "colab_type": "text",
    "id": "Qk4l2NgNQmmO"
   },
   "source": [
    "위의 예는 함수가 일반적으로 어떻게 보이는지 보여줍니다. 세 부분으로 구성되어 있습니다.\n",
    "1. 함수 헤더의 시작을 표시하는 키워드 def.\n",
    "2. 기능을 식별하는 데 도움이 되는 고유한 기능 이름.\n",
    "3. 함수를 통해 값을 전달하는 데 도움이 되는 매개변수. 인수라고도 하며 선택 사항입니다.\n",
    "4. statement는 기능이 정의된 특정 작업을 수행하는 코드로 구성됩니다."
   ]
  },
  {
   "cell_type": "code",
   "execution_count": 124,
   "metadata": {
    "colab": {},
    "colab_type": "code",
    "id": "p3X22xWIQmmO"
   },
   "outputs": [],
   "source": [
    "def sum(x, y): # 이 예제는 두 개의 숫자 x & y를 더할 수 있는 함수를 보여줍니다\n",
    "    s = x+y\n",
    "    return s\n",
    "\n",
    "def sum2(x, y):\n",
    "    return x + y"
   ]
  },
  {
   "cell_type": "markdown",
   "metadata": {
    "colab_type": "text",
    "id": "46Jtqhn5Qmmf"
   },
   "source": [
    "**Function Call**"
   ]
  },
  {
   "cell_type": "code",
   "execution_count": 125,
   "metadata": {
    "colab": {},
    "colab_type": "code",
    "id": "IPeV9Re1Qmmg"
   },
   "outputs": [
    {
     "name": "stdout",
     "output_type": "stream",
     "text": [
      "50\n"
     ]
    }
   ],
   "source": [
    "num_1 = 27\n",
    "num_2 = 23\n",
    "print (sum(num_1,num_2)) # 두 숫자가 'sum' 함수에 어떻게 전달되는지 확인하세요."
   ]
  },
  {
   "cell_type": "code",
   "execution_count": 92,
   "metadata": {},
   "outputs": [
    {
     "name": "stdout",
     "output_type": "stream",
     "text": [
      "3\n"
     ]
    }
   ],
   "source": [
    "num_1 = int(input(\"숫자를 입력하라: \"))\n",
    "num_2 = int(input(\"숫자를 입력하라: \"))\n",
    "print(num_1 + num_2)\n",
    "  "
   ]
  },
  {
   "cell_type": "markdown",
   "metadata": {
    "colab_type": "text",
    "id": "eFIsmmSyQmmy"
   },
   "source": [
    "함수는 사용자가 정의(user-define)하거나 내장(built-in)할 수 있습니다. 각각의 예를 들어주실 수 있습니까?"
   ]
  },
  {
   "cell_type": "code",
   "execution_count": 93,
   "metadata": {
    "colab": {},
    "colab_type": "code",
    "id": "_4AIxWThQmmy"
   },
   "outputs": [],
   "source": [
    "#  여기에 여러분을 답을 작성하세요."
   ]
  },
  {
   "cell_type": "markdown",
   "metadata": {
    "colab_type": "text",
    "id": "nNxeCJXPQmm3"
   },
   "source": [
    "Python에서 섭씨 눈금을 화씨 눈금으로 변환하는 함수를 작성해 보세요."
   ]
  },
  {
   "cell_type": "code",
   "execution_count": 126,
   "metadata": {
    "colab": {},
    "colab_type": "code",
    "id": "WzdfRNcZQmm3"
   },
   "outputs": [
    {
     "data": {
      "text/plain": [
       "'68.00'"
      ]
     },
     "execution_count": 126,
     "metadata": {},
     "output_type": "execute_result"
    }
   ],
   "source": [
    "#  여기에 여러분을 답을 작성하세요.\n",
    "def convert_c_to_f(temp) :\n",
    "    fah = ((9 / 5) * temp) + 32\n",
    "    return (f'{fah:0.2f}')\n",
    "\n",
    "convert_c_to_f(20)"
   ]
  },
  {
   "cell_type": "markdown",
   "metadata": {
    "colab_type": "text",
    "id": "VPTAULY2Qmm8"
   },
   "source": [
    "# Python 모듈"
   ]
  },
  {
   "cell_type": "markdown",
   "metadata": {
    "colab_type": "text",
    "id": "oFI2-8ACQmm8"
   },
   "source": [
    "모듈은 Python statement 및 정의를 포함하는 파일을 참조합니다.\n",
    "\n",
    "Python 코드가 포함된 파일(예: test.py)을 모듈이라고 하며 해당 모듈 이름은 test입니다.\n",
    "\n",
    "우리는 모듈을 사용하여 큰 프로그램을 관리 가능하고 정리된 작은 파일로 나눕니다. 또한 모듈은 코드의 재사용성을 제공합니다.\n",
    "\n",
    "다른 프로그램에 정의를 복사하는 대신 모듈에서 가장 많이 사용하는 함수를 정의하고 가져올 수 있습니다."
   ]
  },
  {
   "cell_type": "code",
   "execution_count": 96,
   "metadata": {
    "colab": {},
    "colab_type": "code",
    "id": "PQORPfqmQmm9"
   },
   "outputs": [
    {
     "name": "stdout",
     "output_type": "stream",
     "text": [
      "The value of pi is 3.141592653589793\n"
     ]
    }
   ],
   "source": [
    "# import 문 예시\n",
    "# 표준 모듈 math를 가져오기 위한\n",
    "\n",
    "import math\n",
    "print(\"The value of pi is\", math.pi)"
   ]
  },
  {
   "cell_type": "markdown",
   "metadata": {
    "colab_type": "text",
    "id": "mnrxzjAcQmnA"
   },
   "source": [
    "# Python 패키지"
   ]
  },
  {
   "cell_type": "markdown",
   "metadata": {
    "colab_type": "text",
    "id": "EDIAc41kQmnB"
   },
   "source": [
    "우리는 컴퓨터에 폴더와 파일을 저장하기 위해 잘 정리된 디렉토리를 사용합니다. 마찬가지로 python에서 모듈 그룹을 패키지로 구성합니다. 이 계층 구조는 폴더와 파일로 구성된 디렉토리와 유사하며, 여기서 패키지는 폴더와 유사하고 모듈은 파일과 유사하다고 생각할 수 있습니다.\n",
    "\n",
    "폴더에 여러 파일이 있는 것처럼 패키지에는 여러 모듈이 포함될 수 있습니다.\n",
    "\n",
    "우리 프로그램이 많은 모듈과 함께 크기가 커지면 유사한 모듈을 하나의 패키지에 그룹화하고 다른 모듈을 다른 패키지에 그룹화합니다. 이것은 프로그램을 관리하기 쉽고 개념적으로 명확하게 만듭니다.\n",
    "\n",
    "Python이 패키지로 간주하려면 디렉토리에 __init__.py라는 파일이 있어야 합니다. 이 파일은 비워 둘 수 있지만 일반적으로 이 파일에 해당 패키지의 초기화 코드를 배치합니다."
   ]
  },
  {
   "cell_type": "code",
   "execution_count": 97,
   "metadata": {
    "colab": {},
    "colab_type": "code",
    "id": "qi9R68fsQmnB"
   },
   "outputs": [
    {
     "name": "stdout",
     "output_type": "stream",
     "text": [
      "[[ 6  8]\n",
      " [10 12]]\n"
     ]
    }
   ],
   "source": [
    "# Numpy는 Python의 과학 및 수학 컴퓨팅을 위한 인기 있는 패키지입니다.\n",
    "# 아래 예에서는 2개의 2*2 행렬을 더합니다.\n",
    "\n",
    "import numpy as np \n",
    "\n",
    "a = np.array([[1, 2], [3, 4]])\n",
    "b = np.array([[5, 6], [7, 8]])\n",
    "print(a+b)"
   ]
  },
  {
   "cell_type": "markdown",
   "metadata": {
    "colab_type": "text",
    "id": "uHS07C51Qmnu"
   },
   "source": [
    "# **Bonus Exercise**"
   ]
  },
  {
   "cell_type": "markdown",
   "metadata": {
    "colab_type": "text",
    "id": "ncFyHDHAH9zx"
   },
   "source": [
    "<br>간단한 계산을 할 수 있는 심플한 계산기를 만들어 보세요. 여기서 몇 가지 문자열 조작을 수행하고 입력에 사용된 연산자를 식별한 다음 계산 값을 인쇄해야 합니다. **+ - * /**  이러한 기본 연산 기능을 구현해야 합니다.\n",
    "<br><br> 예를 들어, 입력은 \"1+2\" 또는 \"1\\*2\" 등이 될 수 있습니다.<br>\n",
    "string(*input*(\"Enter values in the form: \"number operator number\")) \n",
    "\n",
    "<br><br>온라인 리소스를 자유롭게 사용하십시오.\n",
    "\n",
    "<br> ***Hint***: 연산자와 숫자 추출 후 Type-Conversion 사용."
   ]
  },
  {
   "cell_type": "code",
   "execution_count": 6,
   "metadata": {
    "colab": {
     "base_uri": "https://localhost:8080/",
     "height": 85
    },
    "colab_type": "code",
    "id": "xCXeSIyfH9hR",
    "outputId": "ed613bec-ac12-480b-f88d-4c4801364572"
   },
   "outputs": [
    {
     "name": "stdout",
     "output_type": "stream",
     "text": [
      "None\n"
     ]
    }
   ],
   "source": [
    "# 필요한 경우 변경 또는 기능 추가\n",
    "\n",
    "# myCalculator는 사용자 입력(Your Keyboard)에서 전달된 인수(inputString)를 사용합니다.\n",
    "# 예제 입력은 '1+2' 또는 '3-2' 등의 형식입니다.\n",
    "\n",
    "\n",
    "def myCalculator(inputString):\n",
    "  # inputString에서 숫자와 연산자 추출\n",
    "\n",
    "    #++++++코드를 작성해 주세요!-------\n",
    "    #Hint: 슬라이싱을 사용하여 숫자와 연산자를 얻으세요! 그런 다음 유형 변환을 사용하여 숫자와 문자를 얻습니다!\n",
    "    num1 = int(inputString[0])\n",
    "    operator = inputString[1]\n",
    "    num2 = int(inputString[2])\n",
    "\n",
    "    \n",
    " # 이 예제의 함수 인수는 위의 입력 문자열을 나누어서 하여 파생되어야 합니다!! \n",
    "    printCalculation(num1,operator,num2)   # 이것은 어떤 값이 함수에 들어가는지 보여주는 예입니다! printCalculation(1,'+',2)\n",
    "\n",
    "# printCalculation은 문자열의 첫 번째 숫자, 연산자, 두 번째 숫자의 인수를 취합니다.\n",
    "def printCalculation(num1, operator, num2):\n",
    "    \n",
    "    if(operator == '+'): # elif로 다른 연산자를 추가하십시오!\n",
    "        print(num1,' ',operator, ' ', num2, ' = ',num1+num2) # 출력은 예를 들어 \"1 + 2 = 3\"으로 표시됩니다. \n",
    "    elif(operator == '-'): # elif로 다른 연산자를 추가하십시오!\n",
    "        print(num1,' ',operator, ' ', num2, ' = ',num1-num2) # 출력은 예를 들어 \"1 + 2 = 3\"으로 표시됩니다.\n",
    "    elif(operator == '*'): # elif로 다른 연산자를 추가하십시오!\n",
    "        print(num1,' ',operator, ' ', num2, ' = ',num1*num2) # 출력은 예를 들어 \"1 + 2 = 3\"으로 표시됩니다.\n",
    "    elif(operator == '/'): # elif로 다른 연산자를 추가하십시오!\n",
    "        print(num1,' ',operator, ' ', num2, ' = ',num1/num2) # 출력은 예를 들어 \"1 + 2 = 3\"으로 표시됩니다.\n",
    "    else:\n",
    "        print(\"Error!\") # 이것은 입력을 올바르게 입력했는지 확인합니다!!\n",
    "# 입력\n",
    "inputString = input(\"EG.'1+2' \")\n",
    "myCalculator(inputString)"
   ]
  }
 ],
 "metadata": {
  "colab": {
   "collapsed_sections": [],
   "name": "[Jupyter - Youth] Module 9 Introduction to Python.ipynb",
   "provenance": []
  },
  "kernelspec": {
   "display_name": "Python 3 (ipykernel)",
   "language": "python",
   "name": "python3"
  },
  "language_info": {
   "codemirror_mode": {
    "name": "ipython",
    "version": 3
   },
   "file_extension": ".py",
   "mimetype": "text/x-python",
   "name": "python",
   "nbconvert_exporter": "python",
   "pygments_lexer": "ipython3",
   "version": "3.11.7"
  }
 },
 "nbformat": 4,
 "nbformat_minor": 1
}
