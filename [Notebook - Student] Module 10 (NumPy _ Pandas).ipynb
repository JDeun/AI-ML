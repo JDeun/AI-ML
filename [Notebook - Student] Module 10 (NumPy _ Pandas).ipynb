{
 "cells": [
  {
   "cell_type": "markdown",
   "metadata": {
    "colab_type": "text",
    "id": "R92rt65pZWLP"
   },
   "source": [
    "# **Python 시작하기!**"
   ]
  },
  {
   "cell_type": "markdown",
   "metadata": {
    "colab_type": "text",
    "id": "BGeKwY5yZWLQ"
   },
   "source": [
    "## NumPy"
   ]
  },
  {
   "cell_type": "markdown",
   "metadata": {
    "colab_type": "text",
    "id": "wb0X3sWYZWLR"
   },
   "source": [
    "이전 노트북에서 우리는 Python의 기본 사항과 AI 응용 프로그램에 Python이 인기 있는 이유를 배웠습니다. 또한 Python에서 사용할 수 있는 다양한 데이터 타입, 다양한 제어 옵션과 함께 제공되는 모듈 및 패키지에 대해서도 배웠습니다. 이제 과학 계산, 특히 배열과 관련된 계산을 수행하기 위해 Python에서 사용할 수 있는 가장 인기 있는 패키지 중 하나인 **NumPy**(Numerical'Num' Python'Py'의 줄임말)부터 시작하겠습니다. 시작합시다!"
   ]
  },
  {
   "cell_type": "markdown",
   "metadata": {
    "colab_type": "text",
    "id": "z90prMLRZWLS"
   },
   "source": [
    "## Arrays"
   ]
  },
  {
   "cell_type": "markdown",
   "metadata": {
    "colab_type": "text",
    "id": "YVjSvQp8ZWLS"
   },
   "source": [
    "Python의 NumPy는 기본적으로 동일한 데이터 타입 값을 갖는 격자 배열입니다. NumPy 배열의 각 요소에는 음수가 아닌 인덱스를 가지고 있습니다. 배열을 다룰 때 각 차원에 따라 배열의 크기를 나타내는 shape라는 유용한 용어를 접하게 됩니다. 그렇다면 표준 Python List 대신 NumPy 배열을 사용하는 이유는 무엇입니까? NumPy 배열은 메모리 소비가 적고 런타임 동작도 개선되는데, 이것은 일반적으로 데이터 사이언스 분야의 계산에 있어 중요합니다. 우리가 많은 양의 데이터를 처리할 때 Python List와 NumPy 배열 처리의 차이는 상당히 많이 발생합니다. NumPy는 다차원 배열 및 행렬 데이터 구조를 포함하고 있으며 삼각법, 통계, 대수 루틴과 같은 배열에 대해 여러 수학적 연산을 수행할 수 있습니다."
   ]
  },
  {
   "cell_type": "code",
   "execution_count": 3,
   "metadata": {
    "colab": {},
    "colab_type": "code",
    "id": "FvLsLrPUZWLT",
    "outputId": "f465db2a-ea2c-4ee2-beaf-c75286cf9b5e"
   },
   "outputs": [
    {
     "name": "stdout",
     "output_type": "stream",
     "text": [
      "[1 2 3]\n",
      "['가' '나' '다' '라']\n"
     ]
    }
   ],
   "source": [
    "import numpy as np #importing numpy package \n",
    "a = np.array([1,2,3]) #initializing an array with the elements given in the brackets\n",
    "한글 = np.array(['가', '나', '다', '라'])\n",
    "print (a)\n",
    "print(한글)"
   ]
  },
  {
   "cell_type": "markdown",
   "metadata": {
    "colab_type": "text",
    "id": "9CvoSukTZWLX"
   },
   "source": [
    "배열 'a'의 데이터 유형을 확인합시다."
   ]
  },
  {
   "cell_type": "code",
   "execution_count": 8,
   "metadata": {
    "colab": {},
    "colab_type": "code",
    "id": "LXBkmS0qZWLX",
    "outputId": "bf7c88cd-fa8f-401d-b714-3b39d4867dc8"
   },
   "outputs": [
    {
     "name": "stdout",
     "output_type": "stream",
     "text": [
      "int32\n",
      "<U1\n"
     ]
    }
   ],
   "source": [
    "# 여기에 데이터 유형을 확인하기 위한 코드를 작성하세요.\n",
    "print(a.dtype)\n",
    "print(한글.dtype)\n"
   ]
  },
  {
   "cell_type": "code",
   "execution_count": 48,
   "metadata": {
    "colab": {},
    "colab_type": "code",
    "id": "lqht1wILZWLa",
    "outputId": "daa3876c-83cc-4725-886d-ea808e6b289c"
   },
   "outputs": [
    {
     "name": "stdout",
     "output_type": "stream",
     "text": [
      "[[1 2]\n",
      " [3 4]]\n",
      "____________________\n",
      "[[1 2 3]\n",
      " [4 5 6]\n",
      " [7 8 9]]\n",
      "____________________\n",
      "[[[ 1  2  3]\n",
      "  [ 4  5  6]\n",
      "  [ 7  8  9]\n",
      "  [21 22 23]]\n",
      "\n",
      " [[11 12 13]\n",
      "  [14 15 16]\n",
      "  [17 18 19]\n",
      "  [24 25 26]]]\n",
      "____________________\n",
      "[[0. 0. 0.]\n",
      " [0. 0. 0.]\n",
      " [0. 0. 0.]]\n"
     ]
    }
   ],
   "source": [
    "# 일차원 이상의 배열 만들기, 다차원 배열은 무조건 큰괄호[]가 2개 이상이 붙는다\n",
    "b = np.array([[1, 2], [3, 4]]) \n",
    "print (b)\n",
    "print('_'*20)\n",
    "c1 = np.array([[1, 2, 3],[4 ,5, 6],[7, 8, 9]]) #2차원 응용\n",
    "print(c1)\n",
    "print('_'*20)\n",
    "c2 = np.array([[[1, 2, 3], [4, 5, 6], [7, 8, 9], [21, 22, 23]],[[11, 12, 13], [14, 15, 16], [17, 18, 19], [24, 25, 26]]]) #3차원 만들기\n",
    "print(c2)\n",
    "print('_'*20)\n",
    "zeros_arr = np.zeros((3,3))\n",
    "print(zeros_arr)"
   ]
  },
  {
   "cell_type": "code",
   "execution_count": 51,
   "metadata": {},
   "outputs": [
    {
     "name": "stdout",
     "output_type": "stream",
     "text": [
      "[0.   0.25 0.5  0.75 1.  ]\n"
     ]
    }
   ],
   "source": [
    "\n",
    "linspace_arr = np.linspace(0 ,1, 5)\n",
    "print(linspace_arr)"
   ]
  },
  {
   "cell_type": "code",
   "execution_count": 23,
   "metadata": {
    "colab": {},
    "colab_type": "code",
    "id": "2tLaMCN5ZWLc",
    "outputId": "e3165138-efa1-4b74-d8de-ae8d7eaba725"
   },
   "outputs": [
    {
     "name": "stdout",
     "output_type": "stream",
     "text": [
      "Shape of array 'a' is: (3, 2)\n",
      "Shape of array 'b' is: (2, 2)\n",
      "Shape of array '한글' is: (4,)\n",
      "Shape of array 'c1' is: (3, 3)\n",
      "Shape of array 'c2' is: (2, 4, 3)\n"
     ]
    }
   ],
   "source": [
    "# 지금까지 생성된 배열의 모양을 확인해 봅시다.\n",
    "print(\"Shape of array 'a' is:\",(a.shape))\n",
    "print(\"Shape of array 'b' is:\",(b.shape))\n",
    "print(\"Shape of array '한글' is:\",(한글.shape))\n",
    "print(\"Shape of array 'c1' is:\",(c1.shape))\n",
    "print(\"Shape of array 'c2' is:\",(c2.shape))"
   ]
  },
  {
   "cell_type": "code",
   "execution_count": 33,
   "metadata": {
    "colab": {},
    "colab_type": "code",
    "id": "oh-KPazNZWLf",
    "outputId": "58f06594-bf96-4b8e-cb22-e5e7fa1ea036"
   },
   "outputs": [
    {
     "name": "stdout",
     "output_type": "stream",
     "text": [
      "16\n"
     ]
    }
   ],
   "source": [
    "# 인덱스를 사용하여 배열 요소에 접근해 봅시다.\n",
    "#print(a[0], a[1], a[2]) \n",
    "#print(b[0][0]) # 첫 번째 행, 첫번째 열 요소를 print합니다.\n",
    "\n",
    "print(c2[1][1][2])"
   ]
  },
  {
   "cell_type": "code",
   "execution_count": 34,
   "metadata": {
    "colab": {},
    "colab_type": "code",
    "id": "P8kHspilZWLh",
    "outputId": "0ff83453-2512-4d14-fd51-7163e30c1611"
   },
   "outputs": [
    {
     "name": "stdout",
     "output_type": "stream",
     "text": [
      "2\n",
      "5\n"
     ]
    }
   ],
   "source": [
    "# 배열의 특정 요소를 print 하는 또 다른 방법\n",
    "print(b[0,1])\n",
    "print(c2[0,1,1])"
   ]
  },
  {
   "cell_type": "code",
   "execution_count": 39,
   "metadata": {
    "colab": {},
    "colab_type": "code",
    "id": "RZWfQYHPZWLk",
    "outputId": "6306036f-27ea-414b-e334-568838e5a79e"
   },
   "outputs": [
    {
     "name": "stdout",
     "output_type": "stream",
     "text": [
      "[0 1 2 3]\n",
      "[1 2 3 4 5 6]\n"
     ]
    }
   ],
   "source": [
    "# arange 함수를 사용하여 배열 생성\n",
    "c=np.arange(4)  # 첫 네 개의 요소를 0으로부터 print합니다.\n",
    "print (c)\n",
    "d=np.arange(1,7)# 시작점과 끝점 지정\n",
    "print (d)"
   ]
  },
  {
   "cell_type": "code",
   "execution_count": 7,
   "metadata": {
    "colab": {},
    "colab_type": "code",
    "id": "_7wd9k5RZWLn",
    "outputId": "c7c00154-a49f-4cf6-abf1-d659780f317f"
   },
   "outputs": [
    {
     "name": "stdout",
     "output_type": "stream",
     "text": [
      "[[ 1  2  3  4]\n",
      " [ 5  6  7  8]\n",
      " [ 9 10 11 12]]\n"
     ]
    }
   ],
   "source": [
    "# 배열 이름을 'new'로 지정하여 (3, 4) 모양으로 다음 배열을 만듭니다.\n",
    "# [[ 1  2  3  4]\n",
    "#  [ 5  6  7  8]\n",
    "#  [ 9 10 11 12]]\n",
    "new = np.array([[1,2,3,4], [5,6,7,8], [9,10,11,12]])\n",
    "print (new)"
   ]
  },
  {
   "cell_type": "code",
   "execution_count": 8,
   "metadata": {
    "colab": {},
    "colab_type": "code",
    "id": "S-h8rs6PZWLp",
    "outputId": "dd2270af-542d-49b5-aeee-4e6d1370ce77"
   },
   "outputs": [
    {
     "name": "stdout",
     "output_type": "stream",
     "text": [
      "[[2 3]\n",
      " [6 7]]\n"
     ]
    }
   ],
   "source": [
    "# 첫 슬라이싱은 2열로 구성된 하위 배열을 추출하는데 사용됩니다.\n",
    "# 그리고 1:3 슬라이싱은 행1과 행 2를 추출하는데 사용됩니다.\n",
    "# new_sub는 (2, 2) 모양을 갖는 배열입니다.\n",
    "\n",
    "new_sub = new[:2, 1:3]\n",
    "print(new_sub)"
   ]
  },
  {
   "cell_type": "markdown",
   "metadata": {
    "colab_type": "text",
    "id": "EEtfOoFmZWLr"
   },
   "source": [
    "**정수 배열 인덱싱** \n",
    "\n",
    "슬라이싱을 사용하여 numpy 배열을 인덱싱하면 결과 배열은 항상 원래 배열의 하위 배열이 됩니다. 반대로 정수 배열 인덱싱을 사용하면 다른 배열의 데이터를 사용하여 임의의 배열을 구성할 수 있습니다. 앞에서 배운 슬라이스 방법을 기억하시나요? 우리는 이전 노트북에서 이것을 경험하였습니다! Python의 인덱스는 항상 첫 번째 요소에 대해 0부터 시작한다는 것을 기억하십시오.\n",
    "\n",
    "다음은 예입니다:"
   ]
  },
  {
   "cell_type": "code",
   "execution_count": 55,
   "metadata": {
    "colab": {},
    "colab_type": "code",
    "id": "tXBVqvqUZWLs",
    "outputId": "3a72b496-5447-49d4-8c6d-cfe2499465f2"
   },
   "outputs": [
    {
     "name": "stdout",
     "output_type": "stream",
     "text": [
      "[[1 2]\n",
      " [3 4]\n",
      " [5 6]]\n",
      "_ _ _ _ _ _ _ _ _ _ _ _ _ _ _ _ _ _ _ _ _ _ _ _ _ _ _ _ _ _ _ _ _ _ _ _ _ _ _ _ _ _ _ _ _ _ _ _ _ _ \n",
      "[1 4 5]\n",
      "[1 4 5]\n",
      "(3,)\n"
     ]
    }
   ],
   "source": [
    "a = np.array([[1,2], [3, 4], [5, 6]])\n",
    "print(a)\n",
    "print('_ '*50)\n",
    "# a 배열에서 어떻게 [1 4 5]의 결과 값을 얻을 수 있을까요?\n",
    "# '1'의 값은 a 배열의 첫 번째 괄호의 첫 번 째 'item'인 (0, 0) 위치에 있습니다.\n",
    "# '4'의 값은 a 배열의 두 번째 괄호의 두 번 째 'item'인 (1, 1) 위치에 있습니다.\n",
    "# '5'의 값을 얻는 방법을 생각해 보세요.\n",
    "\n",
    "print(np.array([a[0, 0], a[1, 1], a[2, 0]]))  # Prints \"[1 4 5]\"\n",
    "\n",
    "\n",
    "# 위의 내용은 다음과 같이 쓸 수도 있습니다.:\n",
    "# a[0,0] '1'\n",
    "# a[1,1] '4'\n",
    "# a[2,0] '5'\n",
    "# 이것은 정수 배열 인덱싱의 예입니다. \n",
    "# 앞선 인덱싱 예와 다음의 인덱싱 방식의 차이점을 자세히 살펴보십시오.\n",
    "b=(a[[0, 1, 2], [0, 1, 0]])    # 이제 배열 인덱싱이 수행되는 방식과 이전 명령문과의 관계를 알 수 있습니까??  -  !!!이 부분 꼭 질문 다시 해야함!!!\n",
    "\n",
    "print(b)       # Prints \"[1 4 5]\"\n",
    "print(b.shape) # Shape는 3"
   ]
  },
  {
   "cell_type": "code",
   "execution_count": 40,
   "metadata": {
    "colab": {},
    "colab_type": "code",
    "id": "qX_IshmoZWLw",
    "outputId": "58915f01-29c2-4300-98d3-d0dda51c65f4"
   },
   "outputs": [
    {
     "name": "stdout",
     "output_type": "stream",
     "text": [
      "[1 4 5]\n",
      "[2 2]\n",
      "[2 2]\n"
     ]
    }
   ],
   "source": [
    "# 위의 정수 배열 인덱싱은 다음과 같습니다.\n",
    "print(np.array([a[0, 0], a[1, 1], a[2, 0]]))  # Prints \"[1 4 5]\"\n",
    "\n",
    "# 정수 배열 인덱싱을 사용할 때 소스 배열에서 동일한 요소를 재사용할 수 있습니다.\n",
    "print(a[[0, 0], [1, 1]])  # Prints \"[2 2]\"\n",
    "\n",
    "# 이전 정수 배열 인덱싱 예제와 동일\n",
    "print(np.array([a[0, 1], a[0, 1]]))  # Prints \"[2 2]\""
   ]
  },
  {
   "cell_type": "markdown",
   "metadata": {
    "colab_type": "text",
    "id": "409b2PhrZWLy"
   },
   "source": [
    "정수 인덱싱을 사용하여 배열의 특정 요소를 변경할 수도 있습니다."
   ]
  },
  {
   "cell_type": "code",
   "execution_count": 41,
   "metadata": {
    "colab": {},
    "colab_type": "code",
    "id": "ZJ2yft_HZWLy",
    "outputId": "321b6958-4bbb-4623-a562-bfed2b3e9cfd"
   },
   "outputs": [
    {
     "name": "stdout",
     "output_type": "stream",
     "text": [
      "[1 0 1]\n",
      "[0 1 2]\n",
      "[2 3 6]\n"
     ]
    }
   ],
   "source": [
    "# 인덱스 배열 생성\n",
    "b = np.array([1, 0, 1])\n",
    "print(b)\n",
    "\n",
    "# b의 인덱스를 사용하여 a의 각 행에서 하나의 원소 선택\n",
    "print(np.arange(3))  # 첫 번째 배열 인덱스\n",
    "print(a[np.arange(3), b])"
   ]
  },
  {
   "cell_type": "code",
   "execution_count": 42,
   "metadata": {
    "colab": {},
    "colab_type": "code",
    "id": "n7uHCv9YZWL0",
    "outputId": "890a2b5e-63fc-4a1f-c5e7-f8098d6d391c"
   },
   "outputs": [
    {
     "name": "stdout",
     "output_type": "stream",
     "text": [
      "[[ 1 12]\n",
      " [13  4]\n",
      " [ 5 16]]\n"
     ]
    }
   ],
   "source": [
    "# b의 인덱스를 사용하여 a의 각 행에서 하나의 요소를 변경합니다.\n",
    "a[np.arange(3), b] += 10\n",
    "\n",
    "print(a)"
   ]
  },
  {
   "cell_type": "markdown",
   "metadata": {
    "colab_type": "text",
    "id": "xWc5rOdqZWL2"
   },
   "source": [
    "## Datatypes in NumPy Arrays"
   ]
  },
  {
   "cell_type": "code",
   "execution_count": 43,
   "metadata": {
    "colab": {},
    "colab_type": "code",
    "id": "ANEu3E-HZWL3",
    "outputId": "bf79690e-b0eb-497d-9db2-87a48b9224e1"
   },
   "outputs": [
    {
     "name": "stdout",
     "output_type": "stream",
     "text": [
      "int32\n",
      "float64\n"
     ]
    }
   ],
   "source": [
    "roll_no = np.array([23, 46])   # numpy가 데이터 유형을 선택하도록 합니다.\n",
    "print(roll_no.dtype)           # Prints \"int64\"\n",
    "\n",
    "marks = np.array([65.5, 88.0]) # numpy가 데이터 유형을 선택하도록 합니다.\n",
    "print(marks.dtype)             # Prints \"float64\""
   ]
  },
  {
   "cell_type": "code",
   "execution_count": 44,
   "metadata": {
    "colab": {},
    "colab_type": "code",
    "id": "dO1iMifuZWL5",
    "outputId": "91ca1e1b-5d15-47fe-8355-d2aa39427121"
   },
   "outputs": [
    {
     "name": "stdout",
     "output_type": "stream",
     "text": [
      "int64\n"
     ]
    }
   ],
   "source": [
    "x = np.array([1, 2], dtype=np.int64)   # 특정 데이터 타입으로 지정합니다.\n",
    "print(x.dtype)                         # Prints \"int64\""
   ]
  },
  {
   "cell_type": "markdown",
   "metadata": {
    "colab_type": "text",
    "id": "GbxLAhH4ZWL7"
   },
   "source": [
    "**배열 수학**"
   ]
  },
  {
   "cell_type": "markdown",
   "metadata": {
    "colab_type": "text",
    "id": "G4rFPZ0GZWL8"
   },
   "source": [
    "기본적인 수학 연산은 배열에서 요소별로 적용할 수 있습니다. 이것은 (+,-,* 등)과 같은 연산자를 사용하거나 패키지 자체 내의 내장 함수를 사용하여 수행할 수 있습니다."
   ]
  },
  {
   "cell_type": "code",
   "execution_count": 74,
   "metadata": {
    "colab": {},
    "colab_type": "code",
    "id": "DKbDABt0ZWL8",
    "outputId": "151b47d3-c865-4681-95b7-7c6718cf1d90"
   },
   "outputs": [
    {
     "name": "stdout",
     "output_type": "stream",
     "text": [
      "[[ 6.  8.]\n",
      " [10. 12.]]\n",
      "- - - - - - - - - - - - - - - - - - - - \n",
      "[[ 6.  8.]\n",
      " [10. 12.]]\n"
     ]
    }
   ],
   "source": [
    "x = np.array([[1,2],[3,4]], dtype=np.float64)\n",
    "y = np.array([[5,6],[7,8]], dtype=np.float64)\n",
    "\n",
    "# 요소별 합계; 둘다 동일한 배열을 생성합니다.\n",
    "# [[ 6.0  8.0]\n",
    "#  [10.0 12.0]]\n",
    "print(x + y)\n",
    "print(\"- \"*20)\n",
    "print(np.add(x, y))"
   ]
  },
  {
   "cell_type": "code",
   "execution_count": 91,
   "metadata": {
    "colab": {},
    "colab_type": "code",
    "id": "FsOQcgWaZWL-"
   },
   "outputs": [
    {
     "name": "stdout",
     "output_type": "stream",
     "text": [
      "[[-3.0, -7.0], [3.0, 24.0]]\n"
     ]
    }
   ],
   "source": [
    "# 다음 요소를 사용하여 두 개의 배열 X 및 Y를 만들고 그 차이를 출력하는 코드를 작성하십시오.\n",
    "X = [[13.0, 7.0],\n",
    "    [4.0, 47.0]]\n",
    "Y = [[16.0, 14.0],\n",
    "    [1.0, 23.0]]\n",
    "\n",
    "#print(X[0][0] - Y[0][0])\n",
    "\n",
    "answer = []\n",
    "for i in range(len(X)) :\n",
    "    temp = []\n",
    "    for j in range(len(X[0])) :\n",
    "        temp.append(X[i][j] - Y[i][j])\n",
    "\n",
    "    answer.append(temp)\n",
    "\n",
    "print(answer)\n",
    "\n"
   ]
  },
  {
   "cell_type": "code",
   "execution_count": 58,
   "metadata": {
    "colab": {},
    "colab_type": "code",
    "id": "Slob_hPFZWMA",
    "outputId": "a50bc9d0-3ea9-4478-dee6-ba86e16c4410"
   },
   "outputs": [
    {
     "name": "stdout",
     "output_type": "stream",
     "text": [
      "[[-3. -7.]\n",
      " [ 3. 24.]]\n",
      "[[-3. -7.]\n",
      " [ 3. 24.]]\n"
     ]
    }
   ],
   "source": [
    "X = np.array([[13.0,7.0],[4.0,47.0]], dtype=np.float64)\n",
    "Y = np.array([[16.0,14.0],[1.0,23.0]], dtype=np.float64)\n",
    "print (X-Y)\n",
    "print(np.subtract(X, Y))"
   ]
  },
  {
   "cell_type": "code",
   "execution_count": 59,
   "metadata": {
    "colab": {},
    "colab_type": "code",
    "id": "EDnC_FlkZWMC",
    "outputId": "9fd39487-73fc-4aa7-990d-8a4f94e04b07"
   },
   "outputs": [
    {
     "name": "stdout",
     "output_type": "stream",
     "text": [
      "[[ 5. 12.]\n",
      " [21. 32.]]\n",
      "[[ 5. 12.]\n",
      " [21. 32.]]\n"
     ]
    }
   ],
   "source": [
    "# 요소별 곱셈 수행\n",
    "print(x * y)\n",
    "print(np.multiply(x, y))"
   ]
  },
  {
   "cell_type": "markdown",
   "metadata": {
    "colab_type": "text",
    "id": "NnWsT7X9ZWME"
   },
   "source": [
    "이것은 행렬 곱셈을 수행하는 것과 다릅니다. * 연산자는 요소별 곱셈에만 사용됩니다."
   ]
  },
  {
   "cell_type": "code",
   "execution_count": 92,
   "metadata": {
    "colab": {},
    "colab_type": "code",
    "id": "kYbccOqfZWMF",
    "outputId": "f61fd579-174d-467f-c019-02ca833fddb2"
   },
   "outputs": [
    {
     "name": "stdout",
     "output_type": "stream",
     "text": [
      "[[0.2        0.33333333]\n",
      " [0.42857143 0.5       ]]\n",
      "[[0.2        0.33333333]\n",
      " [0.42857143 0.5       ]]\n"
     ]
    }
   ],
   "source": [
    "# 요소별 나눗셈 수행\n",
    "print(x / y)\n",
    "print(np.divide(x, y))"
   ]
  },
  {
   "cell_type": "markdown",
   "metadata": {
    "colab_type": "text",
    "id": "Cdjh6wfTZWMH"
   },
   "source": [
    "NumPy 배열 정렬"
   ]
  },
  {
   "cell_type": "code",
   "execution_count": 97,
   "metadata": {
    "colab": {},
    "colab_type": "code",
    "id": "9CNpx42aZWMH",
    "outputId": "51f3f505-a0c4-48b0-8ce3-49d03156108f"
   },
   "outputs": [
    {
     "name": "stdout",
     "output_type": "stream",
     "text": [
      "[1 2 3 4 5 2 1]\n"
     ]
    }
   ],
   "source": [
    "a = np.array([1, 2, 3, 4, 5, 2, 1])\n",
    "print(a)"
   ]
  },
  {
   "cell_type": "code",
   "execution_count": 100,
   "metadata": {
    "colab": {},
    "colab_type": "code",
    "id": "BUoUFREdZWMK",
    "outputId": "954eee38-8d0f-452a-e027-72d4aade2b11"
   },
   "outputs": [
    {
     "name": "stdout",
     "output_type": "stream",
     "text": [
      "[1 1 2 2 3 4 5]\n",
      "[1 1 2 2 3 4 5]\n"
     ]
    }
   ],
   "source": [
    "np.sort(a) # 요소를 오름차순으로 정렬하는 함수\n",
    "print (np.sort(a))\n",
    "b = np.sort(a)\n",
    "print(b)"
   ]
  },
  {
   "cell_type": "code",
   "execution_count": 102,
   "metadata": {
    "colab": {},
    "colab_type": "code",
    "id": "S_5gmqP2ZWMM",
    "outputId": "a38df47c-9268-4ad0-dc4f-1a89f566885b"
   },
   "outputs": [
    {
     "name": "stdout",
     "output_type": "stream",
     "text": [
      "[5 4 3 2 2 1 1]\n"
     ]
    }
   ],
   "source": [
    "np.flip(np.sort(a)) # 요소 순서를 반대로 배열하는 함수 방법 - sort에 대해 filp하는 것이다.\n",
    "print (np.flip(np.sort(a)))"
   ]
  },
  {
   "cell_type": "code",
   "execution_count": 103,
   "metadata": {
    "colab": {},
    "colab_type": "code",
    "id": "1CSAhd2tZWMO",
    "outputId": "7ce185d4-8c37-4f3f-e971-565457715802"
   },
   "outputs": [
    {
     "name": "stdout",
     "output_type": "stream",
     "text": [
      "[5 4]\n"
     ]
    }
   ],
   "source": [
    "np.flip(np.sort(a))[:2]  # 슬라이싱 및 정렬\n",
    "print (np.flip(np.sort(a))[:2])"
   ]
  },
  {
   "cell_type": "markdown",
   "metadata": {
    "colab_type": "text",
    "id": "jv3RiXOrZWMQ"
   },
   "source": [
    "## NumPy 배열 조작"
   ]
  },
  {
   "cell_type": "markdown",
   "metadata": {
    "colab_type": "text",
    "id": "7NLocnb1ZWMR"
   },
   "source": [
    "reshape() 함수를 사용하면 요소를 변경하지 않고 배열의 모양을 변경할 수 있습니다. 이 함수의 구문은 아래에 설명되어 있습니다."
   ]
  },
  {
   "cell_type": "code",
   "execution_count": 70,
   "metadata": {
    "colab": {},
    "colab_type": "code",
    "id": "mVcmR6vhZWMR",
    "outputId": "ffd53319-5035-4a42-ed7d-86302d1a372d"
   },
   "outputs": [
    {
     "name": "stdout",
     "output_type": "stream",
     "text": [
      "[ 0  1  2  3  4  5  6  7  8  9 10 11]\n"
     ]
    }
   ],
   "source": [
    "x=np.arange(12) # 12*1 배열 생성\n",
    "print(x)"
   ]
  },
  {
   "cell_type": "code",
   "execution_count": 71,
   "metadata": {
    "colab": {},
    "colab_type": "code",
    "id": "uvyGnQPVZWMT",
    "outputId": "7a0a683d-9cda-442d-a55b-c6cb2030468e"
   },
   "outputs": [
    {
     "name": "stdout",
     "output_type": "stream",
     "text": [
      "[[ 0  1]\n",
      " [ 2  3]\n",
      " [ 4  5]\n",
      " [ 6  7]\n",
      " [ 8  9]\n",
      " [10 11]]\n"
     ]
    }
   ],
   "source": [
    "y=x.reshape(6,2) # 12*1에서 6*2 배열로 모양 변경\n",
    "print(y)"
   ]
  },
  {
   "cell_type": "markdown",
   "metadata": {
    "colab_type": "text",
    "id": "8CjlJ7A5ZWMV"
   },
   "source": [
    "List나 String을 연결하는 것처럼 배열도 연결할 수 있습니다. 다음 예에서는 3개의 1차원 배열을 하나의 배열로 연결합니다. 두 번째 배열의 요소는 첫 번째 배열에 추가됩니다. 그 후에 세 번째 배열의 요소가 추가됩니다."
   ]
  },
  {
   "cell_type": "code",
   "execution_count": 72,
   "metadata": {
    "colab": {},
    "colab_type": "code",
    "id": "XE7j9QiHZWMV",
    "outputId": "86ea237f-f65f-4bac-9051-c02cc6cddc1f"
   },
   "outputs": [
    {
     "name": "stdout",
     "output_type": "stream",
     "text": [
      "[ 3 12]\n",
      "[12  4  7]\n",
      "[2 6 8]\n",
      "[ 3 12 12  4  7  2  6  8]\n"
     ]
    }
   ],
   "source": [
    "x = np.array([3,12])\n",
    "y = np.array([12,4,7])\n",
    "z = np.array([2,6,8])\n",
    "print(x)\n",
    "print(y)\n",
    "print(z)\n",
    "c = np.concatenate((x,y,z)) # 연결을 수행하는 함수\n",
    "print(c)"
   ]
  },
  {
   "cell_type": "markdown",
   "metadata": {
    "colab_type": "text",
    "id": "xcqbkmCBZWMX"
   },
   "source": [
    "다차원 배열을 연결하는 경우 축에 따라 배열을 연결할 수 있습니다. concatenate()로 연결하려면 배열의 모양이 같아야 합니다. 다차원 배열의 경우 축에 따라 배열할 수 있습니다. 기본값은 axis = 0입니다."
   ]
  },
  {
   "cell_type": "code",
   "execution_count": 107,
   "metadata": {
    "colab": {},
    "colab_type": "code",
    "id": "B6Zc08MEZWMY",
    "outputId": "3fe3dcbb-a77b-4965-8c74-5fd20a19ed75"
   },
   "outputs": [
    {
     "name": "stdout",
     "output_type": "stream",
     "text": [
      "[[2 4]\n",
      " [7 9]]\n",
      "X after reshape [[2 4 7 9]]\n",
      "[10 12 14 16]\n",
      "Y after reshape [[10 12 14 16]]\n",
      "[[ 2  4  7  9 10 12 14 16]]\n"
     ]
    }
   ],
   "source": [
    "x = np.array([[2,4],[7,9]])\n",
    "print(x)\n",
    "x=x.reshape(1,4)\n",
    "\n",
    "print(\"X after reshape\", x)\n",
    "y = np.array([10,12,14,16])\n",
    "print(y)\n",
    "y=y.reshape(1,4)\n",
    "\n",
    "print(\"Y after reshape\", y)\n",
    "c = np.concatenate((x,y),axis=1) # axis가 0은 행, 1은 열로 붙는다. 즉, 행 단위로, 또는 열 단위로 값이 아래나 우측 옆으로 붙게 된다.\n",
    "print(c)"
   ]
  },
  {
   "cell_type": "code",
   "execution_count": 109,
   "metadata": {},
   "outputs": [
    {
     "name": "stdout",
     "output_type": "stream",
     "text": [
      "[ 0  1  2  3  4  5  6  7  8  9 10 11 12 13 14 15 16 17 18 19 20 21 22 23]\n",
      "reshaped : \n",
      " [[[ 0  1  2  3]\n",
      "  [ 4  5  6  7]\n",
      "  [ 8  9 10 11]]\n",
      "\n",
      " [[12 13 14 15]\n",
      "  [16 17 18 19]\n",
      "  [20 21 22 23]]]\n"
     ]
    }
   ],
   "source": [
    "# 3차원 배열 연결하기\n",
    "\n",
    "a = np.arange(24)\n",
    "print(a)\n",
    "b = a.reshape(2, 3, 4) # 우측 끝의 행렬을 기준으로 3차원, 4차원 등등이 생성된다.\n",
    "print('reshaped : \\n', b)"
   ]
  },
  {
   "cell_type": "markdown",
   "metadata": {
    "colab_type": "text",
    "id": "9hgKuwZaoe5u"
   },
   "source": [
    "**전문가 팁**: 유용한 기능 및 명령 목록을 항상 손쉽게 사용할 수 있도록 이 [cheatsheet](https://s3.amazonaws.com/assets.datacamp.com/blog_assets/Numpy_Python_Cheat_Sheet.pdf)를 활용할 수 있습니다."
   ]
  },
  {
   "cell_type": "markdown",
   "metadata": {
    "colab_type": "text",
    "id": "k0GzJ4JHZWMZ"
   },
   "source": [
    "# **Pandas**"
   ]
  },
  {
   "cell_type": "markdown",
   "metadata": {
    "colab_type": "text",
    "id": "HehO_Q2-ZWMa"
   },
   "source": [
    "Pandas는 NumPy를 기반으로 구축되었으며 Python에서 사용할 수 있는 가장 인기 있는 오픈 소스 패키지 중 하나입니다. 주요 유틸리티는 실제 데이터를 처리하기 위한 많은 기능을 제공합니다.\n",
    "\n",
    "현재로서는 Pandas의 기능을 완전히 이해할 필요는 없습니다. 제공된 예제는 Pandas의 유용한 작동 중 일부를 보여주기 위한 것입니다. 이후 세션에서는 ML 워크플로에서 Pandas를 사용하는 방법에 대해 자세히 살펴보겠습니다.\n",
    "\n",
    "그러나 코드들은 일반적으로 항상 비슷한 방식으로 사용되기 때문에 구문과 흐름 및 순서에 특별한 주의를 기울일 것을 제안합니다."
   ]
  },
  {
   "cell_type": "markdown",
   "metadata": {
    "colab_type": "text",
    "id": "ei-nUdN-Z6Xd"
   },
   "source": [
    "## Importing Pandas"
   ]
  },
  {
   "cell_type": "code",
   "execution_count": 110,
   "metadata": {
    "colab": {},
    "colab_type": "code",
    "id": "6U7ZtveEZ-yZ"
   },
   "outputs": [],
   "source": [
    "# import 키워드 및 라이브러리 이름은 앞으로 공통으로 사용될 것입니다. 잘 기억해 두세요.\n",
    "import pandas as pd"
   ]
  },
  {
   "cell_type": "markdown",
   "metadata": {
    "colab_type": "text",
    "id": "dsqMU0bAZWMa"
   },
   "source": [
    " **Data Frame**"
   ]
  },
  {
   "cell_type": "markdown",
   "metadata": {
    "colab_type": "text",
    "id": "tf4JYkytZWMb"
   },
   "source": [
    "Data frame은 2차원 데이터 구조입니다. 즉, 데이터는 행과 열을 갖는 표 형식으로 정렬됩니다."
   ]
  },
  {
   "cell_type": "markdown",
   "metadata": {
    "colab_type": "text",
    "id": "F00OCqoQbuYd"
   },
   "source": [
    "DataFrame은 다양한 종류의 입력을 허용합니다. 더 자세한 내용을 알아보려면 온라인에서 검색하거나 [pandas'](https://pandas.pydata.org/pandas-docs/stable/user_guide/dsintro.html) 문서를 참조하세요. \n",
    "\n",
    "<br>이 예제의 목적을 위해 DataFrame을 사용할 수 있는 유용한 방법을 보여주겠습니다. <br><br>우리는 날씨에 관심이 있고, 특히 [Open Government Data](https://data.gov.in/keywords/weather)에 관심이 있어서 (JaipurFinalCleanData.csv)라는 파일을 얻었다고 가정합시다. <br><br>쉼표로 구분된 값 또는 csv 파일은 이름에서 알 수 있듯이 쉼표로 구분된 데이터 집합이 포함되어 있으므로 이러한 파일은 Excel 또는 Google Sheet와 같은 스프레드시트 소프트웨어 사용자에게 친숙할 것입니다.\n",
    "<br><br>이 예에서는 csv 파일을 Python에서 열고 DataFrame에 로드합니다.\n",
    "\n",
    "<br><br> **Bonus Exercise:** Try loading in the file, and follow the rest of the exercise. Use your friend, the search engine and find a way to load your file into Colab!\n",
    "파일을 로드하고 나머지 실행 코드를 따라해 보세요. 로컬 환경에서 Jupyter notebook을 이용하여 진행할 수도 있으며, 구글 [colab](https://colab.research.google.com/)와 같이 브라우저를 이용하여 진행할 수도 있습니다. 검색 엔진을 사용하여 파일을 Colab에 로드하는 방법을 찾아보세요."
   ]
  },
  {
   "cell_type": "code",
   "execution_count": 3,
   "metadata": {
    "colab": {
     "base_uri": "https://localhost:8080/",
     "height": 153
    },
    "colab_type": "code",
    "id": "i33N7GgebjA4",
    "outputId": "3e299f76-55ce-45f6-f1aa-1d7d9156a893"
   },
   "outputs": [
    {
     "name": "stdout",
     "output_type": "stream",
     "text": [
      "         date  meantempm  maxtempm  mintempm  meantempm_1  meantempm_2  \\\n",
      "0  2016-05-04         34        41        27         35.0         36.0   \n",
      "1  2016-05-05         31        38        24         34.0         35.0   \n",
      "2  2016-05-06         28        34        21         31.0         34.0   \n",
      "3  2016-05-07         30        38        23         28.0         31.0   \n",
      "4  2016-05-08         34        41        26         30.0         28.0   \n",
      "\n",
      "   meantempm_3  meandewptm_1  meandewptm_2  meandewptm_3  ...  mindewptm_3  \\\n",
      "0         34.0           6.0           4.0          -1.0  ...        -10.0   \n",
      "1         36.0           7.0           6.0           4.0  ...         -2.0   \n",
      "2         35.0          11.0           7.0           6.0  ...         -2.0   \n",
      "3         34.0          13.0          11.0           7.0  ...          0.0   \n",
      "4         31.0          10.0          13.0          11.0  ...          6.0   \n",
      "\n",
      "   maxpressurem_1  maxpressurem_2  maxpressurem_3  minpressurem_1  \\\n",
      "0          1009.0          1008.0          1009.0          1000.0   \n",
      "1          1008.0          1009.0          1008.0          1001.0   \n",
      "2          1011.0          1008.0          1009.0          1003.0   \n",
      "3          1011.0          1011.0          1008.0          1004.0   \n",
      "4          1010.0          1011.0          1011.0          1002.0   \n",
      "\n",
      "   minpressurem_2  minpressurem_3  precipm_1  precipm_2  precipm_3  \n",
      "0          1001.0           999.0        0.0        0.0        0.0  \n",
      "1          1000.0          1001.0        0.0        0.0        0.0  \n",
      "2          1001.0          1000.0        5.0        0.0        0.0  \n",
      "3          1003.0          1001.0        0.0        5.0        0.0  \n",
      "4          1004.0          1003.0        0.0        0.0        5.0  \n",
      "\n",
      "[5 rows x 40 columns]\n"
     ]
    }
   ],
   "source": [
    "# JaipurFinalCleanData.csv 파일은 이 노트북과 동일한 폴더에 있어야 합니다.\n",
    "\n",
    "#First, create a variable we will call the DataFrame from\n",
    "import pandas as pd\n",
    "dataframe = pd.read_csv(\"JaipurFinalCleanData.csv\")\n",
    "print(dataframe.head())"
   ]
  },
  {
   "cell_type": "markdown",
   "metadata": {
    "colab_type": "text",
    "id": "eb0X9mEIfgk4"
   },
   "source": [
    "the .head() function by default shows the first 5 rows of a DataFrame, it also helps you to check if the csv file have loaded in correctly."
   ]
  },
  {
   "cell_type": "code",
   "execution_count": 2,
   "metadata": {
    "colab": {
     "base_uri": "https://localhost:8080/",
     "height": 238
    },
    "colab_type": "code",
    "id": "ID2YMQcEf4mF",
    "outputId": "41be9a67-97b1-40ff-9fae-fef01f6d91c5"
   },
   "outputs": [
    {
     "name": "stdout",
     "output_type": "stream",
     "text": [
      "         date  meantempm  maxtempm  mintempm  meantempm_1  meantempm_2  \\\n",
      "0  2016-05-04         34        41        27         35.0         36.0   \n",
      "1  2016-05-05         31        38        24         34.0         35.0   \n",
      "2  2016-05-06         28        34        21         31.0         34.0   \n",
      "3  2016-05-07         30        38        23         28.0         31.0   \n",
      "4  2016-05-08         34        41        26         30.0         28.0   \n",
      "5  2016-05-09         34        42        27         34.0         30.0   \n",
      "6  2016-05-10         34        41        27         34.0         34.0   \n",
      "7  2016-05-11         32        40        25         34.0         34.0   \n",
      "8  2016-05-12         34        42        27         32.0         34.0   \n",
      "9  2016-05-13         34        42        26         34.0         32.0   \n",
      "\n",
      "   meantempm_3  meandewptm_1  meandewptm_2  meandewptm_3  ...  mindewptm_3  \\\n",
      "0         34.0           6.0           4.0          -1.0  ...        -10.0   \n",
      "1         36.0           7.0           6.0           4.0  ...         -2.0   \n",
      "2         35.0          11.0           7.0           6.0  ...         -2.0   \n",
      "3         34.0          13.0          11.0           7.0  ...          0.0   \n",
      "4         31.0          10.0          13.0          11.0  ...          6.0   \n",
      "5         28.0           8.0          10.0          13.0  ...          9.0   \n",
      "6         30.0          11.0           8.0          10.0  ...          6.0   \n",
      "7         34.0          16.0          11.0           8.0  ...          6.0   \n",
      "8         34.0          16.0          16.0          11.0  ...          7.0   \n",
      "9         34.0          13.0          16.0          16.0  ...         13.0   \n",
      "\n",
      "   maxpressurem_1  maxpressurem_2  maxpressurem_3  minpressurem_1  \\\n",
      "0          1009.0          1008.0          1009.0          1000.0   \n",
      "1          1008.0          1009.0          1008.0          1001.0   \n",
      "2          1011.0          1008.0          1009.0          1003.0   \n",
      "3          1011.0          1011.0          1008.0          1004.0   \n",
      "4          1010.0          1011.0          1011.0          1002.0   \n",
      "5          1010.0          1010.0          1011.0          1002.0   \n",
      "6          1008.0          1010.0          1010.0          1000.0   \n",
      "7          1010.0          1008.0          1010.0          1002.0   \n",
      "8          1011.0          1010.0          1008.0          1001.0   \n",
      "9          1007.0          1011.0          1010.0           998.0   \n",
      "\n",
      "   minpressurem_2  minpressurem_3  precipm_1  precipm_2  precipm_3  \n",
      "0          1001.0           999.0        0.0        0.0        0.0  \n",
      "1          1000.0          1001.0        0.0        0.0        0.0  \n",
      "2          1001.0          1000.0        5.0        0.0        0.0  \n",
      "3          1003.0          1001.0        0.0        5.0        0.0  \n",
      "4          1004.0          1003.0        0.0        0.0        5.0  \n",
      "5          1002.0          1004.0        0.0        0.0        0.0  \n",
      "6          1002.0          1002.0        0.3        0.0        0.0  \n",
      "7          1000.0          1002.0        0.8        0.3        0.0  \n",
      "8          1002.0          1000.0        2.0        0.8        0.3  \n",
      "9          1001.0          1002.0        0.3        2.0        0.8  \n",
      "\n",
      "[10 rows x 40 columns]\n"
     ]
    }
   ],
   "source": [
    "# 함수에 인수를 추가하여 더 많은 데이터를 표시할 수도 있습니다.\n",
    "print(dataframe.head(10))"
   ]
  },
  {
   "cell_type": "code",
   "execution_count": 3,
   "metadata": {
    "colab": {
     "base_uri": "https://localhost:8080/",
     "height": 323
    },
    "colab_type": "code",
    "id": "qMKftjwzgRom",
    "outputId": "94c56f9a-3b4e-4a12-cee2-0fd2bc69f028"
   },
   "outputs": [
    {
     "data": {
      "text/plain": [
       "date                object\n",
       "meantempm            int64\n",
       "maxtempm             int64\n",
       "mintempm             int64\n",
       "meantempm_1        float64\n",
       "meantempm_2        float64\n",
       "meantempm_3        float64\n",
       "meandewptm_1       float64\n",
       "meandewptm_2       float64\n",
       "meandewptm_3       float64\n",
       "meanpressurem_1    float64\n",
       "meanpressurem_2    float64\n",
       "meanpressurem_3    float64\n",
       "maxhumidity_1      float64\n",
       "maxhumidity_2      float64\n",
       "maxhumidity_3      float64\n",
       "minhumidity_1      float64\n",
       "minhumidity_2      float64\n",
       "minhumidity_3      float64\n",
       "maxtempm_1         float64\n",
       "maxtempm_2         float64\n",
       "maxtempm_3         float64\n",
       "mintempm_1         float64\n",
       "mintempm_2         float64\n",
       "mintempm_3         float64\n",
       "maxdewptm_1        float64\n",
       "maxdewptm_2        float64\n",
       "maxdewptm_3        float64\n",
       "mindewptm_1        float64\n",
       "mindewptm_2        float64\n",
       "mindewptm_3        float64\n",
       "maxpressurem_1     float64\n",
       "maxpressurem_2     float64\n",
       "maxpressurem_3     float64\n",
       "minpressurem_1     float64\n",
       "minpressurem_2     float64\n",
       "minpressurem_3     float64\n",
       "precipm_1          float64\n",
       "precipm_2          float64\n",
       "precipm_3          float64\n",
       "dtype: object"
      ]
     },
     "execution_count": 3,
     "metadata": {},
     "output_type": "execute_result"
    }
   ],
   "source": [
    "# 또 다른 유용한 방법은 dataframe 내의 모든 데이터 타입을 확인할 수 있습니다. \n",
    "dataframe.dtypes"
   ]
  },
  {
   "cell_type": "markdown",
   "metadata": {
    "colab_type": "text",
    "id": "oyTc7QPiqLAd"
   },
   "source": [
    "눈치채셨나요? DataFrame에서 print()를 사용하면 많은 값이 표시되지만 모든 값을 어떻게 이해해야 할까요? 바로 여기에서 데이터 시각화를 수행하고 그래프, 플롯 및 차트를 사용하여 우리가 보고 있는 것과 찾고 있는 것을 더 잘 이해할 수 있습니다. 다음 노트북에서는 유용하고 공통적인 라이브러리인 **matplotlib**에 대해 살펴보겠습니다."
   ]
  },
  {
   "cell_type": "code",
   "execution_count": 4,
   "metadata": {},
   "outputs": [
    {
     "name": "stdout",
     "output_type": "stream",
     "text": [
      "0    1\n",
      "1    3\n",
      "2    7\n",
      "3    9\n",
      "dtype: int64\n",
      "<class 'pandas.core.series.Series'>\n"
     ]
    }
   ],
   "source": [
    "s = pd.Series([1, 3, 7, 9,])\n",
    "print(s)\n",
    "print(type(s))"
   ]
  },
  {
   "cell_type": "code",
   "execution_count": 6,
   "metadata": {},
   "outputs": [
    {
     "name": "stdout",
     "output_type": "stream",
     "text": [
      "before DataFrame : <class 'dict'>\n",
      "after DataFrame : <class 'pandas.core.frame.DataFrame'>\n"
     ]
    }
   ],
   "source": [
    "data = {'toy': ['gun', 'car', 'gun', 'car'], 'features': [25, 30, 35, 60]}\n",
    "\n",
    "print('before DataFrame :', type(data))\n",
    "df = pd.DataFrame(data)\n",
    "print('after DataFrame :', type(df))"
   ]
  },
  {
   "cell_type": "code",
   "execution_count": 7,
   "metadata": {},
   "outputs": [
    {
     "data": {
      "text/html": [
       "<div>\n",
       "<style scoped>\n",
       "    .dataframe tbody tr th:only-of-type {\n",
       "        vertical-align: middle;\n",
       "    }\n",
       "\n",
       "    .dataframe tbody tr th {\n",
       "        vertical-align: top;\n",
       "    }\n",
       "\n",
       "    .dataframe thead th {\n",
       "        text-align: right;\n",
       "    }\n",
       "</style>\n",
       "<table border=\"1\" class=\"dataframe\">\n",
       "  <thead>\n",
       "    <tr style=\"text-align: right;\">\n",
       "      <th></th>\n",
       "      <th>toy</th>\n",
       "      <th>features</th>\n",
       "    </tr>\n",
       "  </thead>\n",
       "  <tbody>\n",
       "    <tr>\n",
       "      <th>0</th>\n",
       "      <td>gun</td>\n",
       "      <td>25</td>\n",
       "    </tr>\n",
       "    <tr>\n",
       "      <th>1</th>\n",
       "      <td>car</td>\n",
       "      <td>30</td>\n",
       "    </tr>\n",
       "    <tr>\n",
       "      <th>2</th>\n",
       "      <td>gun</td>\n",
       "      <td>35</td>\n",
       "    </tr>\n",
       "    <tr>\n",
       "      <th>3</th>\n",
       "      <td>car</td>\n",
       "      <td>60</td>\n",
       "    </tr>\n",
       "  </tbody>\n",
       "</table>\n",
       "</div>"
      ],
      "text/plain": [
       "   toy  features\n",
       "0  gun        25\n",
       "1  car        30\n",
       "2  gun        35\n",
       "3  car        60"
      ]
     },
     "execution_count": 7,
     "metadata": {},
     "output_type": "execute_result"
    }
   ],
   "source": [
    "df"
   ]
  },
  {
   "cell_type": "code",
   "execution_count": 9,
   "metadata": {},
   "outputs": [
    {
     "name": "stdout",
     "output_type": "stream",
     "text": [
      "0    gun\n",
      "1    car\n",
      "2    gun\n",
      "3    car\n",
      "Name: toy, dtype: object\n",
      "- - - - - - - - - - - - - - - - - - - - - - - - - - - - - - - - - - - - - - - - - - - - - - - - - - - - - - - - - - - - - - - - - - - - - - - - - - - - - - - - - - - - - - - - - - - - - - - - - - - - \n",
      "   toy  features\n",
      "0  gun        25\n",
      "1  car        30\n",
      "2  gun        35\n",
      "3  car        60\n"
     ]
    }
   ],
   "source": [
    "print(df['toy'])\n",
    "print(\"- \"*100)\n",
    "print(df[['toy', 'features']])"
   ]
  },
  {
   "cell_type": "code",
   "execution_count": 18,
   "metadata": {},
   "outputs": [
    {
     "name": "stdout",
     "output_type": "stream",
     "text": [
      "toy         gun\n",
      "features     25\n",
      "Name: 0, dtype: object\n",
      "- - - - - - - - - - - - - - - - - - - - \n",
      "toy         gun\n",
      "features     25\n",
      "Name: 0, dtype: object\n",
      "<class 'pandas.core.series.Series'>\n",
      "- - - - - - - - - - - - - - - - - - - - \n",
      "   toy  features\n",
      "0  gun        25\n",
      "<class 'pandas.core.frame.DataFrame'>\n"
     ]
    }
   ],
   "source": [
    "# 첫번째 행 출력\n",
    "print(df.iloc[0])\n",
    "\n",
    "print(\"- \"*20)\n",
    "\n",
    "print(df.loc[0])\n",
    "print(type(df.iloc[0]))\n",
    "\n",
    "print(\"- \"*20)\n",
    "\n",
    "print(df.iloc[[0]])\n",
    "print(type(df.iloc[[0]]))"
   ]
  },
  {
   "cell_type": "code",
   "execution_count": 19,
   "metadata": {},
   "outputs": [
    {
     "name": "stdout",
     "output_type": "stream",
     "text": [
      "   toy  features\n",
      "2  gun        35\n",
      "3  car        60\n"
     ]
    }
   ],
   "source": [
    "# features > 30 전체 행 출력\n",
    "print(df[df['features'] > 30])"
   ]
  },
  {
   "cell_type": "code",
   "execution_count": 20,
   "metadata": {},
   "outputs": [
    {
     "data": {
      "text/html": [
       "<div>\n",
       "<style scoped>\n",
       "    .dataframe tbody tr th:only-of-type {\n",
       "        vertical-align: middle;\n",
       "    }\n",
       "\n",
       "    .dataframe tbody tr th {\n",
       "        vertical-align: top;\n",
       "    }\n",
       "\n",
       "    .dataframe thead th {\n",
       "        text-align: right;\n",
       "    }\n",
       "</style>\n",
       "<table border=\"1\" class=\"dataframe\">\n",
       "  <thead>\n",
       "    <tr style=\"text-align: right;\">\n",
       "      <th></th>\n",
       "      <th>toy</th>\n",
       "      <th>features</th>\n",
       "      <th>color</th>\n",
       "    </tr>\n",
       "  </thead>\n",
       "  <tbody>\n",
       "    <tr>\n",
       "      <th>0</th>\n",
       "      <td>gun</td>\n",
       "      <td>25</td>\n",
       "      <td>grean</td>\n",
       "    </tr>\n",
       "    <tr>\n",
       "      <th>1</th>\n",
       "      <td>car</td>\n",
       "      <td>30</td>\n",
       "      <td>blue</td>\n",
       "    </tr>\n",
       "    <tr>\n",
       "      <th>2</th>\n",
       "      <td>gun</td>\n",
       "      <td>35</td>\n",
       "      <td>yellow</td>\n",
       "    </tr>\n",
       "    <tr>\n",
       "      <th>3</th>\n",
       "      <td>car</td>\n",
       "      <td>60</td>\n",
       "      <td>white</td>\n",
       "    </tr>\n",
       "  </tbody>\n",
       "</table>\n",
       "</div>"
      ],
      "text/plain": [
       "   toy  features   color\n",
       "0  gun        25   grean\n",
       "1  car        30    blue\n",
       "2  gun        35  yellow\n",
       "3  car        60   white"
      ]
     },
     "execution_count": 20,
     "metadata": {},
     "output_type": "execute_result"
    }
   ],
   "source": [
    "# 데이터 프레임 추가하는 방법\n",
    "df['color'] = ['grean', 'blue', 'yellow', 'white']\n",
    "df"
   ]
  },
  {
   "cell_type": "code",
   "execution_count": 21,
   "metadata": {},
   "outputs": [
    {
     "name": "stdout",
     "output_type": "stream",
     "text": [
      "     toy  features  color\n",
      "0  False     False  False\n",
      "1  False     False  False\n",
      "2  False     False  False\n",
      "3  False     False  False\n"
     ]
    }
   ],
   "source": [
    "print(df.isnull())   #이런 방식은 데이터가 적을 경우에는 가능하지만, 너무 많은 경우에는 하지 않는 방식이다."
   ]
  },
  {
   "cell_type": "code",
   "execution_count": 22,
   "metadata": {},
   "outputs": [
    {
     "name": "stdout",
     "output_type": "stream",
     "text": [
      "     toy  features  color\n",
      "0  False     False  False\n",
      "1  False      True  False\n",
      "2  False     False  False\n",
      "3  False     False  False\n"
     ]
    },
    {
     "data": {
      "text/html": [
       "<div>\n",
       "<style scoped>\n",
       "    .dataframe tbody tr th:only-of-type {\n",
       "        vertical-align: middle;\n",
       "    }\n",
       "\n",
       "    .dataframe tbody tr th {\n",
       "        vertical-align: top;\n",
       "    }\n",
       "\n",
       "    .dataframe thead th {\n",
       "        text-align: right;\n",
       "    }\n",
       "</style>\n",
       "<table border=\"1\" class=\"dataframe\">\n",
       "  <thead>\n",
       "    <tr style=\"text-align: right;\">\n",
       "      <th></th>\n",
       "      <th>toy</th>\n",
       "      <th>features</th>\n",
       "      <th>color</th>\n",
       "    </tr>\n",
       "  </thead>\n",
       "  <tbody>\n",
       "    <tr>\n",
       "      <th>0</th>\n",
       "      <td>gun</td>\n",
       "      <td>25.0</td>\n",
       "      <td>grean</td>\n",
       "    </tr>\n",
       "    <tr>\n",
       "      <th>1</th>\n",
       "      <td>car</td>\n",
       "      <td>NaN</td>\n",
       "      <td>blue</td>\n",
       "    </tr>\n",
       "    <tr>\n",
       "      <th>2</th>\n",
       "      <td>gun</td>\n",
       "      <td>35.0</td>\n",
       "      <td>yellow</td>\n",
       "    </tr>\n",
       "    <tr>\n",
       "      <th>3</th>\n",
       "      <td>car</td>\n",
       "      <td>60.0</td>\n",
       "      <td>white</td>\n",
       "    </tr>\n",
       "  </tbody>\n",
       "</table>\n",
       "</div>"
      ],
      "text/plain": [
       "   toy  features   color\n",
       "0  gun      25.0   grean\n",
       "1  car       NaN    blue\n",
       "2  gun      35.0  yellow\n",
       "3  car      60.0   white"
      ]
     },
     "execution_count": 22,
     "metadata": {},
     "output_type": "execute_result"
    }
   ],
   "source": [
    "df.iloc[1, 1] = None\n",
    "print(df.isnull())\n",
    "df"
   ]
  },
  {
   "cell_type": "code",
   "execution_count": 23,
   "metadata": {},
   "outputs": [
    {
     "name": "stdout",
     "output_type": "stream",
     "text": [
      "     toy  features  color\n",
      "0  False     False  False\n",
      "1  False      True  False\n",
      "2  False     False  False\n",
      "3  False     False  False\n"
     ]
    }
   ],
   "source": [
    "#결측치 데이터 전체를 보는 방법이다. 근데 이렇게도 데이터가 많은 경우에는 찾아보기가 어렵다\n",
    "print(df.isna())"
   ]
  },
  {
   "cell_type": "code",
   "execution_count": 24,
   "metadata": {},
   "outputs": [
    {
     "name": "stdout",
     "output_type": "stream",
     "text": [
      "0    False\n",
      "1     True\n",
      "2    False\n",
      "3    False\n",
      "Name: features, dtype: bool\n"
     ]
    }
   ],
   "source": [
    "#이 방법 또한 결측치 데이터를 보는 방법이다. 해당 열에 대해서만 결측치를 찾아본다.\n",
    "print(df['features'].isna())"
   ]
  },
  {
   "cell_type": "code",
   "execution_count": 25,
   "metadata": {},
   "outputs": [
    {
     "name": "stdout",
     "output_type": "stream",
     "text": [
      "True\n"
     ]
    }
   ],
   "source": [
    "# 위 방법에 대해 유무를 찾는 any매소드이다. 있으면 true, 없으면 false이다.\n",
    "print(df['features'].isna().any())"
   ]
  },
  {
   "cell_type": "code",
   "execution_count": 26,
   "metadata": {},
   "outputs": [
    {
     "name": "stdout",
     "output_type": "stream",
     "text": [
      "True\n"
     ]
    }
   ],
   "source": [
    "# 특정 열이 아니라 데이터 전체에 대해 결측치 데이터 유무를 보는 방법이다. any에 any를 넣는 것이다.\n",
    "# 이 방법으로 우선 데이터 전체에 결측치 유무를 확인하고, 있다면 열 단위로 확인한 뒤, 데이터 전처리를 해야 한다.\n",
    "print(df.isna().any().any())"
   ]
  },
  {
   "cell_type": "code",
   "execution_count": 29,
   "metadata": {},
   "outputs": [
    {
     "data": {
      "text/html": [
       "<div>\n",
       "<style scoped>\n",
       "    .dataframe tbody tr th:only-of-type {\n",
       "        vertical-align: middle;\n",
       "    }\n",
       "\n",
       "    .dataframe tbody tr th {\n",
       "        vertical-align: top;\n",
       "    }\n",
       "\n",
       "    .dataframe thead th {\n",
       "        text-align: right;\n",
       "    }\n",
       "</style>\n",
       "<table border=\"1\" class=\"dataframe\">\n",
       "  <thead>\n",
       "    <tr style=\"text-align: right;\">\n",
       "      <th></th>\n",
       "      <th>toy</th>\n",
       "      <th>features</th>\n",
       "      <th>color</th>\n",
       "    </tr>\n",
       "  </thead>\n",
       "  <tbody>\n",
       "    <tr>\n",
       "      <th>0</th>\n",
       "      <td>gun</td>\n",
       "      <td>25.0</td>\n",
       "      <td>grean</td>\n",
       "    </tr>\n",
       "    <tr>\n",
       "      <th>1</th>\n",
       "      <td>car</td>\n",
       "      <td>40.0</td>\n",
       "      <td>blue</td>\n",
       "    </tr>\n",
       "    <tr>\n",
       "      <th>2</th>\n",
       "      <td>gun</td>\n",
       "      <td>35.0</td>\n",
       "      <td>yellow</td>\n",
       "    </tr>\n",
       "    <tr>\n",
       "      <th>3</th>\n",
       "      <td>car</td>\n",
       "      <td>60.0</td>\n",
       "      <td>white</td>\n",
       "    </tr>\n",
       "  </tbody>\n",
       "</table>\n",
       "</div>"
      ],
      "text/plain": [
       "   toy  features   color\n",
       "0  gun      25.0   grean\n",
       "1  car      40.0    blue\n",
       "2  gun      35.0  yellow\n",
       "3  car      60.0   white"
      ]
     },
     "execution_count": 29,
     "metadata": {},
     "output_type": "execute_result"
    }
   ],
   "source": [
    "#df.fillna(0, inplace=true) - 이 방법은 결측치에 대해 0으로 채우는 방법이다.\n",
    "df.fillna(df['features'].mean(), inplace=True)\n",
    "df"
   ]
  },
  {
   "cell_type": "code",
   "execution_count": 31,
   "metadata": {},
   "outputs": [
    {
     "name": "stdout",
     "output_type": "stream",
     "text": [
      "        features\n",
      "count   4.000000\n",
      "mean   40.000000\n",
      "std    14.719601\n",
      "min    25.000000\n",
      "25%    32.500000\n",
      "50%    37.500000\n",
      "75%    45.000000\n",
      "max    60.000000\n"
     ]
    }
   ],
   "source": [
    "print(df.describe())  # describe 메서드. 이 방법은 분포, 최대, 최소 등의 데이터를 보여준다. 숫자만 가능하다."
   ]
  },
  {
   "cell_type": "code",
   "execution_count": 32,
   "metadata": {},
   "outputs": [
    {
     "data": {
      "text/html": [
       "<div>\n",
       "<style scoped>\n",
       "    .dataframe tbody tr th:only-of-type {\n",
       "        vertical-align: middle;\n",
       "    }\n",
       "\n",
       "    .dataframe tbody tr th {\n",
       "        vertical-align: top;\n",
       "    }\n",
       "\n",
       "    .dataframe thead th {\n",
       "        text-align: right;\n",
       "    }\n",
       "</style>\n",
       "<table border=\"1\" class=\"dataframe\">\n",
       "  <thead>\n",
       "    <tr style=\"text-align: right;\">\n",
       "      <th></th>\n",
       "      <th>toy</th>\n",
       "      <th>features</th>\n",
       "      <th>color</th>\n",
       "      <th>key</th>\n",
       "    </tr>\n",
       "  </thead>\n",
       "  <tbody>\n",
       "    <tr>\n",
       "      <th>0</th>\n",
       "      <td>gun</td>\n",
       "      <td>25.0</td>\n",
       "      <td>grean</td>\n",
       "      <td>2</td>\n",
       "    </tr>\n",
       "    <tr>\n",
       "      <th>1</th>\n",
       "      <td>car</td>\n",
       "      <td>40.0</td>\n",
       "      <td>blue</td>\n",
       "      <td>3</td>\n",
       "    </tr>\n",
       "    <tr>\n",
       "      <th>2</th>\n",
       "      <td>gun</td>\n",
       "      <td>35.0</td>\n",
       "      <td>yellow</td>\n",
       "      <td>2</td>\n",
       "    </tr>\n",
       "    <tr>\n",
       "      <th>3</th>\n",
       "      <td>car</td>\n",
       "      <td>60.0</td>\n",
       "      <td>white</td>\n",
       "      <td>4</td>\n",
       "    </tr>\n",
       "  </tbody>\n",
       "</table>\n",
       "</div>"
      ],
      "text/plain": [
       "   toy  features   color  key\n",
       "0  gun      25.0   grean    2\n",
       "1  car      40.0    blue    3\n",
       "2  gun      35.0  yellow    2\n",
       "3  car      60.0   white    4"
      ]
     },
     "execution_count": 32,
     "metadata": {},
     "output_type": "execute_result"
    }
   ],
   "source": [
    "df['key'] = [2, 3, 2, 4]\n",
    "df"
   ]
  },
  {
   "cell_type": "code",
   "execution_count": 58,
   "metadata": {},
   "outputs": [
    {
     "name": "stdout",
     "output_type": "stream",
     "text": [
      "toy\n",
      "car    100.0\n",
      "gun     60.0\n",
      "Name: features, dtype: float64\n",
      "toy\n",
      "car    50.0\n",
      "gun    30.0\n",
      "Name: features, dtype: float64\n",
      "- - - - - - - - - - - - - - - - - - - - \n",
      "key\n",
      "2    60.0\n",
      "3    40.0\n",
      "4    60.0\n",
      "Name: features, dtype: float64\n",
      "key\n",
      "2    30.0\n",
      "3    40.0\n",
      "4    60.0\n",
      "Name: features, dtype: float64\n",
      "key\n",
      "2    30.0\n",
      "3    40.0\n",
      "4    60.0\n",
      "Name: features, dtype: float64\n"
     ]
    }
   ],
   "source": [
    "# groupby는 그룹 단위(같은 값)으로 묶어서 분류를 할 수 있다\n",
    "print(df.groupby('toy')['features'].sum())\n",
    "print(df.groupby('toy')['features'].mean())\n",
    "\n",
    "print(\"- \"*20)\n",
    "\n",
    "print(df.groupby('key')['features'].sum())\n",
    "print(df.groupby('key')['features'].mean())\n",
    "\n",
    "df2 = df.groupby('key')['features'].mean()\n",
    "print(df2)\n"
   ]
  },
  {
   "cell_type": "code",
   "execution_count": 59,
   "metadata": {},
   "outputs": [
    {
     "data": {
      "text/html": [
       "<div>\n",
       "<style scoped>\n",
       "    .dataframe tbody tr th:only-of-type {\n",
       "        vertical-align: middle;\n",
       "    }\n",
       "\n",
       "    .dataframe tbody tr th {\n",
       "        vertical-align: top;\n",
       "    }\n",
       "\n",
       "    .dataframe thead th {\n",
       "        text-align: right;\n",
       "    }\n",
       "</style>\n",
       "<table border=\"1\" class=\"dataframe\">\n",
       "  <thead>\n",
       "    <tr style=\"text-align: right;\">\n",
       "      <th></th>\n",
       "      <th>key</th>\n",
       "      <th>price</th>\n",
       "    </tr>\n",
       "  </thead>\n",
       "  <tbody>\n",
       "    <tr>\n",
       "      <th>0</th>\n",
       "      <td>2</td>\n",
       "      <td>200</td>\n",
       "    </tr>\n",
       "    <tr>\n",
       "      <th>1</th>\n",
       "      <td>3</td>\n",
       "      <td>300</td>\n",
       "    </tr>\n",
       "  </tbody>\n",
       "</table>\n",
       "</div>"
      ],
      "text/plain": [
       "   key  price\n",
       "0    2    200\n",
       "1    3    300"
      ]
     },
     "execution_count": 59,
     "metadata": {},
     "output_type": "execute_result"
    }
   ],
   "source": [
    "data3 = {'key': [2, 3], 'price': [200, 300]}\n",
    "df3 = pd.DataFrame(data3)\n",
    "\n",
    "df3"
   ]
  },
  {
   "cell_type": "code",
   "execution_count": 60,
   "metadata": {},
   "outputs": [
    {
     "data": {
      "text/html": [
       "<div>\n",
       "<style scoped>\n",
       "    .dataframe tbody tr th:only-of-type {\n",
       "        vertical-align: middle;\n",
       "    }\n",
       "\n",
       "    .dataframe tbody tr th {\n",
       "        vertical-align: top;\n",
       "    }\n",
       "\n",
       "    .dataframe thead th {\n",
       "        text-align: right;\n",
       "    }\n",
       "</style>\n",
       "<table border=\"1\" class=\"dataframe\">\n",
       "  <thead>\n",
       "    <tr style=\"text-align: right;\">\n",
       "      <th></th>\n",
       "      <th>key</th>\n",
       "      <th>price</th>\n",
       "      <th>features</th>\n",
       "    </tr>\n",
       "  </thead>\n",
       "  <tbody>\n",
       "    <tr>\n",
       "      <th>0</th>\n",
       "      <td>2</td>\n",
       "      <td>200</td>\n",
       "      <td>30.0</td>\n",
       "    </tr>\n",
       "    <tr>\n",
       "      <th>1</th>\n",
       "      <td>3</td>\n",
       "      <td>300</td>\n",
       "      <td>40.0</td>\n",
       "    </tr>\n",
       "  </tbody>\n",
       "</table>\n",
       "</div>"
      ],
      "text/plain": [
       "   key  price  features\n",
       "0    2    200      30.0\n",
       "1    3    300      40.0"
      ]
     },
     "execution_count": 60,
     "metadata": {},
     "output_type": "execute_result"
    }
   ],
   "source": [
    "merged = pd.merge(df3 , df2 , on = 'key' , how = 'left')\n",
    "merged"
   ]
  },
  {
   "cell_type": "code",
   "execution_count": 65,
   "metadata": {},
   "outputs": [
    {
     "data": {
      "text/html": [
       "<div>\n",
       "<style scoped>\n",
       "    .dataframe tbody tr th:only-of-type {\n",
       "        vertical-align: middle;\n",
       "    }\n",
       "\n",
       "    .dataframe tbody tr th {\n",
       "        vertical-align: top;\n",
       "    }\n",
       "\n",
       "    .dataframe thead th {\n",
       "        text-align: right;\n",
       "    }\n",
       "</style>\n",
       "<table border=\"1\" class=\"dataframe\">\n",
       "  <thead>\n",
       "    <tr style=\"text-align: right;\">\n",
       "      <th></th>\n",
       "      <th>key</th>\n",
       "      <th>price</th>\n",
       "      <th>features</th>\n",
       "    </tr>\n",
       "  </thead>\n",
       "  <tbody>\n",
       "    <tr>\n",
       "      <th>0</th>\n",
       "      <td>2</td>\n",
       "      <td>200.0</td>\n",
       "      <td>30.0</td>\n",
       "    </tr>\n",
       "    <tr>\n",
       "      <th>1</th>\n",
       "      <td>3</td>\n",
       "      <td>300.0</td>\n",
       "      <td>40.0</td>\n",
       "    </tr>\n",
       "    <tr>\n",
       "      <th>2</th>\n",
       "      <td>4</td>\n",
       "      <td>NaN</td>\n",
       "      <td>60.0</td>\n",
       "    </tr>\n",
       "  </tbody>\n",
       "</table>\n",
       "</div>"
      ],
      "text/plain": [
       "   key  price  features\n",
       "0    2  200.0      30.0\n",
       "1    3  300.0      40.0\n",
       "2    4    NaN      60.0"
      ]
     },
     "execution_count": 65,
     "metadata": {},
     "output_type": "execute_result"
    }
   ],
   "source": [
    "merged = pd.merge(df3 , df2 , on = 'key' , how = 'right')\n",
    "merged"
   ]
  },
  {
   "cell_type": "code",
   "execution_count": 66,
   "metadata": {},
   "outputs": [
    {
     "data": {
      "text/html": [
       "<div>\n",
       "<style scoped>\n",
       "    .dataframe tbody tr th:only-of-type {\n",
       "        vertical-align: middle;\n",
       "    }\n",
       "\n",
       "    .dataframe tbody tr th {\n",
       "        vertical-align: top;\n",
       "    }\n",
       "\n",
       "    .dataframe thead th {\n",
       "        text-align: right;\n",
       "    }\n",
       "</style>\n",
       "<table border=\"1\" class=\"dataframe\">\n",
       "  <thead>\n",
       "    <tr style=\"text-align: right;\">\n",
       "      <th></th>\n",
       "      <th>key</th>\n",
       "      <th>price</th>\n",
       "      <th>features</th>\n",
       "    </tr>\n",
       "  </thead>\n",
       "  <tbody>\n",
       "    <tr>\n",
       "      <th>0</th>\n",
       "      <td>2</td>\n",
       "      <td>200</td>\n",
       "      <td>30.0</td>\n",
       "    </tr>\n",
       "    <tr>\n",
       "      <th>1</th>\n",
       "      <td>3</td>\n",
       "      <td>300</td>\n",
       "      <td>40.0</td>\n",
       "    </tr>\n",
       "  </tbody>\n",
       "</table>\n",
       "</div>"
      ],
      "text/plain": [
       "   key  price  features\n",
       "0    2    200      30.0\n",
       "1    3    300      40.0"
      ]
     },
     "execution_count": 66,
     "metadata": {},
     "output_type": "execute_result"
    }
   ],
   "source": [
    "merged = pd.merge(df3 , df2 , on = 'key' , how = 'inner')\n",
    "merged"
   ]
  },
  {
   "cell_type": "code",
   "execution_count": 67,
   "metadata": {},
   "outputs": [
    {
     "data": {
      "text/html": [
       "<div>\n",
       "<style scoped>\n",
       "    .dataframe tbody tr th:only-of-type {\n",
       "        vertical-align: middle;\n",
       "    }\n",
       "\n",
       "    .dataframe tbody tr th {\n",
       "        vertical-align: top;\n",
       "    }\n",
       "\n",
       "    .dataframe thead th {\n",
       "        text-align: right;\n",
       "    }\n",
       "</style>\n",
       "<table border=\"1\" class=\"dataframe\">\n",
       "  <thead>\n",
       "    <tr style=\"text-align: right;\">\n",
       "      <th></th>\n",
       "      <th>key</th>\n",
       "      <th>price</th>\n",
       "      <th>features</th>\n",
       "    </tr>\n",
       "  </thead>\n",
       "  <tbody>\n",
       "    <tr>\n",
       "      <th>0</th>\n",
       "      <td>2</td>\n",
       "      <td>200.0</td>\n",
       "      <td>30.0</td>\n",
       "    </tr>\n",
       "    <tr>\n",
       "      <th>1</th>\n",
       "      <td>3</td>\n",
       "      <td>300.0</td>\n",
       "      <td>40.0</td>\n",
       "    </tr>\n",
       "    <tr>\n",
       "      <th>2</th>\n",
       "      <td>4</td>\n",
       "      <td>NaN</td>\n",
       "      <td>60.0</td>\n",
       "    </tr>\n",
       "  </tbody>\n",
       "</table>\n",
       "</div>"
      ],
      "text/plain": [
       "   key  price  features\n",
       "0    2  200.0      30.0\n",
       "1    3  300.0      40.0\n",
       "2    4    NaN      60.0"
      ]
     },
     "execution_count": 67,
     "metadata": {},
     "output_type": "execute_result"
    }
   ],
   "source": [
    "merged = pd.merge(df3 , df2 , on = 'key' , how = 'outer')\n",
    "merged"
   ]
  },
  {
   "cell_type": "code",
   "execution_count": 63,
   "metadata": {},
   "outputs": [
    {
     "data": {
      "text/html": [
       "<div>\n",
       "<style scoped>\n",
       "    .dataframe tbody tr th:only-of-type {\n",
       "        vertical-align: middle;\n",
       "    }\n",
       "\n",
       "    .dataframe tbody tr th {\n",
       "        vertical-align: top;\n",
       "    }\n",
       "\n",
       "    .dataframe thead th {\n",
       "        text-align: right;\n",
       "    }\n",
       "</style>\n",
       "<table border=\"1\" class=\"dataframe\">\n",
       "  <thead>\n",
       "    <tr style=\"text-align: right;\">\n",
       "      <th></th>\n",
       "      <th>toy</th>\n",
       "      <th>features</th>\n",
       "      <th>color</th>\n",
       "      <th>key</th>\n",
       "      <th>features</th>\n",
       "    </tr>\n",
       "  </thead>\n",
       "  <tbody>\n",
       "    <tr>\n",
       "      <th>0</th>\n",
       "      <td>gun</td>\n",
       "      <td>25.0</td>\n",
       "      <td>grean</td>\n",
       "      <td>2.0</td>\n",
       "      <td>NaN</td>\n",
       "    </tr>\n",
       "    <tr>\n",
       "      <th>1</th>\n",
       "      <td>car</td>\n",
       "      <td>40.0</td>\n",
       "      <td>blue</td>\n",
       "      <td>3.0</td>\n",
       "      <td>NaN</td>\n",
       "    </tr>\n",
       "    <tr>\n",
       "      <th>2</th>\n",
       "      <td>gun</td>\n",
       "      <td>35.0</td>\n",
       "      <td>yellow</td>\n",
       "      <td>2.0</td>\n",
       "      <td>30.0</td>\n",
       "    </tr>\n",
       "    <tr>\n",
       "      <th>3</th>\n",
       "      <td>car</td>\n",
       "      <td>60.0</td>\n",
       "      <td>white</td>\n",
       "      <td>4.0</td>\n",
       "      <td>40.0</td>\n",
       "    </tr>\n",
       "    <tr>\n",
       "      <th>4</th>\n",
       "      <td>NaN</td>\n",
       "      <td>NaN</td>\n",
       "      <td>NaN</td>\n",
       "      <td>NaN</td>\n",
       "      <td>60.0</td>\n",
       "    </tr>\n",
       "  </tbody>\n",
       "</table>\n",
       "</div>"
      ],
      "text/plain": [
       "   toy  features   color  key  features\n",
       "0  gun      25.0   grean  2.0       NaN\n",
       "1  car      40.0    blue  3.0       NaN\n",
       "2  gun      35.0  yellow  2.0      30.0\n",
       "3  car      60.0   white  4.0      40.0\n",
       "4  NaN       NaN     NaN  NaN      60.0"
      ]
     },
     "execution_count": 63,
     "metadata": {},
     "output_type": "execute_result"
    }
   ],
   "source": [
    "concat = pd.concat([df , df2] , axis = 1)\n",
    "concat"
   ]
  },
  {
   "cell_type": "code",
   "execution_count": 64,
   "metadata": {},
   "outputs": [
    {
     "data": {
      "text/html": [
       "<div>\n",
       "<style scoped>\n",
       "    .dataframe tbody tr th:only-of-type {\n",
       "        vertical-align: middle;\n",
       "    }\n",
       "\n",
       "    .dataframe tbody tr th {\n",
       "        vertical-align: top;\n",
       "    }\n",
       "\n",
       "    .dataframe thead th {\n",
       "        text-align: right;\n",
       "    }\n",
       "</style>\n",
       "<table border=\"1\" class=\"dataframe\">\n",
       "  <thead>\n",
       "    <tr style=\"text-align: right;\">\n",
       "      <th></th>\n",
       "      <th>toy</th>\n",
       "      <th>features</th>\n",
       "      <th>color</th>\n",
       "      <th>key</th>\n",
       "      <th>0</th>\n",
       "    </tr>\n",
       "  </thead>\n",
       "  <tbody>\n",
       "    <tr>\n",
       "      <th>0</th>\n",
       "      <td>gun</td>\n",
       "      <td>25.0</td>\n",
       "      <td>grean</td>\n",
       "      <td>2.0</td>\n",
       "      <td>NaN</td>\n",
       "    </tr>\n",
       "    <tr>\n",
       "      <th>1</th>\n",
       "      <td>car</td>\n",
       "      <td>40.0</td>\n",
       "      <td>blue</td>\n",
       "      <td>3.0</td>\n",
       "      <td>NaN</td>\n",
       "    </tr>\n",
       "    <tr>\n",
       "      <th>2</th>\n",
       "      <td>gun</td>\n",
       "      <td>35.0</td>\n",
       "      <td>yellow</td>\n",
       "      <td>2.0</td>\n",
       "      <td>NaN</td>\n",
       "    </tr>\n",
       "    <tr>\n",
       "      <th>3</th>\n",
       "      <td>car</td>\n",
       "      <td>60.0</td>\n",
       "      <td>white</td>\n",
       "      <td>4.0</td>\n",
       "      <td>NaN</td>\n",
       "    </tr>\n",
       "    <tr>\n",
       "      <th>2</th>\n",
       "      <td>NaN</td>\n",
       "      <td>NaN</td>\n",
       "      <td>NaN</td>\n",
       "      <td>NaN</td>\n",
       "      <td>30.0</td>\n",
       "    </tr>\n",
       "    <tr>\n",
       "      <th>3</th>\n",
       "      <td>NaN</td>\n",
       "      <td>NaN</td>\n",
       "      <td>NaN</td>\n",
       "      <td>NaN</td>\n",
       "      <td>40.0</td>\n",
       "    </tr>\n",
       "    <tr>\n",
       "      <th>4</th>\n",
       "      <td>NaN</td>\n",
       "      <td>NaN</td>\n",
       "      <td>NaN</td>\n",
       "      <td>NaN</td>\n",
       "      <td>60.0</td>\n",
       "    </tr>\n",
       "  </tbody>\n",
       "</table>\n",
       "</div>"
      ],
      "text/plain": [
       "   toy  features   color  key     0\n",
       "0  gun      25.0   grean  2.0   NaN\n",
       "1  car      40.0    blue  3.0   NaN\n",
       "2  gun      35.0  yellow  2.0   NaN\n",
       "3  car      60.0   white  4.0   NaN\n",
       "2  NaN       NaN     NaN  NaN  30.0\n",
       "3  NaN       NaN     NaN  NaN  40.0\n",
       "4  NaN       NaN     NaN  NaN  60.0"
      ]
     },
     "execution_count": 64,
     "metadata": {},
     "output_type": "execute_result"
    }
   ],
   "source": [
    "concat = pd.concat([df , df2] , axis = 0)\n",
    "concat"
   ]
  }
 ],
 "metadata": {
  "colab": {
   "collapsed_sections": [],
   "name": "[Jupyter - Coach] Module 10 NumPy & Pandas.ipynb",
   "provenance": []
  },
  "kernelspec": {
   "display_name": "Python 3 (ipykernel)",
   "language": "python",
   "name": "python3"
  },
  "language_info": {
   "codemirror_mode": {
    "name": "ipython",
    "version": 3
   },
   "file_extension": ".py",
   "mimetype": "text/x-python",
   "name": "python",
   "nbconvert_exporter": "python",
   "pygments_lexer": "ipython3",
   "version": "3.11.7"
  }
 },
 "nbformat": 4,
 "nbformat_minor": 1
}
