{
 "cells": [
  {
   "cell_type": "code",
   "execution_count": 1,
   "id": "5ed877e6-15e2-422e-9e07-565c9f7299eb",
   "metadata": {},
   "outputs": [
    {
     "name": "stdout",
     "output_type": "stream",
     "text": [
      "[car info] color : Blue, speed : 60\n",
      "[car info] color : Red, speed : 100\n",
      "[car info] color : Blue, speed : 60\n",
      "[car info] color : Red, speed : 100\n"
     ]
    }
   ],
   "source": [
    "class Car :\n",
    "  color = 'White'\n",
    "  speed = 10\n",
    "\n",
    "  def info(self) :\n",
    "    return str('color : ' + self.color + ', speed : ' + str(self.speed))\n",
    "\n",
    "car_blue = Car()\n",
    "car_red = Car()\n",
    "\n",
    "car_blue.color = 'Blue'\n",
    "car_blue.speed = 60\n",
    "\n",
    "car_red.color = 'Red'\n",
    "car_red.speed = 100\n",
    "\n",
    "Car.color = 'Yellow'\n",
    "Car.speed = 50\n",
    "\n",
    "\n",
    "print('[car info]', car_blue.info())\n",
    "print('[car info]', car_red.info())\n",
    "\n",
    "Car.color = 'Black'\n",
    "print('[car info]', car_blue.info())\n",
    "print('[car info]', car_red.info())"
   ]
  },
  {
   "cell_type": "code",
   "execution_count": 1,
   "id": "b6b41399-69ca-451c-87c5-59ce55e92bce",
   "metadata": {},
   "outputs": [
    {
     "ename": "NameError",
     "evalue": "name 'color' is not defined",
     "output_type": "error",
     "traceback": [
      "\u001b[1;31m---------------------------------------------------------------------------\u001b[0m",
      "\u001b[1;31mNameError\u001b[0m                                 Traceback (most recent call last)",
      "Cell \u001b[1;32mIn[1], line 13\u001b[0m\n\u001b[0;32m     10\u001b[0m car_blue\u001b[38;5;241m.\u001b[39mcolor \u001b[38;5;241m=\u001b[39m \u001b[38;5;124m'\u001b[39m\u001b[38;5;124mBlue\u001b[39m\u001b[38;5;124m'\u001b[39m\n\u001b[0;32m     11\u001b[0m car_blue\u001b[38;5;241m.\u001b[39mspeed \u001b[38;5;241m=\u001b[39m \u001b[38;5;241m60\u001b[39m\n\u001b[1;32m---> 13\u001b[0m \u001b[38;5;28mprint\u001b[39m(\u001b[38;5;124m'\u001b[39m\u001b[38;5;124m[car info]\u001b[39m\u001b[38;5;124m'\u001b[39m, car_blue\u001b[38;5;241m.\u001b[39minfo())\n",
      "Cell \u001b[1;32mIn[1], line 6\u001b[0m, in \u001b[0;36mCar.info\u001b[1;34m(self)\u001b[0m\n\u001b[0;32m      5\u001b[0m \u001b[38;5;28;01mdef\u001b[39;00m \u001b[38;5;21minfo\u001b[39m(\u001b[38;5;28mself\u001b[39m) :\n\u001b[1;32m----> 6\u001b[0m   \u001b[38;5;28;01mreturn\u001b[39;00m \u001b[38;5;28mstr\u001b[39m(\u001b[38;5;124m'\u001b[39m\u001b[38;5;124mcolor : \u001b[39m\u001b[38;5;124m'\u001b[39m \u001b[38;5;241m+\u001b[39m color \u001b[38;5;241m+\u001b[39m \u001b[38;5;124m'\u001b[39m\u001b[38;5;124m, speed : \u001b[39m\u001b[38;5;124m'\u001b[39m \u001b[38;5;241m+\u001b[39m \u001b[38;5;28mstr\u001b[39m(speed))\n",
      "\u001b[1;31mNameError\u001b[0m: name 'color' is not defined"
     ]
    }
   ],
   "source": [
    "class Car :\n",
    "  color = ''\n",
    "  speed = 0\n",
    "\n",
    "  def info(self) :\n",
    "    return str('color : ' + color + ', speed : ' + str(speed))   # info 내부에서 color, speed를 찾기때문에 오류발생\n",
    "\n",
    "car_blue = Car()\n",
    "\n",
    "car_blue.color = 'Blue'\n",
    "car_blue.speed = 60\n",
    "\n",
    "print('[car info]', car_blue.info())"
   ]
  },
  {
   "cell_type": "code",
   "execution_count": 3,
   "id": "f2377db1-4d66-4800-9401-cabc6f1c8001",
   "metadata": {},
   "outputs": [
    {
     "name": "stdout",
     "output_type": "stream",
     "text": [
      "[car info] color : Red, speed : 80\n",
      "[car info] color : Blue, speed : 80\n"
     ]
    }
   ],
   "source": [
    "class CarI :\n",
    "  def __init__(self, c, s) :\n",
    "    self.color = c\n",
    "    self.speed = s\n",
    "\n",
    "  def info(self) :\n",
    "    return str('color : ' + self.color + ', speed : ' + str(self.speed))\n",
    "\n",
    "car_red = CarI('Red', 80)\n",
    "\n",
    "print('[car info]', car_red.info())\n",
    "\n",
    "car_red.color = 'Blue'\n",
    "print('[car info]', car_red.info())"
   ]
  },
  {
   "cell_type": "code",
   "execution_count": 4,
   "id": "f952c792-aaeb-4a30-8c2e-c7253ec8f720",
   "metadata": {},
   "outputs": [
    {
     "name": "stdout",
     "output_type": "stream",
     "text": [
      "Canny is meow\n",
      "Canny is 2 years old\n",
      "Harry is meow\n",
      "Harry is 3 years old\n"
     ]
    }
   ],
   "source": [
    "class Cat :\n",
    "  def __init__(self, n, a)  :\n",
    "    self.name = n\n",
    "    self.age = a\n",
    "\n",
    "  def meow(self) :\n",
    "    print(self.name, 'is meow')\n",
    "\n",
    "x = Cat('Canny', 2)\n",
    "y = Cat('Harry', 3)\n",
    "\n",
    "x.meow()\n",
    "print(x.name, 'is', x.age, 'years old')\n",
    "y.meow()\n",
    "print(y.name, 'is', y.age, 'years old')"
   ]
  },
  {
   "cell_type": "markdown",
   "id": "b2553d2c-2992-4931-8e17-278a2f987ef7",
   "metadata": {},
   "source": [
    "클래스 상속 "
   ]
  },
  {
   "cell_type": "code",
   "execution_count": 5,
   "id": "bc356593-c701-49fa-9a29-81a8d38060b7",
   "metadata": {},
   "outputs": [
    {
     "name": "stdout",
     "output_type": "stream",
     "text": [
      "16\n"
     ]
    }
   ],
   "source": [
    "class FourCal:\n",
    "  def __init__(self, first, second) :\n",
    "    self.first = first\n",
    "    self.second = second\n",
    "\n",
    "  def add(self) :\n",
    "    result = self.first + self.second\n",
    "    return result\n",
    "\n",
    "  def sub(self) :\n",
    "    result = self.first - self.second\n",
    "    return result\n",
    "\n",
    "  def mul(self) :\n",
    "    result = self.first * self.second\n",
    "    return result\n",
    "\n",
    "  def div(self) :\n",
    "    result = self.first / self.second\n",
    "    return result\n",
    "\n",
    "\n",
    "class MoreFourCal(FourCal) :\n",
    "  def pow(self) :\n",
    "    result = self.first ** self.second\n",
    "    return result\n",
    "\n",
    "a = MoreFourCal(4, 2)\n",
    "print(a.pow())"
   ]
  },
  {
   "cell_type": "markdown",
   "id": "7369d14f-16d7-418a-b913-24b0a9625469",
   "metadata": {},
   "source": [
    "Overriding"
   ]
  },
  {
   "cell_type": "code",
   "execution_count": 9,
   "id": "795ead13-b771-4e3d-84a4-249741ea9d97",
   "metadata": {},
   "outputs": [
    {
     "name": "stdout",
     "output_type": "stream",
     "text": [
      "0\n"
     ]
    }
   ],
   "source": [
    "class SafeFourCal(FourCal) :\n",
    "  def div(self) :\n",
    "    if self.second == 0 :\n",
    "      return 0\n",
    "    else :\n",
    "      return self.first / self.second\n",
    "\n",
    "a = SafeFourCal(4, 0)\n",
    "print(a.div())\n",
    "\n",
    "#b = MoreFourCal(4,0)    #ZeroDivisionError: division by zero\n",
    "#print(b.div())"
   ]
  },
  {
   "cell_type": "code",
   "execution_count": null,
   "id": "3ecd408c-dbeb-4a16-9cd3-1d1d9b6ea1d2",
   "metadata": {},
   "outputs": [],
   "source": [
    "#%%writefile calc.py   #%%는 Colab의 매직 명령어로 writefile은 file을 만드는 명령어이다.\n",
    "%%writefile calc.py\n",
    "def plus(a, b) :\n",
    "  return a + b\n",
    "\n",
    "def minus(a, b) :\n",
    "  return a - b\n",
    "\n",
    "def mul(a, b) :\n",
    "  return a * b\n",
    "\n",
    "def div(a, b) :\n",
    "  return a / b"
   ]
  },
  {
   "cell_type": "code",
   "execution_count": null,
   "id": "5c2cda09-4a5e-47a9-ac7e-6726c8bac0b9",
   "metadata": {},
   "outputs": [],
   "source": [
    "!dir"
   ]
  },
  {
   "cell_type": "code",
   "execution_count": null,
   "id": "3cc7833d-fb47-46d5-948c-3d42d5ebecd1",
   "metadata": {},
   "outputs": [],
   "source": [
    "import calc\n",
    "\n",
    "result = calc.plus(10, 20)\n",
    "print(result)"
   ]
  },
  {
   "cell_type": "code",
   "execution_count": null,
   "id": "3aedc853-bc7a-4294-9b69-9947598a3953",
   "metadata": {},
   "outputs": [],
   "source": [
    "import calc as c\n",
    "\n",
    "result = c.minus(5, 4)\n",
    "print(result)"
   ]
  },
  {
   "cell_type": "code",
   "execution_count": null,
   "id": "cb59ae5c-5c11-45f2-8f5e-c095213026ef",
   "metadata": {},
   "outputs": [],
   "source": [
    "from calc import mul\n",
    "\n",
    "result = mul(10, 5)\n",
    "print(result)"
   ]
  },
  {
   "cell_type": "markdown",
   "id": "70de8996-2cfe-483e-bc2c-aa3542b9dbd2",
   "metadata": {},
   "source": [
    "리스트 컴프리헨션 for "
   ]
  },
  {
   "cell_type": "code",
   "execution_count": 2,
   "id": "ff1bd7dc-5f58-41ec-b6c6-a908e1527147",
   "metadata": {},
   "outputs": [
    {
     "name": "stdout",
     "output_type": "stream",
     "text": [
      "[1, 4, 9, 16, 25]\n"
     ]
    }
   ],
   "source": [
    "#기존 방법\n",
    "nums = [1, 2, 3, 4, 5]\n",
    "squared_nums = []\n",
    "for num in nums :\n",
    "    squared_nums.append(num**2)\n",
    "\n",
    "print(squared_nums)"
   ]
  },
  {
   "cell_type": "code",
   "execution_count": 3,
   "id": "dc33ec74-f07e-480d-bf1c-78245fe108d8",
   "metadata": {},
   "outputs": [
    {
     "name": "stdout",
     "output_type": "stream",
     "text": [
      "[1, 4, 9, 16, 25]\n"
     ]
    }
   ],
   "source": [
    "nums = [1, 2, 3, 4, 5]\n",
    "squared_nums = [num**2 for num in nums]\n",
    "print(squared_nums)"
   ]
  },
  {
   "cell_type": "code",
   "execution_count": 5,
   "id": "7507237d-5e47-425a-992c-0b636611944e",
   "metadata": {},
   "outputs": [
    {
     "name": "stdout",
     "output_type": "stream",
     "text": [
      "['H', 'E', 'L', 'L', 'O']\n"
     ]
    }
   ],
   "source": [
    "#기존 방법\n",
    "s = 'hello'\n",
    "capitalized_s = []\n",
    "for char in s :\n",
    "    capitalized_s.append(char.upper())\n",
    "print(capitalized_s)"
   ]
  },
  {
   "cell_type": "code",
   "execution_count": 6,
   "id": "53b2e6d8-b7d6-488c-b206-4c2bf903adfc",
   "metadata": {},
   "outputs": [
    {
     "name": "stdout",
     "output_type": "stream",
     "text": [
      "['H', 'E', 'L', 'L', 'O']\n"
     ]
    }
   ],
   "source": [
    "s = 'hello'\n",
    "capitalized_s = [char.upper() for char in s]\n",
    "print(capitalized_s)"
   ]
  },
  {
   "cell_type": "code",
   "execution_count": 7,
   "id": "bd20eb13-5038-454e-8650-63e881928258",
   "metadata": {},
   "outputs": [
    {
     "name": "stdout",
     "output_type": "stream",
     "text": [
      "[2, 4, 6, 8, 10]\n"
     ]
    }
   ],
   "source": [
    "numbers = [1, 2, 3, 4, 5, 6, 7, 8, 9, 10]\n",
    "#기존 방법\n",
    "even_numbers = []\n",
    "for number in numbers :\n",
    "    if number % 2 == 0 :\n",
    "        even_numbers.append(number)\n",
    "print(even_numbers)"
   ]
  },
  {
   "cell_type": "code",
   "execution_count": 8,
   "id": "369c2ce5-d517-43b0-bf43-e51823167618",
   "metadata": {},
   "outputs": [
    {
     "name": "stdout",
     "output_type": "stream",
     "text": [
      "[2, 4, 6, 8, 10]\n"
     ]
    }
   ],
   "source": [
    "even_numbers = [x for x in numbers if x % 2 == 0]\n",
    "print(even_numbers)"
   ]
  },
  {
   "cell_type": "markdown",
   "id": "a63a35da-82a9-4c7f-9f42-f9c9822982bc",
   "metadata": {},
   "source": [
    "람다함수 "
   ]
  },
  {
   "cell_type": "code",
   "execution_count": 9,
   "id": "55662995-486e-4e06-bf49-83708bf92ca0",
   "metadata": {},
   "outputs": [
    {
     "name": "stdout",
     "output_type": "stream",
     "text": [
      "7\n",
      "7\n"
     ]
    }
   ],
   "source": [
    "def add(a, b):\n",
    "    return a + b\n",
    "\n",
    "add_lambda = lambda a, b : a + b\n",
    "\n",
    "print(add(3, 4))\n",
    "print(add_lambda(3, 4))"
   ]
  },
  {
   "cell_type": "code",
   "execution_count": 12,
   "id": "bae67a61-d2ed-4a0b-97a5-73875b50f02f",
   "metadata": {},
   "outputs": [
    {
     "name": "stdout",
     "output_type": "stream",
     "text": [
      "[(3, 1), (7, 2), (1, 3), (5, 6)]\n"
     ]
    }
   ],
   "source": [
    "points = [(1, 3), (3, 1), (5, 6), (7, 2)]\n",
    "points_sorted = sorted(points, key=lambda x : x[1])\n",
    "print(points_sorted)"
   ]
  },
  {
   "cell_type": "code",
   "execution_count": 13,
   "id": "0fa957b3-e1a5-4d6d-8853-3bd5d83f5c95",
   "metadata": {},
   "outputs": [
    {
     "name": "stdout",
     "output_type": "stream",
     "text": [
      "[1, 4, 9, 16, 25]\n"
     ]
    }
   ],
   "source": [
    "#각 요소의 제곱을 계산하는 함수\n",
    "def square(number) :\n",
    "    return number ** 2\n",
    "\n",
    "numbers = [1, 2, 3, 4, 5]\n",
    "squared = map(square, numbers)\n",
    "print(list(squared))"
   ]
  },
  {
   "cell_type": "code",
   "execution_count": 14,
   "id": "260f272f-2589-48ad-8196-7f0cec1f1aff",
   "metadata": {},
   "outputs": [
    {
     "name": "stdout",
     "output_type": "stream",
     "text": [
      "[5, 7, 9]\n"
     ]
    }
   ],
   "source": [
    "def add(a, b) :\n",
    "    return a + b\n",
    "\n",
    "num1 = [1, 2, 3]\n",
    "num2 = [4, 5, 6]\n",
    "result = map(add, num1, num2)\n",
    "print(list(result))"
   ]
  },
  {
   "cell_type": "code",
   "execution_count": 15,
   "id": "bc29e56b-4106-4c9f-a7d6-0c2cd128d9af",
   "metadata": {},
   "outputs": [
    {
     "name": "stdout",
     "output_type": "stream",
     "text": [
      "[1, 4, 9, 16, 25]\n"
     ]
    }
   ],
   "source": [
    "nums = [1, 2, 3, 4, 5]\n",
    "squared_nums = map(lambda x : x**2, nums)\n",
    "print(list(squared_nums))"
   ]
  },
  {
   "cell_type": "code",
   "execution_count": 16,
   "id": "270429e7-2aba-4ace-8d65-5984100cf79c",
   "metadata": {},
   "outputs": [
    {
     "name": "stdout",
     "output_type": "stream",
     "text": [
      "['HELLO', 'WORLD', 'PYTHON']\n"
     ]
    }
   ],
   "source": [
    "words = ['hello', 'world', 'python']\n",
    "uppercase_words = map(lambda x : x.upper(), words)\n",
    "print(list(uppercase_words))"
   ]
  },
  {
   "cell_type": "code",
   "execution_count": 18,
   "id": "9f382091-f5bf-48a2-8a88-3cc35cc6c387",
   "metadata": {},
   "outputs": [
    {
     "name": "stdout",
     "output_type": "stream",
     "text": [
      "[1, 2, 3]\n"
     ]
    }
   ],
   "source": [
    "numbers = [-2, -1, 0, 1, 2, 3, -3, -4]\n",
    "#양수만 필터링하는 함수\n",
    "def is_positive(number) :\n",
    "    return number > 0\n",
    "\n",
    "positive_numbers = filter(is_positive, numbers)\n",
    "print(list(positive_numbers))"
   ]
  },
  {
   "cell_type": "code",
   "execution_count": 20,
   "id": "e19c08de-45b0-4ccf-aa58-e0989d9a7ae3",
   "metadata": {},
   "outputs": [
    {
     "name": "stdout",
     "output_type": "stream",
     "text": [
      "['apple', 'apricot']\n"
     ]
    }
   ],
   "source": [
    "words = ['apple', 'banana', 'apricot']\n",
    "#'a'로 시작하는지 확인하는 함수 \n",
    "def starts_with_a(word) :\n",
    "    return word.startswith('a')\n",
    "\n",
    "a_words = filter(starts_with_a, words)\n",
    "print(list(a_words))"
   ]
  },
  {
   "cell_type": "code",
   "execution_count": 22,
   "id": "149a7c39-9f87-43b6-8b67-04b912a870b2",
   "metadata": {},
   "outputs": [
    {
     "name": "stdout",
     "output_type": "stream",
     "text": [
      "[2, 4, 6, 8, 10]\n"
     ]
    }
   ],
   "source": [
    "numbers = [1, 2, 3, 4, 5, 6, 7, 8, 9, 10]\n",
    "even_numbers = filter(lambda x : x % 2 == 0, numbers)\n",
    "print(list(even_numbers))"
   ]
  },
  {
   "cell_type": "code",
   "execution_count": 23,
   "id": "36c13f19-de3d-480d-9250-31af2ec93933",
   "metadata": {},
   "outputs": [
    {
     "name": "stdout",
     "output_type": "stream",
     "text": [
      "['apple', 'atom', 'book']\n"
     ]
    }
   ],
   "source": [
    "words = ['apple', 'bat', 'bar', 'atom', 'book', 'cup']\n",
    "long_words = filter(lambda x : len(x) > 3, words)\n",
    "print(list(long_words))"
   ]
  },
  {
   "cell_type": "markdown",
   "id": "998f8470-c157-4932-8024-4f34a4c57f27",
   "metadata": {},
   "source": [
    "Numpy 배열"
   ]
  },
  {
   "cell_type": "code",
   "execution_count": 29,
   "id": "cad14e6f-6d31-4e7a-a81d-7ec6cef9574b",
   "metadata": {},
   "outputs": [
    {
     "name": "stdout",
     "output_type": "stream",
     "text": [
      "1차원 배열 : [1 2 3 4 5]\n",
      "2차원 배열 :\n",
      " [[1 2 3]\n",
      " [4 5 6]]\n"
     ]
    }
   ],
   "source": [
    "import numpy as np\n",
    "\n",
    "#1차원 배열 생성\n",
    "arr1d = np.array([1, 2, 3, 4, 5])\n",
    "print('1차원 배열 :', arr1d)\n",
    "\n",
    "#2차원 배열 생성\n",
    "arr2d = np.array([[1, 2, 3], [4, 5, 6]])\n",
    "print('2차원 배열 :\\n', arr2d)"
   ]
  },
  {
   "cell_type": "code",
   "execution_count": 30,
   "id": "9aa45b89-3475-40af-b1d0-df0d7ca74f80",
   "metadata": {},
   "outputs": [
    {
     "name": "stdout",
     "output_type": "stream",
     "text": [
      "1차원 배열 형태 : (5,)\n",
      "2차원 배열 형태 : (2, 3)\n",
      "1차원 배열 데이터 타입 : int32\n"
     ]
    }
   ],
   "source": [
    "#배열의 형태(shape)와 데이터 타입(dtype) 조회 \n",
    "print('1차원 배열 형태 :', arr1d.shape)\n",
    "print('2차원 배열 형태 :', arr2d.shape)\n",
    "print('1차원 배열 데이터 타입 :', arr1d.dtype)"
   ]
  },
  {
   "cell_type": "code",
   "execution_count": 31,
   "id": "b8181248-d6e9-470f-ae00-4554efc3289f",
   "metadata": {},
   "outputs": [
    {
     "name": "stdout",
     "output_type": "stream",
     "text": [
      "1차원 배열의 첫 번째 요소: 1\n",
      "2차원 배열의 첫번째 행, 첫 번째 요소: 1\n",
      "수정된 1차원 배열: [10  2  3  4  5]\n"
     ]
    }
   ],
   "source": [
    "#1차원 배열에서 요소 접근\n",
    "print('1차원 배열의 첫 번째 요소:', arr1d[0])\n",
    "#2차원 배열에서 요소 접근 \n",
    "print('2차원 배열의 첫번째 행, 첫 번째 요소:', arr2d[0, 0])\n",
    "#배열 요소 수정\n",
    "arr1d[0] = 10\n",
    "print('수정된 1차원 배열:', arr1d)"
   ]
  },
  {
   "cell_type": "code",
   "execution_count": 62,
   "id": "5956d7bb-85a3-45f8-b456-9cdb8b63fd90",
   "metadata": {},
   "outputs": [
    {
     "name": "stdout",
     "output_type": "stream",
     "text": [
      "[[1 2 3 4 5 6]]\n",
      "Shape : (1, 6)\n",
      "Dimension : 2\n"
     ]
    }
   ],
   "source": [
    "#배열형태 변경\n",
    "arr2d_reshaped = arr2d.reshape(1, 6)\n",
    "print(arr2d_reshaped)\n",
    "print('Shape :', arr2d_reshaped.shape)\n",
    "print('Dimension :', arr2d_reshaped.ndim)"
   ]
  },
  {
   "cell_type": "code",
   "execution_count": 33,
   "id": "db8d43a8-ab67-459b-bac5-80310bdc0e22",
   "metadata": {},
   "outputs": [
    {
     "name": "stdout",
     "output_type": "stream",
     "text": [
      "1차원 배열 슬라이싱 결과 : [2 3 4]\n",
      "2차원 배열의 첫 번째 행: [1 2 3]\n",
      "2차원 배열의 첫 번째 열: [1 4]\n"
     ]
    }
   ],
   "source": [
    "#1차원 배열 슬라이싱\n",
    "slice1d = arr1d[1:4]\n",
    "print('1차원 배열 슬라이싱 결과 :', slice1d)\n",
    "\n",
    "#2차원 배열에서 첫 번째 행 선택 \n",
    "row1 = arr2d[0, :]\n",
    "print('2차원 배열의 첫 번째 행:', row1)\n",
    "\n",
    "#2차원 배열에서 첫 번째 열 선택 \n",
    "col1 = arr2d[:, 0]\n",
    "print('2차원 배열의 첫 번째 열:', col1)"
   ]
  },
  {
   "cell_type": "code",
   "execution_count": 34,
   "id": "3150fda0-0d40-4c14-806e-e72e691d4a9d",
   "metadata": {},
   "outputs": [
    {
     "name": "stdout",
     "output_type": "stream",
     "text": [
      "[6 7 8]\n"
     ]
    }
   ],
   "source": [
    "import numpy as np\n",
    "\n",
    "arr = np.array([1, 2, 3])\n",
    "# 스칼라와 배열의 덧셈 \n",
    "result = arr + 5\n",
    "print(result)"
   ]
  },
  {
   "cell_type": "code",
   "execution_count": 61,
   "id": "173fad83-df5d-4e13-b483-84f5799f9a15",
   "metadata": {},
   "outputs": [
    {
     "name": "stdout",
     "output_type": "stream",
     "text": [
      "[[2 4 6]\n",
      " [5 7 9]]\n",
      "Shape : (2, 3)\n",
      "Dimension : 2\n"
     ]
    }
   ],
   "source": [
    "arr2d = np.array([[1, 2, 3], [4, 5, 6]])\n",
    "arr1d = np.array([1, 2, 3])\n",
    "\n",
    "# 배열 덧셈\n",
    "result = arr2d + arr1d\n",
    "print(result)\n",
    "print('Shape :', result.shape)\n",
    "print('Dimension :', result.ndim)"
   ]
  },
  {
   "cell_type": "code",
   "execution_count": 37,
   "id": "e1b677c5-3ab6-4795-9b42-e3725a8d5117",
   "metadata": {},
   "outputs": [
    {
     "name": "stdout",
     "output_type": "stream",
     "text": [
      "       City  Population  Jobs\n",
      "Num                          \n",
      "1     Pusan         300   100\n",
      "2     Seoul        1000   900\n",
      "3     Ulsan         100   300\n",
      "4     Suwon         150   400\n",
      "5    Sejong          50   200\n",
      "6    Daegoo          90    85\n"
     ]
    }
   ],
   "source": [
    "import pandas as pd\n",
    "\n",
    "d = {'Num' : [1, 2, 3, 4, 5], 'City' : ['Pusan', 'Seoul', 'Ulsan', 'Suwon', 'Sejong']}\n",
    "df = pd.DataFrame(d).set_index('Num')\n",
    "df['Population'] = [300, 1000, 100, 150, 50]\n",
    "df['Jobs'] = [100, 900, 300, 400, 200]\n",
    "df.loc[6] = ['Daegoo', 90, 85]\n",
    "print(df)"
   ]
  },
  {
   "cell_type": "code",
   "execution_count": 38,
   "id": "f2382103-6dab-43b1-97d7-a67c620d1be0",
   "metadata": {},
   "outputs": [
    {
     "name": "stdout",
     "output_type": "stream",
     "text": [
      "Num\n",
      "1     Pusan\n",
      "2     Seoul\n",
      "3     Ulsan\n",
      "4     Suwon\n",
      "5    Sejong\n",
      "6    Daegoo\n",
      "Name: City, dtype: object\n"
     ]
    }
   ],
   "source": [
    "print(df['City'])"
   ]
  },
  {
   "cell_type": "code",
   "execution_count": 39,
   "id": "0e62f676-8a6d-4a28-a9c6-e9a9621e4bda",
   "metadata": {},
   "outputs": [
    {
     "name": "stdout",
     "output_type": "stream",
     "text": [
      "       City  Jobs\n",
      "Num              \n",
      "1     Pusan   100\n",
      "2     Seoul   900\n",
      "3     Ulsan   300\n",
      "4     Suwon   400\n",
      "5    Sejong   200\n",
      "6    Daegoo    85\n"
     ]
    }
   ],
   "source": [
    "print(df[['City', 'Jobs']])"
   ]
  },
  {
   "cell_type": "code",
   "execution_count": 44,
   "id": "e5691d5f-ce1d-4e53-a400-cbd44340b440",
   "metadata": {},
   "outputs": [
    {
     "name": "stdout",
     "output_type": "stream",
     "text": [
      "City          Pusan\n",
      "Population      300\n",
      "Jobs            100\n",
      "Name: 1, dtype: object\n"
     ]
    }
   ],
   "source": [
    "print(df.loc[1])"
   ]
  },
  {
   "cell_type": "code",
   "execution_count": 43,
   "id": "ba2b64bb-9eaa-4498-83e1-3a2c723fe0b2",
   "metadata": {},
   "outputs": [
    {
     "name": "stdout",
     "output_type": "stream",
     "text": [
      "      City  Population  Jobs\n",
      "Num                         \n",
      "1    Pusan         300   100\n",
      "3    Ulsan         100   300\n"
     ]
    }
   ],
   "source": [
    "print(df.loc[[1, 3]])"
   ]
  },
  {
   "cell_type": "code",
   "execution_count": 46,
   "id": "f6ccb3ce-1324-498f-8246-c061758cf5bb",
   "metadata": {},
   "outputs": [
    {
     "name": "stdout",
     "output_type": "stream",
     "text": [
      "Pusan\n"
     ]
    }
   ],
   "source": [
    "print(df.loc[1, 'City'])"
   ]
  },
  {
   "cell_type": "code",
   "execution_count": 45,
   "id": "3f0254b2-56df-472d-a927-91c6e22cc26d",
   "metadata": {},
   "outputs": [
    {
     "name": "stdout",
     "output_type": "stream",
     "text": [
      "      City  Jobs\n",
      "Num             \n",
      "1    Pusan   100\n",
      "3    Ulsan   300\n"
     ]
    }
   ],
   "source": [
    "print(df.loc[[1, 3], ['City','Jobs']])"
   ]
  },
  {
   "cell_type": "code",
   "execution_count": 47,
   "id": "06a35379-381d-4011-9860-8c9c61e67715",
   "metadata": {},
   "outputs": [
    {
     "name": "stdout",
     "output_type": "stream",
     "text": [
      "      City  Population  Jobs\n",
      "Num                         \n",
      "1    Pusan         300   100\n",
      "2    Seoul        1000   900\n",
      "4    Suwon         150   400\n"
     ]
    }
   ],
   "source": [
    "print(df.loc[df['Population'] > 100])"
   ]
  },
  {
   "cell_type": "code",
   "execution_count": 48,
   "id": "1af5ee1f-9d24-4a28-ae15-49dd33391cad",
   "metadata": {},
   "outputs": [
    {
     "name": "stdout",
     "output_type": "stream",
     "text": [
      "      City  Jobs\n",
      "Num             \n",
      "1    Pusan   100\n",
      "2    Seoul   900\n",
      "4    Suwon   400\n"
     ]
    }
   ],
   "source": [
    "print(df.loc[df['Population'] > 100, ['City', 'Jobs']])"
   ]
  },
  {
   "cell_type": "code",
   "execution_count": 49,
   "id": "9a4e377a-ce42-41c0-a8e0-439c0a29c2a5",
   "metadata": {},
   "outputs": [
    {
     "name": "stdout",
     "output_type": "stream",
     "text": [
      "      City  Jobs\n",
      "Num             \n",
      "1    Pusan   100\n",
      "3    Ulsan   300\n"
     ]
    }
   ],
   "source": [
    "print(df.iloc[[0, 2], [0, 2]])"
   ]
  },
  {
   "cell_type": "code",
   "execution_count": 50,
   "id": "c181af79-c754-4150-a092-c24839d27941",
   "metadata": {},
   "outputs": [
    {
     "name": "stdout",
     "output_type": "stream",
     "text": [
      "      City  Population\n",
      "Num                   \n",
      "1    Pusan         300\n",
      "2    Seoul        1000\n"
     ]
    }
   ],
   "source": [
    "print(df.iloc[:2, :2])"
   ]
  },
  {
   "cell_type": "code",
   "execution_count": 51,
   "id": "6ff4b854-f399-42cb-af5a-58f686b97607",
   "metadata": {},
   "outputs": [
    {
     "name": "stdout",
     "output_type": "stream",
     "text": [
      "City          Pusan\n",
      "Population      300\n",
      "Jobs            100\n",
      "Name: 1, dtype: object\n"
     ]
    }
   ],
   "source": [
    "print(df.iloc[0])"
   ]
  },
  {
   "cell_type": "code",
   "execution_count": 64,
   "id": "d25ee355-d2cd-4b0c-99e5-bf89e45392b5",
   "metadata": {},
   "outputs": [
    {
     "name": "stdout",
     "output_type": "stream",
     "text": [
      "       City  Population  Jobs\n",
      "Num                          \n",
      "1     Pusan         300   100\n",
      "2     Seoul        1000   900\n",
      "3     Ulsan         100   300\n",
      "4     Suwon         150   400\n",
      "5    Sejong          50   200\n",
      "6    Daegoo          90    85\n"
     ]
    }
   ],
   "source": [
    "print(df.iloc[:, :])"
   ]
  },
  {
   "cell_type": "code",
   "execution_count": 67,
   "id": "07e8bb4e-54d5-4a6d-803c-0bd915fb6403",
   "metadata": {},
   "outputs": [
    {
     "name": "stdout",
     "output_type": "stream",
     "text": [
      "       City  Population  Jobs\n",
      "Num                          \n",
      "1     Pusan         300   100\n",
      "3     Ulsan         100   300\n",
      "4     Suwon         150   400\n",
      "5    Sejong          50   200\n",
      "6    Daegoo          90    85\n"
     ]
    }
   ],
   "source": [
    "# 2행 삭제\n",
    "df1 = df.drop(2)\n",
    "print(df1)"
   ]
  },
  {
   "cell_type": "code",
   "execution_count": 68,
   "id": "ecf87872-f69b-4044-bc76-4f0da3acc572",
   "metadata": {},
   "outputs": [
    {
     "name": "stdout",
     "output_type": "stream",
     "text": [
      "       City  Population\n",
      "Num                    \n",
      "1     Pusan         300\n",
      "2     Seoul        1000\n",
      "3     Ulsan         100\n",
      "4     Suwon         150\n",
      "5    Sejong          50\n",
      "6    Daegoo          90\n"
     ]
    }
   ],
   "source": [
    "# 'Jobs' 열 삭제\n",
    "df2 = df.drop('Jobs', axis=1)\n",
    "print(df2)\n"
   ]
  },
  {
   "cell_type": "markdown",
   "id": "89c0415d-0782-4427-ad9b-dc33542f1f8a",
   "metadata": {},
   "source": [
    "Matplotlib "
   ]
  },
  {
   "cell_type": "code",
   "execution_count": 54,
   "id": "c6ca4d72-3499-4379-8dd0-19ddab601007",
   "metadata": {},
   "outputs": [
    {
     "data": {
      "image/png": "[encoded data removed]",
      "text/plain": [
       "<Figure size 640x480 with 1 Axes>"
      ]
     },
     "metadata": {},
     "output_type": "display_data"
    }
   ],
   "source": [
    "import matplotlib.pyplot as plt\n",
    "\n",
    "#데이터 생성\n",
    "x = [1, 2, 3, 4, 5]\n",
    "y = [2, 3, 5, 7, 9]\n",
    "\n",
    "# 선그래프 그래기\n",
    "plt.plot(x, y, marker='o', linestyle='-')\n",
    "\n",
    "#그래프 제목과 축 레이블 설정\n",
    "plt.title('Line Plot Example')\n",
    "plt.xlabel('X-axis')\n",
    "plt.ylabel('Y-axis')\n",
    "\n",
    "#그래프 보여주기\n",
    "plt.show()"
   ]
  },
  {
   "cell_type": "code",
   "execution_count": 57,
   "id": "564e65eb-8552-4a6b-9594-1b7cd13a4100",
   "metadata": {},
   "outputs": [
    {
     "data": {
      "image/png": "[encoded data removed]",
      "text/plain": [
       "<Figure size 640x480 with 1 Axes>"
      ]
     },
     "metadata": {},
     "output_type": "display_data"
    }
   ],
   "source": [
    "import matplotlib.pyplot as plt\n",
    "\n",
    "#데이터 생성\n",
    "x = [1, 2, 3, 4, 5]\n",
    "y = [2, 3, 5, 7, 11]\n",
    "\n",
    "#산점도 그래프 그래기\n",
    "plt.scatter(x, y, marker='o', color='red')\n",
    "\n",
    "#그래프 제목과 축 레이블 설정\n",
    "plt.title('Scatter Plot Example')\n",
    "plt.xlabel('X-axis')\n",
    "plt.ylabel('Y-axis')\n",
    "\n",
    "#그래프 보여주기\n",
    "plt.show()"
   ]
  },
  {
   "cell_type": "code",
   "execution_count": 58,
   "id": "ae541da7-ace2-49c4-8ac3-e924a425f2de",
   "metadata": {},
   "outputs": [
    {
     "data": {
      "image/png": "[encoded data removed]",
      "text/plain": [
       "<Figure size 640x480 with 1 Axes>"
      ]
     },
     "metadata": {},
     "output_type": "display_data"
    }
   ],
   "source": [
    "import matplotlib.pyplot as plt\n",
    "\n",
    "#데이터 생성\n",
    "x = ['A', 'B', 'C', 'D', 'E']\n",
    "y = [20, 35, 30, 25, 40]\n",
    "\n",
    "#막대 그래프 그래기\n",
    "plt.bar(x, y, color='skyblue')\n",
    "\n",
    "#그래프 제목과 축 레이블 설정\n",
    "plt.title('Bar Plot Example')\n",
    "plt.xlabel('X-axis')\n",
    "plt.ylabel('Y-axis')\n",
    "\n",
    "#그래프 보여주기\n",
    "plt.show()"
   ]
  },
  {
   "cell_type": "code",
   "execution_count": 59,
   "id": "a5fbab9e-4f83-41ae-8bad-decfc3ab11c5",
   "metadata": {},
   "outputs": [
    {
     "data": {
      "image/png": "[encoded data removed]",
      "text/plain": [
       "<Figure size 640x480 with 1 Axes>"
      ]
     },
     "metadata": {},
     "output_type": "display_data"
    }
   ],
   "source": [
    "import matplotlib.pyplot as plt\n",
    "import numpy as np\n",
    "\n",
    "#데이터 생성 (정규 분포를 따르는 난수 생성) \n",
    "data = np.random.randn(1000)\n",
    "\n",
    "#히스토그램 그래기\n",
    "plt.hist(data, bins=30, color='green', alpha=0.7)\n",
    "\n",
    "#그래프 제목과 축 레이블 설정\n",
    "plt.title('Histogram Example')\n",
    "plt.xlabel('Value')\n",
    "plt.ylabel('Frequency')\n",
    "\n",
    "#그래프 보여주기\n",
    "plt.show()"
   ]
  },
  {
   "cell_type": "code",
   "execution_count": null,
   "id": "6621c067-f503-4d8d-a9a3-d6cb08bdd65d",
   "metadata": {},
   "outputs": [],
   "source": []
  }
 ],
 "metadata": {
  "kernelspec": {
   "display_name": "Python 3 (ipykernel)",
   "language": "python",
   "name": "python3"
  },
  "language_info": {
   "codemirror_mode": {
    "name": "ipython",
    "version": 3
   },
   "file_extension": ".py",
   "mimetype": "text/x-python",
   "name": "python",
   "nbconvert_exporter": "python",
   "pygments_lexer": "ipython3",
   "version": "3.11.7"
  }
 },
 "nbformat": 4,
 "nbformat_minor": 5
}
