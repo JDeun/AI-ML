{
 "cells": [
  {
   "cell_type": "code",
   "execution_count": 18,
   "metadata": {
    "colab": {
     "base_uri": "https://localhost:8080/"
    },
    "id": "m6dhBMPtWdDX",
    "outputId": "f06b9160-5f97-43d6-a277-1160875129be"
   },
   "outputs": [
    {
     "name": "stdout",
     "output_type": "stream",
     "text": [
      "(150, 5)\n"
     ]
    }
   ],
   "source": [
    "import pandas as pd\n",
    "import matplotlib.pyplot as plt\n",
    "import numpy as np\n",
    "\n",
    "url = 'https://gist.github.com/netj/8836201/raw/6f9306ad21398ea43cba4f7d537619d0e07d5ae3/iris.csv'\n",
    "iris = pd.read_csv(url)\n",
    "\n",
    "print(iris.shape)"
   ]
  },
  {
   "cell_type": "code",
   "execution_count": 19,
   "metadata": {
    "colab": {
     "base_uri": "https://localhost:8080/",
     "height": 206
    },
    "id": "NtTh7YsOWr91",
    "outputId": "1f5e3618-8c3f-42e3-8a1e-d3795a1b961b"
   },
   "outputs": [
    {
     "data": {
      "text/html": [
       "<div>\n",
       "<style scoped>\n",
       "    .dataframe tbody tr th:only-of-type {\n",
       "        vertical-align: middle;\n",
       "    }\n",
       "\n",
       "    .dataframe tbody tr th {\n",
       "        vertical-align: top;\n",
       "    }\n",
       "\n",
       "    .dataframe thead th {\n",
       "        text-align: right;\n",
       "    }\n",
       "</style>\n",
       "<table border=\"1\" class=\"dataframe\">\n",
       "  <thead>\n",
       "    <tr style=\"text-align: right;\">\n",
       "      <th></th>\n",
       "      <th>sepal.length</th>\n",
       "      <th>sepal.width</th>\n",
       "      <th>petal.length</th>\n",
       "      <th>petal.width</th>\n",
       "      <th>variety</th>\n",
       "    </tr>\n",
       "  </thead>\n",
       "  <tbody>\n",
       "    <tr>\n",
       "      <th>0</th>\n",
       "      <td>5.1</td>\n",
       "      <td>3.5</td>\n",
       "      <td>1.4</td>\n",
       "      <td>0.2</td>\n",
       "      <td>Setosa</td>\n",
       "    </tr>\n",
       "    <tr>\n",
       "      <th>1</th>\n",
       "      <td>4.9</td>\n",
       "      <td>3.0</td>\n",
       "      <td>1.4</td>\n",
       "      <td>0.2</td>\n",
       "      <td>Setosa</td>\n",
       "    </tr>\n",
       "    <tr>\n",
       "      <th>2</th>\n",
       "      <td>4.7</td>\n",
       "      <td>3.2</td>\n",
       "      <td>1.3</td>\n",
       "      <td>0.2</td>\n",
       "      <td>Setosa</td>\n",
       "    </tr>\n",
       "    <tr>\n",
       "      <th>3</th>\n",
       "      <td>4.6</td>\n",
       "      <td>3.1</td>\n",
       "      <td>1.5</td>\n",
       "      <td>0.2</td>\n",
       "      <td>Setosa</td>\n",
       "    </tr>\n",
       "    <tr>\n",
       "      <th>4</th>\n",
       "      <td>5.0</td>\n",
       "      <td>3.6</td>\n",
       "      <td>1.4</td>\n",
       "      <td>0.2</td>\n",
       "      <td>Setosa</td>\n",
       "    </tr>\n",
       "  </tbody>\n",
       "</table>\n",
       "</div>"
      ],
      "text/plain": [
       "   sepal.length  sepal.width  petal.length  petal.width variety\n",
       "0           5.1          3.5           1.4          0.2  Setosa\n",
       "1           4.9          3.0           1.4          0.2  Setosa\n",
       "2           4.7          3.2           1.3          0.2  Setosa\n",
       "3           4.6          3.1           1.5          0.2  Setosa\n",
       "4           5.0          3.6           1.4          0.2  Setosa"
      ]
     },
     "execution_count": 19,
     "metadata": {},
     "output_type": "execute_result"
    }
   ],
   "source": [
    "iris.head(5)"
   ]
  },
  {
   "cell_type": "code",
   "execution_count": 20,
   "metadata": {
    "colab": {
     "base_uri": "https://localhost:8080/"
    },
    "id": "yV0v5YQdYDEU",
    "outputId": "284a8ef1-a9ad-4e88-f0a6-0d4990084379"
   },
   "outputs": [
    {
     "name": "stdout",
     "output_type": "stream",
     "text": [
      "[[5.1 3.5 1.4 0.2 'Setosa']\n",
      " [4.9 3.0 1.4 0.2 'Setosa']\n",
      " [4.7 3.2 1.3 0.2 'Setosa']\n",
      " [4.6 3.1 1.5 0.2 'Setosa']\n",
      " [5.0 3.6 1.4 0.2 'Setosa']\n",
      " [5.4 3.9 1.7 0.4 'Setosa']\n",
      " [4.6 3.4 1.4 0.3 'Setosa']\n",
      " [5.0 3.4 1.5 0.2 'Setosa']\n",
      " [4.4 2.9 1.4 0.2 'Setosa']\n",
      " [4.9 3.1 1.5 0.1 'Setosa']]\n"
     ]
    }
   ],
   "source": [
    "XY = np.array(iris)\n",
    "print(XY[:10])"
   ]
  },
  {
   "cell_type": "markdown",
   "metadata": {},
   "source": [
    "처음 2개의 컬럼(sepal.length, sepal.width)을 X 데이터로 설정합니다\n",
    "\n",
    "비지도 학습이므로 정답인 칼럼인 variety는 학습에 이용하지 않습니다."
   ]
  },
  {
   "cell_type": "code",
   "execution_count": 21,
   "metadata": {
    "colab": {
     "base_uri": "https://localhost:8080/"
    },
    "id": "Ea1JlBPnYX9K",
    "outputId": "3402ab51-3509-4f11-9081-3c46db883496"
   },
   "outputs": [],
   "source": [
    "X = XY[:, 0:2]  #세로가 0, 1인거 모두"
   ]
  },
  {
   "cell_type": "code",
   "execution_count": 22,
   "metadata": {
    "colab": {
     "base_uri": "https://localhost:8080/"
    },
    "id": "roeKf011CZxE",
    "outputId": "50f53c8e-2317-44f5-bde9-f74587229329"
   },
   "outputs": [
    {
     "name": "stdout",
     "output_type": "stream",
     "text": [
      "[[5.1 3.5]\n",
      " [4.9 3.0]\n",
      " [4.7 3.2]\n",
      " [4.6 3.1]\n",
      " [5.0 3.6]\n",
      " [5.4 3.9]\n",
      " [4.6 3.4]\n",
      " [5.0 3.4]\n",
      " [4.4 2.9]\n",
      " [4.9 3.1]]\n"
     ]
    }
   ],
   "source": [
    "print(X[:10])"
   ]
  },
  {
   "cell_type": "markdown",
   "metadata": {},
   "source": [
    "우리는 꽃이 3개의 종류인 것을 알고 있으므로 k = 3으로 시작. 즉 3개의 그룹으로 Clustering 하는 작업을 진행합니다."
   ]
  },
  {
   "cell_type": "code",
   "execution_count": 23,
   "metadata": {
    "colab": {
     "base_uri": "https://localhost:8080/"
    },
    "id": "IMZU04EZY2pK",
    "outputId": "73628c16-0845-41c7-baf6-46a3b5ad128b"
   },
   "outputs": [
    {
     "name": "stdout",
     "output_type": "stream",
     "text": [
      "Cx [7.7 4.4 6.3]\n",
      "Cy [2.8 2.3 2.9]\n",
      "[[7.7 2.8]\n",
      " [4.4 2.3]\n",
      " [6.3 2.9]]\n"
     ]
    }
   ],
   "source": [
    "#3개의 랜덤 좌표를 뽑는 과정\n",
    "\n",
    "k = 3\n",
    "C_x = np.random.choice(X[:,0], k)  #X의 2개의 값 중 처음 값 3개, 즉 3개의 x좌표값을 랜덤으로 선정\n",
    "C_y = np.random.choice(X[:,1], k)  #X의 2개의 값 중 두번째 값 3개, 즉 3개의 y좌표값을 랜덤으로 선정 \n",
    "print('Cx', C_x)\n",
    "print('Cy', C_y)\n",
    "C = np.array(list(zip(C_x, C_y)))   # zip으로 x좌표값, y좌표값을 묶어서 3X2의 배열로 만듬. 중앙좌표값(Center) \n",
    "print(C)"
   ]
  },
  {
   "cell_type": "code",
   "execution_count": 24,
   "metadata": {
    "colab": {
     "base_uri": "https://localhost:8080/",
     "height": 472
    },
    "id": "bxXGHMaCbqRf",
    "outputId": "e5d6823a-bace-4376-9b58-8cc3ad38024d"
   },
   "outputs": [
    {
     "ename": "TypeError",
     "evalue": "'str' object is not callable",
     "output_type": "error",
     "traceback": [
      "\u001b[1;31m---------------------------------------------------------------------------\u001b[0m",
      "\u001b[1;31mTypeError\u001b[0m                                 Traceback (most recent call last)",
      "Cell \u001b[1;32mIn[24], line 3\u001b[0m\n\u001b[0;32m      1\u001b[0m SepalLength \u001b[38;5;241m=\u001b[39m iris[\u001b[38;5;124m'\u001b[39m\u001b[38;5;124msepal.length\u001b[39m\u001b[38;5;124m'\u001b[39m]\n\u001b[0;32m      2\u001b[0m SepalWidth \u001b[38;5;241m=\u001b[39m iris[\u001b[38;5;124m'\u001b[39m\u001b[38;5;124msepal.width\u001b[39m\u001b[38;5;124m'\u001b[39m]\n\u001b[1;32m----> 3\u001b[0m plt\u001b[38;5;241m.\u001b[39mtitle(\u001b[38;5;124m'\u001b[39m\u001b[38;5;124mSepalLength & SepalWidth\u001b[39m\u001b[38;5;124m'\u001b[39m)\n\u001b[0;32m      4\u001b[0m plt\u001b[38;5;241m.\u001b[39mxlabel(\u001b[38;5;124m'\u001b[39m\u001b[38;5;124mSepalLength\u001b[39m\u001b[38;5;124m'\u001b[39m)\n\u001b[0;32m      5\u001b[0m plt\u001b[38;5;241m.\u001b[39mylabel(\u001b[38;5;124m'\u001b[39m\u001b[38;5;124mSepalWidth\u001b[39m\u001b[38;5;124m'\u001b[39m)\n",
      "\u001b[1;31mTypeError\u001b[0m: 'str' object is not callable"
     ]
    }
   ],
   "source": [
    "SepalLength = iris['sepal.length']\n",
    "SepalWidth = iris['sepal.width']\n",
    "plt.title('SepalLength & SepalWidth')\n",
    "plt.xlabel('SepalLength')\n",
    "plt.ylabel('SepalWidth')\n",
    "plt.scatter(SepalLength, SepalWidth, marker = '^', c='blue', s=10, label='Sepal') # s : size\n",
    "plt.scatter(C_x, C_y, marker = '*', c='black', s=200, label='centroids')  #3개 출력\n",
    "plt.legend(loc='best') \n",
    "plt.grid()\n",
    "plt.show()"
   ]
  },
  {
   "cell_type": "code",
   "execution_count": null,
   "metadata": {
    "colab": {
     "base_uri": "https://localhost:8080/"
    },
    "id": "nu6iHWgBctH6",
    "outputId": "2e18bcbf-48b0-4f7a-8a9e-c33068f678d6"
   },
   "outputs": [
    {
     "name": "stdout",
     "output_type": "stream",
     "text": [
      "[[0. 0.]\n",
      " [0. 0.]\n",
      " [0. 0.]]\n",
      "11.571084650973738\n"
     ]
    }
   ],
   "source": [
    "def Distance(A, B) :\n",
    "  return np.sqrt(np.sum(np.power((A-B), 2)))   # 루트[(x2-x1)제곱 + (y2-y1)제곱]\n",
    "\n",
    "C_old = np.zeros(C.shape)    # 이전 Center 좌표\n",
    "print(C_old)\n",
    "clusters = np.zeros(len(X))  # X 항목의 갯수만큼 1차원 배열\n",
    "flag = Distance(C, C_old)    # C의 3개점과 (0,0)의 거리의 합\n",
    "print(flag)"
   ]
  },
  {
   "cell_type": "markdown",
   "metadata": {},
   "source": [
    "Shallow Copy vs. Deep Copy\n",
    "\n",
    "Shallow Copy는 원본이 바뀌면 복사객체도 같이 값이 바뀌게 됩니다.\n",
    "\n",
    "Deep Copy는 원본이 바뀌어도 복사객체는 값의 변화가 없습니다."
   ]
  },
  {
   "cell_type": "code",
   "execution_count": null,
   "metadata": {
    "colab": {
     "base_uri": "https://localhost:8080/"
    },
    "id": "zAITcZVSrNsF",
    "outputId": "67899423-03e2-4998-d8f3-f36701af369f"
   },
   "outputs": [
    {
     "name": "stdout",
     "output_type": "stream",
     "text": [
      "a 배열 : 3122535989184 [[1, 2], [3, 4, 5]]\n",
      "b 배열 : 3122535980032 [[1, 2], [3, 4, 5]]\n",
      "a 배열 : 3122535206208 [[1, 2], [3, 4, 5]]\n",
      "b 배열 : 3122526428544 [[1, 2], [3, 4]]\n"
     ]
    }
   ],
   "source": [
    "#shallow copy는 origin이 바뀌면 복사객체도 값이 바뀐다\n",
    "import copy\n",
    "a = [[1,2],[3,4]]\n",
    "b = copy.copy(a)\n",
    "a[1].append(5)\n",
    "print('a 배열 :', id(a), a)\n",
    "print('b 배열 :', id(b), b)\n",
    "\n",
    "#deep copy는 origin이 바뀌어도 복사객체는 값의 변화가 없다\n",
    "a = [[1,2],[3,4]]\n",
    "b = copy.deepcopy(a)\n",
    "a[1].append(5)\n",
    "print('a 배열 :', id(a), a)\n",
    "print('b 배열 :', id(b), b)"
   ]
  },
  {
   "cell_type": "code",
   "execution_count": null,
   "metadata": {
    "colab": {
     "base_uri": "https://localhost:8080/"
    },
    "id": "J3QlPQNxewuk",
    "outputId": "c23bd952-a1ed-4552-e4ea-38ea1c7ecad3"
   },
   "outputs": [
    {
     "name": "stdout",
     "output_type": "stream",
     "text": [
      "[[5.30163934 2.82786885]\n",
      " [5.25172414 3.66896552]\n",
      " [6.68       2.995     ]]\n",
      "[[5.31923077 2.76923077]\n",
      " [5.14705882 3.61764706]\n",
      " [6.6390625  2.99375   ]]\n",
      "[[5.38297872 2.72553191]\n",
      " [5.09230769 3.56153846]\n",
      " [6.6390625  2.99375   ]]\n",
      "[[5.5425     2.67      ]\n",
      " [5.01914894 3.47021277]\n",
      " [6.64920635 2.9952381 ]]\n",
      "[[5.63488372 2.65581395]\n",
      " [5.01632653 3.45102041]\n",
      " [6.69655172 3.02241379]]\n",
      "[[5.6787234  2.66808511]\n",
      " [5.01632653 3.45102041]\n",
      " [6.73703704 3.03888889]]\n",
      "[[5.71960784 2.67843137]\n",
      " [5.01632653 3.45102041]\n",
      " [6.78       3.058     ]]\n",
      "[[5.76346154 2.69038462]\n",
      " [5.006      3.428     ]\n",
      " [6.80208333 3.06875   ]]\n",
      "[[5.77358491 2.69245283]\n",
      " [5.006      3.428     ]\n",
      " [6.81276596 3.07446809]]\n",
      "[[5.77358491 2.69245283]\n",
      " [5.006      3.428     ]\n",
      " [6.81276596 3.07446809]]\n"
     ]
    }
   ],
   "source": [
    "from copy import deepcopy\n",
    "\n",
    "distances = []\n",
    "\n",
    "while flag != 0 :\n",
    "  for i in range(len(X)) :    # 모든 점에 대해서 C의 3점 중 가장 가까운 점을 찾아서 cluter에 저장\n",
    "    for j in range(3) :       # X의 한 점과 C의 3점 각각에 대해서 거리를 구해서 distance에 저장\n",
    "      temp = Distance(X[i], C[j])\n",
    "      distances.append(temp)\n",
    "\n",
    "    cluster = np.argmin(distances)  # 최소값의 index값(0, 1, 2)\n",
    "    clusters[i] = cluster           # C의 3점 중 가장 가까운 점 주소값을 입력\n",
    "    distances = []                  # distances 초기화\n",
    "\n",
    "  C_old = deepcopy(C)               #C 배열 복사\n",
    "\n",
    "  #다시 중점을 선정하는 과정\n",
    "  for i in range(k) :\n",
    "    points = [X[j] for j in range(len(X)) if clusters[j] == i] # k값 0,1,2 각각에 해당하는 X(x,y) 좌표를 다 points라는 리스트에 입력\n",
    "\n",
    "    tot_x = tot_y = 0\n",
    "    for po in points :\n",
    "      tot_x += po[0]\n",
    "      tot_y += po[1]\n",
    "\n",
    "    C[i] = [tot_x/len(points), tot_y/len(points)]   # 새로운 중심점 설정\n",
    "\n",
    "  print(C)\n",
    "  flag = Distance(C, C_old)\n",
    "  #print(flag)"
   ]
  },
  {
   "cell_type": "code",
   "execution_count": null,
   "metadata": {
    "colab": {
     "base_uri": "https://localhost:8080/",
     "height": 433
    },
    "id": "vyQASH3oibZ-",
    "outputId": "c43d30b4-44e5-45e2-8772-8293a97dd16a"
   },
   "outputs": [
    {
     "data": {
      "image/png": "[encoded data removed]",
      "text/plain": [
       "<Figure size 640x480 with 1 Axes>"
      ]
     },
     "metadata": {},
     "output_type": "display_data"
    }
   ],
   "source": [
    "plt.title = ('SepalLength & SepalWidth')\n",
    "plt.xlabel = ('SepalLength')\n",
    "plt.ylabel = ('SepalWidth')\n",
    "\n",
    "# X는 2차원 배열. clusters가 0인 index값이 x좌표, 0이 y좌표. cluster가 0인 index 값이 x좌표, 1이 y좌표\n",
    "plt.scatter(X[clusters==0,0], X[clusters==0,1], s=50, c='red', marker='o', label='A')  \n",
    "plt.scatter(X[clusters==1,0], X[clusters==1,1], s=50, c='green', marker='>', label='B') #clusters가 1인 X의 x좌표, y좌표\n",
    "plt.scatter(X[clusters==2,0], X[clusters==2,1], s=50, c='blue', marker='^', label='C')  #clusters가 2인 X의 x좌표, y좌표\n",
    "plt.scatter(C[:,0], C[:,1], s=150, c='black', marker='*', label='Centroids') #C의 0세로줄 1세로줄\n",
    "plt.legend()\n",
    "plt.grid()\n",
    "plt.show()"
   ]
  },
  {
   "cell_type": "code",
   "execution_count": 28,
   "metadata": {},
   "outputs": [
    {
     "name": "stderr",
     "output_type": "stream",
     "text": [
      "c:\\Users\\gadi2\\anaconda3\\Lib\\site-packages\\sklearn\\cluster\\_kmeans.py:1334: UserWarning: KMeans is known to have a memory leak on Windows with MKL, when there are less chunks than available threads. You can avoid it by setting the environment variable OMP_NUM_THREADS=1.\n",
      "  warnings.warn(\n"
     ]
    },
    {
     "name": "stdout",
     "output_type": "stream",
     "text": [
      "Centroids: [[5.77358491 2.69245283]\n",
      " [5.006      3.428     ]\n",
      " [6.81276596 3.07446809]]\n"
     ]
    },
    {
     "data": {
      "image/png": "[encoded data removed]",
      "text/plain": [
       "<Figure size 640x480 with 1 Axes>"
      ]
     },
     "metadata": {},
     "output_type": "display_data"
    }
   ],
   "source": [
    "from sklearn.cluster import KMeans \n",
    "\n",
    "k = 3\n",
    "kmeans = KMeans(n_clusters=k, init='random', random_state=0)  # KMeans 객체 생성\n",
    "kmeans.fit(X)  # KMeans 모델 훈련\n",
    "\n",
    "C = kmeans.cluster_centers_  # 중심점(C) 추출\n",
    "print(\"Centroids:\", C)\n",
    "\n",
    "plt.scatter(X[:,0], X[:,1], c=kmeans.labels_, cmap='viridis')  # kmeans.labels_에 각 그룹의 값이 저장됨\n",
    "plt.scatter(C[:,0], C[:,1], marker='*', s=300, c='red', label='Centroids')  # 중심점을 표시\n",
    "\n",
    "plt.legend()\n",
    "plt.grid()\n",
    "plt.show()"
   ]
  },
  {
   "cell_type": "code",
   "execution_count": null,
   "metadata": {},
   "outputs": [],
   "source": []
  }
 ],
 "metadata": {
  "colab": {
   "provenance": []
  },
  "kernelspec": {
   "display_name": "Python 3 (ipykernel)",
   "language": "python",
   "name": "python3"
  },
  "language_info": {
   "codemirror_mode": {
    "name": "ipython",
    "version": 3
   },
   "file_extension": ".py",
   "mimetype": "text/x-python",
   "name": "python",
   "nbconvert_exporter": "python",
   "pygments_lexer": "ipython3",
   "version": "3.11.7"
  }
 },
 "nbformat": 4,
 "nbformat_minor": 4
}
