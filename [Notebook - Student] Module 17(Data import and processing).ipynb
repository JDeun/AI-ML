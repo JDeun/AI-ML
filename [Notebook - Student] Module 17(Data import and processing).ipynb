{
 "cells": [
  {
   "cell_type": "markdown",
   "metadata": {
    "colab_type": "text",
    "id": "-YdfrGhXaSww"
   },
   "source": [
    "# 데이터 가져오기 및 처리"
   ]
  },
  {
   "cell_type": "markdown",
   "metadata": {
    "colab_type": "text",
    "id": "THfcvkzNaSwy"
   },
   "source": [
    "데이터 세트는 모든 데이터 과학 프로젝트에 필수적입니다! 데이터가 많을수록 기능 간의 관계를 더 쉽게 식별할 수 있습니다. 그러나 데이터 분석을 수행하기 전에 컴퓨터에서 데이터 세트를 이해하는 것도 필수적입니다. 따라서 이 연습의 주요 목적은 데이터 분석 또는 기계 학습을 수행하기 전에 데이터 세트를 가져오고 처리하는 데 필요한 기술을 배우는 것입니다."
   ]
  },
  {
   "cell_type": "markdown",
   "metadata": {
    "colab_type": "text",
    "id": "Msb1KXoIaSw0"
   },
   "source": [
    "## 1. 데이터 가져오기"
   ]
  },
  {
   "cell_type": "markdown",
   "metadata": {
    "colab_type": "text",
    "id": "Tr-GKbJkaSw2"
   },
   "source": [
    "무료로 데이터를 얻을 수 있는 웹사이트가 많이 있습니다. Kaggle(https://www.kaggle.com/) 및 University of California, Irvine(https://archive.ics.uci.edu/ml/index.php) (UCI)가 대표적인 사이트 있습니다. 데이터 세트를 수동으로 다운로드하여 컴퓨터의 새 폴더에 저장할 수 있습니다. 그러나 그렇게 하려면 시간이 많이 걸릴 수 있습니다. 따라서 이 프로세스를 자동화하는 간단한 방법이 있습니다! \n",
    "magic.py가 이 기능을 제공합니다. 한번 해보세요!\n",
    "\n",
    "스크립트가 작동하려면 python 가상 환경에 os, wget, pandas 및 matplotlib 라이브러리가 설치되어 있는지 확인하십시오.\n",
    "\n",
    "아래 셀을 실행하는 동안 오류가 발생하면 첫 번째 줄을 주석 처리하십시오. #%matplotlib qt"
   ]
  },
  {
   "cell_type": "code",
   "execution_count": 13,
   "metadata": {
    "colab": {},
    "colab_type": "code",
    "id": "g2YHGbLwaSw4",
    "outputId": "8ad0ff6c-6479-45af-9d04-c4894f7ddd63"
   },
   "outputs": [
    {
     "name": "stdout",
     "output_type": "stream",
     "text": [
      "Current working directory: c:\\Users\\gadi2\\OneDrive\\바탕 화면\\study file\n",
      "Downloading file..........\n",
      "\n",
      "\n",
      "File has been downloaded!\n",
      "Performing super difficult data analysis..........\n"
     ]
    }
   ],
   "source": [
    "%matplotlib qt\n",
    "%run \"magic.py\""
   ]
  },
  {
   "cell_type": "markdown",
   "metadata": {
    "colab_type": "text",
    "id": "bYcAogTVaSxC"
   },
   "source": [
    "만세! 수동 작업 없이 데이터를 다운로드하고 그래프를 그렸습니다. magic.py 파일을 열지 않고도 데이터가 다운로드된 위치를 알 수 있습니까? 위에 출력된 문장에서 힌트를 얻을 수 있습니다!"
   ]
  },
  {
   "cell_type": "code",
   "execution_count": 53,
   "metadata": {
    "colab": {},
    "colab_type": "code",
    "id": "toe2Wgb6aSxD"
   },
   "outputs": [
    {
     "name": "stdout",
     "output_type": "stream",
     "text": [
      "c:\\Users\\gadi2\\OneDrive\\바탕 화면\\study file\n"
     ]
    }
   ],
   "source": [
    "#your answer here\n",
    "print(r'c:\\Users\\gadi2\\OneDrive\\바탕 화면\\study file')"
   ]
  },
  {
   "cell_type": "markdown",
   "metadata": {
    "colab_type": "text",
    "id": "R0hU1t33aSxG"
   },
   "source": [
    "<font color=blue>보너스: 그래프가 제대로 보이나요? 음수 값과 x축의 검은색 선을 설명할 수 있습니까?</font>"
   ]
  },
  {
   "cell_type": "code",
   "execution_count": null,
   "metadata": {},
   "outputs": [],
   "source": [
    "#your answer here"
   ]
  },
  {
   "cell_type": "markdown",
   "metadata": {
    "colab_type": "text",
    "id": "v1CqAIo8aSxL"
   },
   "source": [
    "## 1.1 iris 데이터 세트 다운로드"
   ]
  },
  {
   "cell_type": "markdown",
   "metadata": {
    "colab_type": "text",
    "id": "IEcfNX70aSxM"
   },
   "source": [
    "이제 데이터 세트를 직접 가져올 차례입니다. 사용할 데이터셋은 유명한 Iris Flower 데이터셋입니다. 데이터 세트는 http://archive.ics.uci.edu/ml/machine-learning-databases/iris/ 에서 다운로드할 수 있습니다. 다운로드할 파일은 iris.data입니다. 데이터 세트에 대한 자세한 정보는 https://en.wikipedia.org/wiki/Iris_flower_data_set 에서 얻을 수 있습니다. 다음 코드를 실행하기 전에 데이터 세트 설명을 살펴보세요."
   ]
  },
  {
   "cell_type": "markdown",
   "metadata": {
    "colab_type": "text",
    "id": "myyrcY8EaSxN"
   },
   "source": [
    "데이터 세트를 저장할 새 폴더를 만듭니다. urlib.request.urletrieve 함수를 사용하여 데이터 세트를 자동으로 다운로드 받을 수 있는 코드를 아래에 작성하세요. magic.py 내의 코드를 참조로 사용할 수 있습니다.\n",
    "\n",
    "magic.py 파일의 코드를 참조하려면 폴더에서 magic.py 파일을 찾습니다. 마우스 오른쪽 버튼을 클릭하고 워드패드를 이용하여 엽니다.\n",
    "\n",
    "<font color=blue>보너스: 코드 2줄만 사용하여 데이터를 다운로드하세요!</font>"
   ]
  },
  {
   "cell_type": "code",
   "execution_count": 17,
   "metadata": {
    "colab": {},
    "colab_type": "code",
    "id": "RMnYNX7YaSxO"
   },
   "outputs": [
    {
     "data": {
      "text/plain": [
       "('iris.data', <http.client.HTTPMessage at 0x152a1588090>)"
      ]
     },
     "execution_count": 17,
     "metadata": {},
     "output_type": "execute_result"
    }
   ],
   "source": [
    "import urllib.request\n",
    "\n",
    "urllib.request.urlretrieve('https://archive.ics.uci.edu/ml/machine-learning-databases/iris/iris.data', \"iris.data\")"
   ]
  },
  {
   "cell_type": "markdown",
   "metadata": {
    "colab_type": "text",
    "id": "lIWPesDCaSxR"
   },
   "source": [
    "잘하셨습니다! 이제 데이터가 다운로드되었습니다! 데이터에 액세스하고 일부 기능에 대해 알아보겠습니다. 이를 위해 'pandas'라는 Python 라이브러리를 살펴 보겠습니다!"
   ]
  },
  {
   "cell_type": "markdown",
   "metadata": {
    "colab_type": "text",
    "id": "uKRJq_OWaSxT"
   },
   "source": [
    "## 1.2  Pandas 소개"
   ]
  },
  {
   "cell_type": "markdown",
   "metadata": {
    "colab_type": "text",
    "id": "xk5z-Lo1aSxU"
   },
   "source": [
    "Pandas는 데이터 세트를 가져오는 강력한 도구입니다. 데이터를 쉽게 처리되는 [dataframe](https://www.datacamp.com/community/tutorials/pandas-tutorial-dataframe-python)으로 구성하여 통계 분석에 용이합니다.\n",
    "\n",
    "Pandas에 대한 간략하게 소개하는 이 [문서](https://towardsdatascience.com/a-quick-introduction-to-the-pandas-python-library-f1b678f34673)를 읽고, 이 [동영상](https://www.youtube.com/watch?v=dcqPhpY7tWk)을 시청하세요: Pandas가 무엇이며, Pandas의 응용 프로그램 및 사용 밥법 소개\n",
    "\n",
    "데이터 가져오기 및 데이터 보기에 대한 부분은 나중에 연습에서 일부 기능을 사용할 것이므로 주의깊게 봐주세요!\n",
    "\n",
    "Pandas에 대해 배운 내용을 워크시트에 요약하세요.\n",
    "- Pandas는 어떻게 설치하고 사용하나요?\n",
    "- Pandas가 사용하는 일반적인 파일 유형은 무엇입니까?\n",
    "- 데이터 프레임이란 무엇입니까?\n",
    "- 데이터 프레임의 행과 열에 어떻게 액세스합니까?\n",
    "- 일반적으로 사용되는 Pandas 기능의 이름을 말하고 설명하십시오."
   ]
  },
  {
   "cell_type": "code",
   "execution_count": 18,
   "metadata": {
    "colab": {},
    "colab_type": "code",
    "id": "AyT4tG_daSxV"
   },
   "outputs": [],
   "source": [
    "#your answer here\n",
    "import pandas as pd"
   ]
  },
  {
   "cell_type": "markdown",
   "metadata": {
    "colab_type": "text",
    "id": "N-QF8J_6aSxZ"
   },
   "source": [
    "이제 Pandas 내의 일부 기능을 사용하여 데이터에 액세스할 수 있습니다. 첫 번째 단계는 Pandas를 가져오는 것입니다. pandas를 pd로 가져오십시오."
   ]
  },
  {
   "cell_type": "code",
   "execution_count": 19,
   "metadata": {
    "colab": {},
    "colab_type": "code",
    "id": "dhvBRe9maSxa"
   },
   "outputs": [],
   "source": [
    "#your code here\n",
    "import pandas as pd"
   ]
  },
  {
   "cell_type": "markdown",
   "metadata": {
    "colab_type": "text",
    "id": "d9fK1C6PaSxd"
   },
   "source": [
    "Pandas를 가져온 후 이제 Iris Flower 데이터 세트를 읽으려고 합니다. 현재 CSV(쉼표로 구분된 값) 파일로 저장되어 있습니다. CSV 파일의 데이터에 액세스하려면 먼저 CSV 파일에 대해 더 많이 이해해야 합니다."
   ]
  },
  {
   "cell_type": "markdown",
   "metadata": {
    "colab_type": "text",
    "id": "E19thKqyaSxe"
   },
   "source": [
    "## 1.2.1 쉼표로 구분된 값(CSV) 파일"
   ]
  },
  {
   "cell_type": "markdown",
   "metadata": {
    "colab_type": "text",
    "id": "M62n4NVZaSxf"
   },
   "source": [
    "데이터 세트는 주로 CSV 파일에 저장됩니다. CSV 파일에는 쉼표 또는 기타 문자로 구분된 데이터가 포함되어 있습니다. 예를 들어, 사람의 이름이 포함된 CSV 파일은 John,Mary,Harry,Luke로 저장될 수 있습니다. 이름 사이의 쉼표는 컴퓨터에 한 이름을 다른 이름과 구분할 위치를 알려줍니다.\n",
    "\n",
    "파일은 일반적으로 .csv 확장자를 갖지만 이 확장자를 따르지 않는 파일이 있습니다. iris 데이터를 예로 들 수 있습니다.\n",
    "\n",
    "csv 파일에 대한 자세한 내용은 이 [문서](https://www.howtogeek.com/348960/what-is-a-csv-file-and-how-do-i-open-it/)를 참조하십시오:  무엇이며, 어떻게 접근하는가?"
   ]
  },
  {
   "cell_type": "code",
   "execution_count": null,
   "metadata": {
    "colab": {},
    "colab_type": "code",
    "id": "cDsFZlfoaSxg"
   },
   "outputs": [],
   "source": [
    "#your answer here"
   ]
  },
  {
   "cell_type": "markdown",
   "metadata": {
    "colab_type": "text",
    "id": "EJ-nEupOaSxj"
   },
   "source": [
    "<font color=blue>보너스: CSV 파일의 특성을 이해한 후 데이터 파일이 CSV 파일인지 어떻게 확인합니까? 이를 위해 어떤 python 함수를 사용할 수 있습니까?</font>"
   ]
  },
  {
   "cell_type": "code",
   "execution_count": null,
   "metadata": {
    "colab": {},
    "colab_type": "code",
    "id": "4sQKqSkpaSxk"
   },
   "outputs": [],
   "source": [
    "#your answer here"
   ]
  },
  {
   "cell_type": "markdown",
   "metadata": {
    "colab_type": "text",
    "id": "ff_cSddFaSxm"
   },
   "source": [
    "## 1.2.2 Iris Flower 데이터 세트"
   ]
  },
  {
   "cell_type": "markdown",
   "metadata": {
    "colab_type": "text",
    "id": "luYPiLxZaSxn"
   },
   "source": [
    "Iris Flower 데이터세트는 확장자가 .data이지만 csv 파일입니다. 이제 pd.read_csv() 함수를 사용하여 데이터 세트를 열고 변수 df에 할당합니다. 그런 다음 데이터 속성을 보기 위해 데이터 프레임의 처음 5개 행을 출력합니다. 무엇을 알아내셨습니까?"
   ]
  },
  {
   "cell_type": "code",
   "execution_count": 43,
   "metadata": {
    "colab": {},
    "colab_type": "code",
    "id": "sEVfohq4aSxo"
   },
   "outputs": [
    {
     "data": {
      "text/html": [
       "<div>\n",
       "<style scoped>\n",
       "    .dataframe tbody tr th:only-of-type {\n",
       "        vertical-align: middle;\n",
       "    }\n",
       "\n",
       "    .dataframe tbody tr th {\n",
       "        vertical-align: top;\n",
       "    }\n",
       "\n",
       "    .dataframe thead th {\n",
       "        text-align: right;\n",
       "    }\n",
       "</style>\n",
       "<table border=\"1\" class=\"dataframe\">\n",
       "  <thead>\n",
       "    <tr style=\"text-align: right;\">\n",
       "      <th></th>\n",
       "      <th>5.1</th>\n",
       "      <th>3.5</th>\n",
       "      <th>1.4</th>\n",
       "      <th>0.2</th>\n",
       "      <th>Iris-setosa</th>\n",
       "    </tr>\n",
       "  </thead>\n",
       "  <tbody>\n",
       "    <tr>\n",
       "      <th>0</th>\n",
       "      <td>4.9</td>\n",
       "      <td>3.0</td>\n",
       "      <td>1.4</td>\n",
       "      <td>0.2</td>\n",
       "      <td>Iris-setosa</td>\n",
       "    </tr>\n",
       "    <tr>\n",
       "      <th>1</th>\n",
       "      <td>4.7</td>\n",
       "      <td>3.2</td>\n",
       "      <td>1.3</td>\n",
       "      <td>0.2</td>\n",
       "      <td>Iris-setosa</td>\n",
       "    </tr>\n",
       "    <tr>\n",
       "      <th>2</th>\n",
       "      <td>4.6</td>\n",
       "      <td>3.1</td>\n",
       "      <td>1.5</td>\n",
       "      <td>0.2</td>\n",
       "      <td>Iris-setosa</td>\n",
       "    </tr>\n",
       "    <tr>\n",
       "      <th>3</th>\n",
       "      <td>5.0</td>\n",
       "      <td>3.6</td>\n",
       "      <td>1.4</td>\n",
       "      <td>0.2</td>\n",
       "      <td>Iris-setosa</td>\n",
       "    </tr>\n",
       "    <tr>\n",
       "      <th>4</th>\n",
       "      <td>5.4</td>\n",
       "      <td>3.9</td>\n",
       "      <td>1.7</td>\n",
       "      <td>0.4</td>\n",
       "      <td>Iris-setosa</td>\n",
       "    </tr>\n",
       "  </tbody>\n",
       "</table>\n",
       "</div>"
      ],
      "text/plain": [
       "   5.1  3.5  1.4  0.2  Iris-setosa\n",
       "0  4.9  3.0  1.4  0.2  Iris-setosa\n",
       "1  4.7  3.2  1.3  0.2  Iris-setosa\n",
       "2  4.6  3.1  1.5  0.2  Iris-setosa\n",
       "3  5.0  3.6  1.4  0.2  Iris-setosa\n",
       "4  5.4  3.9  1.7  0.4  Iris-setosa"
      ]
     },
     "execution_count": 43,
     "metadata": {},
     "output_type": "execute_result"
    }
   ],
   "source": [
    "#your code here\n",
    "\n",
    "df= pd.read_csv('iris.data')\n",
    "df.head()"
   ]
  },
  {
   "cell_type": "markdown",
   "metadata": {
    "colab_type": "text",
    "id": "svZ8sbZqaSxs"
   },
   "source": [
    "데이터 프레임에 헤더/열 이름이 누락되었다는 것을 알고 계셨습니까? 이것은 원본 파일에 헤더/열 이름이 없기 때문에 발생합니다. 따라서 데이터 파일을 사용하기 전에 데이터 파일에 대한 자세한 내용을 확인하는 것이 항상 중요합니다.\n",
    "\n",
    "이전 다운로드 [링크](http://archive.ics.uci.edu/ml/machine-learning-databases/iris/iris.names)의 iris.names 파일에서 더 많은 정보를 찾을 수 있습니다. iris.names 파일은 포인트 7(속성 iInformation) 아래에 열 이름을 나열했습니다. 필수적인 이름은 무엇입니까?"
   ]
  },
  {
   "cell_type": "code",
   "execution_count": 49,
   "metadata": {
    "colab": {},
    "colab_type": "code",
    "id": "WqIxmdCgaSxt"
   },
   "outputs": [
    {
     "name": "stdout",
     "output_type": "stream",
     "text": [
      "['sepal_length', 'sepal_width', 'petal_length', 'petal_width', 'class']\n"
     ]
    },
    {
     "data": {
      "text/html": [
       "<div>\n",
       "<style scoped>\n",
       "    .dataframe tbody tr th:only-of-type {\n",
       "        vertical-align: middle;\n",
       "    }\n",
       "\n",
       "    .dataframe tbody tr th {\n",
       "        vertical-align: top;\n",
       "    }\n",
       "\n",
       "    .dataframe thead th {\n",
       "        text-align: right;\n",
       "    }\n",
       "</style>\n",
       "<table border=\"1\" class=\"dataframe\">\n",
       "  <thead>\n",
       "    <tr style=\"text-align: right;\">\n",
       "      <th></th>\n",
       "      <th>sepal_length</th>\n",
       "      <th>sepal_width</th>\n",
       "      <th>petal_length</th>\n",
       "      <th>petal_width</th>\n",
       "      <th>class</th>\n",
       "    </tr>\n",
       "  </thead>\n",
       "  <tbody>\n",
       "    <tr>\n",
       "      <th>0</th>\n",
       "      <td>5.1</td>\n",
       "      <td>3.5</td>\n",
       "      <td>1.4</td>\n",
       "      <td>0.2</td>\n",
       "      <td>Iris-setosa</td>\n",
       "    </tr>\n",
       "    <tr>\n",
       "      <th>1</th>\n",
       "      <td>4.9</td>\n",
       "      <td>3.0</td>\n",
       "      <td>1.4</td>\n",
       "      <td>0.2</td>\n",
       "      <td>Iris-setosa</td>\n",
       "    </tr>\n",
       "    <tr>\n",
       "      <th>2</th>\n",
       "      <td>4.7</td>\n",
       "      <td>3.2</td>\n",
       "      <td>1.3</td>\n",
       "      <td>0.2</td>\n",
       "      <td>Iris-setosa</td>\n",
       "    </tr>\n",
       "    <tr>\n",
       "      <th>3</th>\n",
       "      <td>4.6</td>\n",
       "      <td>3.1</td>\n",
       "      <td>1.5</td>\n",
       "      <td>0.2</td>\n",
       "      <td>Iris-setosa</td>\n",
       "    </tr>\n",
       "    <tr>\n",
       "      <th>4</th>\n",
       "      <td>5.0</td>\n",
       "      <td>3.6</td>\n",
       "      <td>1.4</td>\n",
       "      <td>0.2</td>\n",
       "      <td>Iris-setosa</td>\n",
       "    </tr>\n",
       "  </tbody>\n",
       "</table>\n",
       "</div>"
      ],
      "text/plain": [
       "   sepal_length  sepal_width  petal_length  petal_width        class\n",
       "0           5.1          3.5           1.4          0.2  Iris-setosa\n",
       "1           4.9          3.0           1.4          0.2  Iris-setosa\n",
       "2           4.7          3.2           1.3          0.2  Iris-setosa\n",
       "3           4.6          3.1           1.5          0.2  Iris-setosa\n",
       "4           5.0          3.6           1.4          0.2  Iris-setosa"
      ]
     },
     "execution_count": 49,
     "metadata": {},
     "output_type": "execute_result"
    }
   ],
   "source": [
    "#your answer here\n",
    "names = [\"sepal_length\", \"sepal_width\", \"petal_length\", \"petal_width\", \"class\"]\n",
    "print(names)\n",
    "\n",
    "df.columns = names\n",
    "df.head()"
   ]
  },
  {
   "cell_type": "markdown",
   "metadata": {
    "colab_type": "text",
    "id": "FuMlox-xaSxw"
   },
   "source": [
    "아래의 그림(source: https://www.researchgate.net/figure/Trollius-ranunculoide-flower-with-measured-traits_fig6_272514310) 을 참고하면 변수 \"sepal_length\", \"sepal_width\", \"petal_length\", \"petal_width\"를 이해할 수 있다."
   ]
  },
  {
   "cell_type": "markdown",
   "metadata": {
    "colab_type": "text",
    "id": "6hGSifnXaSxx"
   },
   "source": [
    "<img src = \"./resources/PetalSepal1.png\">"
   ]
  },
  {
   "cell_type": "markdown",
   "metadata": {
    "colab_type": "text",
    "id": "98Mj-zMHaSxz"
   },
   "source": [
    "이제 데이터 프레임에 이름을 포함시켜 보겠습니다. 데이터에 누락된 헤더를 지정하려면 데이터를 데이터 프레임으로 다시 읽어야 합니다. 이렇게 하면 나중에 데이터 프레임에 이름을 추가할 수 있습니다. 처음 2개의 이름을 추가하는 코드는 아래와 같습니다. 상위 5개 행을 다시 출력하기 전에 다른 이름을 포함하도록 코드를 수정하십시오."
   ]
  },
  {
   "cell_type": "code",
   "execution_count": 51,
   "metadata": {
    "colab": {},
    "colab_type": "code",
    "id": "xIFzntYlaSx0"
   },
   "outputs": [
    {
     "name": "stdout",
     "output_type": "stream",
     "text": [
      "     0    1    2    3            4\n",
      "0  5.1  3.5  1.4  0.2  Iris-setosa\n",
      "1  4.9  3.0  1.4  0.2  Iris-setosa\n",
      "2  4.7  3.2  1.3  0.2  Iris-setosa\n",
      "3  4.6  3.1  1.5  0.2  Iris-setosa\n",
      "4  5.0  3.6  1.4  0.2  Iris-setosa\n"
     ]
    }
   ],
   "source": [
    "df = pd.read_csv(\"./[Dataset]_Module_17_Iris.data\",header=None)\n",
    "print(df.head())\n",
    "names = [\"sepal_length\", \"sepal_width\", \"petal_length\", \"petal_width\", \"class\"]\n",
    "#your code here\n",
    "\n"
   ]
  },
  {
   "cell_type": "markdown",
   "metadata": {
    "colab_type": "text",
    "id": "3Oygv8doaSx5"
   },
   "source": [
    "적절한 레이블을 사용하면 이제 pandas를 사용하여 데이터 세트에 대한 기본 정보(행 및 열 수, 데이터 유형, 결측값 수 및 기본 통계)를 얻을 수 있습니다. .info() 및 .describe()를 사용하여 데이터 세트에 대한 기본 정보를 얻으십시오!"
   ]
  },
  {
   "cell_type": "code",
   "execution_count": 52,
   "metadata": {
    "colab": {},
    "colab_type": "code",
    "id": "UF6PjBl_aSx8"
   },
   "outputs": [
    {
     "name": "stdout",
     "output_type": "stream",
     "text": [
      "<class 'pandas.core.frame.DataFrame'>\n",
      "RangeIndex: 150 entries, 0 to 149\n",
      "Data columns (total 5 columns):\n",
      " #   Column  Non-Null Count  Dtype  \n",
      "---  ------  --------------  -----  \n",
      " 0   0       150 non-null    float64\n",
      " 1   1       150 non-null    float64\n",
      " 2   2       150 non-null    float64\n",
      " 3   3       150 non-null    float64\n",
      " 4   4       150 non-null    object \n",
      "dtypes: float64(4), object(1)\n",
      "memory usage: 6.0+ KB\n"
     ]
    },
    {
     "data": {
      "text/html": [
       "<div>\n",
       "<style scoped>\n",
       "    .dataframe tbody tr th:only-of-type {\n",
       "        vertical-align: middle;\n",
       "    }\n",
       "\n",
       "    .dataframe tbody tr th {\n",
       "        vertical-align: top;\n",
       "    }\n",
       "\n",
       "    .dataframe thead th {\n",
       "        text-align: right;\n",
       "    }\n",
       "</style>\n",
       "<table border=\"1\" class=\"dataframe\">\n",
       "  <thead>\n",
       "    <tr style=\"text-align: right;\">\n",
       "      <th></th>\n",
       "      <th>0</th>\n",
       "      <th>1</th>\n",
       "      <th>2</th>\n",
       "      <th>3</th>\n",
       "    </tr>\n",
       "  </thead>\n",
       "  <tbody>\n",
       "    <tr>\n",
       "      <th>count</th>\n",
       "      <td>150.000000</td>\n",
       "      <td>150.000000</td>\n",
       "      <td>150.000000</td>\n",
       "      <td>150.000000</td>\n",
       "    </tr>\n",
       "    <tr>\n",
       "      <th>mean</th>\n",
       "      <td>5.843333</td>\n",
       "      <td>3.054000</td>\n",
       "      <td>3.758667</td>\n",
       "      <td>1.198667</td>\n",
       "    </tr>\n",
       "    <tr>\n",
       "      <th>std</th>\n",
       "      <td>0.828066</td>\n",
       "      <td>0.433594</td>\n",
       "      <td>1.764420</td>\n",
       "      <td>0.763161</td>\n",
       "    </tr>\n",
       "    <tr>\n",
       "      <th>min</th>\n",
       "      <td>4.300000</td>\n",
       "      <td>2.000000</td>\n",
       "      <td>1.000000</td>\n",
       "      <td>0.100000</td>\n",
       "    </tr>\n",
       "    <tr>\n",
       "      <th>25%</th>\n",
       "      <td>5.100000</td>\n",
       "      <td>2.800000</td>\n",
       "      <td>1.600000</td>\n",
       "      <td>0.300000</td>\n",
       "    </tr>\n",
       "    <tr>\n",
       "      <th>50%</th>\n",
       "      <td>5.800000</td>\n",
       "      <td>3.000000</td>\n",
       "      <td>4.350000</td>\n",
       "      <td>1.300000</td>\n",
       "    </tr>\n",
       "    <tr>\n",
       "      <th>75%</th>\n",
       "      <td>6.400000</td>\n",
       "      <td>3.300000</td>\n",
       "      <td>5.100000</td>\n",
       "      <td>1.800000</td>\n",
       "    </tr>\n",
       "    <tr>\n",
       "      <th>max</th>\n",
       "      <td>7.900000</td>\n",
       "      <td>4.400000</td>\n",
       "      <td>6.900000</td>\n",
       "      <td>2.500000</td>\n",
       "    </tr>\n",
       "  </tbody>\n",
       "</table>\n",
       "</div>"
      ],
      "text/plain": [
       "                0           1           2           3\n",
       "count  150.000000  150.000000  150.000000  150.000000\n",
       "mean     5.843333    3.054000    3.758667    1.198667\n",
       "std      0.828066    0.433594    1.764420    0.763161\n",
       "min      4.300000    2.000000    1.000000    0.100000\n",
       "25%      5.100000    2.800000    1.600000    0.300000\n",
       "50%      5.800000    3.000000    4.350000    1.300000\n",
       "75%      6.400000    3.300000    5.100000    1.800000\n",
       "max      7.900000    4.400000    6.900000    2.500000"
      ]
     },
     "execution_count": 52,
     "metadata": {},
     "output_type": "execute_result"
    }
   ],
   "source": [
    "#your code here\n",
    "df.info()\n",
    "df.describe()"
   ]
  },
  {
   "cell_type": "markdown",
   "metadata": {
    "colab_type": "text",
    "id": "6lo55BdBaSx-"
   },
   "source": [
    "얻은 정보를 기반으로 데이터 세트에 150개의 서로 다른 꽃이 있으며 데이터 세트에 누락된 값이 없다는 점에 유의해야 합니다."
   ]
  },
  {
   "cell_type": "markdown",
   "metadata": {
    "colab_type": "text",
    "id": "od_yIKS1aSx_"
   },
   "source": [
    "## 이제 데이터 세트를 자동으로 다운로드하고 Pandas를 사용하여 가져오는 기능을 마스터했습니다. 또한 Pandas 함수를 사용하여 데이터 세트에 대한 기본 정보를 얻는 방법도 배웠습니다. 이제 우리는 이 모든 기술을 잘 활용해야 하는 수업 활동으로 진행할 것입니다!"
   ]
  }
 ],
 "metadata": {
  "colab": {
   "name": "(1) Obtaining_data_Student.ipynb",
   "provenance": [],
   "version": "0.3.2"
  },
  "kernelspec": {
   "display_name": "Python 3",
   "language": "python",
   "name": "python3"
  },
  "language_info": {
   "codemirror_mode": {
    "name": "ipython",
    "version": 3
   },
   "file_extension": ".py",
   "mimetype": "text/x-python",
   "name": "python",
   "nbconvert_exporter": "python",
   "pygments_lexer": "ipython3",
   "version": "3.11.7"
  }
 },
 "nbformat": 4,
 "nbformat_minor": 1
}
