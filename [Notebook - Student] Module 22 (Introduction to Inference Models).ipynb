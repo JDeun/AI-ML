{
 "cells": [
  {
   "cell_type": "markdown",
   "metadata": {},
   "source": [
    "# Types of Inference Models\n",
    "\n",
    "\n",
    "문서의 위아래로 탐색하려면 키보드의 방향키 키를 사용할 수 있습니다.<br />\n",
    "이 노트북의 코드를 실행하려면 코드 블록을 선택하고 **Shift+Enter**를 누르십시오. <br />\n",
    "코드 블록을 편집하려면 Enter 키를 누릅니다.\n",
    "\n",
    "#### 노트북의 코드는 누적되어 사용됩니다.(정의된 변수는 노트북이 닫힐 때까지 계속 사용 가능) <br />\n",
    "따라서 실행 순서를 위에서부터 아래로 진행하세요. 과정을 뛰어넘어 진행한다면 에러가 발생할 수 있습니다!\n",
    "\n",
    "\n",
    "쥬피터 노트북 사용에 대한 추가 도움말을 보려면 위의 메뉴에서 도움말(Help) > 사용자 인터페이스 둘러보기(User Interface Tour)를 클릭하세요. <br />\n",
    "또는 다음 사이트를 방문하여 살펴보세요. https://jupyter-notebook.readthedocs.io/en/stable/ui_components.html\n",
    "\n",
    "여러분의 아이디어를 실험하고 테스트해보세요. 그것이 학습에 있어서 가장 빠른 방법 중 하나이기 때문입니다!"
   ]
  },
  {
   "cell_type": "markdown",
   "metadata": {},
   "source": [
    "## 1. 기계 학습 모델은 무엇을 예측할 수 있습니까?\n",
    "\n",
    "이전 세션에서는 이미지(입력)를 사용하여 모델을 학습시켰고, 어떤 클래스에 속하는지에 대한 예측 값을 반환(출력)하였습니다. 그것은 **분류(classification)** 의 한 형태입니다. 이미지 내의 카드의 위치를 결정하는 실습도 진행하였습니다. 그것은 **위치 식별(localization)** 의 한 형태입니다. 그리고 여러분 중 일부는 이미지의 각 개별 픽셀이 속한 클래스를 분류했습니다. 그것은 **이미지 세분화(image segmentation)** 의 한 형태였습니다.\n",
    "\n",
    "일반적으로 기계 학습 모델은 특성 벡터를 입력으로 사용합니다. 컴퓨터 비전의 특성 벡터는 이미지에서 계산됩니다. 계산된 결과는 출력 집합을 예측하는 모델에 제공됩니다. 이러한 출력에는 다음이 포함될 수 있습니다:\n",
    "\n",
    "- **이미지 분류**의 경우 이미지의 클래스 레이블\n",
    "- **위치 식별**의 겨우 이미지의 클래스 레이블 및 경계 상자의 좌표\n",
    "- **개체 감지**의 경우 감지된 개체에 대한 경계 상자(및 개체 인식을 위한 클래스 레이블) 목록\n",
    "- **이미지 세분화**의 경우 이미지의 각 픽셀에 대한 클래스 레이블\n",
    "- 출력에는 다른 클래스 레이블에 대한 확률 점수가 포함될 수도 있습니다.\n",
    "\n",
    "오늘 세션에서는 컨볼루션 신경망(Convolutional Neural Network, CNN)을 소개한 다음, 실제 환경에서 분류 및 개체 감지를 위해 미리 학습된 모델을 사용하는 방법에 대해 살펴봅니다.\n",
    "1. 컨벌루션 신경망은 무엇입니까?\n",
    "2. Intel® OpenVINO™ 추론 엔진을 OpenCV와 함께 사용하는 방법\n",
    "3. Intel Neural Compute Stick 2에서 추론하는 방법"
   ]
  },
  {
   "cell_type": "markdown",
   "metadata": {},
   "source": [
    "## 컨볼루션 신경망 (CNN)"
   ]
  },
  {
   "cell_type": "markdown",
   "metadata": {},
   "source": [
    "지난 세션에서는 kNN 및 SVM과 같은 기본 기계 학습 알고리즘을 사용했습니다. 최근 몇 년 동안, 컨볼루션 신경망(CNN)은 그 효과로 인해 큰 인기를 얻었습니다. CNN은 일련의 컨볼루션 필터로 구성된 신경망의 한 형태입니다. 그리고 네트워크는 훈련 과정을 통해 최적의 필터(가중치로도 알려져 있음)를 학습합니다.\n",
    "\n",
    "**컨볼루션은 무엇입니까?**\n",
    "\n",
    "간단히 말해서, 컨볼루션은 출력을 생성하기 위해 입력에서 수행되는 수학 연산입니다. 특성 추출의 한 형태로도 사용할 수 있습니다.\n",
    "\n",
    "컨볼루션은 기본 이미지 처리에도 사용할 수 있습니다. 예를 들어 흐림, 선명화, 평균화 및 양방향 필터링이 있습니다.\n",
    "\n",
    "CNN의 경우 모델은 훈련 중에 컨볼루션을 수행하면서 최적의 가중치를 학습합니다(수동으로 정의하는 대신). 각 컨볼루션에 대한 최적의 \"가중치\"를 계산하기 위해 그래디언트 하강과 같은 최적화 기술이 사용됩니다(오차의 역전파와 함께). 이 세션에서는 구현이나 수학에 대해 자세히 설명하지는 않겠지만, [자세히 알아보기](http://deeplearning.stanford.edu/tutorial/supervised/ConvolutionalNeuralNetwork/) 를 권장합니다. "
   ]
  },
  {
   "cell_type": "markdown",
   "metadata": {},
   "source": [
    "### 1.1 컨볼루션\n",
    "\n",
    "인쇄회로기판(PCB) 사진에 몇 가지 컨볼루션 필터를 적용하여 컨볼루션의 개념을 어느 정도 시각화해 보겠습니다.  **cv2.filter2D** 는 OpenCV의 이미지 처리 기능으로 컨볼루션을 수행하는 데 사용할 수 있습니다. https://docs.opencv.org/2.4/doc/tutorials/imgproc/imgtrans/filter_2d/filter_2d.html\n",
    "\n",
    "<img src=\"[Dataset]_Module22_images/convolutions.png\" />\n",
    "\n",
    "일부 컨볼루션 필터를 적용한 후 단어 및 회로 기판 패턴이 다른 것에 비해 얼마나 더 명확하고 선명해지는지 확인합니다. 이전 세션의 임계값이 생각나시나요? 컨볼루션은 입력 이미지에서 의미 있는 특성을 추출하는 데 사용할 수 있습니다. CNN의 경우 하나가 아닌 여러 컨볼루션이 일반적으로 사용됩니다.\n",
    "\n",
    "몇 가지 코드를 살펴보겠습니다."
   ]
  },
  {
   "cell_type": "code",
   "execution_count": 1,
   "metadata": {
    "ExecuteTime": {
     "end_time": "2021-03-16T06:09:38.911899Z",
     "start_time": "2021-03-16T06:09:27.958359Z"
    }
   },
   "outputs": [],
   "source": [
    "import cv2\n",
    "import numpy as np\n",
    "\n",
    "# 이미지를 읽기 위한 코드\n",
    "image = cv2.imread(\"[Dataset]_Module22_images/pcb.png\")\n",
    "\n",
    "#  2D 컨볼루션을 실행하기 위해 회색조로 변환합니다.\n",
    "gray = cv2.cvtColor(image, cv2.COLOR_BGR2GRAY)\n",
    "\n",
    "# 회색조 이미지 표시\n",
    "cv2.imshow(\"Original Greyscale Image\",gray)\n",
    "cv2.waitKey(0)\n",
    "cv2.destroyAllWindows()"
   ]
  },
  {
   "cell_type": "markdown",
   "metadata": {},
   "source": [
    "컨볼루션 필터를 사용하여 다음과 같이 이미지를 흐리게 해보겠습니다. 원본과 비교해서 결과가 어떤가요?"
   ]
  },
  {
   "cell_type": "code",
   "execution_count": 2,
   "metadata": {
    "ExecuteTime": {
     "end_time": "2021-03-16T06:09:43.470755Z",
     "start_time": "2021-03-16T06:09:42.479862Z"
    }
   },
   "outputs": [],
   "source": [
    "kernel1 = np.ones((19,19),np.float32)/361      # 19x19 컨볼루션 필터\n",
    "filter1 = cv2.filter2D(gray,-1,kernel1)\n",
    "\n",
    "cv2.imshow(\"Original Greyscale Image\",gray)\n",
    "cv2.imshow(\"Filter1\",filter1)\n",
    "cv2.waitKey(0)\n",
    "cv2.destroyAllWindows()"
   ]
  },
  {
   "cell_type": "markdown",
   "metadata": {},
   "source": [
    "다른 필터를 사용해 봅시다"
   ]
  },
  {
   "cell_type": "code",
   "execution_count": 5,
   "metadata": {
    "ExecuteTime": {
     "end_time": "2021-03-16T06:09:48.206400Z",
     "start_time": "2021-03-16T06:09:47.176530Z"
    }
   },
   "outputs": [],
   "source": [
    "kernel2 = np.array((                        # 3x3 컨볼루션 필터\n",
    "    [0, -1, 0],\n",
    "    [-1, 4, -1],\n",
    "    [0, -1, 0]), np.float32)*2\n",
    "filter2 = cv2.filter2D(gray,-1,kernel2)\n",
    "\n",
    "cv2.imshow(\"Original Greyscale Image\",gray)\n",
    "cv2.imshow(\"Filter2\",filter2)\n",
    "cv2.waitKey(0)\n",
    "cv2.destroyAllWindows()"
   ]
  },
  {
   "cell_type": "markdown",
   "metadata": {},
   "source": [
    "위의 코드에서 3x3 숫자 배열을 보셨습니까? 이것은 입력 이미지에 대한 수학적 연산을 수행하는 데 사용되는 컨볼루션 필터입니다. [자세히 보기](http://ufldl.stanford.edu/tutorial/supervised/FeatureExtractionUsingConvolution/#convolutions) 이와 같은 필터를 사용하여 관련 기능으로 이미지를 변환하는 방법을 확인할 수 있습니다. 링크의 예제는 결과로 생성되는 특성 벡터 출력이 입력보다 작게 표시됩니다. 그러나 예제에서 출력은 CV2.Filter2D가 자동으로 패딩을 추가하기 때문에 입력과 동일한 크기를 유지합니다.\n",
    "\n",
    "1 개의 필터를 더 시도해 봅시다"
   ]
  },
  {
   "cell_type": "code",
   "execution_count": 4,
   "metadata": {
    "ExecuteTime": {
     "end_time": "2021-03-16T06:09:53.053121Z",
     "start_time": "2021-03-16T06:09:52.060716Z"
    }
   },
   "outputs": [],
   "source": [
    "kernel3 = np.array((\n",
    "    [-2, -2, 0],\n",
    "    [-2, 1, 2],\n",
    "    [0, 2, 2]), dtype=\"int\")           \n",
    "filter3 = cv2.filter2D(gray,-1,kernel3)  \n",
    "\n",
    "cv2.imshow(\"Original\",gray)\n",
    "cv2.imshow(\"Filter3\",filter3)     # 출력된 이미지가 포토샵의 필터를 연상시키나요?\n",
    "cv2.waitKey(0)\n",
    "cv2.destroyAllWindows()"
   ]
  },
  {
   "cell_type": "markdown",
   "metadata": {},
   "source": [
    "3x3 숫자 배열을 다시 보셨나요? CNN의 맥락에서 이러한 수치는 CNN이 모델 훈련 과정의 일부로 학습할 각 컨볼루션(CONV) 계층의 가중치로 알려져 있다.\n",
    "컨볼루션 신경망은 일반적으로 일련의 컨볼루션 레이어(CONV)가 포함되며, 활성화 및 풀링 레이어와 함께 사용됩니다. 활성화 레이어는 일반적으로 모든 CONV 레이어와 풀링 레이어가 공간 치수를 줄이는 데 사용된 후에 적용됩니다. 과적합을 방지하기 위해 드롭아웃 레이어를 추가할 수도 있습니다. 자세한 사항은 이 세션의 범위를 벗어나지만 [더 읽기](http://cs231n.github.io/convolutional-networks/#layers) 를 권장합니다.\n",
    "\n",
    "훈련이 완료되면 CNN은 다른 기계 학습 모델과 마찬가지로 예측을 할 수 있습니다."
   ]
  },
  {
   "cell_type": "markdown",
   "metadata": {},
   "source": [
    "## 2. Intel&reg; OpenVINO&trade; 추론 엔진"
   ]
  },
  {
   "cell_type": "markdown",
   "metadata": {},
   "source": [
    "이제 사전 훈련된 CNN으로 주제를 전환해 보겠습니다. CNN에 대해 살펴보았고, 이제 사용법에 대해 알아봅시다. Intel&reg; OpenVINO&trade; Toolkit은 사용할 수 있는 일부 사전 훈련된 모델과 함께 제공됩니다.\n",
    "\n",
    "모델 최적화를 사용하여 Caffe, MxNet, 텐서플로우와 같은 다른 프레임워크에서 학습된 모델을 변환할 수도 있습니다. \n",
    "이 툴킷은 현재 CPU, GPU, FPGA 또는 MYRIAD(NCS2)에서 최적화된 모델을 실행할 수 있도록 지원합니다."
   ]
  },
  {
   "cell_type": "markdown",
   "metadata": {},
   "source": [
    "### 모델 최적화 프로그램은 다음에서 사용할 수 있습니다:\n",
    "%OPENVINO_INSTALL_DIR%/Intel/computer_vision_sdk/deployment_tools/model_optimizer \n",
    "\n",
    "모델 최적화 프로그램은 (파이썬 3.6을 설치한) cv 환경을 활성화하여 실행할 수 있습니다.  <br />\n",
    "필요한 인수를 사용하여 **python mo.py**를 실행합니다.\n"
   ]
  },
  {
   "cell_type": "markdown",
   "metadata": {},
   "source": [
    "### FP32 데이터 유형의 경우 CPU에 더 일반적으로 사용됩니다:\n",
    "(%PATH_TO_MODEL% 및 %PATH_TO_OUTPUT% 대체)\n",
    "\n",
    "python mo.py --input_model \"%PATH_TO_MODEL%\\squeezenet1.1.caffemodel\" --output_dir \"%PATH_TO_OUTPUT%/FP32\" --data_type FP32"
   ]
  },
  {
   "cell_type": "markdown",
   "metadata": {},
   "source": [
    "###  FP16 데이터 유형의 경우 NCS2에 더 일반적으로 사용됩니다.\n",
    "\n",
    "(%PATH_TO_MODEL% 및 %PATH_TO_OUTPUT% 대체)\n",
    "\n",
    "python mo.py --input_model \"%PATH_TO_MODEL%\\squeezenet1.1.caffemodel\" --output_dir \"%PATH_TO_OUTPUT%/FP16\" --data_type FP16\n",
    "\n",
    "\n",
    "원활한 시작을 위해서 일부 모델은 이미 \"models\" 하위 디렉터리에서 변환되었습니다.\n",
    "\n",
    "보너스: FP16 및 FP32에 대해 [여기](https://www.quora.com/What-is-the-difference-between-FP16-and-FP32-when-doing-deep-learning) 에서 자세히 알아볼 수 있습니다."
   ]
  },
  {
   "cell_type": "markdown",
   "metadata": {},
   "source": [
    "\n",
    "### 2.1 분류를 위한 샘플 모델 (CPU에서 실행)\n",
    "\n",
    "Intel® OpenVINO™ Python API에 대한 문서는 [온라인](https://software.intel.com/en-us/articles/OpenVINO-InferEngine#overview-of-inference-engine-python-api) 에서 확인가능 합니다.\n",
    "\n",
    "Intel® OpenVINO™  설치 과정에서 분류를 수행하는 샘플 파이썬 파일도 함께 제공됩니다. 파일은 다음에서 찾을 수 있습니다.   %OPENVINO_INSTALL_DIR%/Intel/computer_vision_sdk/inference_engine/python_samples/classification_sample.py \n",
    "\n",
    "또한 다음 코드를 실행하고 결과를 표시해 볼 수 있습니다. 먼저 신경망이 로드되고 분류 결과(확률이 가장 높은 클래스 레이블로 시작)를 표시합니다.\n",
    "\n",
    "### SqueezeNet을 사용하여 1000개의 다른 이미지 클래스 분류\n",
    "\n",
    "이 모델은 1000개 클래스의 이미지를 인식하도록 훈련되었습니다. 프로젝트에 대한 자세한 내용은 [여기](https://arxiv.org/abs/1602.07360) 에서 확인할 수 있습니다.\n",
    "\n",
    "다음으로 이 모델을 사용하여 몇 가지 분류를 해보겠습니다.\n",
    "\n",
    "아래 예 외에도 images/dog.jpeg, images/hamster.jpeg, images/blucar.jpeg와 같은 몇 가지 다른 이미지도 사용해 볼 수 있습니다"
   ]
  },
  {
   "cell_type": "code",
   "execution_count": 6,
   "metadata": {
    "ExecuteTime": {
     "end_time": "2021-03-16T06:10:03.241462Z",
     "start_time": "2021-03-16T06:10:01.526922Z"
    }
   },
   "outputs": [
    {
     "name": "stdout",
     "output_type": "stream",
     "text": [
      "[ INFO ] Creating Inference Engine\n",
      "[ INFO ] Loading network:\n",
      "\tmodels/squeezenet1.1/FP32/squeezenet1.1.xml\n",
      "[ INFO ] Preparing input blobs\n",
      "[ WARNING ] Image [Dataset]_Module22_images/cat.jpeg is resized from (1500, 2034) to (227, 227)\n",
      "[ INFO ] Batch size is 1\n",
      "[ INFO ] Loading model to the plugin\n",
      "[ INFO ] Start inference (10 Asynchronous executions)\n",
      "[ INFO ] Completed 1 Async request execution\n",
      "[ INFO ] Completed 2 Async request execution\n",
      "[ INFO ] Completed 3 Async request execution\n",
      "[ INFO ] Completed 4 Async request execution\n",
      "[ INFO ] Completed 5 Async request execution\n",
      "[ INFO ] Completed 6 Async request execution\n",
      "[ INFO ] Completed 7 Async request execution\n",
      "[ INFO ] Completed 8 Async request execution\n",
      "[ INFO ] Completed 9 Async request execution\n",
      "[ INFO ] Completed 10 Async request execution\n",
      "[ INFO ] Processing output blob\n",
      "[ INFO ] Top 10 results: \n",
      "Image [Dataset]_Module22_images/cat.jpeg\n",
      "\n",
      "classid probability\n",
      "------- -----------\n",
      "  cat     0.7695209\n",
      "tabby cat 0.1498846\n",
      "  cat    0.0361377\n",
      "catamount 0.0187889\n",
      "  cat    0.0087181\n",
      "terrier  0.0051658\n",
      "fox, Vulpes vulpes0.0016991\n",
      "  vat    0.0013994\n",
      "terrier  0.0010574\n",
      "cat, Siamese0.0008215\n",
      "\n",
      "\n",
      "[ INFO ] This sample is an API example, for any performance measurements please use the dedicated benchmark_app tool\n",
      "\n"
     ]
    }
   ],
   "source": [
    "!python classification_sample.py -i [Dataset]_Module22_images/cat.jpeg -m models/squeezenet1.1/FP32/squeezenet1.1.xml --labels models/squeezenet1.1/FP32/squeezenet1.1.labels"
   ]
  },
  {
   "cell_type": "markdown",
   "metadata": {},
   "source": [
    "### 실습: ./images 폴더에서 사진을 하나 이상 더 분류하십시오!"
   ]
  },
  {
   "cell_type": "code",
   "execution_count": 7,
   "metadata": {
    "ExecuteTime": {
     "end_time": "2021-03-16T06:10:24.038092Z",
     "start_time": "2021-03-16T06:10:23.272882Z"
    }
   },
   "outputs": [
    {
     "name": "stdout",
     "output_type": "stream",
     "text": [
      "[ INFO ] Creating Inference Engine\n",
      "[ INFO ] Loading network:\n",
      "\tmodels/squeezenet1.1/FP32/squeezenet1.1.xml\n",
      "[ INFO ] Preparing input blobs\n",
      "[ WARNING ] Image [Dataset]_Module22_images/bluecar.jpeg is resized from (1416, 2520) to (227, 227)\n",
      "[ INFO ] Batch size is 1\n",
      "[ INFO ] Loading model to the plugin\n",
      "[ INFO ] Start inference (10 Asynchronous executions)\n",
      "[ INFO ] Completed 1 Async request execution\n",
      "[ INFO ] Completed 2 Async request execution\n",
      "[ INFO ] Completed 3 Async request execution\n",
      "[ INFO ] Completed 4 Async request execution\n",
      "[ INFO ] Completed 5 Async request execution\n",
      "[ INFO ] Completed 6 Async request execution\n",
      "[ INFO ] Completed 7 Async request execution\n",
      "[ INFO ] Completed 8 Async request execution\n",
      "[ INFO ] Completed 9 Async request execution\n",
      "[ INFO ] Completed 10 Async request execution\n",
      "[ INFO ] Processing output blob\n",
      "[ INFO ] Top 10 results: \n",
      "Image [Dataset]_Module22_images/bluecar.jpeg\n",
      "\n",
      "classid probability\n",
      "------- -----------\n",
      "wagon, station wagon, wagon, estate car, beach waggon, station waggon, waggon0.2936813\n",
      "radiator grille0.2121303\n",
      "minivan  0.2028320\n",
      "race car, racing car0.1301245\n",
      "car, sport car 0.1037653\n",
      "convertible0.0246912\n",
      " wheel   0.0170834\n",
      "pickup truck0.0068460\n",
      "hack, taxi, taxicab0.0042662\n",
      "car, coach, carriage0.0023217\n",
      "\n",
      "\n",
      "[ INFO ] This sample is an API example, for any performance measurements please use the dedicated benchmark_app tool\n",
      "\n"
     ]
    }
   ],
   "source": [
    "#your code here"
   ]
  },
  {
   "cell_type": "markdown",
   "metadata": {},
   "source": [
    "더 많은 이미지를 사용해 보고 일부 이미지(특히 배경에 더 많은 개체가 있는 이미지)가 잘못 분류되는 이유를 살펴보십시오.\n",
    "\n",
    "다음으로, Edge 디바이스에서 추론 작업 속도를 높이기 위해 설계된 휴대용 USB 장치 인 NCS2에서 동일한 모델을 실행하는 방법을 알아보겠습니다. 노트북에서도 사용할 수 있습니다.\n",
    "\n",
    "\n",
    "### 2.2 분류를 위한 샘플 모델 (NCS2에서 실행)\n",
    "\n",
    "Neural Compute Stick은 대규모 네트워크에 대한 추론을 쉽게 하기 위한 것입니다. CPU 대신 NCS2에서 추론을 실행하는 방법을 알아보겠습니다.\n",
    "\n",
    "먼저 NCS2를 컴퓨터의 USB 포트에 연결해야 합니다. USB3.0 포트가 있는 경우 빠른 데이터 전송 속도를 위해 포트를 사용합니다. 그런 다음 아래 코드를 실행합니다.\n",
    "\n",
    "위의 코드와 얼마나 다릅니까?\n",
    "\n",
    "CPU 대신 NCS2를 사용하도록 지정하기 위해 **-d MIRID**를 추가했습니다.(Myriad는 실제로 NCS2 안에 있는 강력한 칩의 이름입니다.) 그리고 모델 경로도 FP32 디렉토리가 아닌 FP16 디렉토리로 업데이트하였습니다. 그 이유는 CPU가 FP32를 사용하는 경향이 있는 반면 NCS2는 **FP16**만 지원하기 때문입니다."
   ]
  },
  {
   "cell_type": "code",
   "execution_count": 8,
   "metadata": {
    "ExecuteTime": {
     "end_time": "2021-03-16T06:10:49.635554Z",
     "start_time": "2021-03-16T06:10:48.834244Z"
    }
   },
   "outputs": [
    {
     "name": "stdout",
     "output_type": "stream",
     "text": [
      "[ INFO ] Creating Inference Engine\n",
      "[ INFO ] Loading network:\n",
      "\tmodels/squeezenet1.1/FP16/squeezenet1.1.xml\n",
      "[ INFO ] Preparing input blobs\n",
      "[ WARNING ] Image [Dataset]_Module22_images/cat.jpeg is resized from (1500, 2034) to (227, 227)\n",
      "[ INFO ] Batch size is 1\n",
      "[ INFO ] Loading model to the plugin\n"
     ]
    },
    {
     "name": "stderr",
     "output_type": "stream",
     "text": [
      "Traceback (most recent call last):\n",
      "  File \"classification_sample.py\", line 176, in <module>\n",
      "    sys.exit(main() or 0)\n",
      "  File \"classification_sample.py\", line 134, in main\n",
      "    exec_net = ie.load_network(network=net, device_name=args.device)\n",
      "  File \"ie_api.pyx\", line 403, in openvino.inference_engine.ie_api.IECore.load_network\n",
      "  File \"ie_api.pyx\", line 442, in openvino.inference_engine.ie_api.IECore.load_network\n",
      "RuntimeError: Can not init Myriad device: NC_ERROR\n"
     ]
    }
   ],
   "source": [
    "!python classification_sample.py -d MYRIAD -i [Dataset]_Module22_images/cat.jpeg -m models/squeezenet1.1/FP16/squeezenet1.1.xml --labels models/squeezenet1.1/FP16/squeezenet1.1.labels\n",
    "#In case not using NCS2 please replace \"MYRIAD\" with \"CPU\""
   ]
  },
  {
   "cell_type": "markdown",
   "metadata": {},
   "source": [
    "### 실습: ./images 폴더에서 사진을 하나 이상 더 분류하십시오!"
   ]
  },
  {
   "cell_type": "code",
   "execution_count": 9,
   "metadata": {
    "ExecuteTime": {
     "end_time": "2021-03-16T06:11:16.222848Z",
     "start_time": "2021-03-16T06:11:15.514820Z"
    }
   },
   "outputs": [
    {
     "name": "stdout",
     "output_type": "stream",
     "text": [
      "[ INFO ] Creating Inference Engine"
     ]
    },
    {
     "name": "stderr",
     "output_type": "stream",
     "text": [
      "Traceback (most recent call last):\n",
      "  File \"classification_sample.py\", line 176, in <module>\n",
      "    sys.exit(main() or 0)\n",
      "  File \"classification_sample.py\", line 134, in main\n",
      "    exec_net = ie.load_network(network=net, device_name=args.device)\n",
      "  File \"ie_api.pyx\", line 403, in openvino.inference_engine.ie_api.IECore.load_network\n",
      "  File \"ie_api.pyx\", line 442, in openvino.inference_engine.ie_api.IECore.load_network\n",
      "RuntimeError: Can not init Myriad device: NC_ERROR\n"
     ]
    },
    {
     "name": "stdout",
     "output_type": "stream",
     "text": [
      "\n",
      "[ INFO ] Loading network:\n",
      "\tmodels/squeezenet1.1/FP16/squeezenet1.1.xml\n",
      "[ INFO ] Preparing input blobs\n",
      "[ WARNING ] Image [Dataset]_Module22_images/dog.jpeg is resized from (717, 800) to (227, 227)\n",
      "[ INFO ] Batch size is 1\n",
      "[ INFO ] Loading model to the plugin\n"
     ]
    }
   ],
   "source": [
    "#your code here"
   ]
  },
  {
   "cell_type": "markdown",
   "metadata": {},
   "source": [
    "CPU와 NCS2에서 생성된 확률은 부동 소수점이 지원/계산되는 방식으로 인해 일부 차이가 있을 수 있습니다.  NCS2에는 FP16 모델을, CPU에는 FP32 모델을 사용했다는 것을 기억하십시오. 이 두 모델은 완전히 동일하지 않습니다.모델 하위 디렉터리에서 모델 파일 크기를 살펴보면 FP16 모델의 .bin 파일이 FP32 모델의 .bin 파일보다 훨씬 작은 경향이 있습니다.\n",
    "\n",
    "CPU와 NCS2의 결과를 비교하면 이 네트워크는 10-20ms 이내에 빠르게 실행되는 소규모 네트워크이기 때문에 네트워크의 실행 시간이 약간 개선될 수 있습니다. 그러나 나중에 보겠지만, 현재 CPU를 통해 지원되지 않는 NCS2에서 실행할 수 있는 Intel 사전 교육 모델이 있습니다. 자세히 살펴보기 전에 classification_sample.py 내부의 코드를 살펴보도록 하겠습니다.\n",
    "\n",
    "**모델 사용 후 코드를 더 자세히 살펴보겠습니다.**\n",
    "\n",
    "코드가 원래 효율성을 높이기 위해 C ++로 작성 되었기 때문에 파이썬 패키지를 만들었습니다. openvino.inference_engine 패키지의 IEPlugin와 IENetwork 모듈 입니다.\n",
    "\n",
    "우선 classification_sample.py를 열어 코드를 이해할 수 있습니다. 일반적인 아이디어는 다음과 같습니다:\n",
    "1. IEPlugin(CPU / Meriod / GPU / FPGA)을 통해 하드웨어를 초기화합니다.\n",
    "2. iEnetwork를 통해 네트워크를로드합니다.\n",
    "3. 입력 이미지를 필요한 형식으로 전처리합니다.\n",
    "4. exec_net.infer를 통해 예측을합니다.\n",
    "5. 출력을 처리/표시합니다.\n",
    "6. 메모리를 해제합니다. 즉, del plugin, del net 및 del exec_net 키워드는 파이썬 애플리케이션에서는 많이 사용되지 않지만, NCS2에 대한 부하를 해제하기 위해서는(주피터 노트북에서 실행될 때) 필요합니다. 명령줄을 통해 직접 실행될 때 스크립트가 실행을 완료하면 자동 릴리스가 있을 수 있습니다.   \n",
    "\n",
    "계속하기 전에 \"classification_sample.py\"를 열어 코드를 간단히 읽어보세요."
   ]
  },
  {
   "cell_type": "markdown",
   "metadata": {},
   "source": [
    "### 2.3 파이썬 클래스를 사용한작업 간소화\n",
    "\n",
    "종종 우리는 하위 수준의 코드를 반복적으로 구현하고 싶지 않습니다. 이전 세션을 기억한다면, sklearn 패키지에서 모델을 로드하고 나면 **model.proxed()** 라는 멋진 메소드가있었습니다.\n",
    "\n",
    "마찬가지로 CNN 모델을 로드한 다음 model.pedicted와 비슷한 것을 사용하여 예측을 생성할 수 있습니까?\n",
    "\n",
    "네, 할 수 있습니다.\n",
    "\n",
    "https://github.com/simpledevelopments/OpenVINO-Python-Utils 의 지원 클래스를 사용합시다. \n",
    "패키지는 인텔 ® OpenVino ™ 툴킷의 2018R5 릴리스에서 작동하도록 테스트되었습니다. \n",
    "추론 엔진 파이썬 API가 변경될 수 있기 때문에, API가 변경되면 코드를 다시 업데이트해야 합니다."
   ]
  },
  {
   "cell_type": "code",
   "execution_count": 56,
   "metadata": {
    "ExecuteTime": {
     "end_time": "2021-03-16T06:11:42.608835Z",
     "start_time": "2021-03-16T06:11:42.176810Z"
    }
   },
   "outputs": [],
   "source": [
    "import cv2\n",
    "import numpy as np\n",
    "from utils.opv import OpvModel      # OpenVINO 2021.2 버젼 지원 클래스"
   ]
  },
  {
   "cell_type": "code",
   "execution_count": 57,
   "metadata": {
    "ExecuteTime": {
     "end_time": "2021-03-16T06:11:58.790199Z",
     "start_time": "2021-03-16T06:11:58.539203Z"
    }
   },
   "outputs": [
    {
     "name": "stdout",
     "output_type": "stream",
     "text": [
      "[INFO] Model squeezenet1.1 Loaded and Ready on NCS device 1\n"
     ]
    }
   ],
   "source": [
    "# \"Can not init USB device: NC_DEVICE_NOT_FOUND\"라는 오류가 발생하면, \n",
    "#  NCS2가 USB 포트에 연결되어 있는지 확인하십시오.\n",
    "#\n",
    "# 더 이상 추론을 만들기 위해 mymodel이 필요하지 않으면, \n",
    "# mymodel.ClearMachine()을 실행하여 장치에서 응용 프로그램을 해제하십시오.\n",
    "\n",
    "mymodel = OpvModel(\"squeezenet1.1\", device=\"CPU\", fp=\"FP16\", ncs=1, debug=True) \n",
    "# NCS2를 사용하지 않는 경우 \"MYRIAD\"를 \"CPU\"로 대체하십시오."
   ]
  },
  {
   "cell_type": "code",
   "execution_count": 58,
   "metadata": {
    "ExecuteTime": {
     "end_time": "2021-03-16T06:12:19.561944Z",
     "start_time": "2021-03-16T06:12:19.496911Z"
    }
   },
   "outputs": [
    {
     "name": "stdout",
     "output_type": "stream",
     "text": [
      "\t[INFO] Image resized from (1500, 2034) to (227, 227)\n"
     ]
    }
   ],
   "source": [
    "predictions = mymodel.Predict(cv2.imread(\"[Dataset]_Module22_images/cat.jpeg\"))"
   ]
  },
  {
   "cell_type": "code",
   "execution_count": 59,
   "metadata": {},
   "outputs": [],
   "source": [
    "# 더 이상 추론을 만들기 위해 mymodel이 필요하지 않으면, \n",
    "# mymodel.ClearMachine()을 실행하여 장치에서 응용 프로그램을 해제하십시오.\n",
    "# 또는 파이썬 응용 프로그램이 닫힐 때 자동 정리를 기다립니다.\n",
    "#  (주피터 노트북의 경우, 파일 > 닫기 및 중지를 사용할 때 발생합니다.)\n",
    "\n",
    "#mymodel.ClearMachine()"
   ]
  },
  {
   "cell_type": "code",
   "execution_count": 60,
   "metadata": {
    "ExecuteTime": {
     "end_time": "2021-03-16T06:12:37.809113Z",
     "start_time": "2021-03-16T06:12:37.801114Z"
    }
   },
   "outputs": [
    {
     "name": "stdout",
     "output_type": "stream",
     "text": [
      "77.0% chance: Persian cat\n",
      "15.0% chance: tabby, tabby cat\n",
      "3.6% chance: tiger cat\n",
      "1.9% chance: lynx, catamount\n",
      "0.9% chance: Egyptian cat\n"
     ]
    }
   ],
   "source": [
    "def displayresults(predictions, labels=None):\n",
    "    if (labels is None):                         # 레이블이 제공되지 않는 경우 숫자 레이블을 사용합니다.\n",
    "        labels = np.arange(0,1000).astype(\"str\")\n",
    "    predictions = predictions.reshape(1000)\n",
    "    top5 = predictions.argsort()[-5:][::-1]\n",
    "    top5results = np.column_stack([predictions[top5], labels[top5]])\n",
    "    for (conf, label) in top5results:\n",
    "        print(str(round(float(conf)*100,1))+\"% chance: \"+label)\n",
    "\n",
    "displayresults(predictions,mymodel.labels)"
   ]
  },
  {
   "cell_type": "markdown",
   "metadata": {},
   "source": [
    "NCS2에서도 실행된 섹션 2.2와 결과를 비교하십시오. 결과가 일치해야 합니다."
   ]
  },
  {
   "cell_type": "markdown",
   "metadata": {},
   "source": [
    "### 참고: NumPy 배열에 대한 수정\n",
    "NumPy 배열을 정렬하고 하위 설정하는 방법을 알아보려면 아래를 참조하십시오!"
   ]
  },
  {
   "cell_type": "code",
   "execution_count": 61,
   "metadata": {
    "ExecuteTime": {
     "end_time": "2021-03-16T06:12:41.063636Z",
     "start_time": "2021-03-16T06:12:41.055636Z"
    }
   },
   "outputs": [
    {
     "name": "stdout",
     "output_type": "stream",
     "text": [
      "[1 2 3 4 5 2 1]\n"
     ]
    }
   ],
   "source": [
    "import numpy as np\n",
    "\n",
    "a = np.array([1, 2, 3, 4, 5, 2, 1])\n",
    "print(a)"
   ]
  },
  {
   "cell_type": "code",
   "execution_count": 62,
   "metadata": {
    "ExecuteTime": {
     "end_time": "2021-03-16T06:12:43.470603Z",
     "start_time": "2021-03-16T06:12:43.458637Z"
    }
   },
   "outputs": [
    {
     "name": "stdout",
     "output_type": "stream",
     "text": [
      "[1 1 2 2 3 4 5]\n"
     ]
    }
   ],
   "source": [
    "np.sort(a)\n",
    "print (np.sort(a))"
   ]
  },
  {
   "cell_type": "code",
   "execution_count": 63,
   "metadata": {
    "ExecuteTime": {
     "end_time": "2021-03-16T06:12:45.285687Z",
     "start_time": "2021-03-16T06:12:45.279651Z"
    }
   },
   "outputs": [
    {
     "name": "stdout",
     "output_type": "stream",
     "text": [
      "[5 4 3 2 2 1 1]\n"
     ]
    }
   ],
   "source": [
    "np.flip(np.sort(a))\n",
    "print (np.flip(np.sort(a)))"
   ]
  },
  {
   "cell_type": "code",
   "execution_count": 64,
   "metadata": {
    "ExecuteTime": {
     "end_time": "2021-03-16T06:12:47.439788Z",
     "start_time": "2021-03-16T06:12:47.432821Z"
    }
   },
   "outputs": [
    {
     "name": "stdout",
     "output_type": "stream",
     "text": [
      "[5 4]\n"
     ]
    }
   ],
   "source": [
    "np.flip(np.sort(a))[:2]\n",
    "print (np.flip(np.sort(a))[:2])"
   ]
  },
  {
   "cell_type": "code",
   "execution_count": 65,
   "metadata": {
    "ExecuteTime": {
     "end_time": "2021-03-16T06:12:49.972338Z",
     "start_time": "2021-03-16T06:12:49.968378Z"
    }
   },
   "outputs": [
    {
     "name": "stdout",
     "output_type": "stream",
     "text": [
      "[4 3]\n"
     ]
    }
   ],
   "source": [
    "print(a.argsort()[-2:][: :-1]) # 값 5와 4의 인덱스 가져오기"
   ]
  },
  {
   "cell_type": "code",
   "execution_count": 66,
   "metadata": {
    "ExecuteTime": {
     "end_time": "2021-03-16T06:12:51.997447Z",
     "start_time": "2021-03-16T06:12:51.992482Z"
    }
   },
   "outputs": [
    {
     "name": "stdout",
     "output_type": "stream",
     "text": [
      "[5 4]\n"
     ]
    }
   ],
   "source": [
    "a[a.argsort()[-2:][: :-1]]\n",
    "print(a[a.argsort()[-2:][: :-1]])"
   ]
  },
  {
   "cell_type": "markdown",
   "metadata": {},
   "source": [
    "**2.3.1 그 결과는 어떻게 깔끔하게 정리되었는가?**\n",
    "\n",
    "그 코드가 무엇을 했는지 궁금하십니까? 예측부터 차근차근 진행합시다.\n",
    "\n",
    "우리는 1000 개의 레코드를 기대하고 있으며 각 레코드는 해당 클래스에 속한 이미지의 확률을 표시합니다. 그러나 Predictions.shape은 우리의 배열을 (1,1000,1,1) 형태로 보여줍니다. 따라서 첫 번째 단계는 1D 배열로 재구성하는 것입니다."
   ]
  },
  {
   "cell_type": "code",
   "execution_count": 67,
   "metadata": {
    "ExecuteTime": {
     "end_time": "2021-03-16T06:13:04.213427Z",
     "start_time": "2021-03-16T06:13:04.211427Z"
    }
   },
   "outputs": [
    {
     "name": "stdout",
     "output_type": "stream",
     "text": [
      "(1, 1000, 1, 1)\n"
     ]
    }
   ],
   "source": [
    "print(predictions.shape)"
   ]
  },
  {
   "cell_type": "code",
   "execution_count": 68,
   "metadata": {
    "ExecuteTime": {
     "end_time": "2021-03-16T06:13:14.204227Z",
     "start_time": "2021-03-16T06:13:14.201227Z"
    }
   },
   "outputs": [],
   "source": [
    "predictions = predictions.reshape(1000)"
   ]
  },
  {
   "cell_type": "code",
   "execution_count": 69,
   "metadata": {
    "ExecuteTime": {
     "end_time": "2021-03-16T06:13:17.933929Z",
     "start_time": "2021-03-16T06:13:17.928902Z"
    }
   },
   "outputs": [
    {
     "name": "stdout",
     "output_type": "stream",
     "text": [
      "(1000,)\n"
     ]
    }
   ],
   "source": [
    "print(predictions.shape)"
   ]
  },
  {
   "cell_type": "markdown",
   "metadata": {},
   "source": [
    "**2.3.2 상위 5 개 결과에 대한 배열 인덱스를 어떻게 얻을 수 있습니까?**\n",
    "\n",
    "NumPy에 대해 자세히 알아 보려면 https://docs.scipy.org/doc/numpy-1.15.0/reference/generated/numpy.argsort.html 을 방문하십시오."
   ]
  },
  {
   "cell_type": "code",
   "execution_count": 70,
   "metadata": {
    "ExecuteTime": {
     "end_time": "2021-03-16T06:13:25.057602Z",
     "start_time": "2021-03-16T06:13:25.040617Z"
    }
   },
   "outputs": [
    {
     "data": {
      "text/plain": [
       "array([283, 281, 282, 287, 285], dtype=int64)"
      ]
     },
     "execution_count": 70,
     "metadata": {},
     "output_type": "execute_result"
    }
   ],
   "source": [
    "predictions.argsort()[-5:][::-1]"
   ]
  },
  {
   "cell_type": "markdown",
   "metadata": {},
   "source": [
    "**2.3.3 이러한 \"상위\" 예측 각각에 대한 확률은 얼마입니까?**\n",
    "\n",
    "이 값은 십진 형식으로 표시됩니다(1은 100% 신뢰도를 의미하고 0.1은 10% 신뢰도를 의미함)."
   ]
  },
  {
   "cell_type": "code",
   "execution_count": 71,
   "metadata": {
    "ExecuteTime": {
     "end_time": "2021-03-16T06:13:35.520917Z",
     "start_time": "2021-03-16T06:13:35.511923Z"
    }
   },
   "outputs": [
    {
     "data": {
      "text/plain": [
       "array([0.7695209 , 0.14988461, 0.0361377 , 0.01878894, 0.00871808],\n",
       "      dtype=float32)"
      ]
     },
     "execution_count": 71,
     "metadata": {},
     "output_type": "execute_result"
    }
   ],
   "source": [
    "predictions[predictions.argsort()[-5:][::-1]]"
   ]
  },
  {
   "cell_type": "markdown",
   "metadata": {},
   "source": [
    "**2.3.4 이러한 예측에 대한 클래스 레이블은 무엇입니까?**\n",
    "\n",
    "\n",
    "이 특정 예제의 경우, 모델을 로드할 때, 다른 클래스의 레이블도 squeezenet1.1.labels (models/squeezenet1.1/FP16 subdirectory 하위 디렉토리 내부)에서 로드되었으므로 mymodel.labels를 사용하여 액세스할 수 있습니다. 처음 5 개의 레코드를 인쇄 해 봅시다. squeezenet1.1.labels 파일과 교차 확인할 수 있습니다."
   ]
  },
  {
   "cell_type": "code",
   "execution_count": 72,
   "metadata": {
    "ExecuteTime": {
     "end_time": "2021-03-16T06:13:44.569459Z",
     "start_time": "2021-03-16T06:13:44.566461Z"
    }
   },
   "outputs": [
    {
     "name": "stdout",
     "output_type": "stream",
     "text": [
      "['tench, Tinca tinca' 'goldfish, Carassius auratus'\n",
      " 'great white shark, white shark, man-eater, man-eating shark, Carcharodon carcharias'\n",
      " 'tiger shark, Galeocerdo cuvieri' 'hammerhead, hammerhead shark']\n"
     ]
    }
   ],
   "source": [
    "print(mymodel.labels[:5])"
   ]
  },
  {
   "cell_type": "markdown",
   "metadata": {},
   "source": [
    "**2.3.5 좋습니다. 하지만 어떻게 예측에 라벨을 적용할 수 있을까요?**\n",
    "\n",
    "다음은 상위 5개 결과입니다!"
   ]
  },
  {
   "cell_type": "code",
   "execution_count": 73,
   "metadata": {
    "ExecuteTime": {
     "end_time": "2021-03-16T06:13:48.263251Z",
     "start_time": "2021-03-16T06:13:48.259252Z"
    }
   },
   "outputs": [
    {
     "data": {
      "text/plain": [
       "array(['Persian cat', 'tabby, tabby cat', 'tiger cat', 'lynx, catamount',\n",
       "       'Egyptian cat'], dtype='<U121')"
      ]
     },
     "execution_count": 73,
     "metadata": {},
     "output_type": "execute_result"
    }
   ],
   "source": [
    "mymodel.labels[predictions.argsort()[-5:][::-1]]"
   ]
  },
  {
   "cell_type": "markdown",
   "metadata": {},
   "source": [
    "**2.3.6 이제 확률과 결과를 어떻게 배열로 결합할 수 있을까요?**"
   ]
  },
  {
   "cell_type": "code",
   "execution_count": 74,
   "metadata": {
    "ExecuteTime": {
     "end_time": "2021-03-16T06:13:55.472816Z",
     "start_time": "2021-03-16T06:13:55.465784Z"
    }
   },
   "outputs": [
    {
     "data": {
      "text/plain": [
       "array([['0.7695209', 'Persian cat'],\n",
       "       ['0.14988461', 'tabby, tabby cat'],\n",
       "       ['0.036137696', 'tiger cat'],\n",
       "       ['0.018788941', 'lynx, catamount'],\n",
       "       ['0.008718076', 'Egyptian cat']], dtype='<U121')"
      ]
     },
     "execution_count": 74,
     "metadata": {},
     "output_type": "execute_result"
    }
   ],
   "source": [
    "top5 = predictions.argsort()[-5:][::-1]\n",
    "np.column_stack([    predictions[top5],    mymodel.labels[top5]     ])"
   ]
  },
  {
   "cell_type": "markdown",
   "metadata": {},
   "source": [
    "\n",
    "**2.3.7 여기서 모든 것을 다시 정리해봅시다.**"
   ]
  },
  {
   "cell_type": "code",
   "execution_count": 75,
   "metadata": {
    "ExecuteTime": {
     "end_time": "2021-03-16T06:13:59.426338Z",
     "start_time": "2021-03-16T06:13:59.416372Z"
    }
   },
   "outputs": [
    {
     "name": "stdout",
     "output_type": "stream",
     "text": [
      "77.0% chance: Persian cat\n",
      "15.0% chance: tabby, tabby cat\n",
      "3.6% chance: tiger cat\n",
      "1.9% chance: lynx, catamount\n",
      "0.9% chance: Egyptian cat\n"
     ]
    }
   ],
   "source": [
    "def displayresults(predictions, labels=None):\n",
    "    if (labels is None):                         # 레이블이 제공되지 않는 경우 숫자 레이블을 사용합니다.\n",
    "        labels = np.arange(0,1000).astype(\"str\")\n",
    "    predictions = predictions.reshape(1000)\n",
    "    top5 = predictions.argsort()[-5:][::-1]\n",
    "    top5results = np.column_stack([predictions[top5], labels[top5]])\n",
    "    for (conf, label) in top5results:\n",
    "        print(str(round(float(conf)*100,1))+\"% chance: \"+label)\n",
    "displayresults(predictions,mymodel.labels)"
   ]
  },
  {
   "cell_type": "markdown",
   "metadata": {},
   "source": [
    "### 실습: 모든 것을 종합해서, 다른 이미지에 대해 예측을 하세요."
   ]
  },
  {
   "cell_type": "code",
   "execution_count": 76,
   "metadata": {
    "ExecuteTime": {
     "end_time": "2021-03-16T06:14:02.698417Z",
     "start_time": "2021-03-16T06:14:02.593725Z"
    },
    "scrolled": true
   },
   "outputs": [
    {
     "name": "stdout",
     "output_type": "stream",
     "text": [
      "\t[INFO] Image resized from (1416, 2520) to (227, 227)\n",
      "29.4% chance: beach wagon, station wagon, wagon, estate car, beach waggon, station waggon, waggon\n",
      "21.2% chance: grille, radiator grille\n",
      "20.3% chance: minivan\n",
      "13.0% chance: racer, race car, racing car\n",
      "10.4% chance: sports car, sport car\n"
     ]
    }
   ],
   "source": [
    "#your code here"
   ]
  },
  {
   "cell_type": "markdown",
   "metadata": {},
   "source": [
    "잘 했어요! 사전 학습된 SqueezeNet1.1 및 OpenVINO를 사용하여 분류를 성공적으로 수행했습니다. 시간을 내어 모델을 로드하고 분류를 수행하고 결과를 표시하는 프로세스에 대해 생각해 보십시오. 학생 활동 가이드에 메모를 작성할 수 있습니다."
   ]
  },
  {
   "cell_type": "markdown",
   "metadata": {},
   "source": [
    "## 3. 추론 모델 라이브러리\n",
    "\n",
    "추론 모델에는 다양한 유형이 있다는 것을 기억하십시오. 일부는 이미지 분류를 하고 일부는 객체 감지하고 일부는 이미지 세분화를 수행합니다. Intel은 또한 Intel® OpenVINO™ 설치와 함께 사전 학습된 추론 모델 세트를 제공합니다. 사전 학습된 모델에 대한 자세한 내용은 다음 웹 사이트에서 확인할 수 있습니다.\n",
    "https://software.intel.com/en-us/openvino-toolkit/documentation/pretrained-models\n",
    "\n",
    "**모델을 IR 형식으로 최적화합니다**<br />\n",
    "섹션 2의 시작 부분에서 모델 최적화 도구에 대해 간략하게 이야기했습니다. 학습 된 모델이 인텔 ® OpenVino ™ 추론 엔진에서 실행되기 전에 중간 표현 (IR) 형식으로 최적화되어야합니다. 이러한 방식으로 CAFFE, MXNET 및 Tensorflow와 같은 프레임 워크에서 학습 된 모델은 툴킷을 사용하여 효율적으로 실행할 수있는 IR 형식으로 변환 할 수 있습니다. 자세한 내용은 https://software.intel.com/en-us/articles/OpenVINO-ModelOptimizer 를 참조하십시오.\n",
    "\n",
    "**IR 형식으로 사전 학습된 모델**<br />\n",
    "좋은 소식은 사전 학습된 인텔 모델의 경우 이미 IR 형식으로 변환되어 즉시 사용할 준비가 되어있습니다. 자세한 내용은 %OPENVINO_INSTALL_DIR%/Intel/computer_vision_sdk/deployment_tools/intel_models 에서 찾을 수 있습니다.\n",
    "\n",
    "이러한 모델을 사용하려면 해당 하위 폴더를 이 노트북이 있는 모델 하위 디렉터리에 복사하면 됩니다."
   ]
  },
  {
   "cell_type": "markdown",
   "metadata": {},
   "source": [
    "## 4. 인텔 모델 \"라이브러리\"의 모델을 사용한 얼굴 검출\n",
    "\n"
   ]
  },
  {
   "cell_type": "markdown",
   "metadata": {},
   "source": [
    "디지털 카메라는 사람들의 얼굴을 어떻게 감지합니까? 우리도 그런 일을 할 수 있을까요?\n",
    "\n",
    "<img src=\"[Dataset]_Module22_images/friendsfaces.png\" style=\"width:400px; float:left;\" />\n",
    "<div style=\"clear:both;\"></div>"
   ]
  },
  {
   "cell_type": "markdown",
   "metadata": {},
   "source": [
    "이를 위해 **face-detection-adas-0001** 모델을 사용해 보십시오!\n",
    "\n",
    "### 실습: 모델 설명서를 참조하여 모델의 입력 및 출력을 기록하십시오. \n",
    "\n",
    "이 모델에 대한 설명서는 %OPENVINO_INSTALL_DIR%/Intel/computer_vision_sdk/deployment_tools/intel_models/face-detection-adas-0001/description/face-detection-adas-0001.html 에서 확인할 수 있습니다.\n",
    "\n",
    "네트워크(모델)는 [1, 1, N, 7] 형태로 블롭을 출력하며, 여기서 N은 검출된 경계 상자의 수입니다. 각 탐지에 대해 설명은 [image_id, label, conf, x_min, y_min, x_max, y_max] 형식을 갖습니다.(7 개의 변수를 참조하십시오. 이는 [1,1,N,7]의 7을 설명합니다.)\n",
    "\n",
    "**intel_models의 \"face-detection-adas-0001\"폴더를 모델 폴더로 복사 한 다음 시작해 봅시다!**"
   ]
  },
  {
   "cell_type": "code",
   "execution_count": 78,
   "metadata": {
    "ExecuteTime": {
     "end_time": "2021-03-16T06:15:16.234769Z",
     "start_time": "2021-03-16T06:15:15.759564Z"
    }
   },
   "outputs": [],
   "source": [
    "import cv2\n",
    "import numpy as np\n",
    "from utils.opv import OpvModel\n",
    "\n",
    "mymodel2 = OpvModel(\"face-detection-adas-0001\", device=\"CPU\", fp=\"FP16\", ncs=1) \n",
    "# NCS2를 사용하지 않는 경우 \"MYRIAD\"를 \"CPU\"로 대체하십시오."
   ]
  },
  {
   "cell_type": "code",
   "execution_count": 79,
   "metadata": {
    "ExecuteTime": {
     "end_time": "2021-03-16T06:18:29.248013Z",
     "start_time": "2021-03-16T06:18:28.750204Z"
    }
   },
   "outputs": [],
   "source": [
    "friends = cv2.imread(\"[Dataset]_Module22_images/friends.jpeg\")\n",
    "friends = cv2.resize(friends,(1200,710))     # 원본이 상당히 크기 때문에 이미지 크기를 줄입니다.\n",
    "predictions = mymodel2.Predict(friends)"
   ]
  },
  {
   "cell_type": "code",
   "execution_count": 80,
   "metadata": {
    "ExecuteTime": {
     "end_time": "2021-03-16T06:18:31.061947Z",
     "start_time": "2021-03-16T06:18:31.055920Z"
    }
   },
   "outputs": [
    {
     "data": {
      "text/plain": [
       "(1, 1, 200, 7)"
      ]
     },
     "execution_count": 80,
     "metadata": {},
     "output_type": "execute_result"
    }
   ],
   "source": [
    "predictions.shape"
   ]
  },
  {
   "cell_type": "markdown",
   "metadata": {},
   "source": [
    "획득한 모양을 문서에 표시된 출력 모양과 비교합니다. 모양은 동일해야 합니다!\n",
    "\n",
    "얼마나 많은 예측이 있는지 알 수 있습니까?"
   ]
  },
  {
   "cell_type": "code",
   "execution_count": 81,
   "metadata": {},
   "outputs": [],
   "source": [
    "# 답변 : "
   ]
  },
  {
   "cell_type": "markdown",
   "metadata": {},
   "source": [
    "이제 예측 변수에 무엇이 포함되어 있는지 궁금하십니까? \n",
    "\n",
    "### 실습: 예측의 세 개 이상의 결과를 나열합니다.  이들의 레이블은 [image_id, label, conf, x_min, y_min, x_max, y_max] 입니다."
   ]
  },
  {
   "cell_type": "code",
   "execution_count": 82,
   "metadata": {
    "ExecuteTime": {
     "end_time": "2021-03-16T06:18:36.042997Z",
     "start_time": "2021-03-16T06:18:36.039028Z"
    }
   },
   "outputs": [
    {
     "name": "stdout",
     "output_type": "stream",
     "text": [
      "[[[[0.         1.         1.         0.7941595  0.39807257 0.84158474\n",
      "    0.5066318 ]\n",
      "   [0.         1.         0.99999964 0.35023394 0.4601197  0.39078203\n",
      "    0.5425858 ]\n",
      "   [0.         1.         0.995613   0.5246759  0.4436372  0.5696493\n",
      "    0.5426169 ]]]]\n"
     ]
    }
   ],
   "source": [
    "#your code here"
   ]
  },
  {
   "cell_type": "markdown",
   "metadata": {},
   "source": [
    "이제 경계 상자를 그릴 때입니다! 아래 코드를 사용해 보십시오!"
   ]
  },
  {
   "cell_type": "code",
   "execution_count": 83,
   "metadata": {
    "ExecuteTime": {
     "end_time": "2021-03-16T06:18:44.793788Z",
     "start_time": "2021-03-16T06:18:41.142437Z"
    }
   },
   "outputs": [],
   "source": [
    "def DrawBoundingBoxes(predictions, image, conf=0):\n",
    "    canvas = image.copy()                             # 원본 이미지를 수정하는 대신 복사합니다\n",
    "    predictions_1 = predictions[0][0]                 # 하위 집합 데이터 프레임\n",
    "    confidence = predictions_1[:,2]                   # conf 값 가져오기 [image_id, label, conf, x_min, y_min, x_max, y_max]\n",
    "    topresults = predictions_1[(confidence>conf)]     # 임계값보다 큰 conf 값을 가진 예측만 선택\n",
    "    (h,w) = canvas.shape[:2]                         \n",
    "    for detection in topresults:\n",
    "        box = detection[3:7] * np.array([w, h, w, h]) # 상자 위치 결정\n",
    "        (xmin, ymin, xmax, ymax) = box.astype(\"int\")  # xmin, ymin, xmax, ymax에 상자 위치 값 지정\n",
    "\n",
    "        cv2.rectangle(canvas, (xmin, ymin), (xmax, ymax), (0, 0, 255), 4)   # 사각형 만들기\n",
    "        cv2.putText(canvas, str(round(detection[2]*100,1))+\"%\", (xmin, ymin), # 텍스트 포함\n",
    "            cv2.FONT_HERSHEY_SIMPLEX, 0.6, (255, 0,0), 2)\n",
    "    cv2.putText(canvas, str(len(topresults))+\" face(s) detected\", (50,50),    # 텍스트 포함\n",
    "            cv2.FONT_HERSHEY_SIMPLEX, 0.6, (255, 0,0), 2)\n",
    "    return canvas\n",
    "\n",
    "cv2.imshow(\"Friends2\",DrawBoundingBoxes(predictions,friends))\n",
    "cv2.waitKey(0)\n",
    "cv2.destroyAllWindows()"
   ]
  },
  {
   "cell_type": "markdown",
   "metadata": {},
   "source": [
    "우리가 너무 많은 상자를 그리는 것 같습니다. 200개의 경계 상자를 감지한 것 같습니다. 그러나 모든 경계 상자가 얼굴이 될 수 있는 것은 아닙니다. 어떤 것이 유효한 예측인지 확인하려면 확률 점수를 우리가 설정한 임계 값과 비교해야 합니다\n",
    "\n",
    "### 실습: 50% 의 신뢰도를 임계값으로 사용합니다.\n",
    "\n",
    "분류 예제에 대한 결과를 표시한 방법을 기억하고 아래 코드가 어떻게 작동하는지 비교하십시오."
   ]
  },
  {
   "cell_type": "code",
   "execution_count": 84,
   "metadata": {
    "ExecuteTime": {
     "end_time": "2021-03-16T06:18:50.566199Z",
     "start_time": "2021-03-16T06:18:48.360816Z"
    }
   },
   "outputs": [],
   "source": [
    "def DrawBoundingBoxes(predictions, image, conf=0.5):\n",
    "    canvas = image.copy()                             # 원본 이미지를 수정하는 대신 복사합니다\n",
    "    predictions_1 = predictions[0][0]                 # 하위 집합 데이터 프레임\n",
    "    confidence = predictions_1[:,2]                    # conf 값 가져오기 [image_id, label, conf, x_min, y_min, x_max, y_max]\n",
    "    topresults = predictions_1[(confidence>conf)]      # 임계값보다 큰 conf 값을 가진 예측만 선택\n",
    "    (h,w) = canvas.shape[:2]                           # 이미지 높이에 따라 변수 h 및 w 설정\n",
    "    \n",
    "    #\n",
    "    for detection in topresults:\n",
    "        box = detection[3:7] * np.array([w, h, w, h]) # 상자 위치 결정\n",
    "        (xmin, ymin, xmax, ymax) = box.astype(\"int\")  # xmin, ymin, xmax, ymax에 상자 위치 값 지정\n",
    "\n",
    "        cv2.rectangle(canvas, (xmin, ymin), (xmax, ymax), (0, 0, 255), 4)  # 사각형 만들기\n",
    "        cv2.putText(canvas, str(round(detection[2]*100,1))+\"%\", (xmin, ymin), # 텍스트 포함\n",
    "            cv2.FONT_HERSHEY_SIMPLEX, 0.6, (255, 0,0), 2)\n",
    "    cv2.putText(canvas, str(len(topresults))+\" face(s) detected\", (50,50), # 텍스트 포함\n",
    "            cv2.FONT_HERSHEY_SIMPLEX, 0.6, (255, 0,0), 2)\n",
    "    return predictions_1, canvas\n",
    "\n",
    "predictions_1,x = DrawBoundingBoxes(predictions,friends)\n",
    "cv2.imshow(\"Friends2\",x)\n",
    "cv2.waitKey(0)\n",
    "cv2.destroyAllWindows()"
   ]
  },
  {
   "cell_type": "markdown",
   "metadata": {},
   "source": [
    "여러분은 무엇을 볼 수 있습니까?  상자 안에 우리 친구들의 얼굴만 넣어져 있는 것을 볼 수 있습니다!\n",
    "\n",
    "\n",
    "이제 코드에 대한 이해도를 테스트할 시간입니다.\n",
    "\n",
    "### 실습: confidence 변수를 출력합니다. 이 변수에는 무엇이 포함되어 있습니까? 이미지의 네 친구를 가리키는 신뢰 수준을 확인할 수 있습니까?"
   ]
  },
  {
   "cell_type": "code",
   "execution_count": 85,
   "metadata": {
    "ExecuteTime": {
     "end_time": "2021-03-16T06:18:54.522338Z",
     "start_time": "2021-03-16T06:18:54.513337Z"
    }
   },
   "outputs": [
    {
     "name": "stdout",
     "output_type": "stream",
     "text": [
      "[1.         0.99999964 0.995613   0.9652484  0.01954742 0.01897001\n",
      " 0.01794284 0.01770019 0.01764668 0.01762706 0.01760947 0.01733034\n",
      " 0.01699277 0.01693124 0.01667533 0.01658139 0.01621212 0.01598535\n",
      " 0.01597153 0.01589354 0.01587604 0.01585953 0.01573428 0.01567845\n",
      " 0.01560695 0.01541477 0.01540966 0.01534926 0.01514687 0.01509106\n",
      " 0.01504166 0.01500521 0.01474105 0.01465906 0.01453096 0.01449704\n",
      " 0.01445426 0.01443859 0.01428939 0.01418993 0.01384502 0.01382889\n",
      " 0.01380085 0.01380065 0.01364383 0.01363705 0.01353545 0.01353054\n",
      " 0.01335032 0.01334383 0.01331454 0.01328486 0.013275   0.01315909\n",
      " 0.01310863 0.01310847 0.01307227 0.01304318 0.01303701 0.01303307\n",
      " 0.01297615 0.01292788 0.01288899 0.01287343 0.01286598 0.0128212\n",
      " 0.01280037 0.01278295 0.01277385 0.01276268 0.0127204  0.01269993\n",
      " 0.01265149 0.01264626 0.01263556 0.01261097 0.01256746 0.0125375\n",
      " 0.01253317 0.01247998 0.01228532 0.01223279 0.01223096 0.01219887\n",
      " 0.01218056 0.01211949 0.01201286 0.01199868 0.01191019 0.01189888\n",
      " 0.01187105 0.01185942 0.0118586  0.01180838 0.01178822 0.01177938\n",
      " 0.01176123 0.01173516 0.01172298 0.01171471 0.01167117 0.01165921\n",
      " 0.0116529  0.01164906 0.01163854 0.01162787 0.01161232 0.01159068\n",
      " 0.01156734 0.01154654 0.01153835 0.01152952 0.01149731 0.01147618\n",
      " 0.0114069  0.01136895 0.01125535 0.01123353 0.01121656 0.01121186\n",
      " 0.01120941 0.         0.         0.         0.         0.\n",
      " 0.         0.         0.         0.         0.         0.\n",
      " 0.         0.         0.         0.         0.         0.\n",
      " 0.         0.         0.         0.         0.         0.\n",
      " 0.         0.         0.         0.         0.         0.\n",
      " 0.         0.         0.         0.         0.         0.\n",
      " 0.         0.         0.         0.         0.         0.\n",
      " 0.         0.         0.         0.         0.         0.\n",
      " 0.         0.         0.         0.         0.         0.\n",
      " 0.         0.         0.         0.         0.         0.\n",
      " 0.         0.         0.         0.         0.         0.\n",
      " 0.         0.         0.         0.         0.         0.\n",
      " 0.         0.         0.         0.         0.         0.\n",
      " 0.         0.        ]\n"
     ]
    }
   ],
   "source": [
    "# your code/answer here"
   ]
  },
  {
   "cell_type": "markdown",
   "metadata": {},
   "source": [
    "### 실습: topresults 변수를 출력합니다. 이 변수에는 무엇이 포함되어 있습니까? \n",
    "[image_id, label, conf, x_min, y_min, x_max, y_max] 를 다시 식별하십시오."
   ]
  },
  {
   "cell_type": "code",
   "execution_count": 86,
   "metadata": {
    "ExecuteTime": {
     "end_time": "2021-03-16T06:18:59.494253Z",
     "start_time": "2021-03-16T06:18:59.488252Z"
    }
   },
   "outputs": [
    {
     "name": "stdout",
     "output_type": "stream",
     "text": [
      "[[0.         1.         1.         0.7941595  0.39807257 0.84158474\n",
      "  0.5066318 ]\n",
      " [0.         1.         0.99999964 0.35023394 0.4601197  0.39078203\n",
      "  0.5425858 ]\n",
      " [0.         1.         0.995613   0.5246759  0.4436372  0.5696493\n",
      "  0.5426169 ]\n",
      " [0.         1.         0.9652484  0.14379883 0.32845277 0.1896973\n",
      "  0.41683376]]\n"
     ]
    }
   ],
   "source": [
    "# your code/answer here"
   ]
  },
  {
   "cell_type": "markdown",
   "metadata": {},
   "source": [
    "### 실습: detection [3:7] 을 출력합니다.\n",
    "무엇을 의미합니까?"
   ]
  },
  {
   "cell_type": "code",
   "execution_count": 93,
   "metadata": {
    "ExecuteTime": {
     "end_time": "2021-03-16T06:19:05.439626Z",
     "start_time": "2021-03-16T06:19:05.432631Z"
    }
   },
   "outputs": [
    {
     "data": {
      "text/plain": [
       "array([0.7941595 , 0.39807257, 0.84158474, 0.5066318 ], dtype=float32)"
      ]
     },
     "execution_count": 93,
     "metadata": {},
     "output_type": "execute_result"
    }
   ],
   "source": [
    "# your code/answer here"
   ]
  },
  {
   "cell_type": "markdown",
   "metadata": {},
   "source": [
    "### 실습: variable box를 출력합니다. \n",
    "무엇을 의미합니까?"
   ]
  },
  {
   "cell_type": "code",
   "execution_count": 94,
   "metadata": {
    "ExecuteTime": {
     "end_time": "2021-03-16T06:19:08.304172Z",
     "start_time": "2021-03-16T06:19:08.289178Z"
    }
   },
   "outputs": [
    {
     "name": "stdout",
     "output_type": "stream",
     "text": [
      "[ 952.99136639  282.6315251  1009.90169048  359.70857203]\n"
     ]
    }
   ],
   "source": [
    "# your code/answer here"
   ]
  },
  {
   "cell_type": "markdown",
   "metadata": {},
   "source": [
    "그런 다음 경계 상자와 텍스트 레이블을 그릴 수 있습니다.\n",
    "\n",
    "### 실습: 자신의 설정으로 경계 상자를 다시 그립니다.\n",
    "이번에는 상자의 색상과 두께, 글꼴의 크기와 유형을 변경합니다."
   ]
  },
  {
   "cell_type": "code",
   "execution_count": 95,
   "metadata": {
    "ExecuteTime": {
     "end_time": "2021-03-16T06:19:13.699751Z",
     "start_time": "2021-03-16T06:19:12.000634Z"
    }
   },
   "outputs": [],
   "source": [
    "def DrawBoundingBoxes(predictions, image, conf=0.5):\n",
    "    canvas = image.copy()                              # 원본 이미지를 수정하는 대신 복사합니다\n",
    "    predictions_1 = predictions[0][0]                  # 하위 집합 데이터 프레임\n",
    "    confidence = predictions_1[:,2]                   # conf 값 가져오기 [image_id, label, conf, x_min, y_min, x_max, y_max]\n",
    "    topresults = predictions_1[(confidence>conf)]     # 임계값보다 큰 conf 값을 가진 예측만 선택\n",
    "    (h,w) = canvas.shape[:2]                          # 이미지 높이에 따라 변수 h 및 w 설정\n",
    "    \n",
    "    for detection in topresults:\n",
    "        box = detection[3:7] * np.array([w, h, w, h]) # 상자 위치 결정\n",
    "        (xmin, ymin, xmax, ymax) = box.astype(\"int\")  # xmin, ymin, xmax, ymax에 상자 위치 값 지정\n",
    "\n",
    "        cv2.rectangle(canvas, (xmin, ymin), (xmax, ymax), (100, 150, 255), 2)   # 사각형 만들기\n",
    "        cv2.putText(canvas, str(round(detection[2]*100,1))+\"%\", (xmin, ymin), # 텍스트 포함\n",
    "            cv2.FONT_HERSHEY_TRIPLEX, 0.8, (255, 230,40), 2)\n",
    "    cv2.putText(canvas, str(len(topresults))+\" friend(s) detected. It's time to party!\", (50,50), # 텍스트 포함\n",
    "            cv2.FONT_HERSHEY_COMPLEX, 0.6, (255, 10,110), 2)\n",
    "    return predictions_1, canvas\n",
    "\n",
    "predictions_1,x = DrawBoundingBoxes(predictions,friends)\n",
    "cv2.imshow(\"Friends2\",x)\n",
    "cv2.waitKey(0)\n",
    "cv2.destroyAllWindows()"
   ]
  },
  {
   "cell_type": "markdown",
   "metadata": {},
   "source": [
    "### 실습: 모델을 사용하여 다른 이미지에 경계 상자를 분류하고 그립니다!\n",
    "인물의 옆모습, 익살스러운 얼굴 등을 찍어 보세요. 미리 훈련된 모델이 얼굴을 찾는 능력에 대해 무엇을 알 수 있습니까?"
   ]
  },
  {
   "cell_type": "code",
   "execution_count": 96,
   "metadata": {
    "ExecuteTime": {
     "end_time": "2021-03-16T06:19:16.536938Z",
     "start_time": "2021-03-16T06:19:16.248544Z"
    },
    "scrolled": true
   },
   "outputs": [],
   "source": [
    "#your code here"
   ]
  },
  {
   "cell_type": "markdown",
   "metadata": {},
   "source": [
    "## 축하합니다! 여러분은 이제 막 첫 얼굴 탐지기를 만들었습니다!\n",
    "\n",
    "## 이제 여러분이 손을 써야할 시간입니다! \n",
    "\n",
    "방금 2 개의 매우 강력한 훈련 된 모델을 사용했습니다. 하나는 1000개의 객체 클래스들 사이의 이미지 분류를 수행하고, 하나는 얼굴 감지를 수행합니다.\n",
    "\n",
    "Intel® Distribution of OpenVINO Toolkit에서 제공하는 다양한 사전 교육 모델을 살펴보면서 intel_models 하위 디렉토리와 각 모델의 설명 하위 폴더를 살펴보십시오.문서는 각 모델이 예측할 수있는 것에 대한 더 나은 아이디어를 제공 할 것입니다. 예측을 완료하면 기본 이미지 처리 기술을 사용하여 결과를 표시합니다.\n",
    "\n",
    "어떤 것을 구축하든, 목적과 목표를 염두에 두고 다양한 접근 방식을 생각해 보십시오. 기계 학습 알고리즘이 잘못 분류하고 위험을 완화하는 방법을 계획할 때 발생할 수 있는 영향도 명심하십시오.\n",
    "예를 들어 실제로 얼굴이 없을 때 얼굴을 감지하면 최악의 결과는 무엇입니까? 아니면 실제로 얼굴이 있을 때 감지하지 못하는 경우의 결과는 무엇입니까? 오류가 발생할 가능성이 있는 다른 시나리오와 마찬가지로 실제 솔루션의 설계를 다른 기술 또는 하드웨어 센서로 보완하십시오."
   ]
  },
  {
   "cell_type": "markdown",
   "metadata": {},
   "source": [
    "### 도전과제 1: 섹션 1에서 배운 것을 사용하여 images/dog.jpeg 를 흐르게 합니다.\n",
    "\n",
    "흐림 효과를 더 많이 흐리게 만드는 방법을 알고 있습니까?"
   ]
  },
  {
   "cell_type": "code",
   "execution_count": 98,
   "metadata": {
    "ExecuteTime": {
     "end_time": "2021-03-16T06:19:28.419110Z",
     "start_time": "2021-03-16T06:19:27.016592Z"
    }
   },
   "outputs": [],
   "source": [
    "#your code here"
   ]
  },
  {
   "cell_type": "markdown",
   "metadata": {},
   "source": [
    "### 도전과제 2: 섹션 2.3 코드를 수정하여 상위 5개 대신 상위 3개 결과를 제공합니다."
   ]
  },
  {
   "cell_type": "code",
   "execution_count": 100,
   "metadata": {
    "ExecuteTime": {
     "end_time": "2021-03-16T06:19:43.219165Z",
     "start_time": "2021-03-16T06:19:42.786203Z"
    }
   },
   "outputs": [
    {
     "name": "stdout",
     "output_type": "stream",
     "text": [
      "Loaded Machine Released\n",
      "[INFO] Model face-detection-adas-0001 Loaded and Ready on NCS device 1\n"
     ]
    }
   ],
   "source": [
    "mymodel = OpvModel(\"face-detection-adas-0001\", device=\"CPU\", fp=\"FP16\", ncs=1, debug=True)\n",
    "# (self, model_name, device, fp=\"FP32\", debug=False, ncs=1)\n",
    "# NCS2를 사용하지 않는 경우 \"MYRIAD\"를 \"CPU\"로 대체하십시오."
   ]
  },
  {
   "cell_type": "code",
   "execution_count": null,
   "metadata": {},
   "outputs": [],
   "source": [
    "#your code here"
   ]
  },
  {
   "cell_type": "markdown",
   "metadata": {},
   "source": [
    "### 도전과제 3: models/squeezenet1.1/FP16/squeezenet1.1.labels 에서 레이블을 numpy 배열로 로드합니다. 파일 내부의 첫 번째 레이블은 무엇입니까?\n",
    "\n",
    "파일에서 레이블을 읽고 numpy 배열로 로드하는 방법은 무엇입니까? <br />\n",
    "힌트: 문제가 발생할 경우 utils/opv.py내에서 어떻게 수행되는지 확인할 수 있습니다."
   ]
  },
  {
   "cell_type": "code",
   "execution_count": 102,
   "metadata": {
    "ExecuteTime": {
     "end_time": "2021-03-16T06:19:54.382213Z",
     "start_time": "2021-03-16T06:19:54.369237Z"
    }
   },
   "outputs": [
    {
     "name": "stdout",
     "output_type": "stream",
     "text": [
      "['tench, Tinca tinca' 'goldfish, Carassius auratus'\n",
      " 'great white shark, white shark, man-eater, man-eating shark, Carcharodon carcharias'\n",
      " 'tiger shark, Galeocerdo cuvieri' 'hammerhead, hammerhead shark'\n",
      " 'electric ray, crampfish, numbfish, torpedo' 'stingray' 'cock' 'hen'\n",
      " 'ostrich, Struthio camelus' 'brambling, Fringilla montifringilla'\n",
      " 'goldfinch, Carduelis carduelis'\n",
      " 'house finch, linnet, Carpodacus mexicanus' 'junco, snowbird'\n",
      " 'indigo bunting, indigo finch, indigo bird, Passerina cyanea'\n",
      " 'robin, American robin, Turdus migratorius' 'bulbul' 'jay' 'magpie'\n",
      " 'chickadee' 'water ouzel, dipper' 'kite'\n",
      " 'bald eagle, American eagle, Haliaeetus leucocephalus' 'vulture'\n",
      " 'great grey owl, great gray owl, Strix nebulosa'\n",
      " 'European fire salamander, Salamandra salamandra'\n",
      " 'common newt, Triturus vulgaris' 'eft'\n",
      " 'spotted salamander, Ambystoma maculatum'\n",
      " 'axolotl, mud puppy, Ambystoma mexicanum' 'bullfrog, Rana catesbeiana'\n",
      " 'tree frog, tree-frog'\n",
      " 'tailed frog, bell toad, ribbed toad, tailed toad, Ascaphus trui'\n",
      " 'loggerhead, loggerhead turtle, Caretta caretta'\n",
      " 'leatherback turtle, leatherback, leathery turtle, Dermochelys coriacea'\n",
      " 'mud turtle' 'terrapin' 'box turtle, box tortoise' 'banded gecko'\n",
      " 'common iguana, iguana, Iguana iguana'\n",
      " 'American chameleon, anole, Anolis carolinensis'\n",
      " 'whiptail, whiptail lizard' 'agama'\n",
      " 'frilled lizard, Chlamydosaurus kingi' 'alligator lizard'\n",
      " 'Gila monster, Heloderma suspectum' 'green lizard, Lacerta viridis'\n",
      " 'African chameleon, Chamaeleo chamaeleon'\n",
      " 'Komodo dragon, Komodo lizard, dragon lizard, giant lizard, Varanus komodoensis'\n",
      " 'African crocodile, Nile crocodile, Crocodylus niloticus'\n",
      " 'American alligator, Alligator mississipiensis' 'triceratops'\n",
      " 'thunder snake, worm snake, Carphophis amoenus'\n",
      " 'ringneck snake, ring-necked snake, ring snake'\n",
      " 'hognose snake, puff adder, sand viper' 'green snake, grass snake'\n",
      " 'king snake, kingsnake' 'garter snake, grass snake' 'water snake'\n",
      " 'vine snake' 'night snake, Hypsiglena torquata'\n",
      " 'boa constrictor, Constrictor constrictor'\n",
      " 'rock python, rock snake, Python sebae' 'Indian cobra, Naja naja'\n",
      " 'green mamba' 'sea snake'\n",
      " 'horned viper, cerastes, sand viper, horned asp, Cerastes cornutus'\n",
      " 'diamondback, diamondback rattlesnake, Crotalus adamanteus'\n",
      " 'sidewinder, horned rattlesnake, Crotalus cerastes' 'trilobite'\n",
      " 'harvestman, daddy longlegs, Phalangium opilio' 'scorpion'\n",
      " 'black and gold garden spider, Argiope aurantia'\n",
      " 'barn spider, Araneus cavaticus' 'garden spider, Aranea diademata'\n",
      " 'black widow, Latrodectus mactans' 'tarantula'\n",
      " 'wolf spider, hunting spider' 'tick' 'centipede' 'black grouse'\n",
      " 'ptarmigan' 'ruffed grouse, partridge, Bonasa umbellus'\n",
      " 'prairie chicken, prairie grouse, prairie fowl' 'peacock' 'quail'\n",
      " 'partridge' 'African grey, African gray, Psittacus erithacus' 'macaw'\n",
      " 'sulphur-crested cockatoo, Kakatoe galerita, Cacatua galerita' 'lorikeet'\n",
      " 'coucal' 'bee eater' 'hornbill' 'hummingbird' 'jacamar' 'toucan' 'drake'\n",
      " 'red-breasted merganser, Mergus serrator' 'goose'\n",
      " 'black swan, Cygnus atratus' 'tusker' 'echidna, spiny anteater, anteater'\n",
      " 'platypus, duckbill, duckbilled platypus, duck-billed platypus, Ornithorhynchus anatinus'\n",
      " 'wallaby, brush kangaroo'\n",
      " 'koala, koala bear, kangaroo bear, native bear, Phascolarctos cinereus'\n",
      " 'wombat' 'jellyfish' 'sea anemone, anemone' 'brain coral'\n",
      " 'flatworm, platyhelminth' 'nematode, nematode worm, roundworm' 'conch'\n",
      " 'snail' 'slug' 'sea slug, nudibranch'\n",
      " 'chiton, coat-of-mail shell, sea cradle, polyplacophore'\n",
      " 'chambered nautilus, pearly nautilus, nautilus'\n",
      " 'Dungeness crab, Cancer magister' 'rock crab, Cancer irroratus'\n",
      " 'fiddler crab'\n",
      " 'king crab, Alaska crab, Alaskan king crab, Alaska king crab, Paralithodes camtschatica'\n",
      " 'American lobster, Northern lobster, Maine lobster, Homarus americanus'\n",
      " 'spiny lobster, langouste, rock lobster, crawfish, crayfish, sea crawfish'\n",
      " 'crayfish, crawfish, crawdad, crawdaddy' 'hermit crab' 'isopod'\n",
      " 'white stork, Ciconia ciconia' 'black stork, Ciconia nigra' 'spoonbill'\n",
      " 'flamingo' 'little blue heron, Egretta caerulea'\n",
      " 'American egret, great white heron, Egretta albus' 'bittern' 'crane'\n",
      " 'limpkin, Aramus pictus' 'European gallinule, Porphyrio porphyrio'\n",
      " 'American coot, marsh hen, mud hen, water hen, Fulica americana'\n",
      " 'bustard' 'ruddy turnstone, Arenaria interpres'\n",
      " 'red-backed sandpiper, dunlin, Erolia alpina' 'redshank, Tringa totanus'\n",
      " 'dowitcher' 'oystercatcher, oyster catcher' 'pelican'\n",
      " 'king penguin, Aptenodytes patagonica' 'albatross, mollymawk'\n",
      " 'grey whale, gray whale, devilfish, Eschrichtius gibbosus, Eschrichtius robustus'\n",
      " 'killer whale, killer, orca, grampus, sea wolf, Orcinus orca'\n",
      " 'dugong, Dugong dugon' 'sea lion' 'Chihuahua' 'Japanese spaniel'\n",
      " 'Maltese dog, Maltese terrier, Maltese' 'Pekinese, Pekingese, Peke'\n",
      " 'Shih-Tzu' 'Blenheim spaniel' 'papillon' 'toy terrier'\n",
      " 'Rhodesian ridgeback' 'Afghan hound, Afghan' 'basset, basset hound'\n",
      " 'beagle' 'bloodhound, sleuthhound' 'bluetick' 'black-and-tan coonhound'\n",
      " 'Walker hound, Walker foxhound' 'English foxhound' 'redbone'\n",
      " 'borzoi, Russian wolfhound' 'Irish wolfhound' 'Italian greyhound'\n",
      " 'whippet' 'Ibizan hound, Ibizan Podenco' 'Norwegian elkhound, elkhound'\n",
      " 'otterhound, otter hound' 'Saluki, gazelle hound'\n",
      " 'Scottish deerhound, deerhound' 'Weimaraner'\n",
      " 'Staffordshire bullterrier, Staffordshire bull terrier'\n",
      " 'American Staffordshire terrier, Staffordshire terrier, American pit bull terrier, pit bull terrier'\n",
      " 'Bedlington terrier' 'Border terrier' 'Kerry blue terrier'\n",
      " 'Irish terrier' 'Norfolk terrier' 'Norwich terrier' 'Yorkshire terrier'\n",
      " 'wire-haired fox terrier' 'Lakeland terrier' 'Sealyham terrier, Sealyham'\n",
      " 'Airedale, Airedale terrier' 'cairn, cairn terrier' 'Australian terrier'\n",
      " 'Dandie Dinmont, Dandie Dinmont terrier' 'Boston bull, Boston terrier'\n",
      " 'miniature schnauzer' 'giant schnauzer' 'standard schnauzer'\n",
      " 'Scotch terrier, Scottish terrier, Scottie'\n",
      " 'Tibetan terrier, chrysanthemum dog' 'silky terrier, Sydney silky'\n",
      " 'soft-coated wheaten terrier' 'West Highland white terrier'\n",
      " 'Lhasa, Lhasa apso' 'flat-coated retriever' 'curly-coated retriever'\n",
      " 'golden retriever' 'Labrador retriever' 'Chesapeake Bay retriever'\n",
      " 'German short-haired pointer' 'vizsla, Hungarian pointer'\n",
      " 'English setter' 'Irish setter, red setter' 'Gordon setter'\n",
      " 'Brittany spaniel' 'clumber, clumber spaniel'\n",
      " 'English springer, English springer spaniel' 'Welsh springer spaniel'\n",
      " 'cocker spaniel, English cocker spaniel, cocker' 'Sussex spaniel'\n",
      " 'Irish water spaniel' 'kuvasz' 'schipperke' 'groenendael' 'malinois'\n",
      " 'briard' 'kelpie' 'komondor' 'Old English sheepdog, bobtail'\n",
      " 'Shetland sheepdog, Shetland sheep dog, Shetland' 'collie'\n",
      " 'Border collie' 'Bouvier des Flandres, Bouviers des Flandres'\n",
      " 'Rottweiler'\n",
      " 'German shepherd, German shepherd dog, German police dog, alsatian'\n",
      " 'Doberman, Doberman pinscher' 'miniature pinscher'\n",
      " 'Greater Swiss Mountain dog' 'Bernese mountain dog' 'Appenzeller'\n",
      " 'EntleBucher' 'boxer' 'bull mastiff' 'Tibetan mastiff' 'French bulldog'\n",
      " 'Great Dane' 'Saint Bernard, St Bernard' 'Eskimo dog, husky'\n",
      " 'malamute, malemute, Alaskan malamute' 'Siberian husky'\n",
      " 'dalmatian, coach dog, carriage dog'\n",
      " 'affenpinscher, monkey pinscher, monkey dog' 'basenji' 'pug, pug-dog'\n",
      " 'Leonberg' 'Newfoundland, Newfoundland dog' 'Great Pyrenees'\n",
      " 'Samoyed, Samoyede' 'Pomeranian' 'chow, chow chow' 'keeshond'\n",
      " 'Brabancon griffon' 'Pembroke, Pembroke Welsh corgi'\n",
      " 'Cardigan, Cardigan Welsh corgi' 'toy poodle' 'miniature poodle'\n",
      " 'standard poodle' 'Mexican hairless'\n",
      " 'timber wolf, grey wolf, gray wolf, Canis lupus'\n",
      " 'white wolf, Arctic wolf, Canis lupus tundrarum'\n",
      " 'red wolf, maned wolf, Canis rufus, Canis niger'\n",
      " 'coyote, prairie wolf, brush wolf, Canis latrans'\n",
      " 'dingo, warrigal, warragal, Canis dingo' 'dhole, Cuon alpinus'\n",
      " 'African hunting dog, hyena dog, Cape hunting dog, Lycaon pictus'\n",
      " 'hyena, hyaena' 'red fox, Vulpes vulpes' 'kit fox, Vulpes macrotis'\n",
      " 'Arctic fox, white fox, Alopex lagopus'\n",
      " 'grey fox, gray fox, Urocyon cinereoargenteus' 'tabby, tabby cat'\n",
      " 'tiger cat' 'Persian cat' 'Siamese cat, Siamese' 'Egyptian cat'\n",
      " 'cougar, puma, catamount, mountain lion, painter, panther, Felis concolor'\n",
      " 'lynx, catamount' 'leopard, Panthera pardus'\n",
      " 'snow leopard, ounce, Panthera uncia'\n",
      " 'jaguar, panther, Panthera onca, Felis onca'\n",
      " 'lion, king of beasts, Panthera leo' 'tiger, Panthera tigris'\n",
      " 'cheetah, chetah, Acinonyx jubatus' 'brown bear, bruin, Ursus arctos'\n",
      " 'American black bear, black bear, Ursus americanus, Euarctos americanus'\n",
      " 'ice bear, polar bear, Ursus Maritimus, Thalarctos maritimus'\n",
      " 'sloth bear, Melursus ursinus, Ursus ursinus' 'mongoose'\n",
      " 'meerkat, mierkat' 'tiger beetle'\n",
      " 'ladybug, ladybeetle, lady beetle, ladybird, ladybird beetle'\n",
      " 'ground beetle, carabid beetle'\n",
      " 'long-horned beetle, longicorn, longicorn beetle'\n",
      " 'leaf beetle, chrysomelid' 'dung beetle' 'rhinoceros beetle' 'weevil'\n",
      " 'fly' 'bee' 'ant, emmet, pismire' 'grasshopper, hopper' 'cricket'\n",
      " 'walking stick, walkingstick, stick insect' 'cockroach, roach'\n",
      " 'mantis, mantid' 'cicada, cicala' 'leafhopper' 'lacewing, lacewing fly'\n",
      " \"dragonfly, darning needle, devil's darning needle, sewing needle, snake feeder, snake doctor, mosquito hawk, skeeter hawk\"\n",
      " 'damselfly' 'admiral' 'ringlet, ringlet butterfly'\n",
      " 'monarch, monarch butterfly, milkweed butterfly, Danaus plexippus'\n",
      " 'cabbage butterfly' 'sulphur butterfly, sulfur butterfly'\n",
      " 'lycaenid, lycaenid butterfly' 'starfish, sea star' 'sea urchin'\n",
      " 'sea cucumber, holothurian' 'wood rabbit, cottontail, cottontail rabbit'\n",
      " 'hare' 'Angora, Angora rabbit' 'hamster' 'porcupine, hedgehog'\n",
      " 'fox squirrel, eastern fox squirrel, Sciurus niger' 'marmot' 'beaver'\n",
      " 'guinea pig, Cavia cobaya' 'sorrel' 'zebra'\n",
      " 'hog, pig, grunter, squealer, Sus scrofa' 'wild boar, boar, Sus scrofa'\n",
      " 'warthog' 'hippopotamus, hippo, river horse, Hippopotamus amphibius' 'ox'\n",
      " 'water buffalo, water ox, Asiatic buffalo, Bubalus bubalis' 'bison'\n",
      " 'ram, tup'\n",
      " 'bighorn, bighorn sheep, cimarron, Rocky Mountain bighorn, Rocky Mountain sheep, Ovis canadensis'\n",
      " 'ibex, Capra ibex' 'hartebeest' 'impala, Aepyceros melampus' 'gazelle'\n",
      " 'Arabian camel, dromedary, Camelus dromedarius' 'llama' 'weasel' 'mink'\n",
      " 'polecat, fitch, foulmart, foumart, Mustela putorius'\n",
      " 'black-footed ferret, ferret, Mustela nigripes' 'otter'\n",
      " 'skunk, polecat, wood pussy' 'badger' 'armadillo'\n",
      " 'three-toed sloth, ai, Bradypus tridactylus'\n",
      " 'orangutan, orang, orangutang, Pongo pygmaeus' 'gorilla, Gorilla gorilla'\n",
      " 'chimpanzee, chimp, Pan troglodytes' 'gibbon, Hylobates lar'\n",
      " 'siamang, Hylobates syndactylus, Symphalangus syndactylus'\n",
      " 'guenon, guenon monkey' 'patas, hussar monkey, Erythrocebus patas'\n",
      " 'baboon' 'macaque' 'langur' 'colobus, colobus monkey'\n",
      " 'proboscis monkey, Nasalis larvatus' 'marmoset'\n",
      " 'capuchin, ringtail, Cebus capucinus' 'howler monkey, howler'\n",
      " 'titi, titi monkey' 'spider monkey, Ateles geoffroyi'\n",
      " 'squirrel monkey, Saimiri sciureus'\n",
      " 'Madagascar cat, ring-tailed lemur, Lemur catta'\n",
      " 'indri, indris, Indri indri, Indri brevicaudatus'\n",
      " 'Indian elephant, Elephas maximus' 'African elephant, Loxodonta africana'\n",
      " 'lesser panda, red panda, panda, bear cat, cat bear, Ailurus fulgens'\n",
      " 'giant panda, panda, panda bear, coon bear, Ailuropoda melanoleuca'\n",
      " 'barracouta, snoek' 'eel'\n",
      " 'coho, cohoe, coho salmon, blue jack, silver salmon, Oncorhynchus kisutch'\n",
      " 'rock beauty, Holocanthus tricolor' 'anemone fish' 'sturgeon'\n",
      " 'gar, garfish, garpike, billfish, Lepisosteus osseus' 'lionfish'\n",
      " 'puffer, pufferfish, blowfish, globefish' 'abacus' 'abaya'\n",
      " \"academic gown, academic robe, judge's robe\"\n",
      " 'accordion, piano accordion, squeeze box' 'acoustic guitar'\n",
      " 'aircraft carrier, carrier, flattop, attack aircraft carrier' 'airliner'\n",
      " 'airship, dirigible' 'altar' 'ambulance' 'amphibian, amphibious vehicle'\n",
      " 'analog clock' 'apiary, bee house' 'apron'\n",
      " 'ashcan, trash can, garbage can, wastebin, ash bin, ash-bin, ashbin, dustbin, trash barrel, trash bin'\n",
      " 'assault rifle, assault gun'\n",
      " 'backpack, back pack, knapsack, packsack, rucksack, haversack'\n",
      " 'bakery, bakeshop, bakehouse' 'balance beam, beam' 'balloon'\n",
      " 'ballpoint, ballpoint pen, ballpen, Biro' 'Band Aid' 'banjo'\n",
      " 'bannister, banister, balustrade, balusters, handrail' 'barbell'\n",
      " 'barber chair' 'barbershop' 'barn' 'barometer' 'barrel, cask'\n",
      " 'barrow, garden cart, lawn cart, wheelbarrow' 'baseball' 'basketball'\n",
      " 'bassinet' 'bassoon' 'bathing cap, swimming cap' 'bath towel'\n",
      " 'bathtub, bathing tub, bath, tub'\n",
      " 'beach wagon, station wagon, wagon, estate car, beach waggon, station waggon, waggon'\n",
      " 'beacon, lighthouse, beacon light, pharos' 'beaker'\n",
      " 'bearskin, busby, shako' 'beer bottle' 'beer glass' 'bell cote, bell cot'\n",
      " 'bib' 'bicycle-built-for-two, tandem bicycle, tandem' 'bikini, two-piece'\n",
      " 'binder, ring-binder' 'binoculars, field glasses, opera glasses'\n",
      " 'birdhouse' 'boathouse' 'bobsled, bobsleigh, bob'\n",
      " 'bolo tie, bolo, bola tie, bola' 'bonnet, poke bonnet' 'bookcase'\n",
      " 'bookshop, bookstore, bookstall' 'bottlecap' 'bow'\n",
      " 'bow tie, bow-tie, bowtie' 'brass, memorial tablet, plaque'\n",
      " 'brassiere, bra, bandeau'\n",
      " 'breakwater, groin, groyne, mole, bulwark, seawall, jetty'\n",
      " 'breastplate, aegis, egis' 'broom' 'bucket, pail' 'buckle'\n",
      " 'bulletproof vest' 'bullet train, bullet' 'butcher shop, meat market'\n",
      " 'cab, hack, taxi, taxicab' 'caldron, cauldron' 'candle, taper, wax light'\n",
      " 'cannon' 'canoe' 'can opener, tin opener' 'cardigan' 'car mirror'\n",
      " 'carousel, carrousel, merry-go-round, roundabout, whirligig'\n",
      " \"carpenter's kit, tool kit\" 'carton' 'car wheel'\n",
      " 'cash machine, cash dispenser, automated teller machine, automatic teller machine, automated teller, automatic teller, ATM'\n",
      " 'cassette' 'cassette player' 'castle' 'catamaran' 'CD player'\n",
      " 'cello, violoncello'\n",
      " 'cellular telephone, cellular phone, cellphone, cell, mobile phone'\n",
      " 'chain' 'chainlink fence'\n",
      " 'chain mail, ring mail, mail, chain armor, chain armour, ring armor, ring armour'\n",
      " 'chain saw, chainsaw' 'chest' 'chiffonier, commode' 'chime, bell, gong'\n",
      " 'china cabinet, china closet' 'Christmas stocking'\n",
      " 'church, church building'\n",
      " 'cinema, movie theater, movie theatre, movie house, picture palace'\n",
      " 'cleaver, meat cleaver, chopper' 'cliff dwelling' 'cloak'\n",
      " 'clog, geta, patten, sabot' 'cocktail shaker' 'coffee mug' 'coffeepot'\n",
      " 'coil, spiral, volute, whorl, helix' 'combination lock'\n",
      " 'computer keyboard, keypad' 'confectionery, confectionary, candy store'\n",
      " 'container ship, containership, container vessel' 'convertible'\n",
      " 'corkscrew, bottle screw' 'cornet, horn, trumpet, trump' 'cowboy boot'\n",
      " 'cowboy hat, ten-gallon hat' 'cradle' 'crane' 'crash helmet' 'crate'\n",
      " 'crib, cot' 'Crock Pot' 'croquet ball' 'crutch' 'cuirass'\n",
      " 'dam, dike, dyke' 'desk' 'desktop computer' 'dial telephone, dial phone'\n",
      " 'diaper, nappy, napkin' 'digital clock' 'digital watch'\n",
      " 'dining table, board' 'dishrag, dishcloth'\n",
      " 'dishwasher, dish washer, dishwashing machine' 'disk brake, disc brake'\n",
      " 'dock, dockage, docking facility' 'dogsled, dog sled, dog sleigh' 'dome'\n",
      " 'doormat, welcome mat' 'drilling platform, offshore rig'\n",
      " 'drum, membranophone, tympan' 'drumstick' 'dumbbell' 'Dutch oven'\n",
      " 'electric fan, blower' 'electric guitar' 'electric locomotive'\n",
      " 'entertainment center' 'envelope' 'espresso maker' 'face powder'\n",
      " 'feather boa, boa' 'file, file cabinet, filing cabinet' 'fireboat'\n",
      " 'fire engine, fire truck' 'fire screen, fireguard' 'flagpole, flagstaff'\n",
      " 'flute, transverse flute' 'folding chair' 'football helmet' 'forklift'\n",
      " 'fountain' 'fountain pen' 'four-poster' 'freight car' 'French horn, horn'\n",
      " 'frying pan, frypan, skillet' 'fur coat' 'garbage truck, dustcart'\n",
      " 'gasmask, respirator, gas helmet'\n",
      " 'gas pump, gasoline pump, petrol pump, island dispenser' 'goblet'\n",
      " 'go-kart' 'golf ball' 'golfcart, golf cart' 'gondola' 'gong, tam-tam'\n",
      " 'gown' 'grand piano, grand' 'greenhouse, nursery, glasshouse'\n",
      " 'grille, radiator grille' 'grocery store, grocery, food market, market'\n",
      " 'guillotine' 'hair slide' 'hair spray' 'half track' 'hammer' 'hamper'\n",
      " 'hand blower, blow dryer, blow drier, hair dryer, hair drier'\n",
      " 'hand-held computer, hand-held microcomputer'\n",
      " 'handkerchief, hankie, hanky, hankey' 'hard disc, hard disk, fixed disk'\n",
      " 'harmonica, mouth organ, harp, mouth harp' 'harp' 'harvester, reaper'\n",
      " 'hatchet' 'holster' 'home theater, home theatre' 'honeycomb' 'hook, claw'\n",
      " 'hoopskirt, crinoline' 'horizontal bar, high bar'\n",
      " 'horse cart, horse-cart' 'hourglass' 'iPod' 'iron, smoothing iron'\n",
      " \"jack-o'-lantern\" 'jean, blue jean, denim' 'jeep, landrover'\n",
      " 'jersey, T-shirt, tee shirt' 'jigsaw puzzle'\n",
      " 'jinrikisha, ricksha, rickshaw' 'joystick' 'kimono' 'knee pad' 'knot'\n",
      " 'lab coat, laboratory coat' 'ladle' 'lampshade, lamp shade'\n",
      " 'laptop, laptop computer' 'lawn mower, mower' 'lens cap, lens cover'\n",
      " 'letter opener, paper knife, paperknife' 'library' 'lifeboat'\n",
      " 'lighter, light, igniter, ignitor' 'limousine, limo' 'liner, ocean liner'\n",
      " 'lipstick, lip rouge' 'Loafer' 'lotion'\n",
      " 'loudspeaker, speaker, speaker unit, loudspeaker system, speaker system'\n",
      " \"loupe, jeweler's loupe\" 'lumbermill, sawmill' 'magnetic compass'\n",
      " 'mailbag, postbag' 'mailbox, letter box' 'maillot' 'maillot, tank suit'\n",
      " 'manhole cover' 'maraca' 'marimba, xylophone' 'mask' 'matchstick'\n",
      " 'maypole' 'maze, labyrinth' 'measuring cup'\n",
      " 'medicine chest, medicine cabinet' 'megalith, megalithic structure'\n",
      " 'microphone, mike' 'microwave, microwave oven' 'military uniform'\n",
      " 'milk can' 'minibus' 'miniskirt, mini' 'minivan' 'missile' 'mitten'\n",
      " 'mixing bowl' 'mobile home, manufactured home' 'Model T' 'modem'\n",
      " 'monastery' 'monitor' 'moped' 'mortar' 'mortarboard' 'mosque'\n",
      " 'mosquito net' 'motor scooter, scooter'\n",
      " 'mountain bike, all-terrain bike, off-roader' 'mountain tent'\n",
      " 'mouse, computer mouse' 'mousetrap' 'moving van' 'muzzle' 'nail'\n",
      " 'neck brace' 'necklace' 'nipple' 'notebook, notebook computer' 'obelisk'\n",
      " 'oboe, hautboy, hautbois' 'ocarina, sweet potato'\n",
      " 'odometer, hodometer, mileometer, milometer' 'oil filter'\n",
      " 'organ, pipe organ' 'oscilloscope, scope, cathode-ray oscilloscope, CRO'\n",
      " 'overskirt' 'oxcart' 'oxygen mask' 'packet' 'paddle, boat paddle'\n",
      " 'paddlewheel, paddle wheel' 'padlock' 'paintbrush'\n",
      " \"pajama, pyjama, pj's, jammies\" 'palace' 'panpipe, pandean pipe, syrinx'\n",
      " 'paper towel' 'parachute, chute' 'parallel bars, bars' 'park bench'\n",
      " 'parking meter' 'passenger car, coach, carriage' 'patio, terrace'\n",
      " 'pay-phone, pay-station' 'pedestal, plinth, footstall'\n",
      " 'pencil box, pencil case' 'pencil sharpener' 'perfume, essence'\n",
      " 'Petri dish' 'photocopier' 'pick, plectrum, plectron' 'pickelhaube'\n",
      " 'picket fence, paling' 'pickup, pickup truck' 'pier'\n",
      " 'piggy bank, penny bank' 'pill bottle' 'pillow' 'ping-pong ball'\n",
      " 'pinwheel' 'pirate, pirate ship' 'pitcher, ewer'\n",
      " \"plane, carpenter's plane, woodworking plane\" 'planetarium' 'plastic bag'\n",
      " 'plate rack' 'plow, plough' \"plunger, plumber's helper\"\n",
      " 'Polaroid camera, Polaroid Land camera' 'pole'\n",
      " 'police van, police wagon, paddy wagon, patrol wagon, wagon, black Maria'\n",
      " 'poncho' 'pool table, billiard table, snooker table'\n",
      " 'pop bottle, soda bottle' 'pot, flowerpot' \"potter's wheel\" 'power drill'\n",
      " 'prayer rug, prayer mat' 'printer' 'prison, prison house'\n",
      " 'projectile, missile' 'projector' 'puck, hockey puck'\n",
      " 'punching bag, punch bag, punching ball, punchball' 'purse'\n",
      " 'quill, quill pen' 'quilt, comforter, comfort, puff'\n",
      " 'racer, race car, racing car' 'racket, racquet' 'radiator'\n",
      " 'radio, wireless' 'radio telescope, radio reflector' 'rain barrel'\n",
      " 'recreational vehicle, RV, R.V.' 'reel' 'reflex camera'\n",
      " 'refrigerator, icebox' 'remote control, remote'\n",
      " 'restaurant, eating house, eating place, eatery'\n",
      " 'revolver, six-gun, six-shooter' 'rifle' 'rocking chair, rocker'\n",
      " 'rotisserie' 'rubber eraser, rubber, pencil eraser' 'rugby ball'\n",
      " 'rule, ruler' 'running shoe' 'safe' 'safety pin'\n",
      " 'saltshaker, salt shaker' 'sandal' 'sarong' 'sax, saxophone' 'scabbard'\n",
      " 'scale, weighing machine' 'school bus' 'schooner' 'scoreboard'\n",
      " 'screen, CRT screen' 'screw' 'screwdriver' 'seat belt, seatbelt'\n",
      " 'sewing machine' 'shield, buckler' 'shoe shop, shoe-shop, shoe store'\n",
      " 'shoji' 'shopping basket' 'shopping cart' 'shovel' 'shower cap'\n",
      " 'shower curtain' 'ski' 'ski mask' 'sleeping bag' 'slide rule, slipstick'\n",
      " 'sliding door' 'slot, one-armed bandit' 'snorkel' 'snowmobile'\n",
      " 'snowplow, snowplough' 'soap dispenser' 'soccer ball' 'sock'\n",
      " 'solar dish, solar collector, solar furnace' 'sombrero' 'soup bowl'\n",
      " 'space bar' 'space heater' 'space shuttle' 'spatula' 'speedboat'\n",
      " \"spider web, spider's web\" 'spindle' 'sports car, sport car'\n",
      " 'spotlight, spot' 'stage' 'steam locomotive' 'steel arch bridge'\n",
      " 'steel drum' 'stethoscope' 'stole' 'stone wall' 'stopwatch, stop watch'\n",
      " 'stove' 'strainer' 'streetcar, tram, tramcar, trolley, trolley car'\n",
      " 'stretcher' 'studio couch, day bed' 'stupa, tope'\n",
      " 'submarine, pigboat, sub, U-boat' 'suit, suit of clothes' 'sundial'\n",
      " 'sunglass' 'sunglasses, dark glasses, shades'\n",
      " 'sunscreen, sunblock, sun blocker' 'suspension bridge' 'swab, swob, mop'\n",
      " 'sweatshirt' 'swimming trunks, bathing trunks' 'swing'\n",
      " 'switch, electric switch, electrical switch' 'syringe' 'table lamp'\n",
      " 'tank, army tank, armored combat vehicle, armoured combat vehicle'\n",
      " 'tape player' 'teapot' 'teddy, teddy bear'\n",
      " 'television, television system' 'tennis ball' 'thatch, thatched roof'\n",
      " 'theater curtain, theatre curtain' 'thimble'\n",
      " 'thresher, thrasher, threshing machine' 'throne' 'tile roof' 'toaster'\n",
      " 'tobacco shop, tobacconist shop, tobacconist' 'toilet seat' 'torch'\n",
      " 'totem pole' 'tow truck, tow car, wrecker' 'toyshop' 'tractor'\n",
      " 'trailer truck, tractor trailer, trucking rig, rig, articulated lorry, semi'\n",
      " 'tray' 'trench coat' 'tricycle, trike, velocipede' 'trimaran' 'tripod'\n",
      " 'triumphal arch' 'trolleybus, trolley coach, trackless trolley'\n",
      " 'trombone' 'tub, vat' 'turnstile' 'typewriter keyboard' 'umbrella'\n",
      " 'unicycle, monocycle' 'upright, upright piano' 'vacuum, vacuum cleaner'\n",
      " 'vase' 'vault' 'velvet' 'vending machine' 'vestment' 'viaduct'\n",
      " 'violin, fiddle' 'volleyball' 'waffle iron' 'wall clock'\n",
      " 'wallet, billfold, notecase, pocketbook' 'wardrobe, closet, press'\n",
      " 'warplane, military plane'\n",
      " 'washbasin, handbasin, washbowl, lavabo, wash-hand basin'\n",
      " 'washer, automatic washer, washing machine' 'water bottle' 'water jug'\n",
      " 'water tower' 'whiskey jug' 'whistle' 'wig' 'window screen'\n",
      " 'window shade' 'Windsor tie' 'wine bottle' 'wing' 'wok' 'wooden spoon'\n",
      " 'wool, woolen, woollen'\n",
      " 'worm fence, snake fence, snake-rail fence, Virginia fence' 'wreck'\n",
      " 'yawl' 'yurt' 'web site, website, internet site, site' 'comic book'\n",
      " 'crossword puzzle, crossword' 'street sign'\n",
      " 'traffic light, traffic signal, stoplight'\n",
      " 'book jacket, dust cover, dust jacket, dust wrapper' 'menu' 'plate'\n",
      " 'guacamole' 'consomme' 'hot pot, hotpot' 'trifle' 'ice cream, icecream'\n",
      " 'ice lolly, lolly, lollipop, popsicle' 'French loaf' 'bagel, beigel'\n",
      " 'pretzel' 'cheeseburger' 'hotdog, hot dog, red hot' 'mashed potato'\n",
      " 'head cabbage' 'broccoli' 'cauliflower' 'zucchini, courgette'\n",
      " 'spaghetti squash' 'acorn squash' 'butternut squash' 'cucumber, cuke'\n",
      " 'artichoke, globe artichoke' 'bell pepper' 'cardoon' 'mushroom'\n",
      " 'Granny Smith' 'strawberry' 'orange' 'lemon' 'fig' 'pineapple, ananas'\n",
      " 'banana' 'jackfruit, jak, jack' 'custard apple' 'pomegranate' 'hay'\n",
      " 'carbonara' 'chocolate sauce, chocolate syrup' 'dough'\n",
      " 'meat loaf, meatloaf' 'pizza, pizza pie' 'potpie' 'burrito' 'red wine'\n",
      " 'espresso' 'cup' 'eggnog' 'alp' 'bubble' 'cliff, drop, drop-off'\n",
      " 'coral reef' 'geyser' 'lakeside, lakeshore'\n",
      " 'promontory, headland, head, foreland' 'sandbar, sand bar'\n",
      " 'seashore, coast, seacoast, sea-coast' 'valley, vale' 'volcano'\n",
      " 'ballplayer, baseball player' 'groom, bridegroom' 'scuba diver'\n",
      " 'rapeseed' 'daisy'\n",
      " \"yellow lady's slipper, yellow lady-slipper, Cypripedium calceolus, Cypripedium parviflorum\"\n",
      " 'corn' 'acorn' 'hip, rose hip, rosehip' 'buckeye, horse chestnut, conker'\n",
      " 'coral fungus' 'agaric' 'gyromitra' 'stinkhorn, carrion fungus'\n",
      " 'earthstar'\n",
      " 'hen-of-the-woods, hen of the woods, Polyporus frondosus, Grifola frondosa'\n",
      " 'bolete' 'ear, spike, capitulum'\n",
      " 'toilet tissue, toilet paper, bathroom tissue']\n"
     ]
    }
   ],
   "source": [
    "#your code here"
   ]
  },
  {
   "cell_type": "markdown",
   "metadata": {},
   "source": [
    "### 도전과제 4: 분류 모델을 사용하여 images/pcb.png 를 분류합니다. 그것은 인쇄 회로 기판 (PCB)로 분류됩니까? 왜 그렇게 생각하십니까?"
   ]
  },
  {
   "cell_type": "code",
   "execution_count": 103,
   "metadata": {
    "ExecuteTime": {
     "end_time": "2021-03-16T06:20:06.000127Z",
     "start_time": "2021-03-16T06:20:05.423588Z"
    }
   },
   "outputs": [
    {
     "name": "stdout",
     "output_type": "stream",
     "text": [
      "[ INFO ] Creating Inference Engine\n",
      "[ INFO ] Loading network:\n",
      "\tmodels/squeezenet1.1/FP32/squeezenet1.1.xml\n",
      "[ INFO ] Preparing input blobs\n",
      "[ WARNING ] Image [Dataset]_Module22_images/pcb.png is resized from (480, 640) to (227, 227)\n",
      "[ INFO ] Batch size is 1\n",
      "[ INFO ] Loading model to the plugin\n",
      "[ INFO ] Start inference (10 Asynchronous executions)\n",
      "[ INFO ] Completed 1 Async request execution\n",
      "[ INFO ] Completed 2 Async request execution\n",
      "[ INFO ] Completed 3 Async request execution\n",
      "[ INFO ] Completed 4 Async request execution\n",
      "[ INFO ] Completed 5 Async request execution\n",
      "[ INFO ] Completed 6 Async request execution\n",
      "[ INFO ] Completed 7 Async request execution\n",
      "[ INFO ] Completed 8 Async request execution\n",
      "[ INFO ] Completed 9 Async request execution\n",
      "[ INFO ] Completed 10 Async request execution\n",
      "[ INFO ] Processing output blob\n",
      "[ INFO ] Top 10 results: \n",
      "Image [Dataset]_Module22_images/pcb.png\n",
      "\n",
      "classid probability\n",
      "------- -----------\n",
      "site, website, internet site, site0.2059917\n",
      "sunblock, sun blocker0.1430571\n",
      "lotion    0.1164520\n",
      "matchstick 0.0700398\n",
      "carton   0.0449835\n",
      "  Aid    0.0390331\n",
      " torch   0.0377465\n",
      "packet   0.0373017\n",
      "ring-binder0.0287694\n",
      "light, igniter, ignitor0.0210595\n",
      "\n",
      "\n",
      "[ INFO ] This sample is an API example, for any performance measurements please use the dedicated benchmark_app tool\n",
      "\n"
     ]
    }
   ],
   "source": [
    "#your code here"
   ]
  },
  {
   "cell_type": "markdown",
   "metadata": {},
   "source": [
    "### 도전과제 5: 섹션 4에서 모델에 대해 1 예측을 수행하는 데 걸리는 시간을 계산하십시오."
   ]
  },
  {
   "cell_type": "code",
   "execution_count": 104,
   "metadata": {
    "ExecuteTime": {
     "end_time": "2021-03-16T06:20:14.475489Z",
     "start_time": "2021-03-16T06:20:14.199452Z"
    }
   },
   "outputs": [
    {
     "name": "stdout",
     "output_type": "stream",
     "text": [
      "0.16396164894104004 seconds\n"
     ]
    }
   ],
   "source": [
    "import time\n",
    "def wastetime():\n",
    "    for i in range(0,10000000):\n",
    "        testing = 1\n",
    "        \n",
    "# 시간차를 계산하기위한 샘플 코드\n",
    "a = time.time()\n",
    "wastetime()\n",
    "b = time.time()\n",
    "print(str(b-a) + \" seconds\")"
   ]
  },
  {
   "cell_type": "code",
   "execution_count": 105,
   "metadata": {
    "ExecuteTime": {
     "end_time": "2021-03-16T06:20:16.705423Z",
     "start_time": "2021-03-16T06:20:16.576397Z"
    }
   },
   "outputs": [
    {
     "name": "stdout",
     "output_type": "stream",
     "text": [
      "(1492, 2520, 3)\n",
      "(1, 1, 200, 7)\n",
      "0.023909568786621094 seconds\n"
     ]
    }
   ],
   "source": [
    "#your code here"
   ]
  },
  {
   "cell_type": "markdown",
   "metadata": {},
   "source": [
    "### 도전과제 6: 웹캠을 통해 실시간 얼굴 탐지를 수행하는 응용 프로그램을 만듭니다.\n",
    "\n",
    "힌트: 섹션 4에서 배운 내용과 이전 세션의 웹캠을 통한 비디오 캡처에 대해 이미 알고 있는 내용을 활용하십시오."
   ]
  },
  {
   "cell_type": "code",
   "execution_count": 106,
   "metadata": {
    "ExecuteTime": {
     "end_time": "2021-03-16T06:23:28.962665Z",
     "start_time": "2021-03-16T06:23:17.416813Z"
    }
   },
   "outputs": [],
   "source": [
    "#your code here"
   ]
  },
  {
   "cell_type": "markdown",
   "metadata": {},
   "source": [
    "### 도전과제 7: 실시간 얼굴 감지가 화면에서 약간 느리게 보입니까? 탐지를 더 빠르게 하는 1가지 이상의 방법을 생각할 수 있습니까?\n",
    "\n",
    "힌트: 이미지가 클수록 처리가 더 많이 필요합니다. 또한 모든 모델이 똑같이 만들어지는 것은 아닙니다. 다른 방법을 생각하고 그것을 시도해보십시오!"
   ]
  },
  {
   "cell_type": "code",
   "execution_count": 107,
   "metadata": {},
   "outputs": [],
   "source": [
    "#Try yourself!"
   ]
  },
  {
   "cell_type": "markdown",
   "metadata": {},
   "source": [
    "### 도전과제 8: 동시에 2 개의 NCS 장치를 사용할 수 있습니까?\n",
    "\n",
    "친구로부터 NCS 장치를 하나 더 빌리면 얼굴 감지와 분류 모델을 동시에 실행할 수 있습니다. 첫 번째 모델의 경우 NCS 플래그를 1로 설정하고 두 번째 모델의 경우 NCS 플래그를 2로 설정합니다. 또한 디버그 플래그를 true로 설정하여 출력을 볼 수도 있습니다.\n",
    "\n",
    "예를들어, <br />\n",
    "mymodel = OpvModel(\"face-detection-retail-0004\", device=\"MYRIAD\", fp=\"FP16\", ncs=1, debug = True) <br />\n",
    "mymodel2 = OpvModel(\"squeezenet1.1\", device=\"MYRIAD\", fp=\"FP16\", ncs=2, debug = True)"
   ]
  },
  {
   "cell_type": "code",
   "execution_count": 108,
   "metadata": {},
   "outputs": [],
   "source": [
    "# Try!"
   ]
  },
  {
   "cell_type": "markdown",
   "metadata": {},
   "source": [
    "## 도전과제 9: NCS2를 만져보세요. 뜨거움을 느끼나요?\n",
    "\n",
    "NCS2를 해제하려면 해당 메모리를 해제해야합니다. MyModel이 여전히 정의되고, 주피터 노트북 세션이 종료되지 않았기 때문에 자동 [garbage collection](https://docs.python.org/3/library/gc.html) 이 OpvModel에서 발생하지 않습니다. 그리고 OpvModel은 이전에 로드한 모델을 보유하고 있는 NCS2에 대한 참조를 보유하고 있습니다.\n",
    "\n",
    "해당 참조를 해제하려면 다음을 수행 할 수 있습니다.:\n",
    "1. mymodel.ClearMachine() 실행\n",
    "2. 노트북을 중지하고 닫기\n",
    "3. 사용하지 않을 경우 NCS2를 분리\n",
    "\n",
    "안전을 위해, 과열을 방지하기 위해 사용하지 않을 때 USB 포트에서 NCS2를 제거하는 것이 좋습니다.\n",
    "\n",
    "또한 NCS2에 대한 새로운 파이썬 API가 언제 릴리스될지를 확인합니다."
   ]
  },
  {
   "cell_type": "code",
   "execution_count": 109,
   "metadata": {},
   "outputs": [],
   "source": [
    "mymodel.ClearMachine()"
   ]
  },
  {
   "cell_type": "markdown",
   "metadata": {},
   "source": [
    "## 도전과제 10: 사전 학습된 모델의 인텔 문서를 살펴보십시오. 얼마나 많은 유형의 모델을 찾을 수 있습니까?\n",
    "이 모델에 대한 설명서는 %OPENVINO_INSTALL_DIR%/Intel/computer_vision_sdk/deployment_tools/\n",
    "intel_models/index.html 에서 확인할 수 있습니다."
   ]
  },
  {
   "cell_type": "code",
   "execution_count": 110,
   "metadata": {},
   "outputs": [],
   "source": [
    "#Look out for the documentation!"
   ]
  },
  {
   "cell_type": "markdown",
   "metadata": {},
   "source": [
    "## 유익한 시간이었나요?\n",
    "\n",
    "여러분이 배우는 것을 잘 활용할 수 있는 방법을 생각하는 것을 잊지 마세요. 위대한 힘에는 큰 책임이 따릅니다!  여러분의 지식을 이용하여 여러분 주변의 사람들과 사회를 돕는 솔루션을 설계하고 개발하십시오!\n",
    "\n",
    "지금까지 3개의 사전 학습된 모델만 테스트했습니다. Intel이 OpenVINO 설치와 함께 제공한 다른 많은 사전 학습 모델을 반드시 살펴보십시오!\n",
    "\n",
    "앞으로 배우는 흥미 진진한 여행의 시작에 오신 것을 환영합니다!"
   ]
  }
 ],
 "metadata": {
  "kernelspec": {
   "display_name": "Python 3 (ipykernel)",
   "language": "python",
   "name": "python3"
  },
  "language_info": {
   "codemirror_mode": {
    "name": "ipython",
    "version": 3
   },
   "file_extension": ".py",
   "mimetype": "text/x-python",
   "name": "python",
   "nbconvert_exporter": "python",
   "pygments_lexer": "ipython3",
   "version": "3.11.7"
  },
  "toc": {
   "base_numbering": 1,
   "nav_menu": {},
   "number_sections": true,
   "sideBar": true,
   "skip_h1_title": false,
   "title_cell": "Table of Contents",
   "title_sidebar": "Contents",
   "toc_cell": false,
   "toc_position": {},
   "toc_section_display": true,
   "toc_window_display": false
  }
 },
 "nbformat": 4,
 "nbformat_minor": 2
}
